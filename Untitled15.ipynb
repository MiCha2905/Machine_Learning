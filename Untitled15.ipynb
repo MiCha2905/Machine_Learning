{
  "cells": [
    {
      "cell_type": "code",
      "execution_count": null,
      "metadata": {
        "colab": {
          "base_uri": "https://localhost:8080/"
        },
        "id": "Ba0GDkbJEIxd",
        "outputId": "955c11e4-10ed-47ee-8ace-f24837eb3a47"
      },
      "outputs": [
        {
          "output_type": "stream",
          "name": "stdout",
          "text": [
            "Mounted at /content/drive\n"
          ]
        }
      ],
      "source": [
        "from google.colab import drive\n",
        "drive.mount('/content/drive')"
      ]
    },
    {
      "cell_type": "code",
      "execution_count": null,
      "metadata": {
        "colab": {
          "base_uri": "https://localhost:8080/"
        },
        "id": "o08EzaRYEXiB",
        "outputId": "a3f26234-56e4-437b-a318-5002e419211f"
      },
      "outputs": [
        {
          "output_type": "stream",
          "name": "stdout",
          "text": [
            "Collecting mne\n",
            "  Downloading mne-1.10.0-py3-none-any.whl.metadata (20 kB)\n",
            "Requirement already satisfied: decorator in /usr/local/lib/python3.11/dist-packages (from mne) (4.4.2)\n",
            "Requirement already satisfied: jinja2 in /usr/local/lib/python3.11/dist-packages (from mne) (3.1.6)\n",
            "Requirement already satisfied: lazy-loader>=0.3 in /usr/local/lib/python3.11/dist-packages (from mne) (0.4)\n",
            "Requirement already satisfied: matplotlib>=3.7 in /usr/local/lib/python3.11/dist-packages (from mne) (3.10.0)\n",
            "Requirement already satisfied: numpy<3,>=1.25 in /usr/local/lib/python3.11/dist-packages (from mne) (2.0.2)\n",
            "Requirement already satisfied: packaging in /usr/local/lib/python3.11/dist-packages (from mne) (24.2)\n",
            "Requirement already satisfied: pooch>=1.5 in /usr/local/lib/python3.11/dist-packages (from mne) (1.8.2)\n",
            "Requirement already satisfied: scipy>=1.11 in /usr/local/lib/python3.11/dist-packages (from mne) (1.15.3)\n",
            "Requirement already satisfied: tqdm in /usr/local/lib/python3.11/dist-packages (from mne) (4.67.1)\n",
            "Requirement already satisfied: contourpy>=1.0.1 in /usr/local/lib/python3.11/dist-packages (from matplotlib>=3.7->mne) (1.3.2)\n",
            "Requirement already satisfied: cycler>=0.10 in /usr/local/lib/python3.11/dist-packages (from matplotlib>=3.7->mne) (0.12.1)\n",
            "Requirement already satisfied: fonttools>=4.22.0 in /usr/local/lib/python3.11/dist-packages (from matplotlib>=3.7->mne) (4.58.5)\n",
            "Requirement already satisfied: kiwisolver>=1.3.1 in /usr/local/lib/python3.11/dist-packages (from matplotlib>=3.7->mne) (1.4.8)\n",
            "Requirement already satisfied: pillow>=8 in /usr/local/lib/python3.11/dist-packages (from matplotlib>=3.7->mne) (11.2.1)\n",
            "Requirement already satisfied: pyparsing>=2.3.1 in /usr/local/lib/python3.11/dist-packages (from matplotlib>=3.7->mne) (3.2.3)\n",
            "Requirement already satisfied: python-dateutil>=2.7 in /usr/local/lib/python3.11/dist-packages (from matplotlib>=3.7->mne) (2.9.0.post0)\n",
            "Requirement already satisfied: platformdirs>=2.5.0 in /usr/local/lib/python3.11/dist-packages (from pooch>=1.5->mne) (4.3.8)\n",
            "Requirement already satisfied: requests>=2.19.0 in /usr/local/lib/python3.11/dist-packages (from pooch>=1.5->mne) (2.32.3)\n",
            "Requirement already satisfied: MarkupSafe>=2.0 in /usr/local/lib/python3.11/dist-packages (from jinja2->mne) (3.0.2)\n",
            "Requirement already satisfied: six>=1.5 in /usr/local/lib/python3.11/dist-packages (from python-dateutil>=2.7->matplotlib>=3.7->mne) (1.17.0)\n",
            "Requirement already satisfied: charset-normalizer<4,>=2 in /usr/local/lib/python3.11/dist-packages (from requests>=2.19.0->pooch>=1.5->mne) (3.4.2)\n",
            "Requirement already satisfied: idna<4,>=2.5 in /usr/local/lib/python3.11/dist-packages (from requests>=2.19.0->pooch>=1.5->mne) (3.10)\n",
            "Requirement already satisfied: urllib3<3,>=1.21.1 in /usr/local/lib/python3.11/dist-packages (from requests>=2.19.0->pooch>=1.5->mne) (2.4.0)\n",
            "Requirement already satisfied: certifi>=2017.4.17 in /usr/local/lib/python3.11/dist-packages (from requests>=2.19.0->pooch>=1.5->mne) (2025.7.9)\n",
            "Downloading mne-1.10.0-py3-none-any.whl (7.4 MB)\n",
            "\u001b[2K   \u001b[90m━━━━━━━━━━━━━━━━━━━━━━━━━━━━━━━━━━━━━━━━\u001b[0m \u001b[32m7.4/7.4 MB\u001b[0m \u001b[31m110.2 MB/s\u001b[0m eta \u001b[36m0:00:00\u001b[0m\n",
            "\u001b[?25hInstalling collected packages: mne\n",
            "Successfully installed mne-1.10.0\n"
          ]
        }
      ],
      "source": [
        "!pip install mne"
      ]
    },
    {
      "cell_type": "code",
      "execution_count": null,
      "metadata": {
        "colab": {
          "base_uri": "https://localhost:8080/"
        },
        "id": "6TR5KtZFEliB",
        "outputId": "9e4fdc8f-8cf6-4be2-c9d2-66cb88cc3384"
      },
      "outputs": [
        {
          "output_type": "stream",
          "name": "stdout",
          "text": [
            "Collecting antio\n",
            "  Downloading antio-0.5.0-cp39-abi3-manylinux_2_17_x86_64.manylinux2014_x86_64.whl.metadata (44 kB)\n",
            "\u001b[?25l     \u001b[90m━━━━━━━━━━━━━━━━━━━━━━━━━━━━━━━━━━━━━━━━\u001b[0m \u001b[32m0.0/44.1 kB\u001b[0m \u001b[31m?\u001b[0m eta \u001b[36m-:--:--\u001b[0m\r\u001b[2K     \u001b[90m━━━━━━━━━━━━━━━━━━━━━━━━━━━━━━━━━━━━━━━━\u001b[0m \u001b[32m44.1/44.1 kB\u001b[0m \u001b[31m3.7 MB/s\u001b[0m eta \u001b[36m0:00:00\u001b[0m\n",
            "\u001b[?25hRequirement already satisfied: click in /usr/local/lib/python3.11/dist-packages (from antio) (8.2.1)\n",
            "Requirement already satisfied: numpy<3,>=1.23 in /usr/local/lib/python3.11/dist-packages (from antio) (2.0.2)\n",
            "Requirement already satisfied: packaging in /usr/local/lib/python3.11/dist-packages (from antio) (24.2)\n",
            "Requirement already satisfied: psutil in /usr/local/lib/python3.11/dist-packages (from antio) (5.9.5)\n",
            "Downloading antio-0.5.0-cp39-abi3-manylinux_2_17_x86_64.manylinux2014_x86_64.whl (232 kB)\n",
            "\u001b[?25l   \u001b[90m━━━━━━━━━━━━━━━━━━━━━━━━━━━━━━━━━━━━━━━━\u001b[0m \u001b[32m0.0/232.8 kB\u001b[0m \u001b[31m?\u001b[0m eta \u001b[36m-:--:--\u001b[0m\r\u001b[2K   \u001b[90m━━━━━━━━━━━━━━━━━━━━━━━━━━━━━━━━━━━━━━━━\u001b[0m \u001b[32m232.8/232.8 kB\u001b[0m \u001b[31m19.4 MB/s\u001b[0m eta \u001b[36m0:00:00\u001b[0m\n",
            "\u001b[?25hInstalling collected packages: antio\n",
            "Successfully installed antio-0.5.0\n"
          ]
        }
      ],
      "source": [
        "!pip install antio"
      ]
    },
    {
      "cell_type": "code",
      "execution_count": null,
      "metadata": {
        "colab": {
          "base_uri": "https://localhost:8080/"
        },
        "id": "RZ2bZTZtEno4",
        "outputId": "7325f7f5-1b6f-461d-d664-0832860fd48d"
      },
      "outputs": [
        {
          "name": "stdout",
          "output_type": "stream",
          "text": [
            "Reading EGI header from /content/drive/MyDrive/EEG_128channels_ERP_lanzhou_2015/02010002erp 20150416 1131.raw...\n",
            "    Reading events ...\n",
            "    Assembling measurement info ...\n",
            "    Excluding events {} ...\n",
            "Reading 0 ... 197401  =      0.000 ...   789.604 secs...\n",
            "<Info | 7 non-empty values\n",
            " bads: []\n",
            " ch_names: E1, E2, E3, E4, E5, E6, E7, E8, E9, E10, E11, E12, E13, E14, ...\n",
            " chs: 129 EEG, 21 Stimulus\n",
            " custom_ref_applied: False\n",
            " highpass: 0.0 Hz\n",
            " lowpass: 125.0 Hz\n",
            " meas_date: 2015-04-16 11:32:30 UTC\n",
            " nchan: 150\n",
            " projs: []\n",
            " sfreq: 250.0 Hz\n",
            ">\n"
          ]
        }
      ],
      "source": [
        "import mne\n",
        "\n",
        "file_path = \"/content/drive/MyDrive/EEG_128channels_ERP_lanzhou_2015/02010002erp 20150416 1131.raw\"\n",
        "\n",
        "try:\n",
        "    raw = mne.io.read_raw_egi(file_path, preload=True)\n",
        "    print(raw.info)\n",
        "except Exception as e:\n",
        "    print(\"Could not auto-read the file. Error:\", e)"
      ]
    },
    {
      "cell_type": "code",
      "execution_count": null,
      "metadata": {
        "colab": {
          "base_uri": "https://localhost:8080/"
        },
        "id": "0zWCMJpjE10n",
        "outputId": "bbb78fcc-0b74-4f89-ba8a-b0fb85a9c9f5"
      },
      "outputs": [
        {
          "name": "stdout",
          "output_type": "stream",
          "text": [
            "Total EEG files found: 53\n"
          ]
        }
      ],
      "source": [
        "import os\n",
        "\n",
        "data_folder = \"/content/drive/MyDrive/EEG_128channels_ERP_lanzhou_2015\"\n",
        "eeg_files = [os.path.join(data_folder, f) for f in os.listdir(data_folder) if f.endswith('.raw')]\n",
        "print(f\"Total EEG files found: {len(eeg_files)}\")\n"
      ]
    },
    {
      "cell_type": "code",
      "execution_count": null,
      "metadata": {
        "id": "8EYCJp-wFjLA"
      },
      "outputs": [],
      "source": [
        "import mne\n",
        "\n",
        "def preprocess_eeg(file_path):\n",
        "    try:\n",
        "        # Step 1: Load raw EEG file\n",
        "        raw = mne.io.read_raw_egi(file_path, preload=True)\n",
        "        print(f\"Loaded {file_path}\")\n",
        "\n",
        "        # Step 2: Set standard 128-channel montage (approximate if needed)\n",
        "        try:\n",
        "            montage = mne.channels.make_standard_montage('GSN-HydroCel-128')\n",
        "            raw.set_montage(montage)\n",
        "        except:\n",
        "            print(\"Could not set montage\")\n",
        "\n",
        "        # Step 3: Apply bandpass filter (1–40 Hz)\n",
        "        raw.filter(1., 40., fir_design='firwin')\n",
        "\n",
        "        # Step 4: Detect and remove bad channels (Optional: use raw.plot())\n",
        "        raw.info['bads'] += []  # Add bad channels manually or use raw.plot() to visualize\n",
        "\n",
        "        # Step 5: Run ICA to remove blink/artifact\n",
        "        ica = mne.preprocessing.ICA(n_components=20, random_state=97, max_iter='auto')\n",
        "        ica.fit(raw)\n",
        "        ica.detect_artifacts(raw)\n",
        "        raw = ica.apply(raw)\n",
        "\n",
        "        # Step 6: Re-reference to average\n",
        "        raw.set_eeg_reference('average', projection=True)\n",
        "\n",
        "        return raw\n",
        "\n",
        "    except Exception as e:\n",
        "        print(f\"Error processing {file_path}: {e}\")\n",
        "        return None\n"
      ]
    },
    {
      "cell_type": "code",
      "execution_count": null,
      "metadata": {
        "colab": {
          "base_uri": "https://localhost:8080/",
          "height": 1000
        },
        "id": "7fdIegpeFqqm",
        "outputId": "8ac836ad-a23c-4655-a18e-f9ff5ae049b6"
      },
      "outputs": [
        {
          "name": "stdout",
          "output_type": "stream",
          "text": [
            "Total ERP EEG files found: 53\n",
            "Reading EGI header from /content/drive/MyDrive/EEG_128channels_ERP_lanzhou_2015/02010002erp 20150416 1131.raw...\n",
            "    Reading events ...\n",
            "    Assembling measurement info ...\n",
            "    Excluding events {} ...\n",
            "Reading 0 ... 197401  =      0.000 ...   789.604 secs...\n",
            "\n",
            "✔ Loaded: 02010002erp 20150416 1131.raw\n",
            "⚠️ Could not set montage: DigMontage is only a subset of info. There is 1 channel position not present in the DigMontage. The channel missing from the montage is:\n",
            "\n",
            "['E129'].\n",
            "\n",
            "Consider using inst.rename_channels to match the montage nomenclature, or inst.set_channel_types if this is not an EEG channel, or use the on_missing parameter if the channel position is allowed to be unknown in your analyses.\n",
            "Filtering raw data in 1 contiguous segment\n",
            "Setting up band-pass filter from 0.1 - 30 Hz\n",
            "\n",
            "FIR filter parameters\n",
            "---------------------\n",
            "Designing a one-pass, zero-phase, non-causal bandpass filter:\n",
            "- Windowed time-domain design (firwin) method\n",
            "- Hamming window with 0.0194 passband ripple and 53 dB stopband attenuation\n",
            "- Lower passband edge: 0.10\n",
            "- Lower transition bandwidth: 0.10 Hz (-6 dB cutoff frequency: 0.05 Hz)\n",
            "- Upper passband edge: 30.00 Hz\n",
            "- Upper transition bandwidth: 7.50 Hz (-6 dB cutoff frequency: 33.75 Hz)\n",
            "- Filter length: 8251 samples (33.004 s)\n",
            "\n"
          ]
        },
        {
          "name": "stderr",
          "output_type": "stream",
          "text": [
            "[Parallel(n_jobs=1)]: Done  17 tasks      | elapsed:    0.2s\n",
            "[Parallel(n_jobs=1)]: Done  71 tasks      | elapsed:    0.8s\n"
          ]
        },
        {
          "name": "stdout",
          "output_type": "stream",
          "text": [
            "⚠️ Couldn't find 'STI 014'. Trying to infer stim channel...\n",
            "❌ No stim channel found in /content/drive/MyDrive/EEG_128channels_ERP_lanzhou_2015/02010002erp 20150416 1131.raw\n",
            "Reading EGI header from /content/drive/MyDrive/EEG_128channels_ERP_lanzhou_2015/02010004erp 20141219 1602.raw...\n"
          ]
        },
        {
          "name": "stderr",
          "output_type": "stream",
          "text": [
            "[Parallel(n_jobs=1)]: Done 129 out of 129 | elapsed:    1.4s finished\n"
          ]
        },
        {
          "name": "stdout",
          "output_type": "stream",
          "text": [
            "    Reading events ...\n",
            "    Assembling measurement info ...\n",
            "    Excluding events {} ...\n",
            "Reading 0 ... 195027  =      0.000 ...   780.108 secs...\n",
            "\n",
            "✔ Loaded: 02010004erp 20141219 1602.raw\n",
            "⚠️ Could not set montage: DigMontage is only a subset of info. There is 1 channel position not present in the DigMontage. The channel missing from the montage is:\n",
            "\n",
            "['E129'].\n",
            "\n",
            "Consider using inst.rename_channels to match the montage nomenclature, or inst.set_channel_types if this is not an EEG channel, or use the on_missing parameter if the channel position is allowed to be unknown in your analyses.\n",
            "Filtering raw data in 1 contiguous segment\n",
            "Setting up band-pass filter from 0.1 - 30 Hz\n",
            "\n",
            "FIR filter parameters\n",
            "---------------------\n",
            "Designing a one-pass, zero-phase, non-causal bandpass filter:\n",
            "- Windowed time-domain design (firwin) method\n",
            "- Hamming window with 0.0194 passband ripple and 53 dB stopband attenuation\n",
            "- Lower passband edge: 0.10\n",
            "- Lower transition bandwidth: 0.10 Hz (-6 dB cutoff frequency: 0.05 Hz)\n",
            "- Upper passband edge: 30.00 Hz\n",
            "- Upper transition bandwidth: 7.50 Hz (-6 dB cutoff frequency: 33.75 Hz)\n",
            "- Filter length: 8251 samples (33.004 s)\n",
            "\n"
          ]
        },
        {
          "name": "stderr",
          "output_type": "stream",
          "text": [
            "[Parallel(n_jobs=1)]: Done  17 tasks      | elapsed:    0.1s\n",
            "[Parallel(n_jobs=1)]: Done  71 tasks      | elapsed:    0.7s\n"
          ]
        },
        {
          "name": "stdout",
          "output_type": "stream",
          "text": [
            "⚠️ Couldn't find 'STI 014'. Trying to infer stim channel...\n",
            "❌ No stim channel found in /content/drive/MyDrive/EEG_128channels_ERP_lanzhou_2015/02010004erp 20141219 1602.raw\n",
            "Reading EGI header from /content/drive/MyDrive/EEG_128channels_ERP_lanzhou_2015/02010005erp 20150507 0938.raw...\n"
          ]
        },
        {
          "name": "stderr",
          "output_type": "stream",
          "text": [
            "[Parallel(n_jobs=1)]: Done 129 out of 129 | elapsed:    1.2s finished\n"
          ]
        },
        {
          "name": "stdout",
          "output_type": "stream",
          "text": [
            "    Reading events ...\n",
            "    Assembling measurement info ...\n",
            "    Excluding events {} ...\n",
            "Reading 0 ... 232938  =      0.000 ...   931.752 secs...\n",
            "\n",
            "✔ Loaded: 02010005erp 20150507 0938.raw\n",
            "⚠️ Could not set montage: DigMontage is only a subset of info. There is 1 channel position not present in the DigMontage. The channel missing from the montage is:\n",
            "\n",
            "['E129'].\n",
            "\n",
            "Consider using inst.rename_channels to match the montage nomenclature, or inst.set_channel_types if this is not an EEG channel, or use the on_missing parameter if the channel position is allowed to be unknown in your analyses.\n",
            "Filtering raw data in 1 contiguous segment\n",
            "Setting up band-pass filter from 0.1 - 30 Hz\n",
            "\n",
            "FIR filter parameters\n",
            "---------------------\n",
            "Designing a one-pass, zero-phase, non-causal bandpass filter:\n",
            "- Windowed time-domain design (firwin) method\n",
            "- Hamming window with 0.0194 passband ripple and 53 dB stopband attenuation\n",
            "- Lower passband edge: 0.10\n",
            "- Lower transition bandwidth: 0.10 Hz (-6 dB cutoff frequency: 0.05 Hz)\n",
            "- Upper passband edge: 30.00 Hz\n",
            "- Upper transition bandwidth: 7.50 Hz (-6 dB cutoff frequency: 33.75 Hz)\n",
            "- Filter length: 8251 samples (33.004 s)\n",
            "\n"
          ]
        },
        {
          "name": "stderr",
          "output_type": "stream",
          "text": [
            "[Parallel(n_jobs=1)]: Done  17 tasks      | elapsed:    0.2s\n",
            "[Parallel(n_jobs=1)]: Done  71 tasks      | elapsed:    0.9s\n"
          ]
        },
        {
          "name": "stdout",
          "output_type": "stream",
          "text": [
            "⚠️ Couldn't find 'STI 014'. Trying to infer stim channel...\n",
            "❌ No stim channel found in /content/drive/MyDrive/EEG_128channels_ERP_lanzhou_2015/02010005erp 20150507 0938.raw\n",
            "Reading EGI header from /content/drive/MyDrive/EEG_128channels_ERP_lanzhou_2015/02010006erp 20150528 1007.raw...\n"
          ]
        },
        {
          "name": "stderr",
          "output_type": "stream",
          "text": [
            "[Parallel(n_jobs=1)]: Done 129 out of 129 | elapsed:    1.5s finished\n"
          ]
        },
        {
          "name": "stdout",
          "output_type": "stream",
          "text": [
            "    Reading events ...\n",
            "    Assembling measurement info ...\n",
            "    Excluding events {} ...\n",
            "Reading 0 ... 195040  =      0.000 ...   780.160 secs...\n",
            "\n",
            "✔ Loaded: 02010006erp 20150528 1007.raw\n",
            "⚠️ Could not set montage: DigMontage is only a subset of info. There is 1 channel position not present in the DigMontage. The channel missing from the montage is:\n",
            "\n",
            "['E129'].\n",
            "\n",
            "Consider using inst.rename_channels to match the montage nomenclature, or inst.set_channel_types if this is not an EEG channel, or use the on_missing parameter if the channel position is allowed to be unknown in your analyses.\n",
            "Filtering raw data in 1 contiguous segment\n",
            "Setting up band-pass filter from 0.1 - 30 Hz\n",
            "\n",
            "FIR filter parameters\n",
            "---------------------\n",
            "Designing a one-pass, zero-phase, non-causal bandpass filter:\n",
            "- Windowed time-domain design (firwin) method\n",
            "- Hamming window with 0.0194 passband ripple and 53 dB stopband attenuation\n",
            "- Lower passband edge: 0.10\n",
            "- Lower transition bandwidth: 0.10 Hz (-6 dB cutoff frequency: 0.05 Hz)\n",
            "- Upper passband edge: 30.00 Hz\n",
            "- Upper transition bandwidth: 7.50 Hz (-6 dB cutoff frequency: 33.75 Hz)\n",
            "- Filter length: 8251 samples (33.004 s)\n",
            "\n"
          ]
        },
        {
          "name": "stderr",
          "output_type": "stream",
          "text": [
            "[Parallel(n_jobs=1)]: Done  17 tasks      | elapsed:    0.1s\n",
            "[Parallel(n_jobs=1)]: Done  71 tasks      | elapsed:    0.6s\n"
          ]
        },
        {
          "name": "stdout",
          "output_type": "stream",
          "text": [
            "⚠️ Couldn't find 'STI 014'. Trying to infer stim channel...\n",
            "❌ No stim channel found in /content/drive/MyDrive/EEG_128channels_ERP_lanzhou_2015/02010006erp 20150528 1007.raw\n",
            "Reading EGI header from /content/drive/MyDrive/EEG_128channels_ERP_lanzhou_2015/02010008_erp(n) 20150619 1709.raw...\n"
          ]
        },
        {
          "name": "stderr",
          "output_type": "stream",
          "text": [
            "[Parallel(n_jobs=1)]: Done 129 out of 129 | elapsed:    1.2s finished\n"
          ]
        },
        {
          "name": "stdout",
          "output_type": "stream",
          "text": [
            "    Reading events ...\n",
            "    Assembling measurement info ...\n",
            "    Excluding events {} ...\n",
            "Reading 0 ... 201090  =      0.000 ...   804.360 secs...\n",
            "\n",
            "✔ Loaded: 02010008_erp(n) 20150619 1709.raw\n",
            "⚠️ Could not set montage: DigMontage is only a subset of info. There is 1 channel position not present in the DigMontage. The channel missing from the montage is:\n",
            "\n",
            "['E129'].\n",
            "\n",
            "Consider using inst.rename_channels to match the montage nomenclature, or inst.set_channel_types if this is not an EEG channel, or use the on_missing parameter if the channel position is allowed to be unknown in your analyses.\n",
            "Filtering raw data in 1 contiguous segment\n",
            "Setting up band-pass filter from 0.1 - 30 Hz\n",
            "\n",
            "FIR filter parameters\n",
            "---------------------\n",
            "Designing a one-pass, zero-phase, non-causal bandpass filter:\n",
            "- Windowed time-domain design (firwin) method\n",
            "- Hamming window with 0.0194 passband ripple and 53 dB stopband attenuation\n",
            "- Lower passband edge: 0.10\n",
            "- Lower transition bandwidth: 0.10 Hz (-6 dB cutoff frequency: 0.05 Hz)\n",
            "- Upper passband edge: 30.00 Hz\n",
            "- Upper transition bandwidth: 7.50 Hz (-6 dB cutoff frequency: 33.75 Hz)\n",
            "- Filter length: 8251 samples (33.004 s)\n",
            "\n"
          ]
        },
        {
          "name": "stderr",
          "output_type": "stream",
          "text": [
            "[Parallel(n_jobs=1)]: Done  17 tasks      | elapsed:    0.2s\n",
            "[Parallel(n_jobs=1)]: Done  71 tasks      | elapsed:    0.8s\n"
          ]
        },
        {
          "name": "stdout",
          "output_type": "stream",
          "text": [
            "⚠️ Couldn't find 'STI 014'. Trying to infer stim channel...\n",
            "❌ No stim channel found in /content/drive/MyDrive/EEG_128channels_ERP_lanzhou_2015/02010008_erp(n) 20150619 1709.raw\n",
            "Reading EGI header from /content/drive/MyDrive/EEG_128channels_ERP_lanzhou_2015/02010010erp 20150624 1508.raw...\n"
          ]
        },
        {
          "name": "stderr",
          "output_type": "stream",
          "text": [
            "[Parallel(n_jobs=1)]: Done 129 out of 129 | elapsed:    1.3s finished\n"
          ]
        },
        {
          "name": "stdout",
          "output_type": "stream",
          "text": [
            "    Reading events ...\n",
            "    Assembling measurement info ...\n",
            "    Excluding events {} ...\n",
            "Reading 0 ... 216089  =      0.000 ...   864.356 secs...\n",
            "\n",
            "✔ Loaded: 02010010erp 20150624 1508.raw\n",
            "⚠️ Could not set montage: DigMontage is only a subset of info. There is 1 channel position not present in the DigMontage. The channel missing from the montage is:\n",
            "\n",
            "['E129'].\n",
            "\n",
            "Consider using inst.rename_channels to match the montage nomenclature, or inst.set_channel_types if this is not an EEG channel, or use the on_missing parameter if the channel position is allowed to be unknown in your analyses.\n",
            "Filtering raw data in 1 contiguous segment\n",
            "Setting up band-pass filter from 0.1 - 30 Hz\n",
            "\n",
            "FIR filter parameters\n",
            "---------------------\n",
            "Designing a one-pass, zero-phase, non-causal bandpass filter:\n",
            "- Windowed time-domain design (firwin) method\n",
            "- Hamming window with 0.0194 passband ripple and 53 dB stopband attenuation\n",
            "- Lower passband edge: 0.10\n",
            "- Lower transition bandwidth: 0.10 Hz (-6 dB cutoff frequency: 0.05 Hz)\n",
            "- Upper passband edge: 30.00 Hz\n",
            "- Upper transition bandwidth: 7.50 Hz (-6 dB cutoff frequency: 33.75 Hz)\n",
            "- Filter length: 8251 samples (33.004 s)\n",
            "\n"
          ]
        },
        {
          "name": "stderr",
          "output_type": "stream",
          "text": [
            "[Parallel(n_jobs=1)]: Done  17 tasks      | elapsed:    0.2s\n",
            "[Parallel(n_jobs=1)]: Done  71 tasks      | elapsed:    0.8s\n"
          ]
        },
        {
          "name": "stdout",
          "output_type": "stream",
          "text": [
            "⚠️ Couldn't find 'STI 014'. Trying to infer stim channel...\n",
            "❌ No stim channel found in /content/drive/MyDrive/EEG_128channels_ERP_lanzhou_2015/02010010erp 20150624 1508.raw\n",
            "Reading EGI header from /content/drive/MyDrive/EEG_128channels_ERP_lanzhou_2015/02010011erp 20150625 1545.raw...\n"
          ]
        },
        {
          "name": "stderr",
          "output_type": "stream",
          "text": [
            "[Parallel(n_jobs=1)]: Done 129 out of 129 | elapsed:    1.4s finished\n"
          ]
        },
        {
          "name": "stdout",
          "output_type": "stream",
          "text": [
            "    Reading events ...\n",
            "    Assembling measurement info ...\n",
            "    Excluding events {} ...\n",
            "Reading 0 ... 214203  =      0.000 ...   856.812 secs...\n",
            "\n",
            "✔ Loaded: 02010011erp 20150625 1545.raw\n",
            "⚠️ Could not set montage: DigMontage is only a subset of info. There is 1 channel position not present in the DigMontage. The channel missing from the montage is:\n",
            "\n",
            "['E129'].\n",
            "\n",
            "Consider using inst.rename_channels to match the montage nomenclature, or inst.set_channel_types if this is not an EEG channel, or use the on_missing parameter if the channel position is allowed to be unknown in your analyses.\n",
            "Filtering raw data in 1 contiguous segment\n",
            "Setting up band-pass filter from 0.1 - 30 Hz\n",
            "\n",
            "FIR filter parameters\n",
            "---------------------\n",
            "Designing a one-pass, zero-phase, non-causal bandpass filter:\n",
            "- Windowed time-domain design (firwin) method\n",
            "- Hamming window with 0.0194 passband ripple and 53 dB stopband attenuation\n",
            "- Lower passband edge: 0.10\n",
            "- Lower transition bandwidth: 0.10 Hz (-6 dB cutoff frequency: 0.05 Hz)\n",
            "- Upper passband edge: 30.00 Hz\n",
            "- Upper transition bandwidth: 7.50 Hz (-6 dB cutoff frequency: 33.75 Hz)\n",
            "- Filter length: 8251 samples (33.004 s)\n",
            "\n"
          ]
        },
        {
          "name": "stderr",
          "output_type": "stream",
          "text": [
            "[Parallel(n_jobs=1)]: Done  17 tasks      | elapsed:    0.2s\n",
            "[Parallel(n_jobs=1)]: Done  71 tasks      | elapsed:    1.3s\n"
          ]
        },
        {
          "name": "stdout",
          "output_type": "stream",
          "text": [
            "⚠️ Couldn't find 'STI 014'. Trying to infer stim channel...\n",
            "❌ No stim channel found in /content/drive/MyDrive/EEG_128channels_ERP_lanzhou_2015/02010011erp 20150625 1545.raw\n",
            "Reading EGI header from /content/drive/MyDrive/EEG_128channels_ERP_lanzhou_2015/02010012erp 20150626 1059.raw...\n"
          ]
        },
        {
          "name": "stderr",
          "output_type": "stream",
          "text": [
            "[Parallel(n_jobs=1)]: Done 129 out of 129 | elapsed:    3.2s finished\n"
          ]
        },
        {
          "name": "stdout",
          "output_type": "stream",
          "text": [
            "    Reading events ...\n",
            "    Assembling measurement info ...\n",
            "    Excluding events {} ...\n",
            "Reading 0 ... 203614  =      0.000 ...   814.456 secs...\n",
            "\n",
            "✔ Loaded: 02010012erp 20150626 1059.raw\n",
            "⚠️ Could not set montage: DigMontage is only a subset of info. There is 1 channel position not present in the DigMontage. The channel missing from the montage is:\n",
            "\n",
            "['E129'].\n",
            "\n",
            "Consider using inst.rename_channels to match the montage nomenclature, or inst.set_channel_types if this is not an EEG channel, or use the on_missing parameter if the channel position is allowed to be unknown in your analyses.\n",
            "Filtering raw data in 1 contiguous segment\n",
            "Setting up band-pass filter from 0.1 - 30 Hz\n",
            "\n",
            "FIR filter parameters\n",
            "---------------------\n",
            "Designing a one-pass, zero-phase, non-causal bandpass filter:\n",
            "- Windowed time-domain design (firwin) method\n",
            "- Hamming window with 0.0194 passband ripple and 53 dB stopband attenuation\n",
            "- Lower passband edge: 0.10\n",
            "- Lower transition bandwidth: 0.10 Hz (-6 dB cutoff frequency: 0.05 Hz)\n",
            "- Upper passband edge: 30.00 Hz\n",
            "- Upper transition bandwidth: 7.50 Hz (-6 dB cutoff frequency: 33.75 Hz)\n",
            "- Filter length: 8251 samples (33.004 s)\n",
            "\n"
          ]
        },
        {
          "name": "stderr",
          "output_type": "stream",
          "text": [
            "[Parallel(n_jobs=1)]: Done  17 tasks      | elapsed:    0.2s\n",
            "[Parallel(n_jobs=1)]: Done  71 tasks      | elapsed:    1.8s\n"
          ]
        },
        {
          "name": "stdout",
          "output_type": "stream",
          "text": [
            "⚠️ Couldn't find 'STI 014'. Trying to infer stim channel...\n",
            "❌ No stim channel found in /content/drive/MyDrive/EEG_128channels_ERP_lanzhou_2015/02010012erp 20150626 1059.raw\n",
            "Reading EGI header from /content/drive/MyDrive/EEG_128channels_ERP_lanzhou_2015/02010013erp 20150703 1353.raw...\n"
          ]
        },
        {
          "name": "stderr",
          "output_type": "stream",
          "text": [
            "[Parallel(n_jobs=1)]: Done 129 out of 129 | elapsed:    2.6s finished\n"
          ]
        },
        {
          "name": "stdout",
          "output_type": "stream",
          "text": [
            "    Reading events ...\n",
            "    Assembling measurement info ...\n",
            "    Excluding events {} ...\n",
            "Reading 0 ... 210765  =      0.000 ...   843.060 secs...\n",
            "\n",
            "✔ Loaded: 02010013erp 20150703 1353.raw\n",
            "⚠️ Could not set montage: DigMontage is only a subset of info. There is 1 channel position not present in the DigMontage. The channel missing from the montage is:\n",
            "\n",
            "['E129'].\n",
            "\n",
            "Consider using inst.rename_channels to match the montage nomenclature, or inst.set_channel_types if this is not an EEG channel, or use the on_missing parameter if the channel position is allowed to be unknown in your analyses.\n",
            "Filtering raw data in 1 contiguous segment\n",
            "Setting up band-pass filter from 0.1 - 30 Hz\n",
            "\n",
            "FIR filter parameters\n",
            "---------------------\n",
            "Designing a one-pass, zero-phase, non-causal bandpass filter:\n",
            "- Windowed time-domain design (firwin) method\n",
            "- Hamming window with 0.0194 passband ripple and 53 dB stopband attenuation\n",
            "- Lower passband edge: 0.10\n",
            "- Lower transition bandwidth: 0.10 Hz (-6 dB cutoff frequency: 0.05 Hz)\n",
            "- Upper passband edge: 30.00 Hz\n",
            "- Upper transition bandwidth: 7.50 Hz (-6 dB cutoff frequency: 33.75 Hz)\n",
            "- Filter length: 8251 samples (33.004 s)\n",
            "\n"
          ]
        },
        {
          "name": "stderr",
          "output_type": "stream",
          "text": [
            "[Parallel(n_jobs=1)]: Done  17 tasks      | elapsed:    0.2s\n",
            "[Parallel(n_jobs=1)]: Done  71 tasks      | elapsed:    0.9s\n"
          ]
        },
        {
          "name": "stdout",
          "output_type": "stream",
          "text": [
            "⚠️ Couldn't find 'STI 014'. Trying to infer stim channel...\n",
            "❌ No stim channel found in /content/drive/MyDrive/EEG_128channels_ERP_lanzhou_2015/02010013erp 20150703 1353.raw\n",
            "Reading EGI header from /content/drive/MyDrive/EEG_128channels_ERP_lanzhou_2015/02010015erp 20150709 1534.raw...\n"
          ]
        },
        {
          "name": "stderr",
          "output_type": "stream",
          "text": [
            "[Parallel(n_jobs=1)]: Done 129 out of 129 | elapsed:    1.7s finished\n"
          ]
        },
        {
          "name": "stdout",
          "output_type": "stream",
          "text": [
            "    Reading events ...\n",
            "    Assembling measurement info ...\n",
            "    Excluding events {} ...\n",
            "Reading 0 ... 201902  =      0.000 ...   807.608 secs...\n",
            "\n",
            "✔ Loaded: 02010015erp 20150709 1534.raw\n",
            "⚠️ Could not set montage: DigMontage is only a subset of info. There is 1 channel position not present in the DigMontage. The channel missing from the montage is:\n",
            "\n",
            "['E129'].\n",
            "\n",
            "Consider using inst.rename_channels to match the montage nomenclature, or inst.set_channel_types if this is not an EEG channel, or use the on_missing parameter if the channel position is allowed to be unknown in your analyses.\n",
            "Filtering raw data in 1 contiguous segment\n",
            "Setting up band-pass filter from 0.1 - 30 Hz\n",
            "\n",
            "FIR filter parameters\n",
            "---------------------\n",
            "Designing a one-pass, zero-phase, non-causal bandpass filter:\n",
            "- Windowed time-domain design (firwin) method\n",
            "- Hamming window with 0.0194 passband ripple and 53 dB stopband attenuation\n",
            "- Lower passband edge: 0.10\n",
            "- Lower transition bandwidth: 0.10 Hz (-6 dB cutoff frequency: 0.05 Hz)\n",
            "- Upper passband edge: 30.00 Hz\n",
            "- Upper transition bandwidth: 7.50 Hz (-6 dB cutoff frequency: 33.75 Hz)\n",
            "- Filter length: 8251 samples (33.004 s)\n",
            "\n"
          ]
        },
        {
          "name": "stderr",
          "output_type": "stream",
          "text": [
            "[Parallel(n_jobs=1)]: Done  17 tasks      | elapsed:    0.1s\n",
            "[Parallel(n_jobs=1)]: Done  71 tasks      | elapsed:    0.8s\n"
          ]
        },
        {
          "name": "stdout",
          "output_type": "stream",
          "text": [
            "⚠️ Couldn't find 'STI 014'. Trying to infer stim channel...\n",
            "❌ No stim channel found in /content/drive/MyDrive/EEG_128channels_ERP_lanzhou_2015/02010015erp 20150709 1534.raw\n",
            "Reading EGI header from /content/drive/MyDrive/EEG_128channels_ERP_lanzhou_2015/02010016erp 20150710 1329.raw...\n"
          ]
        },
        {
          "name": "stderr",
          "output_type": "stream",
          "text": [
            "[Parallel(n_jobs=1)]: Done 129 out of 129 | elapsed:    1.6s finished\n"
          ]
        },
        {
          "name": "stdout",
          "output_type": "stream",
          "text": [
            "    Reading events ...\n",
            "    Assembling measurement info ...\n",
            "    Excluding events {} ...\n",
            "Reading 0 ... 201638  =      0.000 ...   806.552 secs...\n",
            "\n",
            "✔ Loaded: 02010016erp 20150710 1329.raw\n",
            "⚠️ Could not set montage: DigMontage is only a subset of info. There is 1 channel position not present in the DigMontage. The channel missing from the montage is:\n",
            "\n",
            "['E129'].\n",
            "\n",
            "Consider using inst.rename_channels to match the montage nomenclature, or inst.set_channel_types if this is not an EEG channel, or use the on_missing parameter if the channel position is allowed to be unknown in your analyses.\n",
            "Filtering raw data in 1 contiguous segment\n",
            "Setting up band-pass filter from 0.1 - 30 Hz\n",
            "\n",
            "FIR filter parameters\n",
            "---------------------\n",
            "Designing a one-pass, zero-phase, non-causal bandpass filter:\n",
            "- Windowed time-domain design (firwin) method\n",
            "- Hamming window with 0.0194 passband ripple and 53 dB stopband attenuation\n",
            "- Lower passband edge: 0.10\n",
            "- Lower transition bandwidth: 0.10 Hz (-6 dB cutoff frequency: 0.05 Hz)\n",
            "- Upper passband edge: 30.00 Hz\n",
            "- Upper transition bandwidth: 7.50 Hz (-6 dB cutoff frequency: 33.75 Hz)\n",
            "- Filter length: 8251 samples (33.004 s)\n",
            "\n"
          ]
        },
        {
          "name": "stderr",
          "output_type": "stream",
          "text": [
            "[Parallel(n_jobs=1)]: Done  17 tasks      | elapsed:    0.2s\n",
            "[Parallel(n_jobs=1)]: Done  71 tasks      | elapsed:    0.9s\n"
          ]
        },
        {
          "name": "stdout",
          "output_type": "stream",
          "text": [
            "⚠️ Couldn't find 'STI 014'. Trying to infer stim channel...\n",
            "❌ No stim channel found in /content/drive/MyDrive/EEG_128channels_ERP_lanzhou_2015/02010016erp 20150710 1329.raw\n",
            "Reading EGI header from /content/drive/MyDrive/EEG_128channels_ERP_lanzhou_2015/02010018erp 20150716 1310.raw...\n"
          ]
        },
        {
          "name": "stderr",
          "output_type": "stream",
          "text": [
            "[Parallel(n_jobs=1)]: Done 129 out of 129 | elapsed:    1.7s finished\n"
          ]
        },
        {
          "name": "stdout",
          "output_type": "stream",
          "text": [
            "    Reading events ...\n",
            "    Assembling measurement info ...\n",
            "    Excluding events {} ...\n",
            "Reading 0 ... 201301  =      0.000 ...   805.204 secs...\n",
            "\n",
            "✔ Loaded: 02010018erp 20150716 1310.raw\n",
            "⚠️ Could not set montage: DigMontage is only a subset of info. There is 1 channel position not present in the DigMontage. The channel missing from the montage is:\n",
            "\n",
            "['E129'].\n",
            "\n",
            "Consider using inst.rename_channels to match the montage nomenclature, or inst.set_channel_types if this is not an EEG channel, or use the on_missing parameter if the channel position is allowed to be unknown in your analyses.\n",
            "Filtering raw data in 1 contiguous segment\n",
            "Setting up band-pass filter from 0.1 - 30 Hz\n",
            "\n",
            "FIR filter parameters\n",
            "---------------------\n",
            "Designing a one-pass, zero-phase, non-causal bandpass filter:\n",
            "- Windowed time-domain design (firwin) method\n",
            "- Hamming window with 0.0194 passband ripple and 53 dB stopband attenuation\n",
            "- Lower passband edge: 0.10\n",
            "- Lower transition bandwidth: 0.10 Hz (-6 dB cutoff frequency: 0.05 Hz)\n",
            "- Upper passband edge: 30.00 Hz\n",
            "- Upper transition bandwidth: 7.50 Hz (-6 dB cutoff frequency: 33.75 Hz)\n",
            "- Filter length: 8251 samples (33.004 s)\n",
            "\n"
          ]
        },
        {
          "name": "stderr",
          "output_type": "stream",
          "text": [
            "[Parallel(n_jobs=1)]: Done  17 tasks      | elapsed:    0.2s\n",
            "[Parallel(n_jobs=1)]: Done  71 tasks      | elapsed:    0.8s\n"
          ]
        },
        {
          "name": "stdout",
          "output_type": "stream",
          "text": [
            "⚠️ Couldn't find 'STI 014'. Trying to infer stim channel...\n",
            "❌ No stim channel found in /content/drive/MyDrive/EEG_128channels_ERP_lanzhou_2015/02010018erp 20150716 1310.raw\n",
            "Reading EGI header from /content/drive/MyDrive/EEG_128channels_ERP_lanzhou_2015/02010019erp 20150716 1544.raw...\n"
          ]
        },
        {
          "name": "stderr",
          "output_type": "stream",
          "text": [
            "[Parallel(n_jobs=1)]: Done 129 out of 129 | elapsed:    1.6s finished\n"
          ]
        },
        {
          "name": "stdout",
          "output_type": "stream",
          "text": [
            "    Reading events ...\n",
            "    Assembling measurement info ...\n",
            "    Excluding events {} ...\n",
            "Reading 0 ... 196038  =      0.000 ...   784.152 secs...\n",
            "\n",
            "✔ Loaded: 02010019erp 20150716 1544.raw\n",
            "⚠️ Could not set montage: DigMontage is only a subset of info. There is 1 channel position not present in the DigMontage. The channel missing from the montage is:\n",
            "\n",
            "['E129'].\n",
            "\n",
            "Consider using inst.rename_channels to match the montage nomenclature, or inst.set_channel_types if this is not an EEG channel, or use the on_missing parameter if the channel position is allowed to be unknown in your analyses.\n",
            "Filtering raw data in 1 contiguous segment\n",
            "Setting up band-pass filter from 0.1 - 30 Hz\n",
            "\n",
            "FIR filter parameters\n",
            "---------------------\n",
            "Designing a one-pass, zero-phase, non-causal bandpass filter:\n",
            "- Windowed time-domain design (firwin) method\n",
            "- Hamming window with 0.0194 passband ripple and 53 dB stopband attenuation\n",
            "- Lower passband edge: 0.10\n",
            "- Lower transition bandwidth: 0.10 Hz (-6 dB cutoff frequency: 0.05 Hz)\n",
            "- Upper passband edge: 30.00 Hz\n",
            "- Upper transition bandwidth: 7.50 Hz (-6 dB cutoff frequency: 33.75 Hz)\n",
            "- Filter length: 8251 samples (33.004 s)\n",
            "\n"
          ]
        },
        {
          "name": "stderr",
          "output_type": "stream",
          "text": [
            "[Parallel(n_jobs=1)]: Done  17 tasks      | elapsed:    0.1s\n",
            "[Parallel(n_jobs=1)]: Done  71 tasks      | elapsed:    0.8s\n"
          ]
        },
        {
          "name": "stdout",
          "output_type": "stream",
          "text": [
            "⚠️ Couldn't find 'STI 014'. Trying to infer stim channel...\n",
            "❌ No stim channel found in /content/drive/MyDrive/EEG_128channels_ERP_lanzhou_2015/02010019erp 20150716 1544.raw\n",
            "Reading EGI header from /content/drive/MyDrive/EEG_128channels_ERP_lanzhou_2015/02010021erp 20150805 1818.raw...\n"
          ]
        },
        {
          "name": "stderr",
          "output_type": "stream",
          "text": [
            "[Parallel(n_jobs=1)]: Done 129 out of 129 | elapsed:    1.5s finished\n"
          ]
        },
        {
          "name": "stdout",
          "output_type": "stream",
          "text": [
            "    Reading events ...\n",
            "    Assembling measurement info ...\n",
            "    Excluding events {} ...\n",
            "Reading 0 ... 205092  =      0.000 ...   820.368 secs...\n",
            "\n",
            "✔ Loaded: 02010021erp 20150805 1818.raw\n",
            "⚠️ Could not set montage: DigMontage is only a subset of info. There is 1 channel position not present in the DigMontage. The channel missing from the montage is:\n",
            "\n",
            "['E129'].\n",
            "\n",
            "Consider using inst.rename_channels to match the montage nomenclature, or inst.set_channel_types if this is not an EEG channel, or use the on_missing parameter if the channel position is allowed to be unknown in your analyses.\n",
            "Filtering raw data in 1 contiguous segment\n",
            "Setting up band-pass filter from 0.1 - 30 Hz\n",
            "\n",
            "FIR filter parameters\n",
            "---------------------\n",
            "Designing a one-pass, zero-phase, non-causal bandpass filter:\n",
            "- Windowed time-domain design (firwin) method\n",
            "- Hamming window with 0.0194 passband ripple and 53 dB stopband attenuation\n",
            "- Lower passband edge: 0.10\n",
            "- Lower transition bandwidth: 0.10 Hz (-6 dB cutoff frequency: 0.05 Hz)\n",
            "- Upper passband edge: 30.00 Hz\n",
            "- Upper transition bandwidth: 7.50 Hz (-6 dB cutoff frequency: 33.75 Hz)\n",
            "- Filter length: 8251 samples (33.004 s)\n",
            "\n"
          ]
        },
        {
          "name": "stderr",
          "output_type": "stream",
          "text": [
            "[Parallel(n_jobs=1)]: Done  17 tasks      | elapsed:    0.2s\n",
            "[Parallel(n_jobs=1)]: Done  71 tasks      | elapsed:    0.7s\n"
          ]
        },
        {
          "name": "stdout",
          "output_type": "stream",
          "text": [
            "⚠️ Couldn't find 'STI 014'. Trying to infer stim channel...\n",
            "❌ No stim channel found in /content/drive/MyDrive/EEG_128channels_ERP_lanzhou_2015/02010021erp 20150805 1818.raw\n",
            "Reading EGI header from /content/drive/MyDrive/EEG_128channels_ERP_lanzhou_2015/02010022erp 20150724 1457.raw...\n"
          ]
        },
        {
          "name": "stderr",
          "output_type": "stream",
          "text": [
            "[Parallel(n_jobs=1)]: Done 129 out of 129 | elapsed:    1.2s finished\n"
          ]
        },
        {
          "name": "stdout",
          "output_type": "stream",
          "text": [
            "    Reading events ...\n",
            "    Assembling measurement info ...\n",
            "    Excluding events {} ...\n",
            "Reading 0 ... 201150  =      0.000 ...   804.600 secs...\n",
            "\n",
            "✔ Loaded: 02010022erp 20150724 1457.raw\n",
            "⚠️ Could not set montage: DigMontage is only a subset of info. There is 1 channel position not present in the DigMontage. The channel missing from the montage is:\n",
            "\n",
            "['E129'].\n",
            "\n",
            "Consider using inst.rename_channels to match the montage nomenclature, or inst.set_channel_types if this is not an EEG channel, or use the on_missing parameter if the channel position is allowed to be unknown in your analyses.\n",
            "Filtering raw data in 1 contiguous segment\n",
            "Setting up band-pass filter from 0.1 - 30 Hz\n",
            "\n",
            "FIR filter parameters\n",
            "---------------------\n",
            "Designing a one-pass, zero-phase, non-causal bandpass filter:\n",
            "- Windowed time-domain design (firwin) method\n",
            "- Hamming window with 0.0194 passband ripple and 53 dB stopband attenuation\n",
            "- Lower passband edge: 0.10\n",
            "- Lower transition bandwidth: 0.10 Hz (-6 dB cutoff frequency: 0.05 Hz)\n",
            "- Upper passband edge: 30.00 Hz\n",
            "- Upper transition bandwidth: 7.50 Hz (-6 dB cutoff frequency: 33.75 Hz)\n",
            "- Filter length: 8251 samples (33.004 s)\n",
            "\n"
          ]
        },
        {
          "name": "stderr",
          "output_type": "stream",
          "text": [
            "[Parallel(n_jobs=1)]: Done  17 tasks      | elapsed:    0.2s\n",
            "[Parallel(n_jobs=1)]: Done  71 tasks      | elapsed:    0.7s\n"
          ]
        },
        {
          "name": "stdout",
          "output_type": "stream",
          "text": [
            "⚠️ Couldn't find 'STI 014'. Trying to infer stim channel...\n",
            "❌ No stim channel found in /content/drive/MyDrive/EEG_128channels_ERP_lanzhou_2015/02010022erp 20150724 1457.raw\n",
            "Reading EGI header from /content/drive/MyDrive/EEG_128channels_ERP_lanzhou_2015/02010023erp 20150729 1955.raw...\n"
          ]
        },
        {
          "name": "stderr",
          "output_type": "stream",
          "text": [
            "[Parallel(n_jobs=1)]: Done 129 out of 129 | elapsed:    1.2s finished\n"
          ]
        },
        {
          "name": "stdout",
          "output_type": "stream",
          "text": [
            "    Reading events ...\n",
            "    Assembling measurement info ...\n",
            "    Excluding events {} ...\n",
            "Reading 0 ... 211052  =      0.000 ...   844.208 secs...\n",
            "\n",
            "✔ Loaded: 02010023erp 20150729 1955.raw\n",
            "⚠️ Could not set montage: DigMontage is only a subset of info. There is 1 channel position not present in the DigMontage. The channel missing from the montage is:\n",
            "\n",
            "['E129'].\n",
            "\n",
            "Consider using inst.rename_channels to match the montage nomenclature, or inst.set_channel_types if this is not an EEG channel, or use the on_missing parameter if the channel position is allowed to be unknown in your analyses.\n",
            "Filtering raw data in 1 contiguous segment\n",
            "Setting up band-pass filter from 0.1 - 30 Hz\n",
            "\n",
            "FIR filter parameters\n",
            "---------------------\n",
            "Designing a one-pass, zero-phase, non-causal bandpass filter:\n",
            "- Windowed time-domain design (firwin) method\n",
            "- Hamming window with 0.0194 passband ripple and 53 dB stopband attenuation\n",
            "- Lower passband edge: 0.10\n",
            "- Lower transition bandwidth: 0.10 Hz (-6 dB cutoff frequency: 0.05 Hz)\n",
            "- Upper passband edge: 30.00 Hz\n",
            "- Upper transition bandwidth: 7.50 Hz (-6 dB cutoff frequency: 33.75 Hz)\n",
            "- Filter length: 8251 samples (33.004 s)\n",
            "\n"
          ]
        },
        {
          "name": "stderr",
          "output_type": "stream",
          "text": [
            "[Parallel(n_jobs=1)]: Done  17 tasks      | elapsed:    0.2s\n",
            "[Parallel(n_jobs=1)]: Done  71 tasks      | elapsed:    0.7s\n"
          ]
        },
        {
          "name": "stdout",
          "output_type": "stream",
          "text": [
            "⚠️ Couldn't find 'STI 014'. Trying to infer stim channel...\n",
            "❌ No stim channel found in /content/drive/MyDrive/EEG_128channels_ERP_lanzhou_2015/02010023erp 20150729 1955.raw\n",
            "Reading EGI header from /content/drive/MyDrive/EEG_128channels_ERP_lanzhou_2015/02010024erp 20150814 1523.raw...\n"
          ]
        },
        {
          "name": "stderr",
          "output_type": "stream",
          "text": [
            "[Parallel(n_jobs=1)]: Done 129 out of 129 | elapsed:    1.2s finished\n"
          ]
        },
        {
          "name": "stdout",
          "output_type": "stream",
          "text": [
            "    Reading events ...\n",
            "    Assembling measurement info ...\n",
            "    Excluding events {} ...\n",
            "Reading 0 ... 198475  =      0.000 ...   793.900 secs...\n",
            "\n",
            "✔ Loaded: 02010024erp 20150814 1523.raw\n",
            "⚠️ Could not set montage: DigMontage is only a subset of info. There is 1 channel position not present in the DigMontage. The channel missing from the montage is:\n",
            "\n",
            "['E129'].\n",
            "\n",
            "Consider using inst.rename_channels to match the montage nomenclature, or inst.set_channel_types if this is not an EEG channel, or use the on_missing parameter if the channel position is allowed to be unknown in your analyses.\n",
            "Filtering raw data in 1 contiguous segment\n",
            "Setting up band-pass filter from 0.1 - 30 Hz\n",
            "\n",
            "FIR filter parameters\n",
            "---------------------\n",
            "Designing a one-pass, zero-phase, non-causal bandpass filter:\n",
            "- Windowed time-domain design (firwin) method\n",
            "- Hamming window with 0.0194 passband ripple and 53 dB stopband attenuation\n",
            "- Lower passband edge: 0.10\n",
            "- Lower transition bandwidth: 0.10 Hz (-6 dB cutoff frequency: 0.05 Hz)\n",
            "- Upper passband edge: 30.00 Hz\n",
            "- Upper transition bandwidth: 7.50 Hz (-6 dB cutoff frequency: 33.75 Hz)\n",
            "- Filter length: 8251 samples (33.004 s)\n",
            "\n"
          ]
        },
        {
          "name": "stderr",
          "output_type": "stream",
          "text": [
            "[Parallel(n_jobs=1)]: Done  17 tasks      | elapsed:    0.2s\n",
            "[Parallel(n_jobs=1)]: Done  71 tasks      | elapsed:    0.7s\n"
          ]
        },
        {
          "name": "stdout",
          "output_type": "stream",
          "text": [
            "⚠️ Couldn't find 'STI 014'. Trying to infer stim channel...\n",
            "❌ No stim channel found in /content/drive/MyDrive/EEG_128channels_ERP_lanzhou_2015/02010024erp 20150814 1523.raw\n",
            "Reading EGI header from /content/drive/MyDrive/EEG_128channels_ERP_lanzhou_2015/02010025erp 20160311 1225.raw...\n"
          ]
        },
        {
          "name": "stderr",
          "output_type": "stream",
          "text": [
            "[Parallel(n_jobs=1)]: Done 129 out of 129 | elapsed:    1.2s finished\n"
          ]
        },
        {
          "name": "stdout",
          "output_type": "stream",
          "text": [
            "    Reading events ...\n",
            "    Assembling measurement info ...\n",
            "    Excluding events {} ...\n",
            "Reading 0 ... 205878  =      0.000 ...   823.512 secs...\n",
            "\n",
            "✔ Loaded: 02010025erp 20160311 1225.raw\n",
            "⚠️ Could not set montage: DigMontage is only a subset of info. There is 1 channel position not present in the DigMontage. The channel missing from the montage is:\n",
            "\n",
            "['E129'].\n",
            "\n",
            "Consider using inst.rename_channels to match the montage nomenclature, or inst.set_channel_types if this is not an EEG channel, or use the on_missing parameter if the channel position is allowed to be unknown in your analyses.\n",
            "Filtering raw data in 1 contiguous segment\n",
            "Setting up band-pass filter from 0.1 - 30 Hz\n",
            "\n",
            "FIR filter parameters\n",
            "---------------------\n",
            "Designing a one-pass, zero-phase, non-causal bandpass filter:\n",
            "- Windowed time-domain design (firwin) method\n",
            "- Hamming window with 0.0194 passband ripple and 53 dB stopband attenuation\n",
            "- Lower passband edge: 0.10\n",
            "- Lower transition bandwidth: 0.10 Hz (-6 dB cutoff frequency: 0.05 Hz)\n",
            "- Upper passband edge: 30.00 Hz\n",
            "- Upper transition bandwidth: 7.50 Hz (-6 dB cutoff frequency: 33.75 Hz)\n",
            "- Filter length: 8251 samples (33.004 s)\n",
            "\n"
          ]
        },
        {
          "name": "stderr",
          "output_type": "stream",
          "text": [
            "[Parallel(n_jobs=1)]: Done  17 tasks      | elapsed:    0.1s\n",
            "[Parallel(n_jobs=1)]: Done  71 tasks      | elapsed:    0.6s\n"
          ]
        },
        {
          "name": "stdout",
          "output_type": "stream",
          "text": [
            "⚠️ Couldn't find 'STI 014'. Trying to infer stim channel...\n",
            "❌ No stim channel found in /content/drive/MyDrive/EEG_128channels_ERP_lanzhou_2015/02010025erp 20160311 1225.raw\n",
            "Reading EGI header from /content/drive/MyDrive/EEG_128channels_ERP_lanzhou_2015/02010026erp 20160311 1441.raw...\n"
          ]
        },
        {
          "name": "stderr",
          "output_type": "stream",
          "text": [
            "[Parallel(n_jobs=1)]: Done 129 out of 129 | elapsed:    1.2s finished\n"
          ]
        },
        {
          "name": "stdout",
          "output_type": "stream",
          "text": [
            "    Reading events ...\n"
          ]
        },
        {
          "ename": "KeyboardInterrupt",
          "evalue": "",
          "output_type": "error",
          "traceback": [
            "\u001b[0;31m---------------------------------------------------------------------------\u001b[0m",
            "\u001b[0;31mKeyboardInterrupt\u001b[0m                         Traceback (most recent call last)",
            "\u001b[0;32m/tmp/ipython-input-9-3329761889.py\u001b[0m in \u001b[0;36m<cell line: 0>\u001b[0;34m()\u001b[0m\n\u001b[1;32m     70\u001b[0m \u001b[0;31m# STEP 4: Process all files\u001b[0m\u001b[0;34m\u001b[0m\u001b[0;34m\u001b[0m\u001b[0m\n\u001b[1;32m     71\u001b[0m \u001b[0;32mfor\u001b[0m \u001b[0mi\u001b[0m\u001b[0;34m,\u001b[0m \u001b[0mfile_path\u001b[0m \u001b[0;32min\u001b[0m \u001b[0menumerate\u001b[0m\u001b[0;34m(\u001b[0m\u001b[0meeg_files\u001b[0m\u001b[0;34m,\u001b[0m \u001b[0mstart\u001b[0m\u001b[0;34m=\u001b[0m\u001b[0;36m1\u001b[0m\u001b[0;34m)\u001b[0m\u001b[0;34m:\u001b[0m\u001b[0;34m\u001b[0m\u001b[0;34m\u001b[0m\u001b[0m\n\u001b[0;32m---> 72\u001b[0;31m     \u001b[0mpreprocess_erp_file\u001b[0m\u001b[0;34m(\u001b[0m\u001b[0mfile_path\u001b[0m\u001b[0;34m,\u001b[0m \u001b[0moutput_folder\u001b[0m\u001b[0;34m,\u001b[0m \u001b[0mi\u001b[0m\u001b[0;34m)\u001b[0m\u001b[0;34m\u001b[0m\u001b[0;34m\u001b[0m\u001b[0m\n\u001b[0m\u001b[1;32m     73\u001b[0m \u001b[0;34m\u001b[0m\u001b[0m\n",
            "\u001b[0;32m/tmp/ipython-input-9-3329761889.py\u001b[0m in \u001b[0;36mpreprocess_erp_file\u001b[0;34m(file_path, output_path, subject_id)\u001b[0m\n\u001b[1;32m     15\u001b[0m     \u001b[0;32mtry\u001b[0m\u001b[0;34m:\u001b[0m\u001b[0;34m\u001b[0m\u001b[0;34m\u001b[0m\u001b[0m\n\u001b[1;32m     16\u001b[0m         \u001b[0;31m# Load raw file\u001b[0m\u001b[0;34m\u001b[0m\u001b[0;34m\u001b[0m\u001b[0m\n\u001b[0;32m---> 17\u001b[0;31m         \u001b[0mraw\u001b[0m \u001b[0;34m=\u001b[0m \u001b[0mmne\u001b[0m\u001b[0;34m.\u001b[0m\u001b[0mio\u001b[0m\u001b[0;34m.\u001b[0m\u001b[0mread_raw_egi\u001b[0m\u001b[0;34m(\u001b[0m\u001b[0mfile_path\u001b[0m\u001b[0;34m,\u001b[0m \u001b[0mpreload\u001b[0m\u001b[0;34m=\u001b[0m\u001b[0;32mTrue\u001b[0m\u001b[0;34m)\u001b[0m\u001b[0;34m\u001b[0m\u001b[0;34m\u001b[0m\u001b[0m\n\u001b[0m\u001b[1;32m     18\u001b[0m         \u001b[0mprint\u001b[0m\u001b[0;34m(\u001b[0m\u001b[0;34mf\"\\n✔ Loaded: {os.path.basename(file_path)}\"\u001b[0m\u001b[0;34m)\u001b[0m\u001b[0;34m\u001b[0m\u001b[0;34m\u001b[0m\u001b[0m\n\u001b[1;32m     19\u001b[0m \u001b[0;34m\u001b[0m\u001b[0m\n",
            "\u001b[0;32m<decorator-gen-362>\u001b[0m in \u001b[0;36mread_raw_egi\u001b[0;34m(input_fname, eog, misc, include, exclude, preload, channel_naming, events_as_annotations, verbose)\u001b[0m\n",
            "\u001b[0;32m/usr/local/lib/python3.11/dist-packages/mne/io/egi/egi.py\u001b[0m in \u001b[0;36mread_raw_egi\u001b[0;34m(input_fname, eog, misc, include, exclude, preload, channel_naming, events_as_annotations, verbose)\u001b[0m\n\u001b[1;32m    184\u001b[0m             \u001b[0mverbose\u001b[0m\u001b[0;34m=\u001b[0m\u001b[0mverbose\u001b[0m\u001b[0;34m,\u001b[0m\u001b[0;34m\u001b[0m\u001b[0;34m\u001b[0m\u001b[0m\n\u001b[1;32m    185\u001b[0m         )\n\u001b[0;32m--> 186\u001b[0;31m     return RawEGI(\n\u001b[0m\u001b[1;32m    187\u001b[0m         \u001b[0minput_fname\u001b[0m\u001b[0;34m,\u001b[0m\u001b[0;34m\u001b[0m\u001b[0;34m\u001b[0m\u001b[0m\n\u001b[1;32m    188\u001b[0m         \u001b[0meog\u001b[0m\u001b[0;34m,\u001b[0m\u001b[0;34m\u001b[0m\u001b[0;34m\u001b[0m\u001b[0m\n",
            "\u001b[0;32m<decorator-gen-363>\u001b[0m in \u001b[0;36m__init__\u001b[0;34m(self, input_fname, eog, misc, include, exclude, preload, channel_naming, events_as_annotations, verbose)\u001b[0m\n",
            "\u001b[0;32m/usr/local/lib/python3.11/dist-packages/mne/io/egi/egi.py\u001b[0m in \u001b[0;36m__init__\u001b[0;34m(self, input_fname, eog, misc, include, exclude, preload, channel_naming, events_as_annotations, verbose)\u001b[0m\n\u001b[1;32m    225\u001b[0m             \u001b[0megi_info\u001b[0m \u001b[0;34m=\u001b[0m \u001b[0m_read_header\u001b[0m\u001b[0;34m(\u001b[0m\u001b[0mfid\u001b[0m\u001b[0;34m)\u001b[0m\u001b[0;34m\u001b[0m\u001b[0;34m\u001b[0m\u001b[0m\n\u001b[1;32m    226\u001b[0m             \u001b[0mlogger\u001b[0m\u001b[0;34m.\u001b[0m\u001b[0minfo\u001b[0m\u001b[0;34m(\u001b[0m\u001b[0;34m\"    Reading events ...\"\u001b[0m\u001b[0;34m)\u001b[0m\u001b[0;34m\u001b[0m\u001b[0;34m\u001b[0m\u001b[0m\n\u001b[0;32m--> 227\u001b[0;31m             \u001b[0megi_events\u001b[0m \u001b[0;34m=\u001b[0m \u001b[0m_read_events\u001b[0m\u001b[0;34m(\u001b[0m\u001b[0mfid\u001b[0m\u001b[0;34m,\u001b[0m \u001b[0megi_info\u001b[0m\u001b[0;34m)\u001b[0m  \u001b[0;31m# update info + jump\u001b[0m\u001b[0;34m\u001b[0m\u001b[0;34m\u001b[0m\u001b[0m\n\u001b[0m\u001b[1;32m    228\u001b[0m             \u001b[0;32mif\u001b[0m \u001b[0megi_info\u001b[0m\u001b[0;34m[\u001b[0m\u001b[0;34m\"value_range\"\u001b[0m\u001b[0;34m]\u001b[0m \u001b[0;34m!=\u001b[0m \u001b[0;36m0\u001b[0m \u001b[0;32mand\u001b[0m \u001b[0megi_info\u001b[0m\u001b[0;34m[\u001b[0m\u001b[0;34m\"bits\"\u001b[0m\u001b[0;34m]\u001b[0m \u001b[0;34m!=\u001b[0m \u001b[0;36m0\u001b[0m\u001b[0;34m:\u001b[0m\u001b[0;34m\u001b[0m\u001b[0;34m\u001b[0m\u001b[0m\n\u001b[1;32m    229\u001b[0m                 \u001b[0mcal\u001b[0m \u001b[0;34m=\u001b[0m \u001b[0megi_info\u001b[0m\u001b[0;34m[\u001b[0m\u001b[0;34m\"value_range\"\u001b[0m\u001b[0;34m]\u001b[0m \u001b[0;34m/\u001b[0m \u001b[0;36m2.0\u001b[0m \u001b[0;34m**\u001b[0m \u001b[0megi_info\u001b[0m\u001b[0;34m[\u001b[0m\u001b[0;34m\"bits\"\u001b[0m\u001b[0;34m]\u001b[0m\u001b[0;34m\u001b[0m\u001b[0;34m\u001b[0m\u001b[0m\n",
            "\u001b[0;32m/usr/local/lib/python3.11/dist-packages/mne/io/egi/egi.py\u001b[0m in \u001b[0;36m_read_events\u001b[0;34m(fid, info)\u001b[0m\n\u001b[1;32m     87\u001b[0m         \u001b[0mfid\u001b[0m\u001b[0;34m.\u001b[0m\u001b[0mseek\u001b[0m\u001b[0;34m(\u001b[0m\u001b[0minfo\u001b[0m\u001b[0;34m[\u001b[0m\u001b[0;34m\"n_channels\"\u001b[0m\u001b[0;34m]\u001b[0m \u001b[0;34m*\u001b[0m \u001b[0minfo\u001b[0m\u001b[0;34m[\u001b[0m\u001b[0;34m\"dtype\"\u001b[0m\u001b[0;34m]\u001b[0m\u001b[0;34m.\u001b[0m\u001b[0mitemsize\u001b[0m\u001b[0;34m,\u001b[0m \u001b[0;36m1\u001b[0m\u001b[0;34m)\u001b[0m\u001b[0;34m\u001b[0m\u001b[0;34m\u001b[0m\u001b[0m\n\u001b[1;32m     88\u001b[0m         \u001b[0;31m# read event channels\u001b[0m\u001b[0;34m\u001b[0m\u001b[0;34m\u001b[0m\u001b[0m\n\u001b[0;32m---> 89\u001b[0;31m         \u001b[0mevents\u001b[0m\u001b[0;34m[\u001b[0m\u001b[0;34m:\u001b[0m\u001b[0;34m,\u001b[0m \u001b[0msi\u001b[0m\u001b[0;34m]\u001b[0m \u001b[0;34m=\u001b[0m \u001b[0mnp\u001b[0m\u001b[0;34m.\u001b[0m\u001b[0mfromfile\u001b[0m\u001b[0;34m(\u001b[0m\u001b[0mfid\u001b[0m\u001b[0;34m,\u001b[0m \u001b[0minfo\u001b[0m\u001b[0;34m[\u001b[0m\u001b[0;34m\"dtype\"\u001b[0m\u001b[0;34m]\u001b[0m\u001b[0;34m,\u001b[0m \u001b[0minfo\u001b[0m\u001b[0;34m[\u001b[0m\u001b[0;34m\"n_events\"\u001b[0m\u001b[0;34m]\u001b[0m\u001b[0;34m)\u001b[0m\u001b[0;34m\u001b[0m\u001b[0;34m\u001b[0m\u001b[0m\n\u001b[0m\u001b[1;32m     90\u001b[0m     \u001b[0;32mreturn\u001b[0m \u001b[0mevents\u001b[0m\u001b[0;34m\u001b[0m\u001b[0;34m\u001b[0m\u001b[0m\n\u001b[1;32m     91\u001b[0m \u001b[0;34m\u001b[0m\u001b[0m\n",
            "\u001b[0;31mKeyboardInterrupt\u001b[0m: "
          ]
        }
      ],
      "source": [
        "\n",
        "\n",
        "import os\n",
        "import mne\n",
        "\n",
        "# STEP 1: Point to EEG dataset folder\n",
        "data_folder = \"/content/drive/MyDrive/EEG_128channels_ERP_lanzhou_2015\"\n",
        "output_folder = \"/content/drive/MyDrive/Cleaned_EEG_Epochs\"\n",
        "os.makedirs(output_folder, exist_ok=True)\n",
        "\n",
        "# STEP 2: Get all .raw files\n",
        "eeg_files = [os.path.join(data_folder, f) for f in os.listdir(data_folder) if f.endswith('.raw')]\n",
        "print(f\"Total ERP EEG files found: {len(eeg_files)}\")\n",
        "\n",
        "# STEP 3: Define preprocessing function\n",
        "def preprocess_erp_file(file_path, output_path, subject_id):\n",
        "    try:\n",
        "        # Load raw file\n",
        "        raw = mne.io.read_raw_egi(file_path, preload=True)\n",
        "        print(f\"\\n✔ Loaded: {os.path.basename(file_path)}\")\n",
        "\n",
        "        # Set montage\n",
        "        try:\n",
        "            montage = mne.channels.make_standard_montage('GSN-HydroCel-128')\n",
        "            raw.set_montage(montage)\n",
        "        except Exception as e:\n",
        "            print(\"⚠️ Could not set montage:\", e)\n",
        "\n",
        "        # Filter (ERP-friendly)\n",
        "        raw.filter(0.1, 30., fir_design='firwin')\n",
        "\n",
        "        # Find events\n",
        "        try:\n",
        "            events = mne.find_events(raw, stim_channel='STI 014', verbose=False)\n",
        "        except:\n",
        "            print(\"⚠️ Couldn't find 'STI 014'. Trying to infer stim channel...\")\n",
        "            stim_channels = [ch for ch in raw.info['ch_names'] if 'stim' in ch.lower() or 'status' in ch.lower()]\n",
        "            if stim_channels:\n",
        "                events = mne.find_events(raw, stim_channel=stim_channels[0], verbose=False)\n",
        "            else:\n",
        "                print(\"❌ No stim channel found in\", file_path)\n",
        "                return\n",
        "\n",
        "        # Define event_id dictionary — update if you know specific markers\n",
        "        event_id = dict()  # Let MNE auto-detect all present event types\n",
        "        unique_events = set(events[:, 2])\n",
        "        for val in unique_events:\n",
        "            event_id[f\"event_{val}\"] = val\n",
        "\n",
        "        # Epoching\n",
        "        epochs = mne.Epochs(raw, events, event_id=event_id,\n",
        "                            tmin=-0.2, tmax=0.8, baseline=(None, 0),\n",
        "                            preload=True, detrend=1)\n",
        "\n",
        "        # ICA for artifact removal\n",
        "        ica = mne.preprocessing.ICA(n_components=20, random_state=42, max_iter='auto')\n",
        "        ica.fit(epochs)\n",
        "        ica.detect_artifacts(epochs)\n",
        "        epochs_clean = ica.apply(epochs)\n",
        "\n",
        "        # Average reference\n",
        "        epochs_clean.set_eeg_reference('average', projection=True)\n",
        "\n",
        "        # Save cleaned epochs\n",
        "        save_path = os.path.join(output_path, f\"subject_{subject_id:02d}_epo.fif\")\n",
        "        epochs_clean.save(save_path, overwrite=True)\n",
        "        print(f\"✅ Saved cleaned epochs for subject {subject_id} to {save_path}\")\n",
        "\n",
        "    except Exception as e:\n",
        "        print(f\"❌ Error processing {file_path}: {e}\")\n",
        "\n",
        "# STEP 4: Process all files\n",
        "for i, file_path in enumerate(eeg_files, start=1):\n",
        "    preprocess_erp_file(file_path, output_folder, i)\n",
        "\n"
      ]
    },
    {
      "cell_type": "code",
      "execution_count": null,
      "metadata": {
        "colab": {
          "base_uri": "https://localhost:8080/"
        },
        "id": "dWKU2OWgHrsu",
        "outputId": "ea00817b-b3f1-46d0-b4cf-bae32fa1b02b"
      },
      "outputs": [
        {
          "name": "stdout",
          "output_type": "stream",
          "text": [
            "Reading EGI header from /content/drive/MyDrive/EEG_128channels_ERP_lanzhou_2015/02010034erp 20160407 0959.raw...\n",
            "    Reading events ...\n",
            "    Assembling measurement info ...\n",
            "    Excluding events {} ...\n",
            "Reading 0 ... 289466  =      0.000 ...  1157.864 secs...\n",
            "['E1', 'E2', 'E3', 'E4', 'E5', 'E6', 'E7', 'E8', 'E9', 'E10', 'E11', 'E12', 'E13', 'E14', 'E15', 'E16', 'E17', 'E18', 'E19', 'E20', 'E21', 'E22', 'E23', 'E24', 'E25', 'E26', 'E27', 'E28', 'E29', 'E30', 'E31', 'E32', 'E33', 'E34', 'E35', 'E36', 'E37', 'E38', 'E39', 'E40', 'E41', 'E42', 'E43', 'E44', 'E45', 'E46', 'E47', 'E48', 'E49', 'E50', 'E51', 'E52', 'E53', 'E54', 'E55', 'E56', 'E57', 'E58', 'E59', 'E60', 'E61', 'E62', 'E63', 'E64', 'E65', 'E66', 'E67', 'E68', 'E69', 'E70', 'E71', 'E72', 'E73', 'E74', 'E75', 'E76', 'E77', 'E78', 'E79', 'E80', 'E81', 'E82', 'E83', 'E84', 'E85', 'E86', 'E87', 'E88', 'E89', 'E90', 'E91', 'E92', 'E93', 'E94', 'E95', 'E96', 'E97', 'E98', 'E99', 'E100', 'E101', 'E102', 'E103', 'E104', 'E105', 'E106', 'E107', 'E108', 'E109', 'E110', 'E111', 'E112', 'E113', 'E114', 'E115', 'E116', 'E117', 'E118', 'E119', 'E120', 'E121', 'E122', 'E123', 'E124', 'E125', 'E126', 'E127', 'E128', 'E129', 'CELL', 'SESS', 'TRSP', 'bgin', 'epoc', 'fcue', 'fdot', 'ffix', 'fisi', 'fwrp', 'hcue', 'hdot', 'hfix', 'hisi', 'hwrp', 'resp', 'scue', 'sdot', 'sfix', 'sisi', 'swrp']\n"
          ]
        }
      ],
      "source": [
        "raw = mne.io.read_raw_egi(\"/content/drive/MyDrive/EEG_128channels_ERP_lanzhou_2015/02010034erp 20160407 0959.raw\", preload=True)\n",
        "print(raw.info['ch_names'])"
      ]
    },
    {
      "cell_type": "code",
      "execution_count": null,
      "metadata": {
        "colab": {
          "base_uri": "https://localhost:8080/"
        },
        "id": "dgkMD5T9JBc4",
        "outputId": "82f646cd-627b-407c-9576-b99a96cd5dd1"
      },
      "outputs": [
        {
          "name": "stdout",
          "output_type": "stream",
          "text": [
            "Reading EGI header from /content/drive/MyDrive/EEG_128channels_ERP_lanzhou_2015/02030002erp_new 20151022 14.raw...\n",
            "    Reading events ...\n",
            "    Assembling measurement info ...\n",
            "    Excluding events {} ...\n",
            "Reading 0 ... 196128  =      0.000 ...   784.512 secs...\n",
            "Used Annotations descriptions: [np.str_('CELL'), np.str_('SESS'), np.str_('TRSP'), np.str_('bgin'), np.str_('epoc'), np.str_('fcue'), np.str_('fdot'), np.str_('ffix'), np.str_('fisi'), np.str_('fwrp'), np.str_('hcue'), np.str_('hdot'), np.str_('hfix'), np.str_('hisi'), np.str_('hwrp'), np.str_('resp'), np.str_('scue'), np.str_('sdot'), np.str_('sfix'), np.str_('sisi'), np.str_('swrp')]\n",
            "Detected events:\n",
            " {np.str_('CELL'): 1, np.str_('SESS'): 2, np.str_('TRSP'): 3, np.str_('bgin'): 4, np.str_('epoc'): 5, np.str_('fcue'): 6, np.str_('fdot'): 7, np.str_('ffix'): 8, np.str_('fisi'): 9, np.str_('fwrp'): 10, np.str_('hcue'): 11, np.str_('hdot'): 12, np.str_('hfix'): 13, np.str_('hisi'): 14, np.str_('hwrp'): 15, np.str_('resp'): 16, np.str_('scue'): 17, np.str_('sdot'): 18, np.str_('sfix'): 19, np.str_('sisi'): 20, np.str_('swrp'): 21}\n",
            "Sample events:\n",
            " [[  0   0   5]\n",
            " [  6   0   2]\n",
            " [  8   0   1]\n",
            " [  9   0   1]\n",
            " [ 10   0   1]\n",
            " [ 11   0   1]\n",
            " [ 12   0   1]\n",
            " [ 13   0   1]\n",
            " [288   0   5]\n",
            " [298   0   4]]\n"
          ]
        }
      ],
      "source": [
        "raw = mne.io.read_raw_egi(file_path, preload=True)\n",
        "\n",
        "# Try to extract events from EGI annotations\n",
        "events, event_id = mne.events_from_annotations(raw)\n",
        "\n",
        "print(\"Detected events:\\n\", event_id)\n",
        "print(\"Sample events:\\n\", events[:10])\n"
      ]
    },
    {
      "cell_type": "code",
      "execution_count": null,
      "metadata": {
        "colab": {
          "background_save": true,
          "base_uri": "https://localhost:8080/"
        },
        "id": "noWb-aPQJWxY",
        "outputId": "a5654174-18bd-4ba1-f53d-3963a778f74c"
      },
      "outputs": [
        {
          "name": "stdout",
          "output_type": "stream",
          "text": [
            "Total ERP EEG files found: 53\n",
            "Reading EGI header from /content/drive/MyDrive/EEG_128channels_ERP_lanzhou_2015/02010002erp 20150416 1131.raw...\n",
            "    Reading events ...\n",
            "    Assembling measurement info ...\n",
            "    Excluding events {} ...\n",
            "Reading 0 ... 197401  =      0.000 ...   789.604 secs...\n",
            "\n",
            "✔ Loaded: 02010002erp 20150416 1131.raw\n",
            "Filtering raw data in 1 contiguous segment\n",
            "Setting up band-pass filter from 0.1 - 30 Hz\n",
            "\n",
            "FIR filter parameters\n",
            "---------------------\n",
            "Designing a one-pass, zero-phase, non-causal bandpass filter:\n",
            "- Windowed time-domain design (firwin) method\n",
            "- Hamming window with 0.0194 passband ripple and 53 dB stopband attenuation\n",
            "- Lower passband edge: 0.10\n",
            "- Lower transition bandwidth: 0.10 Hz (-6 dB cutoff frequency: 0.05 Hz)\n",
            "- Upper passband edge: 30.00 Hz\n",
            "- Upper transition bandwidth: 7.50 Hz (-6 dB cutoff frequency: 33.75 Hz)\n",
            "- Filter length: 8251 samples (33.004 s)\n",
            "\n"
          ]
        },
        {
          "name": "stderr",
          "output_type": "stream",
          "text": [
            "[Parallel(n_jobs=1)]: Done  17 tasks      | elapsed:    0.3s\n",
            "[Parallel(n_jobs=1)]: Done  71 tasks      | elapsed:    1.1s\n"
          ]
        },
        {
          "name": "stdout",
          "output_type": "stream",
          "text": [
            "Used Annotations descriptions: [np.str_('CELL'), np.str_('SESS'), np.str_('TRSP'), np.str_('bgin'), np.str_('epoc'), np.str_('fcue'), np.str_('fdot'), np.str_('ffix'), np.str_('fisi'), np.str_('fwrp'), np.str_('hcue'), np.str_('hdot'), np.str_('hfix'), np.str_('hisi'), np.str_('hwrp'), np.str_('resp'), np.str_('scue'), np.str_('sdot'), np.str_('sfix'), np.str_('sisi'), np.str_('swrp')]\n",
            "✅ Events extracted from annotations: {np.str_('CELL'): 1, np.str_('SESS'): 2, np.str_('TRSP'): 3, np.str_('bgin'): 4, np.str_('epoc'): 5, np.str_('fcue'): 6, np.str_('fdot'): 7, np.str_('ffix'): 8, np.str_('fisi'): 9, np.str_('fwrp'): 10, np.str_('hcue'): 11, np.str_('hdot'): 12, np.str_('hfix'): 13, np.str_('hisi'): 14, np.str_('hwrp'): 15, np.str_('resp'): 16, np.str_('scue'): 17, np.str_('sdot'): 18, np.str_('sfix'): 19, np.str_('sisi'): 20, np.str_('swrp'): 21}\n",
            "Not setting metadata\n",
            "480 matching events found\n",
            "Setting baseline interval to [-0.2, 0.0] s\n",
            "Applying baseline correction (mode: mean)\n",
            "0 projection items activated\n",
            "Using data from preloaded Raw for 480 events and 251 original time points ...\n"
          ]
        },
        {
          "name": "stderr",
          "output_type": "stream",
          "text": [
            "[Parallel(n_jobs=1)]: Done 128 out of 128 | elapsed:    2.1s finished\n"
          ]
        },
        {
          "name": "stdout",
          "output_type": "stream",
          "text": [
            "1 bad epochs dropped\n",
            "Fitting ICA to data using 128 channels (please be patient, this may take a while)\n"
          ]
        },
        {
          "name": "stderr",
          "output_type": "stream",
          "text": [
            "/tmp/ipython-input-16-3467012358.py:59: RuntimeWarning: The epochs you passed to ICA.fit() were baseline-corrected. However, we suggest to fit ICA only on data that has been high-pass filtered, but NOT baseline-corrected.\n",
            "  ica.fit(epochs)\n"
          ]
        },
        {
          "name": "stdout",
          "output_type": "stream",
          "text": [
            "Selecting by number: 20 components\n",
            "Fitting ICA took 14.0s.\n",
            "⚠️ EOG not found, skipping EOG detection\n",
            "⚠️ ECG not found, skipping ECG detection\n",
            "Applying ICA to Epochs instance\n",
            "    Transforming to ICA space (20 components)\n",
            "    Zeroing out 0 ICA components\n",
            "    Projecting back using 128 PCA components\n"
          ]
        },
        {
          "name": "stderr",
          "output_type": "stream",
          "text": [
            "/tmp/ipython-input-16-3467012358.py:77: RuntimeWarning: The data you passed to ICA.apply() was baseline-corrected. Please note that ICA can introduce DC shifts, therefore you may wish to consider baseline-correcting the cleaned data again.\n",
            "  epochs_clean = ica.apply(epochs.copy())\n"
          ]
        },
        {
          "name": "stdout",
          "output_type": "stream",
          "text": [
            "EEG channel type selected for re-referencing\n",
            "Adding average EEG reference projection.\n",
            "1 projection items deactivated\n",
            "Average reference projection was added, but has not been applied yet. Use the apply_proj method to apply it.\n",
            "✅ Saved cleaned epochs: /content/drive/MyDrive/Cleaned_EEG_Epochs/subject_01_epo.fif\n",
            "Reading EGI header from /content/drive/MyDrive/EEG_128channels_ERP_lanzhou_2015/02010004erp 20141219 1602.raw...\n",
            "    Reading events ...\n",
            "    Assembling measurement info ...\n",
            "    Excluding events {} ...\n",
            "Reading 0 ... 195027  =      0.000 ...   780.108 secs...\n",
            "\n",
            "✔ Loaded: 02010004erp 20141219 1602.raw\n",
            "Filtering raw data in 1 contiguous segment\n",
            "Setting up band-pass filter from 0.1 - 30 Hz\n",
            "\n",
            "FIR filter parameters\n",
            "---------------------\n",
            "Designing a one-pass, zero-phase, non-causal bandpass filter:\n",
            "- Windowed time-domain design (firwin) method\n",
            "- Hamming window with 0.0194 passband ripple and 53 dB stopband attenuation\n",
            "- Lower passband edge: 0.10\n",
            "- Lower transition bandwidth: 0.10 Hz (-6 dB cutoff frequency: 0.05 Hz)\n",
            "- Upper passband edge: 30.00 Hz\n",
            "- Upper transition bandwidth: 7.50 Hz (-6 dB cutoff frequency: 33.75 Hz)\n",
            "- Filter length: 8251 samples (33.004 s)\n",
            "\n"
          ]
        },
        {
          "name": "stderr",
          "output_type": "stream",
          "text": [
            "[Parallel(n_jobs=1)]: Done  17 tasks      | elapsed:    0.2s\n",
            "[Parallel(n_jobs=1)]: Done  71 tasks      | elapsed:    0.8s\n"
          ]
        },
        {
          "name": "stdout",
          "output_type": "stream",
          "text": [
            "Used Annotations descriptions: [np.str_('CELL'), np.str_('Cat1'), np.str_('SESS'), np.str_('TRSP'), np.str_('bgin'), np.str_('epoc'), np.str_('fcue'), np.str_('fdot'), np.str_('ffix'), np.str_('fisi'), np.str_('fwrp'), np.str_('hcue'), np.str_('hdot'), np.str_('hfix'), np.str_('hisi'), np.str_('hwrp'), np.str_('resp'), np.str_('scue'), np.str_('sdot'), np.str_('sfix'), np.str_('sisi'), np.str_('swrp')]\n",
            "✅ Events extracted from annotations: {np.str_('CELL'): 1, np.str_('Cat1'): 2, np.str_('SESS'): 3, np.str_('TRSP'): 4, np.str_('bgin'): 5, np.str_('epoc'): 6, np.str_('fcue'): 7, np.str_('fdot'): 8, np.str_('ffix'): 9, np.str_('fisi'): 10, np.str_('fwrp'): 11, np.str_('hcue'): 12, np.str_('hdot'): 13, np.str_('hfix'): 14, np.str_('hisi'): 15, np.str_('hwrp'): 16, np.str_('resp'): 17, np.str_('scue'): 18, np.str_('sdot'): 19, np.str_('sfix'): 20, np.str_('sisi'): 21, np.str_('swrp'): 22}\n",
            "Not setting metadata\n",
            "480 matching events found\n",
            "Setting baseline interval to [-0.2, 0.0] s\n",
            "Applying baseline correction (mode: mean)\n",
            "0 projection items activated\n",
            "Using data from preloaded Raw for 480 events and 251 original time points ...\n"
          ]
        },
        {
          "name": "stderr",
          "output_type": "stream",
          "text": [
            "[Parallel(n_jobs=1)]: Done 128 out of 128 | elapsed:    1.4s finished\n"
          ]
        },
        {
          "name": "stdout",
          "output_type": "stream",
          "text": [
            "1 bad epochs dropped\n",
            "Fitting ICA to data using 128 channels (please be patient, this may take a while)\n"
          ]
        },
        {
          "name": "stderr",
          "output_type": "stream",
          "text": [
            "/tmp/ipython-input-16-3467012358.py:59: RuntimeWarning: The epochs you passed to ICA.fit() were baseline-corrected. However, we suggest to fit ICA only on data that has been high-pass filtered, but NOT baseline-corrected.\n",
            "  ica.fit(epochs)\n"
          ]
        },
        {
          "name": "stdout",
          "output_type": "stream",
          "text": [
            "Selecting by number: 20 components\n",
            "Fitting ICA took 13.6s.\n",
            "⚠️ EOG not found, skipping EOG detection\n",
            "⚠️ ECG not found, skipping ECG detection\n",
            "Applying ICA to Epochs instance\n",
            "    Transforming to ICA space (20 components)\n",
            "    Zeroing out 0 ICA components\n",
            "    Projecting back using 128 PCA components\n"
          ]
        },
        {
          "name": "stderr",
          "output_type": "stream",
          "text": [
            "/tmp/ipython-input-16-3467012358.py:77: RuntimeWarning: The data you passed to ICA.apply() was baseline-corrected. Please note that ICA can introduce DC shifts, therefore you may wish to consider baseline-correcting the cleaned data again.\n",
            "  epochs_clean = ica.apply(epochs.copy())\n"
          ]
        },
        {
          "name": "stdout",
          "output_type": "stream",
          "text": [
            "EEG channel type selected for re-referencing\n",
            "Adding average EEG reference projection.\n",
            "1 projection items deactivated\n",
            "Average reference projection was added, but has not been applied yet. Use the apply_proj method to apply it.\n",
            "✅ Saved cleaned epochs: /content/drive/MyDrive/Cleaned_EEG_Epochs/subject_02_epo.fif\n",
            "Reading EGI header from /content/drive/MyDrive/EEG_128channels_ERP_lanzhou_2015/02010005erp 20150507 0938.raw...\n",
            "    Reading events ...\n",
            "    Assembling measurement info ...\n",
            "    Excluding events {} ...\n",
            "Reading 0 ... 232938  =      0.000 ...   931.752 secs...\n",
            "\n",
            "✔ Loaded: 02010005erp 20150507 0938.raw\n",
            "Filtering raw data in 1 contiguous segment\n",
            "Setting up band-pass filter from 0.1 - 30 Hz\n",
            "\n",
            "FIR filter parameters\n",
            "---------------------\n",
            "Designing a one-pass, zero-phase, non-causal bandpass filter:\n",
            "- Windowed time-domain design (firwin) method\n",
            "- Hamming window with 0.0194 passband ripple and 53 dB stopband attenuation\n",
            "- Lower passband edge: 0.10\n",
            "- Lower transition bandwidth: 0.10 Hz (-6 dB cutoff frequency: 0.05 Hz)\n",
            "- Upper passband edge: 30.00 Hz\n",
            "- Upper transition bandwidth: 7.50 Hz (-6 dB cutoff frequency: 33.75 Hz)\n",
            "- Filter length: 8251 samples (33.004 s)\n",
            "\n"
          ]
        },
        {
          "name": "stderr",
          "output_type": "stream",
          "text": [
            "[Parallel(n_jobs=1)]: Done  17 tasks      | elapsed:    0.4s\n",
            "[Parallel(n_jobs=1)]: Done  71 tasks      | elapsed:    1.3s\n"
          ]
        },
        {
          "name": "stdout",
          "output_type": "stream",
          "text": [
            "Used Annotations descriptions: [np.str_('CELL'), np.str_('SESS'), np.str_('TRSP'), np.str_('bgin'), np.str_('epoc'), np.str_('fcue'), np.str_('fdot'), np.str_('ffix'), np.str_('fisi'), np.str_('fwrp'), np.str_('hcue'), np.str_('hdot'), np.str_('hfix'), np.str_('hisi'), np.str_('hwrp'), np.str_('resp'), np.str_('scue'), np.str_('sdot'), np.str_('sfix'), np.str_('sisi'), np.str_('swrp')]\n",
            "✅ Events extracted from annotations: {np.str_('CELL'): 1, np.str_('SESS'): 2, np.str_('TRSP'): 3, np.str_('bgin'): 4, np.str_('epoc'): 5, np.str_('fcue'): 6, np.str_('fdot'): 7, np.str_('ffix'): 8, np.str_('fisi'): 9, np.str_('fwrp'): 10, np.str_('hcue'): 11, np.str_('hdot'): 12, np.str_('hfix'): 13, np.str_('hisi'): 14, np.str_('hwrp'): 15, np.str_('resp'): 16, np.str_('scue'): 17, np.str_('sdot'): 18, np.str_('sfix'): 19, np.str_('sisi'): 20, np.str_('swrp'): 21}\n",
            "Not setting metadata\n",
            "480 matching events found\n",
            "Setting baseline interval to [-0.2, 0.0] s\n",
            "Applying baseline correction (mode: mean)\n",
            "0 projection items activated\n",
            "Using data from preloaded Raw for 480 events and 251 original time points ...\n"
          ]
        },
        {
          "name": "stderr",
          "output_type": "stream",
          "text": [
            "[Parallel(n_jobs=1)]: Done 128 out of 128 | elapsed:    2.1s finished\n"
          ]
        },
        {
          "name": "stdout",
          "output_type": "stream",
          "text": [
            "0 bad epochs dropped\n",
            "Fitting ICA to data using 128 channels (please be patient, this may take a while)\n"
          ]
        },
        {
          "name": "stderr",
          "output_type": "stream",
          "text": [
            "/tmp/ipython-input-16-3467012358.py:59: RuntimeWarning: The epochs you passed to ICA.fit() were baseline-corrected. However, we suggest to fit ICA only on data that has been high-pass filtered, but NOT baseline-corrected.\n",
            "  ica.fit(epochs)\n"
          ]
        },
        {
          "name": "stdout",
          "output_type": "stream",
          "text": [
            "Selecting by number: 20 components\n",
            "Fitting ICA took 12.6s.\n",
            "⚠️ EOG not found, skipping EOG detection\n",
            "⚠️ ECG not found, skipping ECG detection\n",
            "Applying ICA to Epochs instance\n",
            "    Transforming to ICA space (20 components)\n",
            "    Zeroing out 0 ICA components\n",
            "    Projecting back using 128 PCA components\n"
          ]
        },
        {
          "name": "stderr",
          "output_type": "stream",
          "text": [
            "/tmp/ipython-input-16-3467012358.py:77: RuntimeWarning: The data you passed to ICA.apply() was baseline-corrected. Please note that ICA can introduce DC shifts, therefore you may wish to consider baseline-correcting the cleaned data again.\n",
            "  epochs_clean = ica.apply(epochs.copy())\n"
          ]
        },
        {
          "name": "stdout",
          "output_type": "stream",
          "text": [
            "EEG channel type selected for re-referencing\n",
            "Adding average EEG reference projection.\n",
            "1 projection items deactivated\n",
            "Average reference projection was added, but has not been applied yet. Use the apply_proj method to apply it.\n",
            "✅ Saved cleaned epochs: /content/drive/MyDrive/Cleaned_EEG_Epochs/subject_03_epo.fif\n",
            "Reading EGI header from /content/drive/MyDrive/EEG_128channels_ERP_lanzhou_2015/02010006erp 20150528 1007.raw...\n",
            "    Reading events ...\n",
            "    Assembling measurement info ...\n",
            "    Excluding events {} ...\n",
            "Reading 0 ... 195040  =      0.000 ...   780.160 secs...\n",
            "\n",
            "✔ Loaded: 02010006erp 20150528 1007.raw\n",
            "Filtering raw data in 1 contiguous segment\n",
            "Setting up band-pass filter from 0.1 - 30 Hz\n",
            "\n",
            "FIR filter parameters\n",
            "---------------------\n",
            "Designing a one-pass, zero-phase, non-causal bandpass filter:\n",
            "- Windowed time-domain design (firwin) method\n",
            "- Hamming window with 0.0194 passband ripple and 53 dB stopband attenuation\n",
            "- Lower passband edge: 0.10\n",
            "- Lower transition bandwidth: 0.10 Hz (-6 dB cutoff frequency: 0.05 Hz)\n",
            "- Upper passband edge: 30.00 Hz\n",
            "- Upper transition bandwidth: 7.50 Hz (-6 dB cutoff frequency: 33.75 Hz)\n",
            "- Filter length: 8251 samples (33.004 s)\n",
            "\n"
          ]
        },
        {
          "name": "stderr",
          "output_type": "stream",
          "text": [
            "[Parallel(n_jobs=1)]: Done  17 tasks      | elapsed:    0.2s\n",
            "[Parallel(n_jobs=1)]: Done  71 tasks      | elapsed:    0.7s\n"
          ]
        },
        {
          "name": "stdout",
          "output_type": "stream",
          "text": [
            "Used Annotations descriptions: [np.str_('CELL'), np.str_('D127'), np.str_('D255'), np.str_('DI18'), np.str_('DI26'), np.str_('DI95'), np.str_('SESS'), np.str_('TRSP'), np.str_('bgin'), np.str_('epoc'), np.str_('fcue'), np.str_('fdot'), np.str_('ffix'), np.str_('fisi'), np.str_('fwrp'), np.str_('hcue'), np.str_('hdot'), np.str_('hfix'), np.str_('hisi'), np.str_('hwrp'), np.str_('resp'), np.str_('scue'), np.str_('sdot'), np.str_('sfix'), np.str_('sisi'), np.str_('swrp')]\n",
            "✅ Events extracted from annotations: {np.str_('CELL'): 1, np.str_('D127'): 2, np.str_('D255'): 3, np.str_('DI18'): 4, np.str_('DI26'): 5, np.str_('DI95'): 6, np.str_('SESS'): 7, np.str_('TRSP'): 8, np.str_('bgin'): 9, np.str_('epoc'): 10, np.str_('fcue'): 11, np.str_('fdot'): 12, np.str_('ffix'): 13, np.str_('fisi'): 14, np.str_('fwrp'): 15, np.str_('hcue'): 16, np.str_('hdot'): 17, np.str_('hfix'): 18, np.str_('hisi'): 19, np.str_('hwrp'): 20, np.str_('resp'): 21, np.str_('scue'): 22, np.str_('sdot'): 23, np.str_('sfix'): 24, np.str_('sisi'): 25, np.str_('swrp'): 26}\n",
            "Not setting metadata\n",
            "480 matching events found\n",
            "Setting baseline interval to [-0.2, 0.0] s\n",
            "Applying baseline correction (mode: mean)\n",
            "0 projection items activated\n",
            "Using data from preloaded Raw for 480 events and 251 original time points ...\n"
          ]
        },
        {
          "name": "stderr",
          "output_type": "stream",
          "text": [
            "[Parallel(n_jobs=1)]: Done 128 out of 128 | elapsed:    1.4s finished\n"
          ]
        },
        {
          "name": "stdout",
          "output_type": "stream",
          "text": [
            "0 bad epochs dropped\n",
            "Fitting ICA to data using 128 channels (please be patient, this may take a while)\n"
          ]
        },
        {
          "name": "stderr",
          "output_type": "stream",
          "text": [
            "/tmp/ipython-input-16-3467012358.py:59: RuntimeWarning: The epochs you passed to ICA.fit() were baseline-corrected. However, we suggest to fit ICA only on data that has been high-pass filtered, but NOT baseline-corrected.\n",
            "  ica.fit(epochs)\n"
          ]
        },
        {
          "name": "stdout",
          "output_type": "stream",
          "text": [
            "Selecting by number: 20 components\n",
            "Fitting ICA took 18.3s.\n",
            "⚠️ EOG not found, skipping EOG detection\n",
            "⚠️ ECG not found, skipping ECG detection\n",
            "Applying ICA to Epochs instance\n",
            "    Transforming to ICA space (20 components)\n",
            "    Zeroing out 0 ICA components\n",
            "    Projecting back using 128 PCA components\n"
          ]
        },
        {
          "name": "stderr",
          "output_type": "stream",
          "text": [
            "/tmp/ipython-input-16-3467012358.py:77: RuntimeWarning: The data you passed to ICA.apply() was baseline-corrected. Please note that ICA can introduce DC shifts, therefore you may wish to consider baseline-correcting the cleaned data again.\n",
            "  epochs_clean = ica.apply(epochs.copy())\n"
          ]
        },
        {
          "name": "stdout",
          "output_type": "stream",
          "text": [
            "EEG channel type selected for re-referencing\n",
            "Adding average EEG reference projection.\n",
            "1 projection items deactivated\n",
            "Average reference projection was added, but has not been applied yet. Use the apply_proj method to apply it.\n",
            "✅ Saved cleaned epochs: /content/drive/MyDrive/Cleaned_EEG_Epochs/subject_04_epo.fif\n",
            "Reading EGI header from /content/drive/MyDrive/EEG_128channels_ERP_lanzhou_2015/02010008_erp(n) 20150619 1709.raw...\n",
            "    Reading events ...\n",
            "    Assembling measurement info ...\n",
            "    Excluding events {} ...\n",
            "Reading 0 ... 201090  =      0.000 ...   804.360 secs...\n",
            "\n",
            "✔ Loaded: 02010008_erp(n) 20150619 1709.raw\n",
            "Filtering raw data in 1 contiguous segment\n",
            "Setting up band-pass filter from 0.1 - 30 Hz\n",
            "\n",
            "FIR filter parameters\n",
            "---------------------\n",
            "Designing a one-pass, zero-phase, non-causal bandpass filter:\n",
            "- Windowed time-domain design (firwin) method\n",
            "- Hamming window with 0.0194 passband ripple and 53 dB stopband attenuation\n",
            "- Lower passband edge: 0.10\n",
            "- Lower transition bandwidth: 0.10 Hz (-6 dB cutoff frequency: 0.05 Hz)\n",
            "- Upper passband edge: 30.00 Hz\n",
            "- Upper transition bandwidth: 7.50 Hz (-6 dB cutoff frequency: 33.75 Hz)\n",
            "- Filter length: 8251 samples (33.004 s)\n",
            "\n"
          ]
        },
        {
          "name": "stderr",
          "output_type": "stream",
          "text": [
            "[Parallel(n_jobs=1)]: Done  17 tasks      | elapsed:    0.3s\n",
            "[Parallel(n_jobs=1)]: Done  71 tasks      | elapsed:    1.1s\n"
          ]
        },
        {
          "name": "stdout",
          "output_type": "stream",
          "text": [
            "Used Annotations descriptions: [np.str_('CELL'), np.str_('SESS'), np.str_('TRSP'), np.str_('bgin'), np.str_('epoc'), np.str_('fcue'), np.str_('fdot'), np.str_('ffix'), np.str_('fisi'), np.str_('fwrp'), np.str_('hcue'), np.str_('hdot'), np.str_('hfix'), np.str_('hisi'), np.str_('hwrp'), np.str_('resp'), np.str_('scue'), np.str_('sdot'), np.str_('sfix'), np.str_('sisi'), np.str_('swrp')]\n",
            "✅ Events extracted from annotations: {np.str_('CELL'): 1, np.str_('SESS'): 2, np.str_('TRSP'): 3, np.str_('bgin'): 4, np.str_('epoc'): 5, np.str_('fcue'): 6, np.str_('fdot'): 7, np.str_('ffix'): 8, np.str_('fisi'): 9, np.str_('fwrp'): 10, np.str_('hcue'): 11, np.str_('hdot'): 12, np.str_('hfix'): 13, np.str_('hisi'): 14, np.str_('hwrp'): 15, np.str_('resp'): 16, np.str_('scue'): 17, np.str_('sdot'): 18, np.str_('sfix'): 19, np.str_('sisi'): 20, np.str_('swrp'): 21}\n",
            "Not setting metadata\n",
            "480 matching events found\n",
            "Setting baseline interval to [-0.2, 0.0] s\n",
            "Applying baseline correction (mode: mean)\n",
            "0 projection items activated\n",
            "Using data from preloaded Raw for 480 events and 251 original time points ...\n"
          ]
        },
        {
          "name": "stderr",
          "output_type": "stream",
          "text": [
            "[Parallel(n_jobs=1)]: Done 128 out of 128 | elapsed:    2.1s finished\n"
          ]
        },
        {
          "name": "stdout",
          "output_type": "stream",
          "text": [
            "0 bad epochs dropped\n",
            "Fitting ICA to data using 128 channels (please be patient, this may take a while)\n"
          ]
        },
        {
          "name": "stderr",
          "output_type": "stream",
          "text": [
            "/tmp/ipython-input-16-3467012358.py:59: RuntimeWarning: The epochs you passed to ICA.fit() were baseline-corrected. However, we suggest to fit ICA only on data that has been high-pass filtered, but NOT baseline-corrected.\n",
            "  ica.fit(epochs)\n"
          ]
        },
        {
          "name": "stdout",
          "output_type": "stream",
          "text": [
            "Selecting by number: 20 components\n",
            "Fitting ICA took 13.3s.\n",
            "⚠️ EOG not found, skipping EOG detection\n",
            "⚠️ ECG not found, skipping ECG detection\n",
            "Applying ICA to Epochs instance\n",
            "    Transforming to ICA space (20 components)\n",
            "    Zeroing out 0 ICA components\n",
            "    Projecting back using 128 PCA components\n"
          ]
        },
        {
          "name": "stderr",
          "output_type": "stream",
          "text": [
            "/tmp/ipython-input-16-3467012358.py:77: RuntimeWarning: The data you passed to ICA.apply() was baseline-corrected. Please note that ICA can introduce DC shifts, therefore you may wish to consider baseline-correcting the cleaned data again.\n",
            "  epochs_clean = ica.apply(epochs.copy())\n"
          ]
        },
        {
          "name": "stdout",
          "output_type": "stream",
          "text": [
            "EEG channel type selected for re-referencing\n",
            "Adding average EEG reference projection.\n",
            "1 projection items deactivated\n",
            "Average reference projection was added, but has not been applied yet. Use the apply_proj method to apply it.\n",
            "✅ Saved cleaned epochs: /content/drive/MyDrive/Cleaned_EEG_Epochs/subject_05_epo.fif\n",
            "Reading EGI header from /content/drive/MyDrive/EEG_128channels_ERP_lanzhou_2015/02010010erp 20150624 1508.raw...\n",
            "    Reading events ...\n",
            "    Assembling measurement info ...\n",
            "    Excluding events {} ...\n",
            "Reading 0 ... 216089  =      0.000 ...   864.356 secs...\n",
            "\n",
            "✔ Loaded: 02010010erp 20150624 1508.raw\n",
            "Filtering raw data in 1 contiguous segment\n",
            "Setting up band-pass filter from 0.1 - 30 Hz\n",
            "\n",
            "FIR filter parameters\n",
            "---------------------\n",
            "Designing a one-pass, zero-phase, non-causal bandpass filter:\n",
            "- Windowed time-domain design (firwin) method\n",
            "- Hamming window with 0.0194 passband ripple and 53 dB stopband attenuation\n",
            "- Lower passband edge: 0.10\n",
            "- Lower transition bandwidth: 0.10 Hz (-6 dB cutoff frequency: 0.05 Hz)\n",
            "- Upper passband edge: 30.00 Hz\n",
            "- Upper transition bandwidth: 7.50 Hz (-6 dB cutoff frequency: 33.75 Hz)\n",
            "- Filter length: 8251 samples (33.004 s)\n",
            "\n"
          ]
        },
        {
          "name": "stderr",
          "output_type": "stream",
          "text": [
            "[Parallel(n_jobs=1)]: Done  17 tasks      | elapsed:    0.2s\n",
            "[Parallel(n_jobs=1)]: Done  71 tasks      | elapsed:    0.8s\n"
          ]
        },
        {
          "name": "stdout",
          "output_type": "stream",
          "text": [
            "Used Annotations descriptions: [np.str_('CELL'), np.str_('D127'), np.str_('DI18'), np.str_('DI26'), np.str_('DI95'), np.str_('SESS'), np.str_('TRSP'), np.str_('bgin'), np.str_('epoc'), np.str_('fcue'), np.str_('fdot'), np.str_('ffix'), np.str_('fisi'), np.str_('fwrp'), np.str_('hcue'), np.str_('hdot'), np.str_('hfix'), np.str_('hisi'), np.str_('hwrp'), np.str_('resp'), np.str_('scue'), np.str_('sdot'), np.str_('sfix'), np.str_('sisi'), np.str_('swrp')]\n",
            "✅ Events extracted from annotations: {np.str_('CELL'): 1, np.str_('D127'): 2, np.str_('DI18'): 3, np.str_('DI26'): 4, np.str_('DI95'): 5, np.str_('SESS'): 6, np.str_('TRSP'): 7, np.str_('bgin'): 8, np.str_('epoc'): 9, np.str_('fcue'): 10, np.str_('fdot'): 11, np.str_('ffix'): 12, np.str_('fisi'): 13, np.str_('fwrp'): 14, np.str_('hcue'): 15, np.str_('hdot'): 16, np.str_('hfix'): 17, np.str_('hisi'): 18, np.str_('hwrp'): 19, np.str_('resp'): 20, np.str_('scue'): 21, np.str_('sdot'): 22, np.str_('sfix'): 23, np.str_('sisi'): 24, np.str_('swrp'): 25}\n",
            "Not setting metadata\n",
            "480 matching events found\n",
            "Setting baseline interval to [-0.2, 0.0] s\n",
            "Applying baseline correction (mode: mean)\n",
            "0 projection items activated\n",
            "Using data from preloaded Raw for 480 events and 251 original time points ...\n"
          ]
        },
        {
          "name": "stderr",
          "output_type": "stream",
          "text": [
            "[Parallel(n_jobs=1)]: Done 128 out of 128 | elapsed:    1.5s finished\n"
          ]
        },
        {
          "name": "stdout",
          "output_type": "stream",
          "text": [
            "0 bad epochs dropped\n",
            "Fitting ICA to data using 128 channels (please be patient, this may take a while)\n"
          ]
        },
        {
          "name": "stderr",
          "output_type": "stream",
          "text": [
            "/tmp/ipython-input-16-3467012358.py:59: RuntimeWarning: The epochs you passed to ICA.fit() were baseline-corrected. However, we suggest to fit ICA only on data that has been high-pass filtered, but NOT baseline-corrected.\n",
            "  ica.fit(epochs)\n"
          ]
        },
        {
          "name": "stdout",
          "output_type": "stream",
          "text": [
            "Selecting by number: 20 components\n",
            "Fitting ICA took 14.1s.\n",
            "⚠️ EOG not found, skipping EOG detection\n",
            "⚠️ ECG not found, skipping ECG detection\n",
            "Applying ICA to Epochs instance\n",
            "    Transforming to ICA space (20 components)\n",
            "    Zeroing out 0 ICA components\n",
            "    Projecting back using 128 PCA components\n"
          ]
        },
        {
          "name": "stderr",
          "output_type": "stream",
          "text": [
            "/tmp/ipython-input-16-3467012358.py:77: RuntimeWarning: The data you passed to ICA.apply() was baseline-corrected. Please note that ICA can introduce DC shifts, therefore you may wish to consider baseline-correcting the cleaned data again.\n",
            "  epochs_clean = ica.apply(epochs.copy())\n"
          ]
        },
        {
          "name": "stdout",
          "output_type": "stream",
          "text": [
            "EEG channel type selected for re-referencing\n",
            "Adding average EEG reference projection.\n",
            "1 projection items deactivated\n",
            "Average reference projection was added, but has not been applied yet. Use the apply_proj method to apply it.\n",
            "✅ Saved cleaned epochs: /content/drive/MyDrive/Cleaned_EEG_Epochs/subject_06_epo.fif\n",
            "Reading EGI header from /content/drive/MyDrive/EEG_128channels_ERP_lanzhou_2015/02010011erp 20150625 1545.raw...\n",
            "    Reading events ...\n",
            "    Assembling measurement info ...\n",
            "    Excluding events {} ...\n",
            "Reading 0 ... 214203  =      0.000 ...   856.812 secs...\n",
            "\n",
            "✔ Loaded: 02010011erp 20150625 1545.raw\n",
            "Filtering raw data in 1 contiguous segment\n",
            "Setting up band-pass filter from 0.1 - 30 Hz\n",
            "\n",
            "FIR filter parameters\n",
            "---------------------\n",
            "Designing a one-pass, zero-phase, non-causal bandpass filter:\n",
            "- Windowed time-domain design (firwin) method\n",
            "- Hamming window with 0.0194 passband ripple and 53 dB stopband attenuation\n",
            "- Lower passband edge: 0.10\n",
            "- Lower transition bandwidth: 0.10 Hz (-6 dB cutoff frequency: 0.05 Hz)\n",
            "- Upper passband edge: 30.00 Hz\n",
            "- Upper transition bandwidth: 7.50 Hz (-6 dB cutoff frequency: 33.75 Hz)\n",
            "- Filter length: 8251 samples (33.004 s)\n",
            "\n"
          ]
        },
        {
          "name": "stderr",
          "output_type": "stream",
          "text": [
            "[Parallel(n_jobs=1)]: Done  17 tasks      | elapsed:    0.2s\n",
            "[Parallel(n_jobs=1)]: Done  71 tasks      | elapsed:    0.8s\n"
          ]
        },
        {
          "name": "stdout",
          "output_type": "stream",
          "text": [
            "Used Annotations descriptions: [np.str_('CELL'), np.str_('SESS'), np.str_('TRSP'), np.str_('bgin'), np.str_('epoc'), np.str_('fcue'), np.str_('fdot'), np.str_('ffix'), np.str_('fisi'), np.str_('fwrp'), np.str_('hcue'), np.str_('hdot'), np.str_('hfix'), np.str_('hisi'), np.str_('hwrp'), np.str_('resp'), np.str_('scue'), np.str_('sdot'), np.str_('sfix'), np.str_('sisi'), np.str_('swrp')]\n",
            "✅ Events extracted from annotations: {np.str_('CELL'): 1, np.str_('SESS'): 2, np.str_('TRSP'): 3, np.str_('bgin'): 4, np.str_('epoc'): 5, np.str_('fcue'): 6, np.str_('fdot'): 7, np.str_('ffix'): 8, np.str_('fisi'): 9, np.str_('fwrp'): 10, np.str_('hcue'): 11, np.str_('hdot'): 12, np.str_('hfix'): 13, np.str_('hisi'): 14, np.str_('hwrp'): 15, np.str_('resp'): 16, np.str_('scue'): 17, np.str_('sdot'): 18, np.str_('sfix'): 19, np.str_('sisi'): 20, np.str_('swrp'): 21}\n",
            "Not setting metadata\n",
            "480 matching events found\n",
            "Setting baseline interval to [-0.2, 0.0] s\n",
            "Applying baseline correction (mode: mean)\n",
            "0 projection items activated\n",
            "Using data from preloaded Raw for 480 events and 251 original time points ...\n"
          ]
        },
        {
          "name": "stderr",
          "output_type": "stream",
          "text": [
            "[Parallel(n_jobs=1)]: Done 128 out of 128 | elapsed:    1.5s finished\n"
          ]
        },
        {
          "name": "stdout",
          "output_type": "stream",
          "text": [
            "1 bad epochs dropped\n",
            "Fitting ICA to data using 128 channels (please be patient, this may take a while)\n"
          ]
        },
        {
          "name": "stderr",
          "output_type": "stream",
          "text": [
            "/tmp/ipython-input-16-3467012358.py:59: RuntimeWarning: The epochs you passed to ICA.fit() were baseline-corrected. However, we suggest to fit ICA only on data that has been high-pass filtered, but NOT baseline-corrected.\n",
            "  ica.fit(epochs)\n"
          ]
        },
        {
          "name": "stdout",
          "output_type": "stream",
          "text": [
            "Selecting by number: 20 components\n",
            "Fitting ICA took 15.2s.\n",
            "⚠️ EOG not found, skipping EOG detection\n",
            "⚠️ ECG not found, skipping ECG detection\n",
            "Applying ICA to Epochs instance\n",
            "    Transforming to ICA space (20 components)\n",
            "    Zeroing out 0 ICA components\n",
            "    Projecting back using 128 PCA components\n"
          ]
        },
        {
          "name": "stderr",
          "output_type": "stream",
          "text": [
            "/tmp/ipython-input-16-3467012358.py:77: RuntimeWarning: The data you passed to ICA.apply() was baseline-corrected. Please note that ICA can introduce DC shifts, therefore you may wish to consider baseline-correcting the cleaned data again.\n",
            "  epochs_clean = ica.apply(epochs.copy())\n"
          ]
        },
        {
          "name": "stdout",
          "output_type": "stream",
          "text": [
            "EEG channel type selected for re-referencing\n",
            "Adding average EEG reference projection.\n",
            "1 projection items deactivated\n",
            "Average reference projection was added, but has not been applied yet. Use the apply_proj method to apply it.\n",
            "✅ Saved cleaned epochs: /content/drive/MyDrive/Cleaned_EEG_Epochs/subject_07_epo.fif\n",
            "Reading EGI header from /content/drive/MyDrive/EEG_128channels_ERP_lanzhou_2015/02010012erp 20150626 1059.raw...\n",
            "    Reading events ...\n",
            "    Assembling measurement info ...\n",
            "    Excluding events {} ...\n",
            "Reading 0 ... 203614  =      0.000 ...   814.456 secs...\n",
            "\n",
            "✔ Loaded: 02010012erp 20150626 1059.raw\n",
            "Filtering raw data in 1 contiguous segment\n",
            "Setting up band-pass filter from 0.1 - 30 Hz\n",
            "\n",
            "FIR filter parameters\n",
            "---------------------\n",
            "Designing a one-pass, zero-phase, non-causal bandpass filter:\n",
            "- Windowed time-domain design (firwin) method\n",
            "- Hamming window with 0.0194 passband ripple and 53 dB stopband attenuation\n",
            "- Lower passband edge: 0.10\n",
            "- Lower transition bandwidth: 0.10 Hz (-6 dB cutoff frequency: 0.05 Hz)\n",
            "- Upper passband edge: 30.00 Hz\n",
            "- Upper transition bandwidth: 7.50 Hz (-6 dB cutoff frequency: 33.75 Hz)\n",
            "- Filter length: 8251 samples (33.004 s)\n",
            "\n"
          ]
        },
        {
          "name": "stderr",
          "output_type": "stream",
          "text": [
            "[Parallel(n_jobs=1)]: Done  17 tasks      | elapsed:    0.2s\n",
            "[Parallel(n_jobs=1)]: Done  71 tasks      | elapsed:    0.8s\n"
          ]
        },
        {
          "name": "stdout",
          "output_type": "stream",
          "text": [
            "Used Annotations descriptions: [np.str_('CELL'), np.str_('SESS'), np.str_('TRSP'), np.str_('bgin'), np.str_('epoc'), np.str_('fcue'), np.str_('fdot'), np.str_('ffix'), np.str_('fisi'), np.str_('fwrp'), np.str_('hcue'), np.str_('hdot'), np.str_('hfix'), np.str_('hisi'), np.str_('hwrp'), np.str_('resp'), np.str_('scue'), np.str_('sdot'), np.str_('sfix'), np.str_('sisi'), np.str_('swrp')]\n"
          ]
        },
        {
          "name": "stderr",
          "output_type": "stream",
          "text": [
            "[Parallel(n_jobs=1)]: Done 128 out of 128 | elapsed:    1.4s finished\n"
          ]
        },
        {
          "name": "stdout",
          "output_type": "stream",
          "text": [
            "✅ Events extracted from annotations: {np.str_('CELL'): 1, np.str_('SESS'): 2, np.str_('TRSP'): 3, np.str_('bgin'): 4, np.str_('epoc'): 5, np.str_('fcue'): 6, np.str_('fdot'): 7, np.str_('ffix'): 8, np.str_('fisi'): 9, np.str_('fwrp'): 10, np.str_('hcue'): 11, np.str_('hdot'): 12, np.str_('hfix'): 13, np.str_('hisi'): 14, np.str_('hwrp'): 15, np.str_('resp'): 16, np.str_('scue'): 17, np.str_('sdot'): 18, np.str_('sfix'): 19, np.str_('sisi'): 20, np.str_('swrp'): 21}\n",
            "Not setting metadata\n",
            "480 matching events found\n",
            "Setting baseline interval to [-0.2, 0.0] s\n",
            "Applying baseline correction (mode: mean)\n",
            "0 projection items activated\n",
            "Using data from preloaded Raw for 480 events and 251 original time points ...\n",
            "0 bad epochs dropped\n",
            "Fitting ICA to data using 128 channels (please be patient, this may take a while)\n"
          ]
        },
        {
          "name": "stderr",
          "output_type": "stream",
          "text": [
            "/tmp/ipython-input-16-3467012358.py:59: RuntimeWarning: The epochs you passed to ICA.fit() were baseline-corrected. However, we suggest to fit ICA only on data that has been high-pass filtered, but NOT baseline-corrected.\n",
            "  ica.fit(epochs)\n"
          ]
        },
        {
          "name": "stdout",
          "output_type": "stream",
          "text": [
            "Selecting by number: 20 components\n",
            "Fitting ICA took 14.1s.\n",
            "⚠️ EOG not found, skipping EOG detection\n",
            "⚠️ ECG not found, skipping ECG detection\n",
            "Applying ICA to Epochs instance\n",
            "    Transforming to ICA space (20 components)\n",
            "    Zeroing out 0 ICA components\n",
            "    Projecting back using 128 PCA components\n"
          ]
        },
        {
          "name": "stderr",
          "output_type": "stream",
          "text": [
            "/tmp/ipython-input-16-3467012358.py:77: RuntimeWarning: The data you passed to ICA.apply() was baseline-corrected. Please note that ICA can introduce DC shifts, therefore you may wish to consider baseline-correcting the cleaned data again.\n",
            "  epochs_clean = ica.apply(epochs.copy())\n"
          ]
        },
        {
          "name": "stdout",
          "output_type": "stream",
          "text": [
            "EEG channel type selected for re-referencing\n",
            "Adding average EEG reference projection.\n",
            "1 projection items deactivated\n",
            "Average reference projection was added, but has not been applied yet. Use the apply_proj method to apply it.\n",
            "✅ Saved cleaned epochs: /content/drive/MyDrive/Cleaned_EEG_Epochs/subject_08_epo.fif\n",
            "Reading EGI header from /content/drive/MyDrive/EEG_128channels_ERP_lanzhou_2015/02010013erp 20150703 1353.raw...\n",
            "    Reading events ...\n",
            "    Assembling measurement info ...\n",
            "    Excluding events {} ...\n",
            "Reading 0 ... 210765  =      0.000 ...   843.060 secs...\n",
            "\n",
            "✔ Loaded: 02010013erp 20150703 1353.raw\n",
            "Filtering raw data in 1 contiguous segment\n",
            "Setting up band-pass filter from 0.1 - 30 Hz\n",
            "\n",
            "FIR filter parameters\n",
            "---------------------\n",
            "Designing a one-pass, zero-phase, non-causal bandpass filter:\n",
            "- Windowed time-domain design (firwin) method\n",
            "- Hamming window with 0.0194 passband ripple and 53 dB stopband attenuation\n",
            "- Lower passband edge: 0.10\n",
            "- Lower transition bandwidth: 0.10 Hz (-6 dB cutoff frequency: 0.05 Hz)\n",
            "- Upper passband edge: 30.00 Hz\n",
            "- Upper transition bandwidth: 7.50 Hz (-6 dB cutoff frequency: 33.75 Hz)\n",
            "- Filter length: 8251 samples (33.004 s)\n",
            "\n"
          ]
        },
        {
          "name": "stderr",
          "output_type": "stream",
          "text": [
            "[Parallel(n_jobs=1)]: Done  17 tasks      | elapsed:    0.2s\n",
            "[Parallel(n_jobs=1)]: Done  71 tasks      | elapsed:    0.7s\n"
          ]
        },
        {
          "name": "stdout",
          "output_type": "stream",
          "text": [
            "Used Annotations descriptions: [np.str_('CELL'), np.str_('SESS'), np.str_('TRSP'), np.str_('bgin'), np.str_('epoc'), np.str_('fcue'), np.str_('fdot'), np.str_('ffix'), np.str_('fisi'), np.str_('fwrp'), np.str_('hcue'), np.str_('hdot'), np.str_('hfix'), np.str_('hisi'), np.str_('hwrp'), np.str_('resp'), np.str_('scue'), np.str_('sdot'), np.str_('sfix'), np.str_('sisi'), np.str_('swrp')]\n",
            "✅ Events extracted from annotations: {np.str_('CELL'): 1, np.str_('SESS'): 2, np.str_('TRSP'): 3, np.str_('bgin'): 4, np.str_('epoc'): 5, np.str_('fcue'): 6, np.str_('fdot'): 7, np.str_('ffix'): 8, np.str_('fisi'): 9, np.str_('fwrp'): 10, np.str_('hcue'): 11, np.str_('hdot'): 12, np.str_('hfix'): 13, np.str_('hisi'): 14, np.str_('hwrp'): 15, np.str_('resp'): 16, np.str_('scue'): 17, np.str_('sdot'): 18, np.str_('sfix'): 19, np.str_('sisi'): 20, np.str_('swrp'): 21}\n",
            "Not setting metadata\n",
            "480 matching events found\n",
            "Setting baseline interval to [-0.2, 0.0] s\n",
            "Applying baseline correction (mode: mean)\n",
            "0 projection items activated\n",
            "Using data from preloaded Raw for 480 events and 251 original time points ...\n"
          ]
        },
        {
          "name": "stderr",
          "output_type": "stream",
          "text": [
            "[Parallel(n_jobs=1)]: Done 128 out of 128 | elapsed:    1.3s finished\n"
          ]
        },
        {
          "name": "stdout",
          "output_type": "stream",
          "text": [
            "1 bad epochs dropped\n",
            "Fitting ICA to data using 128 channels (please be patient, this may take a while)\n"
          ]
        },
        {
          "name": "stderr",
          "output_type": "stream",
          "text": [
            "/tmp/ipython-input-16-3467012358.py:59: RuntimeWarning: The epochs you passed to ICA.fit() were baseline-corrected. However, we suggest to fit ICA only on data that has been high-pass filtered, but NOT baseline-corrected.\n",
            "  ica.fit(epochs)\n"
          ]
        },
        {
          "name": "stdout",
          "output_type": "stream",
          "text": [
            "Selecting by number: 20 components\n",
            "Fitting ICA took 16.9s.\n",
            "⚠️ EOG not found, skipping EOG detection\n",
            "⚠️ ECG not found, skipping ECG detection\n",
            "Applying ICA to Epochs instance\n",
            "    Transforming to ICA space (20 components)\n",
            "    Zeroing out 0 ICA components\n",
            "    Projecting back using 128 PCA components\n"
          ]
        },
        {
          "name": "stderr",
          "output_type": "stream",
          "text": [
            "/tmp/ipython-input-16-3467012358.py:77: RuntimeWarning: The data you passed to ICA.apply() was baseline-corrected. Please note that ICA can introduce DC shifts, therefore you may wish to consider baseline-correcting the cleaned data again.\n",
            "  epochs_clean = ica.apply(epochs.copy())\n"
          ]
        },
        {
          "name": "stdout",
          "output_type": "stream",
          "text": [
            "EEG channel type selected for re-referencing\n",
            "Adding average EEG reference projection.\n",
            "1 projection items deactivated\n",
            "Average reference projection was added, but has not been applied yet. Use the apply_proj method to apply it.\n",
            "✅ Saved cleaned epochs: /content/drive/MyDrive/Cleaned_EEG_Epochs/subject_09_epo.fif\n",
            "Reading EGI header from /content/drive/MyDrive/EEG_128channels_ERP_lanzhou_2015/02010015erp 20150709 1534.raw...\n",
            "    Reading events ...\n",
            "    Assembling measurement info ...\n",
            "    Excluding events {} ...\n",
            "Reading 0 ... 201902  =      0.000 ...   807.608 secs...\n",
            "\n",
            "✔ Loaded: 02010015erp 20150709 1534.raw\n",
            "Filtering raw data in 1 contiguous segment\n",
            "Setting up band-pass filter from 0.1 - 30 Hz\n",
            "\n",
            "FIR filter parameters\n",
            "---------------------\n",
            "Designing a one-pass, zero-phase, non-causal bandpass filter:\n",
            "- Windowed time-domain design (firwin) method\n",
            "- Hamming window with 0.0194 passband ripple and 53 dB stopband attenuation\n",
            "- Lower passband edge: 0.10\n",
            "- Lower transition bandwidth: 0.10 Hz (-6 dB cutoff frequency: 0.05 Hz)\n",
            "- Upper passband edge: 30.00 Hz\n",
            "- Upper transition bandwidth: 7.50 Hz (-6 dB cutoff frequency: 33.75 Hz)\n",
            "- Filter length: 8251 samples (33.004 s)\n",
            "\n"
          ]
        },
        {
          "name": "stderr",
          "output_type": "stream",
          "text": [
            "[Parallel(n_jobs=1)]: Done  17 tasks      | elapsed:    0.2s\n",
            "[Parallel(n_jobs=1)]: Done  71 tasks      | elapsed:    0.7s\n"
          ]
        },
        {
          "name": "stdout",
          "output_type": "stream",
          "text": [
            "Used Annotations descriptions: [np.str_('CELL'), np.str_('SESS'), np.str_('TRSP'), np.str_('bgin'), np.str_('epoc'), np.str_('fcue'), np.str_('fdot'), np.str_('ffix'), np.str_('fisi'), np.str_('fwrp'), np.str_('hcue'), np.str_('hdot'), np.str_('hfix'), np.str_('hisi'), np.str_('hwrp'), np.str_('resp'), np.str_('scue'), np.str_('sdot'), np.str_('sfix'), np.str_('sisi'), np.str_('swrp')]\n",
            "✅ Events extracted from annotations: {np.str_('CELL'): 1, np.str_('SESS'): 2, np.str_('TRSP'): 3, np.str_('bgin'): 4, np.str_('epoc'): 5, np.str_('fcue'): 6, np.str_('fdot'): 7, np.str_('ffix'): 8, np.str_('fisi'): 9, np.str_('fwrp'): 10, np.str_('hcue'): 11, np.str_('hdot'): 12, np.str_('hfix'): 13, np.str_('hisi'): 14, np.str_('hwrp'): 15, np.str_('resp'): 16, np.str_('scue'): 17, np.str_('sdot'): 18, np.str_('sfix'): 19, np.str_('sisi'): 20, np.str_('swrp'): 21}\n",
            "Not setting metadata\n",
            "480 matching events found\n",
            "Setting baseline interval to [-0.2, 0.0] s\n",
            "Applying baseline correction (mode: mean)\n",
            "0 projection items activated\n",
            "Using data from preloaded Raw for 480 events and 251 original time points ...\n"
          ]
        },
        {
          "name": "stderr",
          "output_type": "stream",
          "text": [
            "[Parallel(n_jobs=1)]: Done 128 out of 128 | elapsed:    1.4s finished\n"
          ]
        },
        {
          "name": "stdout",
          "output_type": "stream",
          "text": [
            "1 bad epochs dropped\n",
            "Fitting ICA to data using 128 channels (please be patient, this may take a while)\n"
          ]
        },
        {
          "name": "stderr",
          "output_type": "stream",
          "text": [
            "/tmp/ipython-input-16-3467012358.py:59: RuntimeWarning: The epochs you passed to ICA.fit() were baseline-corrected. However, we suggest to fit ICA only on data that has been high-pass filtered, but NOT baseline-corrected.\n",
            "  ica.fit(epochs)\n"
          ]
        },
        {
          "name": "stdout",
          "output_type": "stream",
          "text": [
            "Selecting by number: 20 components\n",
            "Fitting ICA took 17.6s.\n",
            "⚠️ EOG not found, skipping EOG detection\n",
            "⚠️ ECG not found, skipping ECG detection\n",
            "Applying ICA to Epochs instance\n",
            "    Transforming to ICA space (20 components)\n",
            "    Zeroing out 0 ICA components\n",
            "    Projecting back using 128 PCA components\n"
          ]
        },
        {
          "name": "stderr",
          "output_type": "stream",
          "text": [
            "/tmp/ipython-input-16-3467012358.py:77: RuntimeWarning: The data you passed to ICA.apply() was baseline-corrected. Please note that ICA can introduce DC shifts, therefore you may wish to consider baseline-correcting the cleaned data again.\n",
            "  epochs_clean = ica.apply(epochs.copy())\n"
          ]
        },
        {
          "name": "stdout",
          "output_type": "stream",
          "text": [
            "EEG channel type selected for re-referencing\n",
            "Adding average EEG reference projection.\n",
            "1 projection items deactivated\n",
            "Average reference projection was added, but has not been applied yet. Use the apply_proj method to apply it.\n",
            "✅ Saved cleaned epochs: /content/drive/MyDrive/Cleaned_EEG_Epochs/subject_10_epo.fif\n",
            "Reading EGI header from /content/drive/MyDrive/EEG_128channels_ERP_lanzhou_2015/02010016erp 20150710 1329.raw...\n",
            "    Reading events ...\n",
            "    Assembling measurement info ...\n",
            "    Excluding events {} ...\n",
            "Reading 0 ... 201638  =      0.000 ...   806.552 secs...\n",
            "\n",
            "✔ Loaded: 02010016erp 20150710 1329.raw\n",
            "Filtering raw data in 1 contiguous segment\n",
            "Setting up band-pass filter from 0.1 - 30 Hz\n",
            "\n",
            "FIR filter parameters\n",
            "---------------------\n",
            "Designing a one-pass, zero-phase, non-causal bandpass filter:\n",
            "- Windowed time-domain design (firwin) method\n",
            "- Hamming window with 0.0194 passband ripple and 53 dB stopband attenuation\n",
            "- Lower passband edge: 0.10\n",
            "- Lower transition bandwidth: 0.10 Hz (-6 dB cutoff frequency: 0.05 Hz)\n",
            "- Upper passband edge: 30.00 Hz\n",
            "- Upper transition bandwidth: 7.50 Hz (-6 dB cutoff frequency: 33.75 Hz)\n",
            "- Filter length: 8251 samples (33.004 s)\n",
            "\n"
          ]
        },
        {
          "name": "stderr",
          "output_type": "stream",
          "text": [
            "[Parallel(n_jobs=1)]: Done  17 tasks      | elapsed:    0.2s\n",
            "[Parallel(n_jobs=1)]: Done  71 tasks      | elapsed:    0.9s\n"
          ]
        },
        {
          "name": "stdout",
          "output_type": "stream",
          "text": [
            "Used Annotations descriptions: [np.str_('CELL'), np.str_('SESS'), np.str_('TRSP'), np.str_('bgin'), np.str_('epoc'), np.str_('fcue'), np.str_('fdot'), np.str_('ffix'), np.str_('fisi'), np.str_('fwrp'), np.str_('hcue'), np.str_('hdot'), np.str_('hfix'), np.str_('hisi'), np.str_('hwrp'), np.str_('resp'), np.str_('scue'), np.str_('sdot'), np.str_('sfix'), np.str_('sisi'), np.str_('swrp')]\n",
            "✅ Events extracted from annotations: {np.str_('CELL'): 1, np.str_('SESS'): 2, np.str_('TRSP'): 3, np.str_('bgin'): 4, np.str_('epoc'): 5, np.str_('fcue'): 6, np.str_('fdot'): 7, np.str_('ffix'): 8, np.str_('fisi'): 9, np.str_('fwrp'): 10, np.str_('hcue'): 11, np.str_('hdot'): 12, np.str_('hfix'): 13, np.str_('hisi'): 14, np.str_('hwrp'): 15, np.str_('resp'): 16, np.str_('scue'): 17, np.str_('sdot'): 18, np.str_('sfix'): 19, np.str_('sisi'): 20, np.str_('swrp'): 21}\n",
            "Not setting metadata\n",
            "480 matching events found\n",
            "Setting baseline interval to [-0.2, 0.0] s\n",
            "Applying baseline correction (mode: mean)\n",
            "0 projection items activated\n",
            "Using data from preloaded Raw for 480 events and 251 original time points ...\n"
          ]
        },
        {
          "name": "stderr",
          "output_type": "stream",
          "text": [
            "[Parallel(n_jobs=1)]: Done 128 out of 128 | elapsed:    1.9s finished\n"
          ]
        },
        {
          "name": "stdout",
          "output_type": "stream",
          "text": [
            "1 bad epochs dropped\n",
            "Fitting ICA to data using 128 channels (please be patient, this may take a while)\n"
          ]
        },
        {
          "name": "stderr",
          "output_type": "stream",
          "text": [
            "/tmp/ipython-input-16-3467012358.py:59: RuntimeWarning: The epochs you passed to ICA.fit() were baseline-corrected. However, we suggest to fit ICA only on data that has been high-pass filtered, but NOT baseline-corrected.\n",
            "  ica.fit(epochs)\n"
          ]
        },
        {
          "name": "stdout",
          "output_type": "stream",
          "text": [
            "Selecting by number: 20 components\n",
            "Fitting ICA took 12.3s.\n",
            "⚠️ EOG not found, skipping EOG detection\n",
            "⚠️ ECG not found, skipping ECG detection\n",
            "Applying ICA to Epochs instance\n",
            "    Transforming to ICA space (20 components)\n",
            "    Zeroing out 0 ICA components\n",
            "    Projecting back using 128 PCA components\n"
          ]
        },
        {
          "name": "stderr",
          "output_type": "stream",
          "text": [
            "/tmp/ipython-input-16-3467012358.py:77: RuntimeWarning: The data you passed to ICA.apply() was baseline-corrected. Please note that ICA can introduce DC shifts, therefore you may wish to consider baseline-correcting the cleaned data again.\n",
            "  epochs_clean = ica.apply(epochs.copy())\n"
          ]
        },
        {
          "name": "stdout",
          "output_type": "stream",
          "text": [
            "EEG channel type selected for re-referencing\n",
            "Adding average EEG reference projection.\n",
            "1 projection items deactivated\n",
            "Average reference projection was added, but has not been applied yet. Use the apply_proj method to apply it.\n",
            "✅ Saved cleaned epochs: /content/drive/MyDrive/Cleaned_EEG_Epochs/subject_11_epo.fif\n",
            "Reading EGI header from /content/drive/MyDrive/EEG_128channels_ERP_lanzhou_2015/02010018erp 20150716 1310.raw...\n",
            "    Reading events ...\n",
            "    Assembling measurement info ...\n",
            "    Excluding events {} ...\n",
            "Reading 0 ... 201301  =      0.000 ...   805.204 secs...\n",
            "\n",
            "✔ Loaded: 02010018erp 20150716 1310.raw\n",
            "Filtering raw data in 1 contiguous segment\n",
            "Setting up band-pass filter from 0.1 - 30 Hz\n",
            "\n",
            "FIR filter parameters\n",
            "---------------------\n",
            "Designing a one-pass, zero-phase, non-causal bandpass filter:\n",
            "- Windowed time-domain design (firwin) method\n",
            "- Hamming window with 0.0194 passband ripple and 53 dB stopband attenuation\n",
            "- Lower passband edge: 0.10\n",
            "- Lower transition bandwidth: 0.10 Hz (-6 dB cutoff frequency: 0.05 Hz)\n",
            "- Upper passband edge: 30.00 Hz\n",
            "- Upper transition bandwidth: 7.50 Hz (-6 dB cutoff frequency: 33.75 Hz)\n",
            "- Filter length: 8251 samples (33.004 s)\n",
            "\n"
          ]
        },
        {
          "name": "stderr",
          "output_type": "stream",
          "text": [
            "[Parallel(n_jobs=1)]: Done  17 tasks      | elapsed:    0.3s\n",
            "[Parallel(n_jobs=1)]: Done  71 tasks      | elapsed:    0.8s\n"
          ]
        },
        {
          "name": "stdout",
          "output_type": "stream",
          "text": [
            "Used Annotations descriptions: [np.str_('CELL'), np.str_('SESS'), np.str_('TRSP'), np.str_('bgin'), np.str_('epoc'), np.str_('fcue'), np.str_('fdot'), np.str_('ffix'), np.str_('fisi'), np.str_('fwrp'), np.str_('hcue'), np.str_('hdot'), np.str_('hfix'), np.str_('hisi'), np.str_('hwrp'), np.str_('resp'), np.str_('scue'), np.str_('sdot'), np.str_('sfix'), np.str_('sisi'), np.str_('swrp')]\n",
            "✅ Events extracted from annotations: {np.str_('CELL'): 1, np.str_('SESS'): 2, np.str_('TRSP'): 3, np.str_('bgin'): 4, np.str_('epoc'): 5, np.str_('fcue'): 6, np.str_('fdot'): 7, np.str_('ffix'): 8, np.str_('fisi'): 9, np.str_('fwrp'): 10, np.str_('hcue'): 11, np.str_('hdot'): 12, np.str_('hfix'): 13, np.str_('hisi'): 14, np.str_('hwrp'): 15, np.str_('resp'): 16, np.str_('scue'): 17, np.str_('sdot'): 18, np.str_('sfix'): 19, np.str_('sisi'): 20, np.str_('swrp'): 21}\n",
            "Not setting metadata\n",
            "480 matching events found\n",
            "Setting baseline interval to [-0.2, 0.0] s\n",
            "Applying baseline correction (mode: mean)\n",
            "0 projection items activated\n",
            "Using data from preloaded Raw for 480 events and 251 original time points ...\n"
          ]
        },
        {
          "name": "stderr",
          "output_type": "stream",
          "text": [
            "[Parallel(n_jobs=1)]: Done 128 out of 128 | elapsed:    1.5s finished\n"
          ]
        },
        {
          "name": "stdout",
          "output_type": "stream",
          "text": [
            "0 bad epochs dropped\n",
            "Fitting ICA to data using 128 channels (please be patient, this may take a while)\n"
          ]
        },
        {
          "name": "stderr",
          "output_type": "stream",
          "text": [
            "/tmp/ipython-input-16-3467012358.py:59: RuntimeWarning: The epochs you passed to ICA.fit() were baseline-corrected. However, we suggest to fit ICA only on data that has been high-pass filtered, but NOT baseline-corrected.\n",
            "  ica.fit(epochs)\n"
          ]
        },
        {
          "name": "stdout",
          "output_type": "stream",
          "text": [
            "Selecting by number: 20 components\n",
            "Fitting ICA took 23.7s.\n",
            "⚠️ EOG not found, skipping EOG detection\n",
            "⚠️ ECG not found, skipping ECG detection\n",
            "Applying ICA to Epochs instance\n",
            "    Transforming to ICA space (20 components)\n",
            "    Zeroing out 0 ICA components\n",
            "    Projecting back using 128 PCA components\n"
          ]
        },
        {
          "name": "stderr",
          "output_type": "stream",
          "text": [
            "/tmp/ipython-input-16-3467012358.py:77: RuntimeWarning: The data you passed to ICA.apply() was baseline-corrected. Please note that ICA can introduce DC shifts, therefore you may wish to consider baseline-correcting the cleaned data again.\n",
            "  epochs_clean = ica.apply(epochs.copy())\n"
          ]
        },
        {
          "name": "stdout",
          "output_type": "stream",
          "text": [
            "EEG channel type selected for re-referencing\n",
            "Adding average EEG reference projection.\n",
            "1 projection items deactivated\n",
            "Average reference projection was added, but has not been applied yet. Use the apply_proj method to apply it.\n",
            "✅ Saved cleaned epochs: /content/drive/MyDrive/Cleaned_EEG_Epochs/subject_12_epo.fif\n",
            "Reading EGI header from /content/drive/MyDrive/EEG_128channels_ERP_lanzhou_2015/02010019erp 20150716 1544.raw...\n",
            "    Reading events ...\n",
            "    Assembling measurement info ...\n",
            "    Excluding events {} ...\n",
            "Reading 0 ... 196038  =      0.000 ...   784.152 secs...\n",
            "\n",
            "✔ Loaded: 02010019erp 20150716 1544.raw\n",
            "Filtering raw data in 1 contiguous segment\n",
            "Setting up band-pass filter from 0.1 - 30 Hz\n",
            "\n",
            "FIR filter parameters\n",
            "---------------------\n",
            "Designing a one-pass, zero-phase, non-causal bandpass filter:\n",
            "- Windowed time-domain design (firwin) method\n",
            "- Hamming window with 0.0194 passband ripple and 53 dB stopband attenuation\n",
            "- Lower passband edge: 0.10\n",
            "- Lower transition bandwidth: 0.10 Hz (-6 dB cutoff frequency: 0.05 Hz)\n",
            "- Upper passband edge: 30.00 Hz\n",
            "- Upper transition bandwidth: 7.50 Hz (-6 dB cutoff frequency: 33.75 Hz)\n",
            "- Filter length: 8251 samples (33.004 s)\n",
            "\n"
          ]
        },
        {
          "name": "stderr",
          "output_type": "stream",
          "text": [
            "[Parallel(n_jobs=1)]: Done  17 tasks      | elapsed:    0.2s\n",
            "[Parallel(n_jobs=1)]: Done  71 tasks      | elapsed:    0.8s\n"
          ]
        },
        {
          "name": "stdout",
          "output_type": "stream",
          "text": [
            "Used Annotations descriptions: [np.str_('CELL'), np.str_('SESS'), np.str_('TRSP'), np.str_('bgin'), np.str_('epoc'), np.str_('fcue'), np.str_('fdot'), np.str_('ffix'), np.str_('fisi'), np.str_('fwrp'), np.str_('hcue'), np.str_('hdot'), np.str_('hfix'), np.str_('hisi'), np.str_('hwrp'), np.str_('resp'), np.str_('scue'), np.str_('sdot'), np.str_('sfix'), np.str_('sisi'), np.str_('swrp')]\n",
            "✅ Events extracted from annotations: {np.str_('CELL'): 1, np.str_('SESS'): 2, np.str_('TRSP'): 3, np.str_('bgin'): 4, np.str_('epoc'): 5, np.str_('fcue'): 6, np.str_('fdot'): 7, np.str_('ffix'): 8, np.str_('fisi'): 9, np.str_('fwrp'): 10, np.str_('hcue'): 11, np.str_('hdot'): 12, np.str_('hfix'): 13, np.str_('hisi'): 14, np.str_('hwrp'): 15, np.str_('resp'): 16, np.str_('scue'): 17, np.str_('sdot'): 18, np.str_('sfix'): 19, np.str_('sisi'): 20, np.str_('swrp'): 21}\n",
            "Not setting metadata\n",
            "480 matching events found\n",
            "Setting baseline interval to [-0.2, 0.0] s\n",
            "Applying baseline correction (mode: mean)\n",
            "0 projection items activated\n",
            "Using data from preloaded Raw for 480 events and 251 original time points ...\n"
          ]
        },
        {
          "name": "stderr",
          "output_type": "stream",
          "text": [
            "[Parallel(n_jobs=1)]: Done 128 out of 128 | elapsed:    1.4s finished\n"
          ]
        },
        {
          "name": "stdout",
          "output_type": "stream",
          "text": [
            "1 bad epochs dropped\n",
            "Fitting ICA to data using 128 channels (please be patient, this may take a while)\n"
          ]
        },
        {
          "name": "stderr",
          "output_type": "stream",
          "text": [
            "/tmp/ipython-input-16-3467012358.py:59: RuntimeWarning: The epochs you passed to ICA.fit() were baseline-corrected. However, we suggest to fit ICA only on data that has been high-pass filtered, but NOT baseline-corrected.\n",
            "  ica.fit(epochs)\n"
          ]
        },
        {
          "name": "stdout",
          "output_type": "stream",
          "text": [
            "Selecting by number: 20 components\n",
            "Fitting ICA took 14.8s.\n",
            "⚠️ EOG not found, skipping EOG detection\n",
            "⚠️ ECG not found, skipping ECG detection\n",
            "Applying ICA to Epochs instance\n",
            "    Transforming to ICA space (20 components)\n",
            "    Zeroing out 0 ICA components\n",
            "    Projecting back using 128 PCA components\n"
          ]
        },
        {
          "name": "stderr",
          "output_type": "stream",
          "text": [
            "/tmp/ipython-input-16-3467012358.py:77: RuntimeWarning: The data you passed to ICA.apply() was baseline-corrected. Please note that ICA can introduce DC shifts, therefore you may wish to consider baseline-correcting the cleaned data again.\n",
            "  epochs_clean = ica.apply(epochs.copy())\n"
          ]
        },
        {
          "name": "stdout",
          "output_type": "stream",
          "text": [
            "EEG channel type selected for re-referencing\n",
            "Adding average EEG reference projection.\n",
            "1 projection items deactivated\n",
            "Average reference projection was added, but has not been applied yet. Use the apply_proj method to apply it.\n",
            "✅ Saved cleaned epochs: /content/drive/MyDrive/Cleaned_EEG_Epochs/subject_13_epo.fif\n",
            "Reading EGI header from /content/drive/MyDrive/EEG_128channels_ERP_lanzhou_2015/02010021erp 20150805 1818.raw...\n",
            "    Reading events ...\n",
            "    Assembling measurement info ...\n",
            "    Excluding events {} ...\n",
            "Reading 0 ... 205092  =      0.000 ...   820.368 secs...\n",
            "\n",
            "✔ Loaded: 02010021erp 20150805 1818.raw\n",
            "Filtering raw data in 1 contiguous segment\n",
            "Setting up band-pass filter from 0.1 - 30 Hz\n",
            "\n",
            "FIR filter parameters\n",
            "---------------------\n",
            "Designing a one-pass, zero-phase, non-causal bandpass filter:\n",
            "- Windowed time-domain design (firwin) method\n",
            "- Hamming window with 0.0194 passband ripple and 53 dB stopband attenuation\n",
            "- Lower passband edge: 0.10\n",
            "- Lower transition bandwidth: 0.10 Hz (-6 dB cutoff frequency: 0.05 Hz)\n",
            "- Upper passband edge: 30.00 Hz\n",
            "- Upper transition bandwidth: 7.50 Hz (-6 dB cutoff frequency: 33.75 Hz)\n",
            "- Filter length: 8251 samples (33.004 s)\n",
            "\n"
          ]
        },
        {
          "name": "stderr",
          "output_type": "stream",
          "text": [
            "[Parallel(n_jobs=1)]: Done  17 tasks      | elapsed:    0.2s\n",
            "[Parallel(n_jobs=1)]: Done  71 tasks      | elapsed:    0.8s\n"
          ]
        },
        {
          "name": "stdout",
          "output_type": "stream",
          "text": [
            "Used Annotations descriptions: [np.str_('CELL'), np.str_('SESS'), np.str_('TRSP'), np.str_('bgin'), np.str_('epoc'), np.str_('fcue'), np.str_('fdot'), np.str_('ffix'), np.str_('fisi'), np.str_('fwrp'), np.str_('hcue'), np.str_('hdot'), np.str_('hfix'), np.str_('hisi'), np.str_('hwrp'), np.str_('resp'), np.str_('scue'), np.str_('sdot'), np.str_('sfix'), np.str_('sisi'), np.str_('swrp')]\n",
            "✅ Events extracted from annotations: {np.str_('CELL'): 1, np.str_('SESS'): 2, np.str_('TRSP'): 3, np.str_('bgin'): 4, np.str_('epoc'): 5, np.str_('fcue'): 6, np.str_('fdot'): 7, np.str_('ffix'): 8, np.str_('fisi'): 9, np.str_('fwrp'): 10, np.str_('hcue'): 11, np.str_('hdot'): 12, np.str_('hfix'): 13, np.str_('hisi'): 14, np.str_('hwrp'): 15, np.str_('resp'): 16, np.str_('scue'): 17, np.str_('sdot'): 18, np.str_('sfix'): 19, np.str_('sisi'): 20, np.str_('swrp'): 21}\n",
            "Not setting metadata\n",
            "480 matching events found\n",
            "Setting baseline interval to [-0.2, 0.0] s\n",
            "Applying baseline correction (mode: mean)\n",
            "0 projection items activated\n",
            "Using data from preloaded Raw for 480 events and 251 original time points ...\n"
          ]
        },
        {
          "name": "stderr",
          "output_type": "stream",
          "text": [
            "[Parallel(n_jobs=1)]: Done 128 out of 128 | elapsed:    1.4s finished\n"
          ]
        },
        {
          "name": "stdout",
          "output_type": "stream",
          "text": [
            "0 bad epochs dropped\n",
            "Fitting ICA to data using 128 channels (please be patient, this may take a while)\n"
          ]
        },
        {
          "name": "stderr",
          "output_type": "stream",
          "text": [
            "/tmp/ipython-input-16-3467012358.py:59: RuntimeWarning: The epochs you passed to ICA.fit() were baseline-corrected. However, we suggest to fit ICA only on data that has been high-pass filtered, but NOT baseline-corrected.\n",
            "  ica.fit(epochs)\n"
          ]
        },
        {
          "name": "stdout",
          "output_type": "stream",
          "text": [
            "Selecting by number: 20 components\n",
            "Fitting ICA took 15.2s.\n",
            "⚠️ EOG not found, skipping EOG detection\n",
            "⚠️ ECG not found, skipping ECG detection\n",
            "Applying ICA to Epochs instance\n",
            "    Transforming to ICA space (20 components)\n",
            "    Zeroing out 0 ICA components\n",
            "    Projecting back using 128 PCA components\n"
          ]
        },
        {
          "name": "stderr",
          "output_type": "stream",
          "text": [
            "/tmp/ipython-input-16-3467012358.py:77: RuntimeWarning: The data you passed to ICA.apply() was baseline-corrected. Please note that ICA can introduce DC shifts, therefore you may wish to consider baseline-correcting the cleaned data again.\n",
            "  epochs_clean = ica.apply(epochs.copy())\n"
          ]
        },
        {
          "name": "stdout",
          "output_type": "stream",
          "text": [
            "EEG channel type selected for re-referencing\n",
            "Adding average EEG reference projection.\n",
            "1 projection items deactivated\n",
            "Average reference projection was added, but has not been applied yet. Use the apply_proj method to apply it.\n",
            "✅ Saved cleaned epochs: /content/drive/MyDrive/Cleaned_EEG_Epochs/subject_14_epo.fif\n",
            "Reading EGI header from /content/drive/MyDrive/EEG_128channels_ERP_lanzhou_2015/02010022erp 20150724 1457.raw...\n",
            "    Reading events ...\n",
            "    Assembling measurement info ...\n",
            "    Excluding events {} ...\n",
            "Reading 0 ... 201150  =      0.000 ...   804.600 secs...\n",
            "\n",
            "✔ Loaded: 02010022erp 20150724 1457.raw\n",
            "Filtering raw data in 1 contiguous segment\n",
            "Setting up band-pass filter from 0.1 - 30 Hz\n",
            "\n",
            "FIR filter parameters\n",
            "---------------------\n",
            "Designing a one-pass, zero-phase, non-causal bandpass filter:\n",
            "- Windowed time-domain design (firwin) method\n",
            "- Hamming window with 0.0194 passband ripple and 53 dB stopband attenuation\n",
            "- Lower passband edge: 0.10\n",
            "- Lower transition bandwidth: 0.10 Hz (-6 dB cutoff frequency: 0.05 Hz)\n",
            "- Upper passband edge: 30.00 Hz\n",
            "- Upper transition bandwidth: 7.50 Hz (-6 dB cutoff frequency: 33.75 Hz)\n",
            "- Filter length: 8251 samples (33.004 s)\n",
            "\n"
          ]
        },
        {
          "name": "stderr",
          "output_type": "stream",
          "text": [
            "[Parallel(n_jobs=1)]: Done  17 tasks      | elapsed:    0.2s\n",
            "[Parallel(n_jobs=1)]: Done  71 tasks      | elapsed:    0.7s\n"
          ]
        },
        {
          "name": "stdout",
          "output_type": "stream",
          "text": [
            "Used Annotations descriptions: [np.str_('CELL'), np.str_('SESS'), np.str_('TRSP'), np.str_('bgin'), np.str_('epoc'), np.str_('fcue'), np.str_('fdot'), np.str_('ffix'), np.str_('fisi'), np.str_('fwrp'), np.str_('hcue'), np.str_('hdot'), np.str_('hfix'), np.str_('hisi'), np.str_('hwrp'), np.str_('resp'), np.str_('scue'), np.str_('sdot'), np.str_('sfix'), np.str_('sisi'), np.str_('swrp')]\n",
            "✅ Events extracted from annotations: {np.str_('CELL'): 1, np.str_('SESS'): 2, np.str_('TRSP'): 3, np.str_('bgin'): 4, np.str_('epoc'): 5, np.str_('fcue'): 6, np.str_('fdot'): 7, np.str_('ffix'): 8, np.str_('fisi'): 9, np.str_('fwrp'): 10, np.str_('hcue'): 11, np.str_('hdot'): 12, np.str_('hfix'): 13, np.str_('hisi'): 14, np.str_('hwrp'): 15, np.str_('resp'): 16, np.str_('scue'): 17, np.str_('sdot'): 18, np.str_('sfix'): 19, np.str_('sisi'): 20, np.str_('swrp'): 21}\n",
            "Not setting metadata\n",
            "480 matching events found\n",
            "Setting baseline interval to [-0.2, 0.0] s\n",
            "Applying baseline correction (mode: mean)\n",
            "0 projection items activated\n",
            "Using data from preloaded Raw for 480 events and 251 original time points ...\n"
          ]
        },
        {
          "name": "stderr",
          "output_type": "stream",
          "text": [
            "[Parallel(n_jobs=1)]: Done 128 out of 128 | elapsed:    1.4s finished\n"
          ]
        },
        {
          "name": "stdout",
          "output_type": "stream",
          "text": [
            "0 bad epochs dropped\n",
            "Fitting ICA to data using 128 channels (please be patient, this may take a while)\n"
          ]
        },
        {
          "name": "stderr",
          "output_type": "stream",
          "text": [
            "/tmp/ipython-input-16-3467012358.py:59: RuntimeWarning: The epochs you passed to ICA.fit() were baseline-corrected. However, we suggest to fit ICA only on data that has been high-pass filtered, but NOT baseline-corrected.\n",
            "  ica.fit(epochs)\n"
          ]
        },
        {
          "name": "stdout",
          "output_type": "stream",
          "text": [
            "Selecting by number: 20 components\n",
            "Fitting ICA took 23.7s.\n",
            "⚠️ EOG not found, skipping EOG detection\n",
            "⚠️ ECG not found, skipping ECG detection\n",
            "Applying ICA to Epochs instance\n"
          ]
        },
        {
          "name": "stderr",
          "output_type": "stream",
          "text": [
            "/tmp/ipython-input-16-3467012358.py:77: RuntimeWarning: The data you passed to ICA.apply() was baseline-corrected. Please note that ICA can introduce DC shifts, therefore you may wish to consider baseline-correcting the cleaned data again.\n",
            "  epochs_clean = ica.apply(epochs.copy())\n"
          ]
        },
        {
          "name": "stdout",
          "output_type": "stream",
          "text": [
            "    Transforming to ICA space (20 components)\n",
            "    Zeroing out 0 ICA components\n",
            "    Projecting back using 128 PCA components\n",
            "EEG channel type selected for re-referencing\n",
            "Adding average EEG reference projection.\n",
            "1 projection items deactivated\n",
            "Average reference projection was added, but has not been applied yet. Use the apply_proj method to apply it.\n",
            "✅ Saved cleaned epochs: /content/drive/MyDrive/Cleaned_EEG_Epochs/subject_15_epo.fif\n",
            "Reading EGI header from /content/drive/MyDrive/EEG_128channels_ERP_lanzhou_2015/02010023erp 20150729 1955.raw...\n",
            "    Reading events ...\n",
            "    Assembling measurement info ...\n",
            "    Excluding events {} ...\n",
            "Reading 0 ... 211052  =      0.000 ...   844.208 secs...\n",
            "\n",
            "✔ Loaded: 02010023erp 20150729 1955.raw\n",
            "Filtering raw data in 1 contiguous segment\n",
            "Setting up band-pass filter from 0.1 - 30 Hz\n",
            "\n",
            "FIR filter parameters\n",
            "---------------------\n",
            "Designing a one-pass, zero-phase, non-causal bandpass filter:\n",
            "- Windowed time-domain design (firwin) method\n",
            "- Hamming window with 0.0194 passband ripple and 53 dB stopband attenuation\n",
            "- Lower passband edge: 0.10\n",
            "- Lower transition bandwidth: 0.10 Hz (-6 dB cutoff frequency: 0.05 Hz)\n",
            "- Upper passband edge: 30.00 Hz\n",
            "- Upper transition bandwidth: 7.50 Hz (-6 dB cutoff frequency: 33.75 Hz)\n",
            "- Filter length: 8251 samples (33.004 s)\n",
            "\n"
          ]
        },
        {
          "name": "stderr",
          "output_type": "stream",
          "text": [
            "[Parallel(n_jobs=1)]: Done  17 tasks      | elapsed:    0.2s\n",
            "[Parallel(n_jobs=1)]: Done  71 tasks      | elapsed:    0.9s\n"
          ]
        },
        {
          "name": "stdout",
          "output_type": "stream",
          "text": [
            "Used Annotations descriptions: [np.str_('CELL'), np.str_('SESS'), np.str_('TRSP'), np.str_('bgin'), np.str_('epoc'), np.str_('fcue'), np.str_('fdot'), np.str_('ffix'), np.str_('fisi'), np.str_('fwrp'), np.str_('hcue'), np.str_('hdot'), np.str_('hfix'), np.str_('hisi'), np.str_('hwrp'), np.str_('resp'), np.str_('scue'), np.str_('sdot'), np.str_('sfix'), np.str_('sisi'), np.str_('swrp')]\n",
            "✅ Events extracted from annotations: {np.str_('CELL'): 1, np.str_('SESS'): 2, np.str_('TRSP'): 3, np.str_('bgin'): 4, np.str_('epoc'): 5, np.str_('fcue'): 6, np.str_('fdot'): 7, np.str_('ffix'): 8, np.str_('fisi'): 9, np.str_('fwrp'): 10, np.str_('hcue'): 11, np.str_('hdot'): 12, np.str_('hfix'): 13, np.str_('hisi'): 14, np.str_('hwrp'): 15, np.str_('resp'): 16, np.str_('scue'): 17, np.str_('sdot'): 18, np.str_('sfix'): 19, np.str_('sisi'): 20, np.str_('swrp'): 21}\n",
            "Not setting metadata\n",
            "480 matching events found\n",
            "Setting baseline interval to [-0.2, 0.0] s\n",
            "Applying baseline correction (mode: mean)\n",
            "0 projection items activated\n",
            "Using data from preloaded Raw for 480 events and 251 original time points ...\n"
          ]
        },
        {
          "name": "stderr",
          "output_type": "stream",
          "text": [
            "[Parallel(n_jobs=1)]: Done 128 out of 128 | elapsed:    1.6s finished\n"
          ]
        },
        {
          "name": "stdout",
          "output_type": "stream",
          "text": [
            "0 bad epochs dropped\n",
            "Fitting ICA to data using 128 channels (please be patient, this may take a while)\n"
          ]
        },
        {
          "name": "stderr",
          "output_type": "stream",
          "text": [
            "/tmp/ipython-input-16-3467012358.py:59: RuntimeWarning: The epochs you passed to ICA.fit() were baseline-corrected. However, we suggest to fit ICA only on data that has been high-pass filtered, but NOT baseline-corrected.\n",
            "  ica.fit(epochs)\n"
          ]
        },
        {
          "name": "stdout",
          "output_type": "stream",
          "text": [
            "Selecting by number: 20 components\n",
            "Fitting ICA took 15.0s.\n",
            "⚠️ EOG not found, skipping EOG detection\n",
            "⚠️ ECG not found, skipping ECG detection\n",
            "Applying ICA to Epochs instance\n",
            "    Transforming to ICA space (20 components)\n",
            "    Zeroing out 0 ICA components\n",
            "    Projecting back using 128 PCA components\n"
          ]
        },
        {
          "name": "stderr",
          "output_type": "stream",
          "text": [
            "/tmp/ipython-input-16-3467012358.py:77: RuntimeWarning: The data you passed to ICA.apply() was baseline-corrected. Please note that ICA can introduce DC shifts, therefore you may wish to consider baseline-correcting the cleaned data again.\n",
            "  epochs_clean = ica.apply(epochs.copy())\n"
          ]
        },
        {
          "name": "stdout",
          "output_type": "stream",
          "text": [
            "EEG channel type selected for re-referencing\n",
            "Adding average EEG reference projection.\n",
            "1 projection items deactivated\n",
            "Average reference projection was added, but has not been applied yet. Use the apply_proj method to apply it.\n",
            "✅ Saved cleaned epochs: /content/drive/MyDrive/Cleaned_EEG_Epochs/subject_16_epo.fif\n",
            "Reading EGI header from /content/drive/MyDrive/EEG_128channels_ERP_lanzhou_2015/02010024erp 20150814 1523.raw...\n",
            "    Reading events ...\n",
            "    Assembling measurement info ...\n",
            "    Excluding events {} ...\n",
            "Reading 0 ... 198475  =      0.000 ...   793.900 secs...\n",
            "\n",
            "✔ Loaded: 02010024erp 20150814 1523.raw\n",
            "Filtering raw data in 1 contiguous segment\n",
            "Setting up band-pass filter from 0.1 - 30 Hz\n",
            "\n",
            "FIR filter parameters\n",
            "---------------------\n",
            "Designing a one-pass, zero-phase, non-causal bandpass filter:\n",
            "- Windowed time-domain design (firwin) method\n",
            "- Hamming window with 0.0194 passband ripple and 53 dB stopband attenuation\n",
            "- Lower passband edge: 0.10\n",
            "- Lower transition bandwidth: 0.10 Hz (-6 dB cutoff frequency: 0.05 Hz)\n",
            "- Upper passband edge: 30.00 Hz\n",
            "- Upper transition bandwidth: 7.50 Hz (-6 dB cutoff frequency: 33.75 Hz)\n",
            "- Filter length: 8251 samples (33.004 s)\n",
            "\n"
          ]
        },
        {
          "name": "stderr",
          "output_type": "stream",
          "text": [
            "[Parallel(n_jobs=1)]: Done  17 tasks      | elapsed:    0.2s\n",
            "[Parallel(n_jobs=1)]: Done  71 tasks      | elapsed:    0.8s\n"
          ]
        },
        {
          "name": "stdout",
          "output_type": "stream",
          "text": [
            "Used Annotations descriptions: [np.str_('CELL'), np.str_('SESS'), np.str_('TRSP'), np.str_('bgin'), np.str_('epoc'), np.str_('fcue'), np.str_('fdot'), np.str_('ffix'), np.str_('fisi'), np.str_('fwrp'), np.str_('hcue'), np.str_('hdot'), np.str_('hfix'), np.str_('hisi'), np.str_('hwrp'), np.str_('resp'), np.str_('scue'), np.str_('sdot'), np.str_('sfix'), np.str_('sisi'), np.str_('swrp')]\n",
            "✅ Events extracted from annotations: {np.str_('CELL'): 1, np.str_('SESS'): 2, np.str_('TRSP'): 3, np.str_('bgin'): 4, np.str_('epoc'): 5, np.str_('fcue'): 6, np.str_('fdot'): 7, np.str_('ffix'): 8, np.str_('fisi'): 9, np.str_('fwrp'): 10, np.str_('hcue'): 11, np.str_('hdot'): 12, np.str_('hfix'): 13, np.str_('hisi'): 14, np.str_('hwrp'): 15, np.str_('resp'): 16, np.str_('scue'): 17, np.str_('sdot'): 18, np.str_('sfix'): 19, np.str_('sisi'): 20, np.str_('swrp'): 21}\n",
            "Not setting metadata\n",
            "480 matching events found\n",
            "Setting baseline interval to [-0.2, 0.0] s\n",
            "Applying baseline correction (mode: mean)\n",
            "0 projection items activated\n",
            "Using data from preloaded Raw for 480 events and 251 original time points ...\n"
          ]
        },
        {
          "name": "stderr",
          "output_type": "stream",
          "text": [
            "[Parallel(n_jobs=1)]: Done 128 out of 128 | elapsed:    1.5s finished\n"
          ]
        },
        {
          "name": "stdout",
          "output_type": "stream",
          "text": [
            "1 bad epochs dropped\n",
            "Fitting ICA to data using 128 channels (please be patient, this may take a while)\n"
          ]
        },
        {
          "name": "stderr",
          "output_type": "stream",
          "text": [
            "/tmp/ipython-input-16-3467012358.py:59: RuntimeWarning: The epochs you passed to ICA.fit() were baseline-corrected. However, we suggest to fit ICA only on data that has been high-pass filtered, but NOT baseline-corrected.\n",
            "  ica.fit(epochs)\n"
          ]
        },
        {
          "name": "stdout",
          "output_type": "stream",
          "text": [
            "Selecting by number: 20 components\n",
            "Fitting ICA took 14.8s.\n",
            "⚠️ EOG not found, skipping EOG detection\n",
            "⚠️ ECG not found, skipping ECG detection\n",
            "Applying ICA to Epochs instance\n",
            "    Transforming to ICA space (20 components)\n",
            "    Zeroing out 0 ICA components\n",
            "    Projecting back using 128 PCA components\n"
          ]
        },
        {
          "name": "stderr",
          "output_type": "stream",
          "text": [
            "/tmp/ipython-input-16-3467012358.py:77: RuntimeWarning: The data you passed to ICA.apply() was baseline-corrected. Please note that ICA can introduce DC shifts, therefore you may wish to consider baseline-correcting the cleaned data again.\n",
            "  epochs_clean = ica.apply(epochs.copy())\n"
          ]
        },
        {
          "name": "stdout",
          "output_type": "stream",
          "text": [
            "EEG channel type selected for re-referencing\n",
            "Adding average EEG reference projection.\n",
            "1 projection items deactivated\n",
            "Average reference projection was added, but has not been applied yet. Use the apply_proj method to apply it.\n",
            "✅ Saved cleaned epochs: /content/drive/MyDrive/Cleaned_EEG_Epochs/subject_17_epo.fif\n",
            "Reading EGI header from /content/drive/MyDrive/EEG_128channels_ERP_lanzhou_2015/02010025erp 20160311 1225.raw...\n",
            "    Reading events ...\n",
            "    Assembling measurement info ...\n",
            "    Excluding events {} ...\n",
            "Reading 0 ... 205878  =      0.000 ...   823.512 secs...\n",
            "\n",
            "✔ Loaded: 02010025erp 20160311 1225.raw\n",
            "Filtering raw data in 1 contiguous segment\n",
            "Setting up band-pass filter from 0.1 - 30 Hz\n",
            "\n",
            "FIR filter parameters\n",
            "---------------------\n",
            "Designing a one-pass, zero-phase, non-causal bandpass filter:\n",
            "- Windowed time-domain design (firwin) method\n",
            "- Hamming window with 0.0194 passband ripple and 53 dB stopband attenuation\n",
            "- Lower passband edge: 0.10\n",
            "- Lower transition bandwidth: 0.10 Hz (-6 dB cutoff frequency: 0.05 Hz)\n",
            "- Upper passband edge: 30.00 Hz\n",
            "- Upper transition bandwidth: 7.50 Hz (-6 dB cutoff frequency: 33.75 Hz)\n",
            "- Filter length: 8251 samples (33.004 s)\n",
            "\n"
          ]
        },
        {
          "name": "stderr",
          "output_type": "stream",
          "text": [
            "[Parallel(n_jobs=1)]: Done  17 tasks      | elapsed:    0.2s\n",
            "[Parallel(n_jobs=1)]: Done  71 tasks      | elapsed:    0.7s\n"
          ]
        },
        {
          "name": "stdout",
          "output_type": "stream",
          "text": [
            "Used Annotations descriptions: [np.str_('CELL'), np.str_('SESS'), np.str_('TRSP'), np.str_('bgin'), np.str_('epoc'), np.str_('fcue'), np.str_('fdot'), np.str_('ffix'), np.str_('fisi'), np.str_('fwrp'), np.str_('hcue'), np.str_('hdot'), np.str_('hfix'), np.str_('hisi'), np.str_('hwrp'), np.str_('resp'), np.str_('scue'), np.str_('sdot'), np.str_('sfix'), np.str_('sisi'), np.str_('swrp')]\n",
            "✅ Events extracted from annotations: {np.str_('CELL'): 1, np.str_('SESS'): 2, np.str_('TRSP'): 3, np.str_('bgin'): 4, np.str_('epoc'): 5, np.str_('fcue'): 6, np.str_('fdot'): 7, np.str_('ffix'): 8, np.str_('fisi'): 9, np.str_('fwrp'): 10, np.str_('hcue'): 11, np.str_('hdot'): 12, np.str_('hfix'): 13, np.str_('hisi'): 14, np.str_('hwrp'): 15, np.str_('resp'): 16, np.str_('scue'): 17, np.str_('sdot'): 18, np.str_('sfix'): 19, np.str_('sisi'): 20, np.str_('swrp'): 21}\n",
            "Not setting metadata\n",
            "480 matching events found\n",
            "Setting baseline interval to [-0.2, 0.0] s\n",
            "Applying baseline correction (mode: mean)\n",
            "0 projection items activated\n",
            "Using data from preloaded Raw for 480 events and 251 original time points ...\n"
          ]
        },
        {
          "name": "stderr",
          "output_type": "stream",
          "text": [
            "[Parallel(n_jobs=1)]: Done 128 out of 128 | elapsed:    1.4s finished\n"
          ]
        },
        {
          "name": "stdout",
          "output_type": "stream",
          "text": [
            "0 bad epochs dropped\n",
            "Fitting ICA to data using 128 channels (please be patient, this may take a while)\n"
          ]
        },
        {
          "name": "stderr",
          "output_type": "stream",
          "text": [
            "/tmp/ipython-input-16-3467012358.py:59: RuntimeWarning: The epochs you passed to ICA.fit() were baseline-corrected. However, we suggest to fit ICA only on data that has been high-pass filtered, but NOT baseline-corrected.\n",
            "  ica.fit(epochs)\n"
          ]
        },
        {
          "name": "stdout",
          "output_type": "stream",
          "text": [
            "Selecting by number: 20 components\n",
            "Fitting ICA took 18.2s.\n",
            "⚠️ EOG not found, skipping EOG detection\n",
            "⚠️ ECG not found, skipping ECG detection\n",
            "Applying ICA to Epochs instance\n",
            "    Transforming to ICA space (20 components)\n",
            "    Zeroing out 0 ICA components\n",
            "    Projecting back using 128 PCA components\n"
          ]
        },
        {
          "name": "stderr",
          "output_type": "stream",
          "text": [
            "/tmp/ipython-input-16-3467012358.py:77: RuntimeWarning: The data you passed to ICA.apply() was baseline-corrected. Please note that ICA can introduce DC shifts, therefore you may wish to consider baseline-correcting the cleaned data again.\n",
            "  epochs_clean = ica.apply(epochs.copy())\n"
          ]
        },
        {
          "name": "stdout",
          "output_type": "stream",
          "text": [
            "EEG channel type selected for re-referencing\n",
            "Adding average EEG reference projection.\n",
            "1 projection items deactivated\n",
            "Average reference projection was added, but has not been applied yet. Use the apply_proj method to apply it.\n",
            "✅ Saved cleaned epochs: /content/drive/MyDrive/Cleaned_EEG_Epochs/subject_18_epo.fif\n",
            "Reading EGI header from /content/drive/MyDrive/EEG_128channels_ERP_lanzhou_2015/02010026erp 20160311 1441.raw...\n",
            "    Reading events ...\n",
            "    Assembling measurement info ...\n",
            "    Excluding events {} ...\n",
            "Reading 0 ... 238766  =      0.000 ...   955.064 secs...\n",
            "\n",
            "✔ Loaded: 02010026erp 20160311 1441.raw\n",
            "Filtering raw data in 1 contiguous segment\n",
            "Setting up band-pass filter from 0.1 - 30 Hz\n",
            "\n",
            "FIR filter parameters\n",
            "---------------------\n",
            "Designing a one-pass, zero-phase, non-causal bandpass filter:\n",
            "- Windowed time-domain design (firwin) method\n",
            "- Hamming window with 0.0194 passband ripple and 53 dB stopband attenuation\n",
            "- Lower passband edge: 0.10\n",
            "- Lower transition bandwidth: 0.10 Hz (-6 dB cutoff frequency: 0.05 Hz)\n",
            "- Upper passband edge: 30.00 Hz\n",
            "- Upper transition bandwidth: 7.50 Hz (-6 dB cutoff frequency: 33.75 Hz)\n",
            "- Filter length: 8251 samples (33.004 s)\n",
            "\n"
          ]
        },
        {
          "name": "stderr",
          "output_type": "stream",
          "text": [
            "[Parallel(n_jobs=1)]: Done  17 tasks      | elapsed:    0.2s\n",
            "[Parallel(n_jobs=1)]: Done  71 tasks      | elapsed:    1.0s\n"
          ]
        },
        {
          "name": "stdout",
          "output_type": "stream",
          "text": [
            "Used Annotations descriptions: [np.str_('CELL'), np.str_('SESS'), np.str_('TRSP'), np.str_('bgin'), np.str_('epoc'), np.str_('fcue'), np.str_('fdot'), np.str_('ffix'), np.str_('fisi'), np.str_('fwrp'), np.str_('hcue'), np.str_('hdot'), np.str_('hfix'), np.str_('hisi'), np.str_('hwrp'), np.str_('resp'), np.str_('scue'), np.str_('sdot'), np.str_('sfix'), np.str_('sisi'), np.str_('swrp')]\n",
            "✅ Events extracted from annotations: {np.str_('CELL'): 1, np.str_('SESS'): 2, np.str_('TRSP'): 3, np.str_('bgin'): 4, np.str_('epoc'): 5, np.str_('fcue'): 6, np.str_('fdot'): 7, np.str_('ffix'): 8, np.str_('fisi'): 9, np.str_('fwrp'): 10, np.str_('hcue'): 11, np.str_('hdot'): 12, np.str_('hfix'): 13, np.str_('hisi'): 14, np.str_('hwrp'): 15, np.str_('resp'): 16, np.str_('scue'): 17, np.str_('sdot'): 18, np.str_('sfix'): 19, np.str_('sisi'): 20, np.str_('swrp'): 21}\n",
            "Not setting metadata\n",
            "480 matching events found\n",
            "Setting baseline interval to [-0.2, 0.0] s\n",
            "Applying baseline correction (mode: mean)\n",
            "0 projection items activated\n",
            "Using data from preloaded Raw for 480 events and 251 original time points ...\n"
          ]
        },
        {
          "name": "stderr",
          "output_type": "stream",
          "text": [
            "[Parallel(n_jobs=1)]: Done 128 out of 128 | elapsed:    1.9s finished\n"
          ]
        },
        {
          "name": "stdout",
          "output_type": "stream",
          "text": [
            "1 bad epochs dropped\n",
            "Fitting ICA to data using 128 channels (please be patient, this may take a while)\n"
          ]
        },
        {
          "name": "stderr",
          "output_type": "stream",
          "text": [
            "/tmp/ipython-input-16-3467012358.py:59: RuntimeWarning: The epochs you passed to ICA.fit() were baseline-corrected. However, we suggest to fit ICA only on data that has been high-pass filtered, but NOT baseline-corrected.\n",
            "  ica.fit(epochs)\n"
          ]
        },
        {
          "name": "stdout",
          "output_type": "stream",
          "text": [
            "Selecting by number: 20 components\n",
            "Fitting ICA took 14.5s.\n",
            "⚠️ EOG not found, skipping EOG detection\n",
            "⚠️ ECG not found, skipping ECG detection\n",
            "Applying ICA to Epochs instance\n",
            "    Transforming to ICA space (20 components)\n",
            "    Zeroing out 0 ICA components\n",
            "    Projecting back using 128 PCA components\n"
          ]
        },
        {
          "name": "stderr",
          "output_type": "stream",
          "text": [
            "/tmp/ipython-input-16-3467012358.py:77: RuntimeWarning: The data you passed to ICA.apply() was baseline-corrected. Please note that ICA can introduce DC shifts, therefore you may wish to consider baseline-correcting the cleaned data again.\n",
            "  epochs_clean = ica.apply(epochs.copy())\n"
          ]
        },
        {
          "name": "stdout",
          "output_type": "stream",
          "text": [
            "EEG channel type selected for re-referencing\n",
            "Adding average EEG reference projection.\n",
            "1 projection items deactivated\n",
            "Average reference projection was added, but has not been applied yet. Use the apply_proj method to apply it.\n",
            "✅ Saved cleaned epochs: /content/drive/MyDrive/Cleaned_EEG_Epochs/subject_19_epo.fif\n",
            "Reading EGI header from /content/drive/MyDrive/EEG_128channels_ERP_lanzhou_2015/02010028erp 20160317 1554.raw...\n",
            "    Reading events ...\n",
            "    Assembling measurement info ...\n",
            "    Excluding events {} ...\n",
            "Reading 0 ... 195316  =      0.000 ...   781.264 secs...\n",
            "\n",
            "✔ Loaded: 02010028erp 20160317 1554.raw\n",
            "Filtering raw data in 1 contiguous segment\n",
            "Setting up band-pass filter from 0.1 - 30 Hz\n",
            "\n",
            "FIR filter parameters\n",
            "---------------------\n",
            "Designing a one-pass, zero-phase, non-causal bandpass filter:\n",
            "- Windowed time-domain design (firwin) method\n",
            "- Hamming window with 0.0194 passband ripple and 53 dB stopband attenuation\n",
            "- Lower passband edge: 0.10\n",
            "- Lower transition bandwidth: 0.10 Hz (-6 dB cutoff frequency: 0.05 Hz)\n",
            "- Upper passband edge: 30.00 Hz\n",
            "- Upper transition bandwidth: 7.50 Hz (-6 dB cutoff frequency: 33.75 Hz)\n",
            "- Filter length: 8251 samples (33.004 s)\n",
            "\n"
          ]
        },
        {
          "name": "stderr",
          "output_type": "stream",
          "text": [
            "[Parallel(n_jobs=1)]: Done  17 tasks      | elapsed:    0.2s\n",
            "[Parallel(n_jobs=1)]: Done  71 tasks      | elapsed:    0.7s\n"
          ]
        },
        {
          "name": "stdout",
          "output_type": "stream",
          "text": [
            "Used Annotations descriptions: [np.str_('CELL'), np.str_('SESS'), np.str_('TRSP'), np.str_('bgin'), np.str_('epoc'), np.str_('fcue'), np.str_('fdot'), np.str_('ffix'), np.str_('fisi'), np.str_('fwrp'), np.str_('hcue'), np.str_('hdot'), np.str_('hfix'), np.str_('hisi'), np.str_('hwrp'), np.str_('resp'), np.str_('scue'), np.str_('sdot'), np.str_('sfix'), np.str_('sisi'), np.str_('swrp')]\n",
            "✅ Events extracted from annotations: {np.str_('CELL'): 1, np.str_('SESS'): 2, np.str_('TRSP'): 3, np.str_('bgin'): 4, np.str_('epoc'): 5, np.str_('fcue'): 6, np.str_('fdot'): 7, np.str_('ffix'): 8, np.str_('fisi'): 9, np.str_('fwrp'): 10, np.str_('hcue'): 11, np.str_('hdot'): 12, np.str_('hfix'): 13, np.str_('hisi'): 14, np.str_('hwrp'): 15, np.str_('resp'): 16, np.str_('scue'): 17, np.str_('sdot'): 18, np.str_('sfix'): 19, np.str_('sisi'): 20, np.str_('swrp'): 21}\n",
            "Not setting metadata\n",
            "480 matching events found\n",
            "Setting baseline interval to [-0.2, 0.0] s\n",
            "Applying baseline correction (mode: mean)\n",
            "0 projection items activated\n",
            "Using data from preloaded Raw for 480 events and 251 original time points ...\n"
          ]
        },
        {
          "name": "stderr",
          "output_type": "stream",
          "text": [
            "[Parallel(n_jobs=1)]: Done 128 out of 128 | elapsed:    1.4s finished\n"
          ]
        },
        {
          "name": "stdout",
          "output_type": "stream",
          "text": [
            "0 bad epochs dropped\n",
            "Fitting ICA to data using 128 channels (please be patient, this may take a while)\n"
          ]
        },
        {
          "name": "stderr",
          "output_type": "stream",
          "text": [
            "/tmp/ipython-input-16-3467012358.py:59: RuntimeWarning: The epochs you passed to ICA.fit() were baseline-corrected. However, we suggest to fit ICA only on data that has been high-pass filtered, but NOT baseline-corrected.\n",
            "  ica.fit(epochs)\n"
          ]
        },
        {
          "name": "stdout",
          "output_type": "stream",
          "text": [
            "Selecting by number: 20 components\n",
            "Fitting ICA took 13.2s.\n",
            "⚠️ EOG not found, skipping EOG detection\n",
            "⚠️ ECG not found, skipping ECG detection\n",
            "Applying ICA to Epochs instance\n",
            "    Transforming to ICA space (20 components)\n",
            "    Zeroing out 0 ICA components\n",
            "    Projecting back using 128 PCA components\n"
          ]
        },
        {
          "name": "stderr",
          "output_type": "stream",
          "text": [
            "/tmp/ipython-input-16-3467012358.py:77: RuntimeWarning: The data you passed to ICA.apply() was baseline-corrected. Please note that ICA can introduce DC shifts, therefore you may wish to consider baseline-correcting the cleaned data again.\n",
            "  epochs_clean = ica.apply(epochs.copy())\n"
          ]
        },
        {
          "name": "stdout",
          "output_type": "stream",
          "text": [
            "EEG channel type selected for re-referencing\n",
            "Adding average EEG reference projection.\n",
            "1 projection items deactivated\n",
            "Average reference projection was added, but has not been applied yet. Use the apply_proj method to apply it.\n",
            "✅ Saved cleaned epochs: /content/drive/MyDrive/Cleaned_EEG_Epochs/subject_20_epo.fif\n",
            "Reading EGI header from /content/drive/MyDrive/EEG_128channels_ERP_lanzhou_2015/02010030erp 20160324 0915.raw...\n",
            "    Reading events ...\n",
            "    Assembling measurement info ...\n",
            "    Excluding events {} ...\n",
            "Reading 0 ... 205251  =      0.000 ...   821.004 secs...\n",
            "\n",
            "✔ Loaded: 02010030erp 20160324 0915.raw\n",
            "Filtering raw data in 1 contiguous segment\n",
            "Setting up band-pass filter from 0.1 - 30 Hz\n",
            "\n",
            "FIR filter parameters\n",
            "---------------------\n",
            "Designing a one-pass, zero-phase, non-causal bandpass filter:\n",
            "- Windowed time-domain design (firwin) method\n",
            "- Hamming window with 0.0194 passband ripple and 53 dB stopband attenuation\n",
            "- Lower passband edge: 0.10\n",
            "- Lower transition bandwidth: 0.10 Hz (-6 dB cutoff frequency: 0.05 Hz)\n",
            "- Upper passband edge: 30.00 Hz\n",
            "- Upper transition bandwidth: 7.50 Hz (-6 dB cutoff frequency: 33.75 Hz)\n",
            "- Filter length: 8251 samples (33.004 s)\n",
            "\n"
          ]
        },
        {
          "name": "stderr",
          "output_type": "stream",
          "text": [
            "[Parallel(n_jobs=1)]: Done  17 tasks      | elapsed:    0.2s\n",
            "[Parallel(n_jobs=1)]: Done  71 tasks      | elapsed:    0.7s\n"
          ]
        },
        {
          "name": "stdout",
          "output_type": "stream",
          "text": [
            "Used Annotations descriptions: [np.str_('CELL'), np.str_('SESS'), np.str_('TRSP'), np.str_('bgin'), np.str_('epoc'), np.str_('fcue'), np.str_('fdot'), np.str_('ffix'), np.str_('fisi'), np.str_('fwrp'), np.str_('hcue'), np.str_('hdot'), np.str_('hfix'), np.str_('hisi'), np.str_('hwrp'), np.str_('resp'), np.str_('scue'), np.str_('sdot'), np.str_('sfix'), np.str_('sisi'), np.str_('swrp')]\n",
            "✅ Events extracted from annotations: {np.str_('CELL'): 1, np.str_('SESS'): 2, np.str_('TRSP'): 3, np.str_('bgin'): 4, np.str_('epoc'): 5, np.str_('fcue'): 6, np.str_('fdot'): 7, np.str_('ffix'): 8, np.str_('fisi'): 9, np.str_('fwrp'): 10, np.str_('hcue'): 11, np.str_('hdot'): 12, np.str_('hfix'): 13, np.str_('hisi'): 14, np.str_('hwrp'): 15, np.str_('resp'): 16, np.str_('scue'): 17, np.str_('sdot'): 18, np.str_('sfix'): 19, np.str_('sisi'): 20, np.str_('swrp'): 21}\n",
            "Not setting metadata\n",
            "480 matching events found\n",
            "Setting baseline interval to [-0.2, 0.0] s\n",
            "Applying baseline correction (mode: mean)\n",
            "0 projection items activated\n",
            "Using data from preloaded Raw for 480 events and 251 original time points ...\n"
          ]
        },
        {
          "name": "stderr",
          "output_type": "stream",
          "text": [
            "[Parallel(n_jobs=1)]: Done 128 out of 128 | elapsed:    1.3s finished\n"
          ]
        },
        {
          "name": "stdout",
          "output_type": "stream",
          "text": [
            "0 bad epochs dropped\n",
            "Fitting ICA to data using 128 channels (please be patient, this may take a while)\n"
          ]
        },
        {
          "name": "stderr",
          "output_type": "stream",
          "text": [
            "/tmp/ipython-input-16-3467012358.py:59: RuntimeWarning: The epochs you passed to ICA.fit() were baseline-corrected. However, we suggest to fit ICA only on data that has been high-pass filtered, but NOT baseline-corrected.\n",
            "  ica.fit(epochs)\n"
          ]
        },
        {
          "name": "stdout",
          "output_type": "stream",
          "text": [
            "Selecting by number: 20 components\n",
            "Fitting ICA took 17.0s.\n",
            "⚠️ EOG not found, skipping EOG detection\n",
            "⚠️ ECG not found, skipping ECG detection\n",
            "Applying ICA to Epochs instance\n",
            "    Transforming to ICA space (20 components)\n",
            "    Zeroing out 0 ICA components\n",
            "    Projecting back using 128 PCA components\n"
          ]
        },
        {
          "name": "stderr",
          "output_type": "stream",
          "text": [
            "/tmp/ipython-input-16-3467012358.py:77: RuntimeWarning: The data you passed to ICA.apply() was baseline-corrected. Please note that ICA can introduce DC shifts, therefore you may wish to consider baseline-correcting the cleaned data again.\n",
            "  epochs_clean = ica.apply(epochs.copy())\n"
          ]
        },
        {
          "name": "stdout",
          "output_type": "stream",
          "text": [
            "EEG channel type selected for re-referencing\n",
            "Adding average EEG reference projection.\n",
            "1 projection items deactivated\n",
            "Average reference projection was added, but has not been applied yet. Use the apply_proj method to apply it.\n",
            "✅ Saved cleaned epochs: /content/drive/MyDrive/Cleaned_EEG_Epochs/subject_21_epo.fif\n",
            "Reading EGI header from /content/drive/MyDrive/EEG_128channels_ERP_lanzhou_2015/02010033erp 20160331 1307.raw...\n",
            "    Reading events ...\n",
            "    Assembling measurement info ...\n",
            "    Excluding events {} ...\n",
            "Reading 0 ... 200790  =      0.000 ...   803.160 secs...\n",
            "\n",
            "✔ Loaded: 02010033erp 20160331 1307.raw\n",
            "Filtering raw data in 1 contiguous segment\n",
            "Setting up band-pass filter from 0.1 - 30 Hz\n",
            "\n",
            "FIR filter parameters\n",
            "---------------------\n",
            "Designing a one-pass, zero-phase, non-causal bandpass filter:\n",
            "- Windowed time-domain design (firwin) method\n",
            "- Hamming window with 0.0194 passband ripple and 53 dB stopband attenuation\n",
            "- Lower passband edge: 0.10\n",
            "- Lower transition bandwidth: 0.10 Hz (-6 dB cutoff frequency: 0.05 Hz)\n",
            "- Upper passband edge: 30.00 Hz\n",
            "- Upper transition bandwidth: 7.50 Hz (-6 dB cutoff frequency: 33.75 Hz)\n",
            "- Filter length: 8251 samples (33.004 s)\n",
            "\n"
          ]
        },
        {
          "name": "stderr",
          "output_type": "stream",
          "text": [
            "[Parallel(n_jobs=1)]: Done  17 tasks      | elapsed:    0.2s\n",
            "[Parallel(n_jobs=1)]: Done  71 tasks      | elapsed:    0.8s\n"
          ]
        },
        {
          "name": "stdout",
          "output_type": "stream",
          "text": [
            "Used Annotations descriptions: [np.str_('CELL'), np.str_('SESS'), np.str_('TRSP'), np.str_('bgin'), np.str_('epoc'), np.str_('fcue'), np.str_('fdot'), np.str_('ffix'), np.str_('fisi'), np.str_('fwrp'), np.str_('hcue'), np.str_('hdot'), np.str_('hfix'), np.str_('hisi'), np.str_('hwrp'), np.str_('resp'), np.str_('scue'), np.str_('sdot'), np.str_('sfix'), np.str_('sisi'), np.str_('swrp')]\n",
            "✅ Events extracted from annotations: {np.str_('CELL'): 1, np.str_('SESS'): 2, np.str_('TRSP'): 3, np.str_('bgin'): 4, np.str_('epoc'): 5, np.str_('fcue'): 6, np.str_('fdot'): 7, np.str_('ffix'): 8, np.str_('fisi'): 9, np.str_('fwrp'): 10, np.str_('hcue'): 11, np.str_('hdot'): 12, np.str_('hfix'): 13, np.str_('hisi'): 14, np.str_('hwrp'): 15, np.str_('resp'): 16, np.str_('scue'): 17, np.str_('sdot'): 18, np.str_('sfix'): 19, np.str_('sisi'): 20, np.str_('swrp'): 21}\n",
            "Not setting metadata\n",
            "480 matching events found\n",
            "Setting baseline interval to [-0.2, 0.0] s\n",
            "Applying baseline correction (mode: mean)\n",
            "0 projection items activated\n",
            "Using data from preloaded Raw for 480 events and 251 original time points ...\n"
          ]
        },
        {
          "name": "stderr",
          "output_type": "stream",
          "text": [
            "[Parallel(n_jobs=1)]: Done 128 out of 128 | elapsed:    1.4s finished\n"
          ]
        },
        {
          "name": "stdout",
          "output_type": "stream",
          "text": [
            "1 bad epochs dropped\n",
            "Fitting ICA to data using 128 channels (please be patient, this may take a while)\n"
          ]
        },
        {
          "name": "stderr",
          "output_type": "stream",
          "text": [
            "/tmp/ipython-input-16-3467012358.py:59: RuntimeWarning: The epochs you passed to ICA.fit() were baseline-corrected. However, we suggest to fit ICA only on data that has been high-pass filtered, but NOT baseline-corrected.\n",
            "  ica.fit(epochs)\n"
          ]
        },
        {
          "name": "stdout",
          "output_type": "stream",
          "text": [
            "Selecting by number: 20 components\n",
            "Fitting ICA took 13.3s.\n",
            "⚠️ EOG not found, skipping EOG detection\n",
            "⚠️ ECG not found, skipping ECG detection\n",
            "Applying ICA to Epochs instance\n",
            "    Transforming to ICA space (20 components)\n",
            "    Zeroing out 0 ICA components\n",
            "    Projecting back using 128 PCA components\n"
          ]
        },
        {
          "name": "stderr",
          "output_type": "stream",
          "text": [
            "/tmp/ipython-input-16-3467012358.py:77: RuntimeWarning: The data you passed to ICA.apply() was baseline-corrected. Please note that ICA can introduce DC shifts, therefore you may wish to consider baseline-correcting the cleaned data again.\n",
            "  epochs_clean = ica.apply(epochs.copy())\n"
          ]
        },
        {
          "name": "stdout",
          "output_type": "stream",
          "text": [
            "EEG channel type selected for re-referencing\n",
            "Adding average EEG reference projection.\n",
            "1 projection items deactivated\n",
            "Average reference projection was added, but has not been applied yet. Use the apply_proj method to apply it.\n",
            "✅ Saved cleaned epochs: /content/drive/MyDrive/Cleaned_EEG_Epochs/subject_22_epo.fif\n",
            "Reading EGI header from /content/drive/MyDrive/EEG_128channels_ERP_lanzhou_2015/02010034erp 20160407 0959.raw...\n",
            "    Reading events ...\n",
            "    Assembling measurement info ...\n",
            "    Excluding events {} ...\n",
            "Reading 0 ... 289466  =      0.000 ...  1157.864 secs...\n",
            "\n",
            "✔ Loaded: 02010034erp 20160407 0959.raw\n",
            "Filtering raw data in 1 contiguous segment\n",
            "Setting up band-pass filter from 0.1 - 30 Hz\n",
            "\n",
            "FIR filter parameters\n",
            "---------------------\n",
            "Designing a one-pass, zero-phase, non-causal bandpass filter:\n",
            "- Windowed time-domain design (firwin) method\n",
            "- Hamming window with 0.0194 passband ripple and 53 dB stopband attenuation\n",
            "- Lower passband edge: 0.10\n",
            "- Lower transition bandwidth: 0.10 Hz (-6 dB cutoff frequency: 0.05 Hz)\n",
            "- Upper passband edge: 30.00 Hz\n",
            "- Upper transition bandwidth: 7.50 Hz (-6 dB cutoff frequency: 33.75 Hz)\n",
            "- Filter length: 8251 samples (33.004 s)\n",
            "\n"
          ]
        },
        {
          "name": "stderr",
          "output_type": "stream",
          "text": [
            "[Parallel(n_jobs=1)]: Done  17 tasks      | elapsed:    0.3s\n",
            "[Parallel(n_jobs=1)]: Done  71 tasks      | elapsed:    1.2s\n"
          ]
        },
        {
          "name": "stdout",
          "output_type": "stream",
          "text": [
            "Used Annotations descriptions: [np.str_('CELL'), np.str_('SESS'), np.str_('TRSP'), np.str_('bgin'), np.str_('epoc'), np.str_('fcue'), np.str_('fdot'), np.str_('ffix'), np.str_('fisi'), np.str_('fwrp'), np.str_('hcue'), np.str_('hdot'), np.str_('hfix'), np.str_('hisi'), np.str_('hwrp'), np.str_('resp'), np.str_('scue'), np.str_('sdot'), np.str_('sfix'), np.str_('sisi'), np.str_('swrp')]\n",
            "✅ Events extracted from annotations: {np.str_('CELL'): 1, np.str_('SESS'): 2, np.str_('TRSP'): 3, np.str_('bgin'): 4, np.str_('epoc'): 5, np.str_('fcue'): 6, np.str_('fdot'): 7, np.str_('ffix'): 8, np.str_('fisi'): 9, np.str_('fwrp'): 10, np.str_('hcue'): 11, np.str_('hdot'): 12, np.str_('hfix'): 13, np.str_('hisi'): 14, np.str_('hwrp'): 15, np.str_('resp'): 16, np.str_('scue'): 17, np.str_('sdot'): 18, np.str_('sfix'): 19, np.str_('sisi'): 20, np.str_('swrp'): 21}\n",
            "Not setting metadata\n",
            "480 matching events found\n",
            "Setting baseline interval to [-0.2, 0.0] s\n",
            "Applying baseline correction (mode: mean)\n",
            "0 projection items activated\n",
            "Using data from preloaded Raw for 480 events and 251 original time points ...\n"
          ]
        },
        {
          "name": "stderr",
          "output_type": "stream",
          "text": [
            "[Parallel(n_jobs=1)]: Done 128 out of 128 | elapsed:    2.1s finished\n"
          ]
        },
        {
          "name": "stdout",
          "output_type": "stream",
          "text": [
            "0 bad epochs dropped\n",
            "Fitting ICA to data using 128 channels (please be patient, this may take a while)\n"
          ]
        },
        {
          "name": "stderr",
          "output_type": "stream",
          "text": [
            "/tmp/ipython-input-16-3467012358.py:59: RuntimeWarning: The epochs you passed to ICA.fit() were baseline-corrected. However, we suggest to fit ICA only on data that has been high-pass filtered, but NOT baseline-corrected.\n",
            "  ica.fit(epochs)\n"
          ]
        },
        {
          "name": "stdout",
          "output_type": "stream",
          "text": [
            "Selecting by number: 20 components\n",
            "Fitting ICA took 17.8s.\n",
            "⚠️ EOG not found, skipping EOG detection\n",
            "⚠️ ECG not found, skipping ECG detection\n",
            "Applying ICA to Epochs instance\n",
            "    Transforming to ICA space (20 components)\n",
            "    Zeroing out 0 ICA components\n",
            "    Projecting back using 128 PCA components\n"
          ]
        },
        {
          "name": "stderr",
          "output_type": "stream",
          "text": [
            "/tmp/ipython-input-16-3467012358.py:77: RuntimeWarning: The data you passed to ICA.apply() was baseline-corrected. Please note that ICA can introduce DC shifts, therefore you may wish to consider baseline-correcting the cleaned data again.\n",
            "  epochs_clean = ica.apply(epochs.copy())\n"
          ]
        },
        {
          "name": "stdout",
          "output_type": "stream",
          "text": [
            "EEG channel type selected for re-referencing\n",
            "Adding average EEG reference projection.\n",
            "1 projection items deactivated\n",
            "Average reference projection was added, but has not been applied yet. Use the apply_proj method to apply it.\n",
            "✅ Saved cleaned epochs: /content/drive/MyDrive/Cleaned_EEG_Epochs/subject_23_epo.fif\n",
            "Reading EGI header from /content/drive/MyDrive/EEG_128channels_ERP_lanzhou_2015/02010036erp 20160408 1452.raw...\n",
            "    Reading events ...\n",
            "    Assembling measurement info ...\n",
            "    Excluding events {} ...\n",
            "Reading 0 ... 265003  =      0.000 ...  1060.012 secs...\n",
            "\n",
            "✔ Loaded: 02010036erp 20160408 1452.raw\n",
            "Filtering raw data in 1 contiguous segment\n",
            "Setting up band-pass filter from 0.1 - 30 Hz\n",
            "\n",
            "FIR filter parameters\n",
            "---------------------\n",
            "Designing a one-pass, zero-phase, non-causal bandpass filter:\n",
            "- Windowed time-domain design (firwin) method\n",
            "- Hamming window with 0.0194 passband ripple and 53 dB stopband attenuation\n",
            "- Lower passband edge: 0.10\n",
            "- Lower transition bandwidth: 0.10 Hz (-6 dB cutoff frequency: 0.05 Hz)\n",
            "- Upper passband edge: 30.00 Hz\n",
            "- Upper transition bandwidth: 7.50 Hz (-6 dB cutoff frequency: 33.75 Hz)\n",
            "- Filter length: 8251 samples (33.004 s)\n",
            "\n"
          ]
        },
        {
          "name": "stderr",
          "output_type": "stream",
          "text": [
            "[Parallel(n_jobs=1)]: Done  17 tasks      | elapsed:    0.2s\n",
            "[Parallel(n_jobs=1)]: Done  71 tasks      | elapsed:    1.0s\n"
          ]
        },
        {
          "name": "stdout",
          "output_type": "stream",
          "text": [
            "Used Annotations descriptions: [np.str_('CELL'), np.str_('SESS'), np.str_('TRSP'), np.str_('bgin'), np.str_('epoc'), np.str_('fcue'), np.str_('fdot'), np.str_('ffix'), np.str_('fisi'), np.str_('fwrp'), np.str_('hcue'), np.str_('hdot'), np.str_('hfix'), np.str_('hisi'), np.str_('hwrp'), np.str_('resp'), np.str_('scue'), np.str_('sdot'), np.str_('sfix'), np.str_('sisi'), np.str_('swrp')]\n",
            "✅ Events extracted from annotations: {np.str_('CELL'): 1, np.str_('SESS'): 2, np.str_('TRSP'): 3, np.str_('bgin'): 4, np.str_('epoc'): 5, np.str_('fcue'): 6, np.str_('fdot'): 7, np.str_('ffix'): 8, np.str_('fisi'): 9, np.str_('fwrp'): 10, np.str_('hcue'): 11, np.str_('hdot'): 12, np.str_('hfix'): 13, np.str_('hisi'): 14, np.str_('hwrp'): 15, np.str_('resp'): 16, np.str_('scue'): 17, np.str_('sdot'): 18, np.str_('sfix'): 19, np.str_('sisi'): 20, np.str_('swrp'): 21}\n",
            "Not setting metadata\n",
            "480 matching events found\n",
            "Setting baseline interval to [-0.2, 0.0] s\n",
            "Applying baseline correction (mode: mean)\n",
            "0 projection items activated\n",
            "Using data from preloaded Raw for 480 events and 251 original time points ...\n"
          ]
        },
        {
          "name": "stderr",
          "output_type": "stream",
          "text": [
            "[Parallel(n_jobs=1)]: Done 128 out of 128 | elapsed:    1.7s finished\n"
          ]
        },
        {
          "name": "stdout",
          "output_type": "stream",
          "text": [
            "0 bad epochs dropped\n",
            "Fitting ICA to data using 128 channels (please be patient, this may take a while)\n"
          ]
        },
        {
          "name": "stderr",
          "output_type": "stream",
          "text": [
            "/tmp/ipython-input-16-3467012358.py:59: RuntimeWarning: The epochs you passed to ICA.fit() were baseline-corrected. However, we suggest to fit ICA only on data that has been high-pass filtered, but NOT baseline-corrected.\n",
            "  ica.fit(epochs)\n"
          ]
        },
        {
          "name": "stdout",
          "output_type": "stream",
          "text": [
            "Selecting by number: 20 components\n",
            "Fitting ICA took 13.9s.\n",
            "⚠️ EOG not found, skipping EOG detection\n",
            "⚠️ ECG not found, skipping ECG detection\n",
            "Applying ICA to Epochs instance\n",
            "    Transforming to ICA space (20 components)\n",
            "    Zeroing out 0 ICA components\n",
            "    Projecting back using 128 PCA components\n"
          ]
        },
        {
          "name": "stderr",
          "output_type": "stream",
          "text": [
            "/tmp/ipython-input-16-3467012358.py:77: RuntimeWarning: The data you passed to ICA.apply() was baseline-corrected. Please note that ICA can introduce DC shifts, therefore you may wish to consider baseline-correcting the cleaned data again.\n",
            "  epochs_clean = ica.apply(epochs.copy())\n"
          ]
        },
        {
          "name": "stdout",
          "output_type": "stream",
          "text": [
            "EEG channel type selected for re-referencing\n",
            "Adding average EEG reference projection.\n",
            "1 projection items deactivated\n",
            "Average reference projection was added, but has not been applied yet. Use the apply_proj method to apply it.\n",
            "✅ Saved cleaned epochs: /content/drive/MyDrive/Cleaned_EEG_Epochs/subject_24_epo.fif\n",
            "Reading EGI header from /content/drive/MyDrive/EEG_128channels_ERP_lanzhou_2015/02020008_erp 20150624 1740.raw...\n",
            "    Reading events ...\n",
            "    Assembling measurement info ...\n",
            "    Excluding events {} ...\n",
            "Reading 0 ... 208802  =      0.000 ...   835.208 secs...\n",
            "\n",
            "✔ Loaded: 02020008_erp 20150624 1740.raw\n",
            "Filtering raw data in 1 contiguous segment\n",
            "Setting up band-pass filter from 0.1 - 30 Hz\n",
            "\n",
            "FIR filter parameters\n",
            "---------------------\n",
            "Designing a one-pass, zero-phase, non-causal bandpass filter:\n",
            "- Windowed time-domain design (firwin) method\n",
            "- Hamming window with 0.0194 passband ripple and 53 dB stopband attenuation\n",
            "- Lower passband edge: 0.10\n",
            "- Lower transition bandwidth: 0.10 Hz (-6 dB cutoff frequency: 0.05 Hz)\n",
            "- Upper passband edge: 30.00 Hz\n",
            "- Upper transition bandwidth: 7.50 Hz (-6 dB cutoff frequency: 33.75 Hz)\n",
            "- Filter length: 8251 samples (33.004 s)\n",
            "\n"
          ]
        },
        {
          "name": "stderr",
          "output_type": "stream",
          "text": [
            "[Parallel(n_jobs=1)]: Done  17 tasks      | elapsed:    0.2s\n",
            "[Parallel(n_jobs=1)]: Done  71 tasks      | elapsed:    0.7s\n"
          ]
        },
        {
          "name": "stdout",
          "output_type": "stream",
          "text": [
            "Used Annotations descriptions: [np.str_('CELL'), np.str_('SESS'), np.str_('TRSP'), np.str_('bgin'), np.str_('epoc'), np.str_('fcue'), np.str_('fdot'), np.str_('ffix'), np.str_('fisi'), np.str_('fwrp'), np.str_('hcue'), np.str_('hdot'), np.str_('hfix'), np.str_('hisi'), np.str_('hwrp'), np.str_('resp'), np.str_('scue'), np.str_('sdot'), np.str_('sfix'), np.str_('sisi'), np.str_('swrp')]\n",
            "✅ Events extracted from annotations: {np.str_('CELL'): 1, np.str_('SESS'): 2, np.str_('TRSP'): 3, np.str_('bgin'): 4, np.str_('epoc'): 5, np.str_('fcue'): 6, np.str_('fdot'): 7, np.str_('ffix'): 8, np.str_('fisi'): 9, np.str_('fwrp'): 10, np.str_('hcue'): 11, np.str_('hdot'): 12, np.str_('hfix'): 13, np.str_('hisi'): 14, np.str_('hwrp'): 15, np.str_('resp'): 16, np.str_('scue'): 17, np.str_('sdot'): 18, np.str_('sfix'): 19, np.str_('sisi'): 20, np.str_('swrp'): 21}\n",
            "Not setting metadata\n",
            "480 matching events found\n",
            "Setting baseline interval to [-0.2, 0.0] s\n",
            "Applying baseline correction (mode: mean)\n",
            "0 projection items activated\n",
            "Using data from preloaded Raw for 480 events and 251 original time points ...\n"
          ]
        },
        {
          "name": "stderr",
          "output_type": "stream",
          "text": [
            "[Parallel(n_jobs=1)]: Done 128 out of 128 | elapsed:    1.3s finished\n"
          ]
        },
        {
          "name": "stdout",
          "output_type": "stream",
          "text": [
            "0 bad epochs dropped\n",
            "Fitting ICA to data using 128 channels (please be patient, this may take a while)\n"
          ]
        },
        {
          "name": "stderr",
          "output_type": "stream",
          "text": [
            "/tmp/ipython-input-16-3467012358.py:59: RuntimeWarning: The epochs you passed to ICA.fit() were baseline-corrected. However, we suggest to fit ICA only on data that has been high-pass filtered, but NOT baseline-corrected.\n",
            "  ica.fit(epochs)\n"
          ]
        },
        {
          "name": "stdout",
          "output_type": "stream",
          "text": [
            "Selecting by number: 20 components\n",
            "Fitting ICA took 15.4s.\n",
            "⚠️ EOG not found, skipping EOG detection\n",
            "⚠️ ECG not found, skipping ECG detection\n",
            "Applying ICA to Epochs instance\n",
            "    Transforming to ICA space (20 components)\n",
            "    Zeroing out 0 ICA components\n",
            "    Projecting back using 128 PCA components\n"
          ]
        },
        {
          "name": "stderr",
          "output_type": "stream",
          "text": [
            "/tmp/ipython-input-16-3467012358.py:77: RuntimeWarning: The data you passed to ICA.apply() was baseline-corrected. Please note that ICA can introduce DC shifts, therefore you may wish to consider baseline-correcting the cleaned data again.\n",
            "  epochs_clean = ica.apply(epochs.copy())\n"
          ]
        },
        {
          "name": "stdout",
          "output_type": "stream",
          "text": [
            "EEG channel type selected for re-referencing\n",
            "Adding average EEG reference projection.\n",
            "1 projection items deactivated\n",
            "Average reference projection was added, but has not been applied yet. Use the apply_proj method to apply it.\n",
            "✅ Saved cleaned epochs: /content/drive/MyDrive/Cleaned_EEG_Epochs/subject_25_epo.fif\n",
            "Reading EGI header from /content/drive/MyDrive/EEG_128channels_ERP_lanzhou_2015/02020010_erp 20150625 1244.raw...\n",
            "    Reading events ...\n",
            "    Assembling measurement info ...\n",
            "    Excluding events {} ...\n",
            "Reading 0 ... 216153  =      0.000 ...   864.612 secs...\n",
            "\n",
            "✔ Loaded: 02020010_erp 20150625 1244.raw\n",
            "Filtering raw data in 1 contiguous segment\n",
            "Setting up band-pass filter from 0.1 - 30 Hz\n",
            "\n",
            "FIR filter parameters\n",
            "---------------------\n",
            "Designing a one-pass, zero-phase, non-causal bandpass filter:\n",
            "- Windowed time-domain design (firwin) method\n",
            "- Hamming window with 0.0194 passband ripple and 53 dB stopband attenuation\n",
            "- Lower passband edge: 0.10\n",
            "- Lower transition bandwidth: 0.10 Hz (-6 dB cutoff frequency: 0.05 Hz)\n",
            "- Upper passband edge: 30.00 Hz\n",
            "- Upper transition bandwidth: 7.50 Hz (-6 dB cutoff frequency: 33.75 Hz)\n",
            "- Filter length: 8251 samples (33.004 s)\n",
            "\n"
          ]
        },
        {
          "name": "stderr",
          "output_type": "stream",
          "text": [
            "[Parallel(n_jobs=1)]: Done  17 tasks      | elapsed:    0.2s\n",
            "[Parallel(n_jobs=1)]: Done  71 tasks      | elapsed:    0.8s\n"
          ]
        },
        {
          "name": "stdout",
          "output_type": "stream",
          "text": [
            "Used Annotations descriptions: [np.str_('CELL'), np.str_('SESS'), np.str_('TRSP'), np.str_('bgin'), np.str_('epoc'), np.str_('fcue'), np.str_('fdot'), np.str_('ffix'), np.str_('fisi'), np.str_('fwrp'), np.str_('hcue'), np.str_('hdot'), np.str_('hfix'), np.str_('hisi'), np.str_('hwrp'), np.str_('resp'), np.str_('scue'), np.str_('sdot'), np.str_('sfix'), np.str_('sisi'), np.str_('swrp')]\n",
            "✅ Events extracted from annotations: {np.str_('CELL'): 1, np.str_('SESS'): 2, np.str_('TRSP'): 3, np.str_('bgin'): 4, np.str_('epoc'): 5, np.str_('fcue'): 6, np.str_('fdot'): 7, np.str_('ffix'): 8, np.str_('fisi'): 9, np.str_('fwrp'): 10, np.str_('hcue'): 11, np.str_('hdot'): 12, np.str_('hfix'): 13, np.str_('hisi'): 14, np.str_('hwrp'): 15, np.str_('resp'): 16, np.str_('scue'): 17, np.str_('sdot'): 18, np.str_('sfix'): 19, np.str_('sisi'): 20, np.str_('swrp'): 21}\n",
            "Not setting metadata\n",
            "480 matching events found\n",
            "Setting baseline interval to [-0.2, 0.0] s\n",
            "Applying baseline correction (mode: mean)\n",
            "0 projection items activated\n",
            "Using data from preloaded Raw for 480 events and 251 original time points ...\n"
          ]
        },
        {
          "name": "stderr",
          "output_type": "stream",
          "text": [
            "[Parallel(n_jobs=1)]: Done 128 out of 128 | elapsed:    1.4s finished\n"
          ]
        },
        {
          "name": "stdout",
          "output_type": "stream",
          "text": [
            "0 bad epochs dropped\n",
            "Fitting ICA to data using 128 channels (please be patient, this may take a while)\n"
          ]
        },
        {
          "name": "stderr",
          "output_type": "stream",
          "text": [
            "/tmp/ipython-input-16-3467012358.py:59: RuntimeWarning: The epochs you passed to ICA.fit() were baseline-corrected. However, we suggest to fit ICA only on data that has been high-pass filtered, but NOT baseline-corrected.\n",
            "  ica.fit(epochs)\n"
          ]
        },
        {
          "name": "stdout",
          "output_type": "stream",
          "text": [
            "Selecting by number: 20 components\n",
            "Fitting ICA took 12.8s.\n",
            "⚠️ EOG not found, skipping EOG detection\n",
            "⚠️ ECG not found, skipping ECG detection\n",
            "Applying ICA to Epochs instance\n",
            "    Transforming to ICA space (20 components)\n",
            "    Zeroing out 0 ICA components\n",
            "    Projecting back using 128 PCA components\n"
          ]
        },
        {
          "name": "stderr",
          "output_type": "stream",
          "text": [
            "/tmp/ipython-input-16-3467012358.py:77: RuntimeWarning: The data you passed to ICA.apply() was baseline-corrected. Please note that ICA can introduce DC shifts, therefore you may wish to consider baseline-correcting the cleaned data again.\n",
            "  epochs_clean = ica.apply(epochs.copy())\n"
          ]
        },
        {
          "name": "stdout",
          "output_type": "stream",
          "text": [
            "EEG channel type selected for re-referencing\n",
            "Adding average EEG reference projection.\n",
            "1 projection items deactivated\n",
            "Average reference projection was added, but has not been applied yet. Use the apply_proj method to apply it.\n",
            "✅ Saved cleaned epochs: /content/drive/MyDrive/Cleaned_EEG_Epochs/subject_26_epo.fif\n",
            "Reading EGI header from /content/drive/MyDrive/EEG_128channels_ERP_lanzhou_2015/02020013_erp 20150629 1622.raw...\n",
            "    Reading events ...\n",
            "    Assembling measurement info ...\n",
            "    Excluding events {} ...\n",
            "Reading 0 ... 203564  =      0.000 ...   814.256 secs...\n",
            "\n",
            "✔ Loaded: 02020013_erp 20150629 1622.raw\n",
            "Filtering raw data in 1 contiguous segment\n",
            "Setting up band-pass filter from 0.1 - 30 Hz\n",
            "\n",
            "FIR filter parameters\n",
            "---------------------\n",
            "Designing a one-pass, zero-phase, non-causal bandpass filter:\n",
            "- Windowed time-domain design (firwin) method\n",
            "- Hamming window with 0.0194 passband ripple and 53 dB stopband attenuation\n",
            "- Lower passband edge: 0.10\n",
            "- Lower transition bandwidth: 0.10 Hz (-6 dB cutoff frequency: 0.05 Hz)\n",
            "- Upper passband edge: 30.00 Hz\n",
            "- Upper transition bandwidth: 7.50 Hz (-6 dB cutoff frequency: 33.75 Hz)\n",
            "- Filter length: 8251 samples (33.004 s)\n",
            "\n"
          ]
        },
        {
          "name": "stderr",
          "output_type": "stream",
          "text": [
            "[Parallel(n_jobs=1)]: Done  17 tasks      | elapsed:    0.2s\n",
            "[Parallel(n_jobs=1)]: Done  71 tasks      | elapsed:    0.7s\n"
          ]
        },
        {
          "name": "stdout",
          "output_type": "stream",
          "text": [
            "Used Annotations descriptions: [np.str_('CELL'), np.str_('SESS'), np.str_('TRSP'), np.str_('bgin'), np.str_('epoc'), np.str_('fcue'), np.str_('fdot'), np.str_('ffix'), np.str_('fisi'), np.str_('fwrp'), np.str_('hcue'), np.str_('hdot'), np.str_('hfix'), np.str_('hisi'), np.str_('hwrp'), np.str_('resp'), np.str_('scue'), np.str_('sdot'), np.str_('sfix'), np.str_('sisi'), np.str_('swrp')]\n",
            "✅ Events extracted from annotations: {np.str_('CELL'): 1, np.str_('SESS'): 2, np.str_('TRSP'): 3, np.str_('bgin'): 4, np.str_('epoc'): 5, np.str_('fcue'): 6, np.str_('fdot'): 7, np.str_('ffix'): 8, np.str_('fisi'): 9, np.str_('fwrp'): 10, np.str_('hcue'): 11, np.str_('hdot'): 12, np.str_('hfix'): 13, np.str_('hisi'): 14, np.str_('hwrp'): 15, np.str_('resp'): 16, np.str_('scue'): 17, np.str_('sdot'): 18, np.str_('sfix'): 19, np.str_('sisi'): 20, np.str_('swrp'): 21}\n",
            "Not setting metadata\n",
            "480 matching events found\n",
            "Setting baseline interval to [-0.2, 0.0] s\n",
            "Applying baseline correction (mode: mean)\n",
            "0 projection items activated\n",
            "Using data from preloaded Raw for 480 events and 251 original time points ...\n"
          ]
        },
        {
          "name": "stderr",
          "output_type": "stream",
          "text": [
            "[Parallel(n_jobs=1)]: Done 128 out of 128 | elapsed:    1.4s finished\n"
          ]
        },
        {
          "name": "stdout",
          "output_type": "stream",
          "text": [
            "0 bad epochs dropped\n",
            "Fitting ICA to data using 128 channels (please be patient, this may take a while)\n"
          ]
        },
        {
          "name": "stderr",
          "output_type": "stream",
          "text": [
            "/tmp/ipython-input-16-3467012358.py:59: RuntimeWarning: The epochs you passed to ICA.fit() were baseline-corrected. However, we suggest to fit ICA only on data that has been high-pass filtered, but NOT baseline-corrected.\n",
            "  ica.fit(epochs)\n"
          ]
        },
        {
          "name": "stdout",
          "output_type": "stream",
          "text": [
            "Selecting by number: 20 components\n",
            "Fitting ICA took 17.5s.\n",
            "⚠️ EOG not found, skipping EOG detection\n",
            "⚠️ ECG not found, skipping ECG detection\n",
            "Applying ICA to Epochs instance\n",
            "    Transforming to ICA space (20 components)\n",
            "    Zeroing out 0 ICA components\n"
          ]
        },
        {
          "name": "stderr",
          "output_type": "stream",
          "text": [
            "/tmp/ipython-input-16-3467012358.py:77: RuntimeWarning: The data you passed to ICA.apply() was baseline-corrected. Please note that ICA can introduce DC shifts, therefore you may wish to consider baseline-correcting the cleaned data again.\n",
            "  epochs_clean = ica.apply(epochs.copy())\n"
          ]
        },
        {
          "name": "stdout",
          "output_type": "stream",
          "text": [
            "    Projecting back using 128 PCA components\n",
            "EEG channel type selected for re-referencing\n",
            "Adding average EEG reference projection.\n",
            "1 projection items deactivated\n",
            "Average reference projection was added, but has not been applied yet. Use the apply_proj method to apply it.\n",
            "✅ Saved cleaned epochs: /content/drive/MyDrive/Cleaned_EEG_Epochs/subject_27_epo.fif\n",
            "Reading EGI header from /content/drive/MyDrive/EEG_128channels_ERP_lanzhou_2015/02020014_erp 20150630 1052.raw...\n",
            "    Reading events ...\n",
            "    Assembling measurement info ...\n",
            "    Excluding events {} ...\n",
            "Reading 0 ... 200778  =      0.000 ...   803.112 secs...\n",
            "\n",
            "✔ Loaded: 02020014_erp 20150630 1052.raw\n",
            "Filtering raw data in 1 contiguous segment\n",
            "Setting up band-pass filter from 0.1 - 30 Hz\n",
            "\n",
            "FIR filter parameters\n",
            "---------------------\n",
            "Designing a one-pass, zero-phase, non-causal bandpass filter:\n",
            "- Windowed time-domain design (firwin) method\n",
            "- Hamming window with 0.0194 passband ripple and 53 dB stopband attenuation\n",
            "- Lower passband edge: 0.10\n",
            "- Lower transition bandwidth: 0.10 Hz (-6 dB cutoff frequency: 0.05 Hz)\n",
            "- Upper passband edge: 30.00 Hz\n",
            "- Upper transition bandwidth: 7.50 Hz (-6 dB cutoff frequency: 33.75 Hz)\n",
            "- Filter length: 8251 samples (33.004 s)\n",
            "\n"
          ]
        },
        {
          "name": "stderr",
          "output_type": "stream",
          "text": [
            "[Parallel(n_jobs=1)]: Done  17 tasks      | elapsed:    0.3s\n",
            "[Parallel(n_jobs=1)]: Done  71 tasks      | elapsed:    1.1s\n"
          ]
        },
        {
          "name": "stdout",
          "output_type": "stream",
          "text": [
            "Used Annotations descriptions: [np.str_('CELL'), np.str_('SESS'), np.str_('TRSP'), np.str_('bgin'), np.str_('epoc'), np.str_('fcue'), np.str_('fdot'), np.str_('ffix'), np.str_('fisi'), np.str_('fwrp'), np.str_('hcue'), np.str_('hdot'), np.str_('hfix'), np.str_('hisi'), np.str_('hwrp'), np.str_('resp'), np.str_('scue'), np.str_('sdot'), np.str_('sfix'), np.str_('sisi'), np.str_('swrp')]\n",
            "✅ Events extracted from annotations: {np.str_('CELL'): 1, np.str_('SESS'): 2, np.str_('TRSP'): 3, np.str_('bgin'): 4, np.str_('epoc'): 5, np.str_('fcue'): 6, np.str_('fdot'): 7, np.str_('ffix'): 8, np.str_('fisi'): 9, np.str_('fwrp'): 10, np.str_('hcue'): 11, np.str_('hdot'): 12, np.str_('hfix'): 13, np.str_('hisi'): 14, np.str_('hwrp'): 15, np.str_('resp'): 16, np.str_('scue'): 17, np.str_('sdot'): 18, np.str_('sfix'): 19, np.str_('sisi'): 20, np.str_('swrp'): 21}\n",
            "Not setting metadata\n",
            "480 matching events found\n",
            "Setting baseline interval to [-0.2, 0.0] s\n",
            "Applying baseline correction (mode: mean)\n",
            "0 projection items activated\n",
            "Using data from preloaded Raw for 480 events and 251 original time points ...\n"
          ]
        },
        {
          "name": "stderr",
          "output_type": "stream",
          "text": [
            "[Parallel(n_jobs=1)]: Done 128 out of 128 | elapsed:    2.1s finished\n"
          ]
        },
        {
          "name": "stdout",
          "output_type": "stream",
          "text": [
            "0 bad epochs dropped\n",
            "Fitting ICA to data using 128 channels (please be patient, this may take a while)\n"
          ]
        },
        {
          "name": "stderr",
          "output_type": "stream",
          "text": [
            "/tmp/ipython-input-16-3467012358.py:59: RuntimeWarning: The epochs you passed to ICA.fit() were baseline-corrected. However, we suggest to fit ICA only on data that has been high-pass filtered, but NOT baseline-corrected.\n",
            "  ica.fit(epochs)\n"
          ]
        },
        {
          "name": "stdout",
          "output_type": "stream",
          "text": [
            "Selecting by number: 20 components\n",
            "Fitting ICA took 17.7s.\n",
            "⚠️ EOG not found, skipping EOG detection\n",
            "⚠️ ECG not found, skipping ECG detection\n",
            "Applying ICA to Epochs instance\n",
            "    Transforming to ICA space (20 components)\n",
            "    Zeroing out 0 ICA components\n",
            "    Projecting back using 128 PCA components\n"
          ]
        },
        {
          "name": "stderr",
          "output_type": "stream",
          "text": [
            "/tmp/ipython-input-16-3467012358.py:77: RuntimeWarning: The data you passed to ICA.apply() was baseline-corrected. Please note that ICA can introduce DC shifts, therefore you may wish to consider baseline-correcting the cleaned data again.\n",
            "  epochs_clean = ica.apply(epochs.copy())\n"
          ]
        },
        {
          "name": "stdout",
          "output_type": "stream",
          "text": [
            "EEG channel type selected for re-referencing\n",
            "Adding average EEG reference projection.\n",
            "1 projection items deactivated\n",
            "Average reference projection was added, but has not been applied yet. Use the apply_proj method to apply it.\n",
            "✅ Saved cleaned epochs: /content/drive/MyDrive/Cleaned_EEG_Epochs/subject_28_epo.fif\n",
            "Reading EGI header from /content/drive/MyDrive/EEG_128channels_ERP_lanzhou_2015/02020015_erp 20150630 1547.raw...\n",
            "    Reading events ...\n",
            "    Assembling measurement info ...\n",
            "    Excluding events {} ...\n",
            "Reading 0 ... 194990  =      0.000 ...   779.960 secs...\n",
            "\n",
            "✔ Loaded: 02020015_erp 20150630 1547.raw\n",
            "Filtering raw data in 1 contiguous segment\n",
            "Setting up band-pass filter from 0.1 - 30 Hz\n",
            "\n",
            "FIR filter parameters\n",
            "---------------------\n",
            "Designing a one-pass, zero-phase, non-causal bandpass filter:\n",
            "- Windowed time-domain design (firwin) method\n",
            "- Hamming window with 0.0194 passband ripple and 53 dB stopband attenuation\n",
            "- Lower passband edge: 0.10\n",
            "- Lower transition bandwidth: 0.10 Hz (-6 dB cutoff frequency: 0.05 Hz)\n",
            "- Upper passband edge: 30.00 Hz\n",
            "- Upper transition bandwidth: 7.50 Hz (-6 dB cutoff frequency: 33.75 Hz)\n",
            "- Filter length: 8251 samples (33.004 s)\n",
            "\n"
          ]
        },
        {
          "name": "stderr",
          "output_type": "stream",
          "text": [
            "[Parallel(n_jobs=1)]: Done  17 tasks      | elapsed:    0.2s\n",
            "[Parallel(n_jobs=1)]: Done  71 tasks      | elapsed:    0.7s\n"
          ]
        },
        {
          "name": "stdout",
          "output_type": "stream",
          "text": [
            "Used Annotations descriptions: [np.str_('CELL'), np.str_('SESS'), np.str_('TRSP'), np.str_('bgin'), np.str_('epoc'), np.str_('fcue'), np.str_('fdot'), np.str_('ffix'), np.str_('fisi'), np.str_('fwrp'), np.str_('hcue'), np.str_('hdot'), np.str_('hfix'), np.str_('hisi'), np.str_('hwrp'), np.str_('resp'), np.str_('scue'), np.str_('sdot'), np.str_('sfix'), np.str_('sisi'), np.str_('swrp')]\n",
            "✅ Events extracted from annotations: {np.str_('CELL'): 1, np.str_('SESS'): 2, np.str_('TRSP'): 3, np.str_('bgin'): 4, np.str_('epoc'): 5, np.str_('fcue'): 6, np.str_('fdot'): 7, np.str_('ffix'): 8, np.str_('fisi'): 9, np.str_('fwrp'): 10, np.str_('hcue'): 11, np.str_('hdot'): 12, np.str_('hfix'): 13, np.str_('hisi'): 14, np.str_('hwrp'): 15, np.str_('resp'): 16, np.str_('scue'): 17, np.str_('sdot'): 18, np.str_('sfix'): 19, np.str_('sisi'): 20, np.str_('swrp'): 21}\n",
            "Not setting metadata\n",
            "480 matching events found\n",
            "Setting baseline interval to [-0.2, 0.0] s\n",
            "Applying baseline correction (mode: mean)\n",
            "0 projection items activated\n",
            "Using data from preloaded Raw for 480 events and 251 original time points ...\n"
          ]
        },
        {
          "name": "stderr",
          "output_type": "stream",
          "text": [
            "[Parallel(n_jobs=1)]: Done 128 out of 128 | elapsed:    1.3s finished\n"
          ]
        },
        {
          "name": "stdout",
          "output_type": "stream",
          "text": [
            "1 bad epochs dropped\n",
            "Fitting ICA to data using 128 channels (please be patient, this may take a while)\n"
          ]
        },
        {
          "name": "stderr",
          "output_type": "stream",
          "text": [
            "/tmp/ipython-input-16-3467012358.py:59: RuntimeWarning: The epochs you passed to ICA.fit() were baseline-corrected. However, we suggest to fit ICA only on data that has been high-pass filtered, but NOT baseline-corrected.\n",
            "  ica.fit(epochs)\n"
          ]
        },
        {
          "name": "stdout",
          "output_type": "stream",
          "text": [
            "Selecting by number: 20 components\n",
            "Fitting ICA took 13.3s.\n",
            "⚠️ EOG not found, skipping EOG detection\n",
            "⚠️ ECG not found, skipping ECG detection\n",
            "Applying ICA to Epochs instance\n",
            "    Transforming to ICA space (20 components)\n",
            "    Zeroing out 0 ICA components\n",
            "    Projecting back using 128 PCA components\n"
          ]
        },
        {
          "name": "stderr",
          "output_type": "stream",
          "text": [
            "/tmp/ipython-input-16-3467012358.py:77: RuntimeWarning: The data you passed to ICA.apply() was baseline-corrected. Please note that ICA can introduce DC shifts, therefore you may wish to consider baseline-correcting the cleaned data again.\n",
            "  epochs_clean = ica.apply(epochs.copy())\n"
          ]
        },
        {
          "name": "stdout",
          "output_type": "stream",
          "text": [
            "EEG channel type selected for re-referencing\n",
            "Adding average EEG reference projection.\n",
            "1 projection items deactivated\n",
            "Average reference projection was added, but has not been applied yet. Use the apply_proj method to apply it.\n",
            "✅ Saved cleaned epochs: /content/drive/MyDrive/Cleaned_EEG_Epochs/subject_29_epo.fif\n",
            "Reading EGI header from /content/drive/MyDrive/EEG_128channels_ERP_lanzhou_2015/02020016_erp 20150701 1054.raw...\n",
            "    Reading events ...\n",
            "    Assembling measurement info ...\n",
            "    Excluding events {} ...\n",
            "Reading 0 ... 198414  =      0.000 ...   793.656 secs...\n",
            "\n",
            "✔ Loaded: 02020016_erp 20150701 1054.raw\n",
            "Filtering raw data in 1 contiguous segment\n",
            "Setting up band-pass filter from 0.1 - 30 Hz\n",
            "\n",
            "FIR filter parameters\n",
            "---------------------\n",
            "Designing a one-pass, zero-phase, non-causal bandpass filter:\n",
            "- Windowed time-domain design (firwin) method\n",
            "- Hamming window with 0.0194 passband ripple and 53 dB stopband attenuation\n",
            "- Lower passband edge: 0.10\n",
            "- Lower transition bandwidth: 0.10 Hz (-6 dB cutoff frequency: 0.05 Hz)\n",
            "- Upper passband edge: 30.00 Hz\n",
            "- Upper transition bandwidth: 7.50 Hz (-6 dB cutoff frequency: 33.75 Hz)\n",
            "- Filter length: 8251 samples (33.004 s)\n",
            "\n"
          ]
        },
        {
          "name": "stderr",
          "output_type": "stream",
          "text": [
            "[Parallel(n_jobs=1)]: Done  17 tasks      | elapsed:    0.3s\n",
            "[Parallel(n_jobs=1)]: Done  71 tasks      | elapsed:    1.1s\n"
          ]
        },
        {
          "name": "stdout",
          "output_type": "stream",
          "text": [
            "Used Annotations descriptions: [np.str_('CELL'), np.str_('SESS'), np.str_('TRSP'), np.str_('bgin'), np.str_('epoc'), np.str_('fcue'), np.str_('fdot'), np.str_('ffix'), np.str_('fisi'), np.str_('fwrp'), np.str_('hcue'), np.str_('hdot'), np.str_('hfix'), np.str_('hisi'), np.str_('hwrp'), np.str_('resp'), np.str_('scue'), np.str_('sdot'), np.str_('sfix'), np.str_('sisi'), np.str_('swrp')]\n",
            "✅ Events extracted from annotations: {np.str_('CELL'): 1, np.str_('SESS'): 2, np.str_('TRSP'): 3, np.str_('bgin'): 4, np.str_('epoc'): 5, np.str_('fcue'): 6, np.str_('fdot'): 7, np.str_('ffix'): 8, np.str_('fisi'): 9, np.str_('fwrp'): 10, np.str_('hcue'): 11, np.str_('hdot'): 12, np.str_('hfix'): 13, np.str_('hisi'): 14, np.str_('hwrp'): 15, np.str_('resp'): 16, np.str_('scue'): 17, np.str_('sdot'): 18, np.str_('sfix'): 19, np.str_('sisi'): 20, np.str_('swrp'): 21}\n",
            "Not setting metadata\n",
            "480 matching events found\n",
            "Setting baseline interval to [-0.2, 0.0] s\n",
            "Applying baseline correction (mode: mean)\n",
            "0 projection items activated\n",
            "Using data from preloaded Raw for 480 events and 251 original time points ...\n"
          ]
        },
        {
          "name": "stderr",
          "output_type": "stream",
          "text": [
            "[Parallel(n_jobs=1)]: Done 128 out of 128 | elapsed:    1.7s finished\n"
          ]
        },
        {
          "name": "stdout",
          "output_type": "stream",
          "text": [
            "0 bad epochs dropped\n",
            "Fitting ICA to data using 128 channels (please be patient, this may take a while)\n"
          ]
        },
        {
          "name": "stderr",
          "output_type": "stream",
          "text": [
            "/tmp/ipython-input-16-3467012358.py:59: RuntimeWarning: The epochs you passed to ICA.fit() were baseline-corrected. However, we suggest to fit ICA only on data that has been high-pass filtered, but NOT baseline-corrected.\n",
            "  ica.fit(epochs)\n"
          ]
        },
        {
          "name": "stdout",
          "output_type": "stream",
          "text": [
            "Selecting by number: 20 components\n",
            "Fitting ICA took 16.4s.\n",
            "⚠️ EOG not found, skipping EOG detection\n",
            "⚠️ ECG not found, skipping ECG detection\n",
            "Applying ICA to Epochs instance\n",
            "    Transforming to ICA space (20 components)\n",
            "    Zeroing out 0 ICA components\n",
            "    Projecting back using 128 PCA components\n"
          ]
        },
        {
          "name": "stderr",
          "output_type": "stream",
          "text": [
            "/tmp/ipython-input-16-3467012358.py:77: RuntimeWarning: The data you passed to ICA.apply() was baseline-corrected. Please note that ICA can introduce DC shifts, therefore you may wish to consider baseline-correcting the cleaned data again.\n",
            "  epochs_clean = ica.apply(epochs.copy())\n"
          ]
        },
        {
          "name": "stdout",
          "output_type": "stream",
          "text": [
            "EEG channel type selected for re-referencing\n",
            "Adding average EEG reference projection.\n",
            "1 projection items deactivated\n",
            "Average reference projection was added, but has not been applied yet. Use the apply_proj method to apply it.\n",
            "✅ Saved cleaned epochs: /content/drive/MyDrive/Cleaned_EEG_Epochs/subject_30_epo.fif\n",
            "Reading EGI header from /content/drive/MyDrive/EEG_128channels_ERP_lanzhou_2015/02020018_erp 20150702 1721.raw...\n",
            "    Reading events ...\n",
            "    Assembling measurement info ...\n",
            "    Excluding events {} ...\n",
            "Reading 0 ... 201202  =      0.000 ...   804.808 secs...\n",
            "\n",
            "✔ Loaded: 02020018_erp 20150702 1721.raw\n",
            "Filtering raw data in 1 contiguous segment\n",
            "Setting up band-pass filter from 0.1 - 30 Hz\n",
            "\n",
            "FIR filter parameters\n",
            "---------------------\n",
            "Designing a one-pass, zero-phase, non-causal bandpass filter:\n",
            "- Windowed time-domain design (firwin) method\n",
            "- Hamming window with 0.0194 passband ripple and 53 dB stopband attenuation\n",
            "- Lower passband edge: 0.10\n",
            "- Lower transition bandwidth: 0.10 Hz (-6 dB cutoff frequency: 0.05 Hz)\n",
            "- Upper passband edge: 30.00 Hz\n",
            "- Upper transition bandwidth: 7.50 Hz (-6 dB cutoff frequency: 33.75 Hz)\n",
            "- Filter length: 8251 samples (33.004 s)\n",
            "\n"
          ]
        },
        {
          "name": "stderr",
          "output_type": "stream",
          "text": [
            "[Parallel(n_jobs=1)]: Done  17 tasks      | elapsed:    0.2s\n",
            "[Parallel(n_jobs=1)]: Done  71 tasks      | elapsed:    0.8s\n"
          ]
        },
        {
          "name": "stdout",
          "output_type": "stream",
          "text": [
            "Used Annotations descriptions: [np.str_('CELL'), np.str_('SESS'), np.str_('TRSP'), np.str_('bgin'), np.str_('epoc'), np.str_('fcue'), np.str_('fdot'), np.str_('ffix'), np.str_('fisi'), np.str_('fwrp'), np.str_('hcue'), np.str_('hdot'), np.str_('hfix'), np.str_('hisi'), np.str_('hwrp'), np.str_('resp'), np.str_('scue'), np.str_('sdot'), np.str_('sfix'), np.str_('sisi'), np.str_('swrp')]\n",
            "✅ Events extracted from annotations: {np.str_('CELL'): 1, np.str_('SESS'): 2, np.str_('TRSP'): 3, np.str_('bgin'): 4, np.str_('epoc'): 5, np.str_('fcue'): 6, np.str_('fdot'): 7, np.str_('ffix'): 8, np.str_('fisi'): 9, np.str_('fwrp'): 10, np.str_('hcue'): 11, np.str_('hdot'): 12, np.str_('hfix'): 13, np.str_('hisi'): 14, np.str_('hwrp'): 15, np.str_('resp'): 16, np.str_('scue'): 17, np.str_('sdot'): 18, np.str_('sfix'): 19, np.str_('sisi'): 20, np.str_('swrp'): 21}\n",
            "Not setting metadata\n",
            "480 matching events found\n",
            "Setting baseline interval to [-0.2, 0.0] s\n",
            "Applying baseline correction (mode: mean)\n",
            "0 projection items activated\n",
            "Using data from preloaded Raw for 480 events and 251 original time points ...\n"
          ]
        },
        {
          "name": "stderr",
          "output_type": "stream",
          "text": [
            "[Parallel(n_jobs=1)]: Done 128 out of 128 | elapsed:    1.4s finished\n"
          ]
        },
        {
          "name": "stdout",
          "output_type": "stream",
          "text": [
            "1 bad epochs dropped\n",
            "Fitting ICA to data using 128 channels (please be patient, this may take a while)\n"
          ]
        },
        {
          "name": "stderr",
          "output_type": "stream",
          "text": [
            "/tmp/ipython-input-16-3467012358.py:59: RuntimeWarning: The epochs you passed to ICA.fit() were baseline-corrected. However, we suggest to fit ICA only on data that has been high-pass filtered, but NOT baseline-corrected.\n",
            "  ica.fit(epochs)\n"
          ]
        },
        {
          "name": "stdout",
          "output_type": "stream",
          "text": [
            "Selecting by number: 20 components\n",
            "Fitting ICA took 20.4s.\n",
            "⚠️ EOG not found, skipping EOG detection\n",
            "⚠️ ECG not found, skipping ECG detection\n",
            "Applying ICA to Epochs instance\n",
            "    Transforming to ICA space (20 components)\n",
            "    Zeroing out 0 ICA components\n",
            "    Projecting back using 128 PCA components\n"
          ]
        },
        {
          "name": "stderr",
          "output_type": "stream",
          "text": [
            "/tmp/ipython-input-16-3467012358.py:77: RuntimeWarning: The data you passed to ICA.apply() was baseline-corrected. Please note that ICA can introduce DC shifts, therefore you may wish to consider baseline-correcting the cleaned data again.\n",
            "  epochs_clean = ica.apply(epochs.copy())\n"
          ]
        },
        {
          "name": "stdout",
          "output_type": "stream",
          "text": [
            "EEG channel type selected for re-referencing\n",
            "Adding average EEG reference projection.\n",
            "1 projection items deactivated\n",
            "Average reference projection was added, but has not been applied yet. Use the apply_proj method to apply it.\n",
            "✅ Saved cleaned epochs: /content/drive/MyDrive/Cleaned_EEG_Epochs/subject_31_epo.fif\n",
            "Reading EGI header from /content/drive/MyDrive/EEG_128channels_ERP_lanzhou_2015/02020019_erp 20150703 1052.raw...\n",
            "    Reading events ...\n",
            "    Assembling measurement info ...\n",
            "    Excluding events {} ...\n",
            "Reading 0 ... 215166  =      0.000 ...   860.664 secs...\n",
            "\n",
            "✔ Loaded: 02020019_erp 20150703 1052.raw\n",
            "Filtering raw data in 1 contiguous segment\n",
            "Setting up band-pass filter from 0.1 - 30 Hz\n",
            "\n",
            "FIR filter parameters\n",
            "---------------------\n",
            "Designing a one-pass, zero-phase, non-causal bandpass filter:\n",
            "- Windowed time-domain design (firwin) method\n",
            "- Hamming window with 0.0194 passband ripple and 53 dB stopband attenuation\n",
            "- Lower passband edge: 0.10\n",
            "- Lower transition bandwidth: 0.10 Hz (-6 dB cutoff frequency: 0.05 Hz)\n",
            "- Upper passband edge: 30.00 Hz\n",
            "- Upper transition bandwidth: 7.50 Hz (-6 dB cutoff frequency: 33.75 Hz)\n",
            "- Filter length: 8251 samples (33.004 s)\n",
            "\n"
          ]
        },
        {
          "name": "stderr",
          "output_type": "stream",
          "text": [
            "[Parallel(n_jobs=1)]: Done  17 tasks      | elapsed:    0.4s\n",
            "[Parallel(n_jobs=1)]: Done  71 tasks      | elapsed:    1.3s\n"
          ]
        },
        {
          "name": "stdout",
          "output_type": "stream",
          "text": [
            "Used Annotations descriptions: [np.str_('CELL'), np.str_('D127'), np.str_('DI18'), np.str_('DI26'), np.str_('DI95'), np.str_('SESS'), np.str_('TRSP'), np.str_('bgin'), np.str_('epoc'), np.str_('fcue'), np.str_('fdot'), np.str_('ffix'), np.str_('fisi'), np.str_('fwrp'), np.str_('hcue'), np.str_('hdot'), np.str_('hfix'), np.str_('hisi'), np.str_('hwrp'), np.str_('resp'), np.str_('scue'), np.str_('sdot'), np.str_('sfix'), np.str_('sisi'), np.str_('swrp')]\n",
            "✅ Events extracted from annotations: {np.str_('CELL'): 1, np.str_('D127'): 2, np.str_('DI18'): 3, np.str_('DI26'): 4, np.str_('DI95'): 5, np.str_('SESS'): 6, np.str_('TRSP'): 7, np.str_('bgin'): 8, np.str_('epoc'): 9, np.str_('fcue'): 10, np.str_('fdot'): 11, np.str_('ffix'): 12, np.str_('fisi'): 13, np.str_('fwrp'): 14, np.str_('hcue'): 15, np.str_('hdot'): 16, np.str_('hfix'): 17, np.str_('hisi'): 18, np.str_('hwrp'): 19, np.str_('resp'): 20, np.str_('scue'): 21, np.str_('sdot'): 22, np.str_('sfix'): 23, np.str_('sisi'): 24, np.str_('swrp'): 25}\n",
            "Not setting metadata\n",
            "480 matching events found\n",
            "Setting baseline interval to [-0.2, 0.0] s\n",
            "Applying baseline correction (mode: mean)\n",
            "0 projection items activated\n",
            "Using data from preloaded Raw for 480 events and 251 original time points ...\n"
          ]
        },
        {
          "name": "stderr",
          "output_type": "stream",
          "text": [
            "[Parallel(n_jobs=1)]: Done 128 out of 128 | elapsed:    2.2s finished\n"
          ]
        },
        {
          "name": "stdout",
          "output_type": "stream",
          "text": [
            "1 bad epochs dropped\n",
            "Fitting ICA to data using 128 channels (please be patient, this may take a while)\n"
          ]
        },
        {
          "name": "stderr",
          "output_type": "stream",
          "text": [
            "/tmp/ipython-input-16-3467012358.py:59: RuntimeWarning: The epochs you passed to ICA.fit() were baseline-corrected. However, we suggest to fit ICA only on data that has been high-pass filtered, but NOT baseline-corrected.\n",
            "  ica.fit(epochs)\n"
          ]
        },
        {
          "name": "stdout",
          "output_type": "stream",
          "text": [
            "Selecting by number: 20 components\n",
            "Fitting ICA took 17.8s.\n",
            "⚠️ EOG not found, skipping EOG detection\n",
            "⚠️ ECG not found, skipping ECG detection\n",
            "Applying ICA to Epochs instance\n",
            "    Transforming to ICA space (20 components)\n",
            "    Zeroing out 0 ICA components\n",
            "    Projecting back using 128 PCA components\n"
          ]
        },
        {
          "name": "stderr",
          "output_type": "stream",
          "text": [
            "/tmp/ipython-input-16-3467012358.py:77: RuntimeWarning: The data you passed to ICA.apply() was baseline-corrected. Please note that ICA can introduce DC shifts, therefore you may wish to consider baseline-correcting the cleaned data again.\n",
            "  epochs_clean = ica.apply(epochs.copy())\n"
          ]
        },
        {
          "name": "stdout",
          "output_type": "stream",
          "text": [
            "EEG channel type selected for re-referencing\n",
            "Adding average EEG reference projection.\n",
            "1 projection items deactivated\n",
            "Average reference projection was added, but has not been applied yet. Use the apply_proj method to apply it.\n",
            "✅ Saved cleaned epochs: /content/drive/MyDrive/Cleaned_EEG_Epochs/subject_32_epo.fif\n",
            "Reading EGI header from /content/drive/MyDrive/EEG_128channels_ERP_lanzhou_2015/02020020_erp 20150703 1810.raw...\n",
            "    Reading events ...\n",
            "    Assembling measurement info ...\n",
            "    Excluding events {} ...\n",
            "Reading 0 ... 195676  =      0.000 ...   782.704 secs...\n",
            "\n",
            "✔ Loaded: 02020020_erp 20150703 1810.raw\n",
            "Filtering raw data in 1 contiguous segment\n",
            "Setting up band-pass filter from 0.1 - 30 Hz\n",
            "\n",
            "FIR filter parameters\n",
            "---------------------\n",
            "Designing a one-pass, zero-phase, non-causal bandpass filter:\n",
            "- Windowed time-domain design (firwin) method\n",
            "- Hamming window with 0.0194 passband ripple and 53 dB stopband attenuation\n",
            "- Lower passband edge: 0.10\n",
            "- Lower transition bandwidth: 0.10 Hz (-6 dB cutoff frequency: 0.05 Hz)\n",
            "- Upper passband edge: 30.00 Hz\n",
            "- Upper transition bandwidth: 7.50 Hz (-6 dB cutoff frequency: 33.75 Hz)\n",
            "- Filter length: 8251 samples (33.004 s)\n",
            "\n"
          ]
        },
        {
          "name": "stderr",
          "output_type": "stream",
          "text": [
            "[Parallel(n_jobs=1)]: Done  17 tasks      | elapsed:    0.2s\n",
            "[Parallel(n_jobs=1)]: Done  71 tasks      | elapsed:    0.7s\n"
          ]
        },
        {
          "name": "stdout",
          "output_type": "stream",
          "text": [
            "Used Annotations descriptions: [np.str_('CELL'), np.str_('SESS'), np.str_('TRSP'), np.str_('bgin'), np.str_('epoc'), np.str_('fcue'), np.str_('fdot'), np.str_('ffix'), np.str_('fisi'), np.str_('fwrp'), np.str_('hcue'), np.str_('hdot'), np.str_('hfix'), np.str_('hisi'), np.str_('hwrp'), np.str_('resp'), np.str_('scue'), np.str_('sdot'), np.str_('sfix'), np.str_('sisi'), np.str_('swrp')]\n",
            "✅ Events extracted from annotations: {np.str_('CELL'): 1, np.str_('SESS'): 2, np.str_('TRSP'): 3, np.str_('bgin'): 4, np.str_('epoc'): 5, np.str_('fcue'): 6, np.str_('fdot'): 7, np.str_('ffix'): 8, np.str_('fisi'): 9, np.str_('fwrp'): 10, np.str_('hcue'): 11, np.str_('hdot'): 12, np.str_('hfix'): 13, np.str_('hisi'): 14, np.str_('hwrp'): 15, np.str_('resp'): 16, np.str_('scue'): 17, np.str_('sdot'): 18, np.str_('sfix'): 19, np.str_('sisi'): 20, np.str_('swrp'): 21}\n",
            "Not setting metadata\n",
            "480 matching events found\n",
            "Setting baseline interval to [-0.2, 0.0] s\n",
            "Applying baseline correction (mode: mean)\n",
            "0 projection items activated\n",
            "Using data from preloaded Raw for 480 events and 251 original time points ...\n"
          ]
        },
        {
          "name": "stderr",
          "output_type": "stream",
          "text": [
            "[Parallel(n_jobs=1)]: Done 128 out of 128 | elapsed:    1.3s finished\n"
          ]
        },
        {
          "name": "stdout",
          "output_type": "stream",
          "text": [
            "0 bad epochs dropped\n",
            "Fitting ICA to data using 128 channels (please be patient, this may take a while)\n"
          ]
        },
        {
          "name": "stderr",
          "output_type": "stream",
          "text": [
            "/tmp/ipython-input-16-3467012358.py:59: RuntimeWarning: The epochs you passed to ICA.fit() were baseline-corrected. However, we suggest to fit ICA only on data that has been high-pass filtered, but NOT baseline-corrected.\n",
            "  ica.fit(epochs)\n"
          ]
        },
        {
          "name": "stdout",
          "output_type": "stream",
          "text": [
            "Selecting by number: 20 components\n",
            "Fitting ICA took 14.6s.\n",
            "⚠️ EOG not found, skipping EOG detection\n",
            "⚠️ ECG not found, skipping ECG detection\n",
            "Applying ICA to Epochs instance\n",
            "    Transforming to ICA space (20 components)\n",
            "    Zeroing out 0 ICA components\n",
            "    Projecting back using 128 PCA components\n"
          ]
        },
        {
          "name": "stderr",
          "output_type": "stream",
          "text": [
            "/tmp/ipython-input-16-3467012358.py:77: RuntimeWarning: The data you passed to ICA.apply() was baseline-corrected. Please note that ICA can introduce DC shifts, therefore you may wish to consider baseline-correcting the cleaned data again.\n",
            "  epochs_clean = ica.apply(epochs.copy())\n"
          ]
        },
        {
          "name": "stdout",
          "output_type": "stream",
          "text": [
            "EEG channel type selected for re-referencing\n",
            "Adding average EEG reference projection.\n",
            "1 projection items deactivated\n",
            "Average reference projection was added, but has not been applied yet. Use the apply_proj method to apply it.\n",
            "✅ Saved cleaned epochs: /content/drive/MyDrive/Cleaned_EEG_Epochs/subject_33_epo.fif\n",
            "Reading EGI header from /content/drive/MyDrive/EEG_128channels_ERP_lanzhou_2015/02020021_erp 20150707 1751.raw...\n",
            "    Reading events ...\n",
            "    Assembling measurement info ...\n",
            "    Excluding events {} ...\n",
            "Reading 0 ... 201153  =      0.000 ...   804.612 secs...\n",
            "\n",
            "✔ Loaded: 02020021_erp 20150707 1751.raw\n",
            "Filtering raw data in 1 contiguous segment\n",
            "Setting up band-pass filter from 0.1 - 30 Hz\n",
            "\n",
            "FIR filter parameters\n",
            "---------------------\n",
            "Designing a one-pass, zero-phase, non-causal bandpass filter:\n",
            "- Windowed time-domain design (firwin) method\n",
            "- Hamming window with 0.0194 passband ripple and 53 dB stopband attenuation\n",
            "- Lower passband edge: 0.10\n",
            "- Lower transition bandwidth: 0.10 Hz (-6 dB cutoff frequency: 0.05 Hz)\n",
            "- Upper passband edge: 30.00 Hz\n",
            "- Upper transition bandwidth: 7.50 Hz (-6 dB cutoff frequency: 33.75 Hz)\n",
            "- Filter length: 8251 samples (33.004 s)\n",
            "\n"
          ]
        },
        {
          "name": "stderr",
          "output_type": "stream",
          "text": [
            "[Parallel(n_jobs=1)]: Done  17 tasks      | elapsed:    0.2s\n",
            "[Parallel(n_jobs=1)]: Done  71 tasks      | elapsed:    0.7s\n"
          ]
        },
        {
          "name": "stdout",
          "output_type": "stream",
          "text": [
            "Used Annotations descriptions: [np.str_('CELL'), np.str_('SESS'), np.str_('TRSP'), np.str_('bgin'), np.str_('epoc'), np.str_('fcue'), np.str_('fdot'), np.str_('ffix'), np.str_('fisi'), np.str_('fwrp'), np.str_('hcue'), np.str_('hdot'), np.str_('hfix'), np.str_('hisi'), np.str_('hwrp'), np.str_('resp'), np.str_('scue'), np.str_('sdot'), np.str_('sfix'), np.str_('sisi'), np.str_('swrp')]\n",
            "✅ Events extracted from annotations: {np.str_('CELL'): 1, np.str_('SESS'): 2, np.str_('TRSP'): 3, np.str_('bgin'): 4, np.str_('epoc'): 5, np.str_('fcue'): 6, np.str_('fdot'): 7, np.str_('ffix'): 8, np.str_('fisi'): 9, np.str_('fwrp'): 10, np.str_('hcue'): 11, np.str_('hdot'): 12, np.str_('hfix'): 13, np.str_('hisi'): 14, np.str_('hwrp'): 15, np.str_('resp'): 16, np.str_('scue'): 17, np.str_('sdot'): 18, np.str_('sfix'): 19, np.str_('sisi'): 20, np.str_('swrp'): 21}\n",
            "Not setting metadata\n",
            "480 matching events found\n",
            "Setting baseline interval to [-0.2, 0.0] s\n",
            "Applying baseline correction (mode: mean)\n",
            "0 projection items activated\n",
            "Using data from preloaded Raw for 480 events and 251 original time points ...\n"
          ]
        },
        {
          "name": "stderr",
          "output_type": "stream",
          "text": [
            "[Parallel(n_jobs=1)]: Done 128 out of 128 | elapsed:    1.4s finished\n"
          ]
        },
        {
          "name": "stdout",
          "output_type": "stream",
          "text": [
            "0 bad epochs dropped\n",
            "Fitting ICA to data using 128 channels (please be patient, this may take a while)\n"
          ]
        },
        {
          "name": "stderr",
          "output_type": "stream",
          "text": [
            "/tmp/ipython-input-16-3467012358.py:59: RuntimeWarning: The epochs you passed to ICA.fit() were baseline-corrected. However, we suggest to fit ICA only on data that has been high-pass filtered, but NOT baseline-corrected.\n",
            "  ica.fit(epochs)\n"
          ]
        },
        {
          "name": "stdout",
          "output_type": "stream",
          "text": [
            "Selecting by number: 20 components\n",
            "Fitting ICA took 13.2s.\n",
            "⚠️ EOG not found, skipping EOG detection\n",
            "⚠️ ECG not found, skipping ECG detection\n",
            "Applying ICA to Epochs instance\n",
            "    Transforming to ICA space (20 components)\n",
            "    Zeroing out 0 ICA components\n",
            "    Projecting back using 128 PCA components\n"
          ]
        },
        {
          "name": "stderr",
          "output_type": "stream",
          "text": [
            "/tmp/ipython-input-16-3467012358.py:77: RuntimeWarning: The data you passed to ICA.apply() was baseline-corrected. Please note that ICA can introduce DC shifts, therefore you may wish to consider baseline-correcting the cleaned data again.\n",
            "  epochs_clean = ica.apply(epochs.copy())\n"
          ]
        },
        {
          "name": "stdout",
          "output_type": "stream",
          "text": [
            "EEG channel type selected for re-referencing\n",
            "Adding average EEG reference projection.\n",
            "1 projection items deactivated\n",
            "Average reference projection was added, but has not been applied yet. Use the apply_proj method to apply it.\n",
            "✅ Saved cleaned epochs: /content/drive/MyDrive/Cleaned_EEG_Epochs/subject_34_epo.fif\n",
            "Reading EGI header from /content/drive/MyDrive/EEG_128channels_ERP_lanzhou_2015/02020022_erp 20150707 1515.raw...\n",
            "    Reading events ...\n",
            "    Assembling measurement info ...\n",
            "    Excluding events {} ...\n",
            "Reading 0 ... 201588  =      0.000 ...   806.352 secs...\n",
            "\n",
            "✔ Loaded: 02020022_erp 20150707 1515.raw\n",
            "Filtering raw data in 1 contiguous segment\n",
            "Setting up band-pass filter from 0.1 - 30 Hz\n",
            "\n",
            "FIR filter parameters\n",
            "---------------------\n",
            "Designing a one-pass, zero-phase, non-causal bandpass filter:\n",
            "- Windowed time-domain design (firwin) method\n",
            "- Hamming window with 0.0194 passband ripple and 53 dB stopband attenuation\n",
            "- Lower passband edge: 0.10\n",
            "- Lower transition bandwidth: 0.10 Hz (-6 dB cutoff frequency: 0.05 Hz)\n",
            "- Upper passband edge: 30.00 Hz\n",
            "- Upper transition bandwidth: 7.50 Hz (-6 dB cutoff frequency: 33.75 Hz)\n",
            "- Filter length: 8251 samples (33.004 s)\n",
            "\n"
          ]
        },
        {
          "name": "stderr",
          "output_type": "stream",
          "text": [
            "[Parallel(n_jobs=1)]: Done  17 tasks      | elapsed:    0.2s\n",
            "[Parallel(n_jobs=1)]: Done  71 tasks      | elapsed:    0.7s\n"
          ]
        },
        {
          "name": "stdout",
          "output_type": "stream",
          "text": [
            "Used Annotations descriptions: [np.str_('CELL'), np.str_('SESS'), np.str_('TRSP'), np.str_('bgin'), np.str_('epoc'), np.str_('fcue'), np.str_('fdot'), np.str_('ffix'), np.str_('fisi'), np.str_('fwrp'), np.str_('hcue'), np.str_('hdot'), np.str_('hfix'), np.str_('hisi'), np.str_('hwrp'), np.str_('resp'), np.str_('scue'), np.str_('sdot'), np.str_('sfix'), np.str_('sisi'), np.str_('swrp')]\n",
            "✅ Events extracted from annotations: {np.str_('CELL'): 1, np.str_('SESS'): 2, np.str_('TRSP'): 3, np.str_('bgin'): 4, np.str_('epoc'): 5, np.str_('fcue'): 6, np.str_('fdot'): 7, np.str_('ffix'): 8, np.str_('fisi'): 9, np.str_('fwrp'): 10, np.str_('hcue'): 11, np.str_('hdot'): 12, np.str_('hfix'): 13, np.str_('hisi'): 14, np.str_('hwrp'): 15, np.str_('resp'): 16, np.str_('scue'): 17, np.str_('sdot'): 18, np.str_('sfix'): 19, np.str_('sisi'): 20, np.str_('swrp'): 21}\n",
            "Not setting metadata\n",
            "480 matching events found\n",
            "Setting baseline interval to [-0.2, 0.0] s\n",
            "Applying baseline correction (mode: mean)\n",
            "0 projection items activated\n",
            "Using data from preloaded Raw for 480 events and 251 original time points ...\n"
          ]
        },
        {
          "name": "stderr",
          "output_type": "stream",
          "text": [
            "[Parallel(n_jobs=1)]: Done 128 out of 128 | elapsed:    1.3s finished\n"
          ]
        },
        {
          "name": "stdout",
          "output_type": "stream",
          "text": [
            "1 bad epochs dropped\n",
            "Fitting ICA to data using 128 channels (please be patient, this may take a while)\n"
          ]
        },
        {
          "name": "stderr",
          "output_type": "stream",
          "text": [
            "/tmp/ipython-input-16-3467012358.py:59: RuntimeWarning: The epochs you passed to ICA.fit() were baseline-corrected. However, we suggest to fit ICA only on data that has been high-pass filtered, but NOT baseline-corrected.\n",
            "  ica.fit(epochs)\n"
          ]
        },
        {
          "name": "stdout",
          "output_type": "stream",
          "text": [
            "Selecting by number: 20 components\n",
            "Fitting ICA took 13.7s.\n",
            "⚠️ EOG not found, skipping EOG detection\n",
            "⚠️ ECG not found, skipping ECG detection\n",
            "Applying ICA to Epochs instance\n",
            "    Transforming to ICA space (20 components)\n",
            "    Zeroing out 0 ICA components\n",
            "    Projecting back using 128 PCA components\n"
          ]
        },
        {
          "name": "stderr",
          "output_type": "stream",
          "text": [
            "/tmp/ipython-input-16-3467012358.py:77: RuntimeWarning: The data you passed to ICA.apply() was baseline-corrected. Please note that ICA can introduce DC shifts, therefore you may wish to consider baseline-correcting the cleaned data again.\n",
            "  epochs_clean = ica.apply(epochs.copy())\n"
          ]
        },
        {
          "name": "stdout",
          "output_type": "stream",
          "text": [
            "EEG channel type selected for re-referencing\n",
            "Adding average EEG reference projection.\n",
            "1 projection items deactivated\n",
            "Average reference projection was added, but has not been applied yet. Use the apply_proj method to apply it.\n",
            "✅ Saved cleaned epochs: /content/drive/MyDrive/Cleaned_EEG_Epochs/subject_35_epo.fif\n",
            "Reading EGI header from /content/drive/MyDrive/EEG_128channels_ERP_lanzhou_2015/02020023_erpnew 20150709 110.raw...\n",
            "    Reading events ...\n",
            "    Assembling measurement info ...\n",
            "    Excluding events {} ...\n",
            "Reading 0 ... 201651  =      0.000 ...   806.604 secs...\n",
            "\n",
            "✔ Loaded: 02020023_erpnew 20150709 110.raw\n",
            "Filtering raw data in 1 contiguous segment\n",
            "Setting up band-pass filter from 0.1 - 30 Hz\n",
            "\n",
            "FIR filter parameters\n",
            "---------------------\n",
            "Designing a one-pass, zero-phase, non-causal bandpass filter:\n",
            "- Windowed time-domain design (firwin) method\n",
            "- Hamming window with 0.0194 passband ripple and 53 dB stopband attenuation\n",
            "- Lower passband edge: 0.10\n",
            "- Lower transition bandwidth: 0.10 Hz (-6 dB cutoff frequency: 0.05 Hz)\n",
            "- Upper passband edge: 30.00 Hz\n",
            "- Upper transition bandwidth: 7.50 Hz (-6 dB cutoff frequency: 33.75 Hz)\n",
            "- Filter length: 8251 samples (33.004 s)\n",
            "\n"
          ]
        },
        {
          "name": "stderr",
          "output_type": "stream",
          "text": [
            "[Parallel(n_jobs=1)]: Done  17 tasks      | elapsed:    0.3s\n",
            "[Parallel(n_jobs=1)]: Done  71 tasks      | elapsed:    1.1s\n"
          ]
        },
        {
          "name": "stdout",
          "output_type": "stream",
          "text": [
            "Used Annotations descriptions: [np.str_('CELL'), np.str_('SESS'), np.str_('TRSP'), np.str_('bgin'), np.str_('epoc'), np.str_('fcue'), np.str_('fdot'), np.str_('ffix'), np.str_('fisi'), np.str_('fwrp'), np.str_('hcue'), np.str_('hdot'), np.str_('hfix'), np.str_('hisi'), np.str_('hwrp'), np.str_('resp'), np.str_('scue'), np.str_('sdot'), np.str_('sfix'), np.str_('sisi'), np.str_('swrp')]\n",
            "✅ Events extracted from annotations: {np.str_('CELL'): 1, np.str_('SESS'): 2, np.str_('TRSP'): 3, np.str_('bgin'): 4, np.str_('epoc'): 5, np.str_('fcue'): 6, np.str_('fdot'): 7, np.str_('ffix'): 8, np.str_('fisi'): 9, np.str_('fwrp'): 10, np.str_('hcue'): 11, np.str_('hdot'): 12, np.str_('hfix'): 13, np.str_('hisi'): 14, np.str_('hwrp'): 15, np.str_('resp'): 16, np.str_('scue'): 17, np.str_('sdot'): 18, np.str_('sfix'): 19, np.str_('sisi'): 20, np.str_('swrp'): 21}\n",
            "Not setting metadata\n",
            "480 matching events found\n",
            "Setting baseline interval to [-0.2, 0.0] s\n",
            "Applying baseline correction (mode: mean)\n",
            "0 projection items activated\n",
            "Using data from preloaded Raw for 480 events and 251 original time points ...\n"
          ]
        },
        {
          "name": "stderr",
          "output_type": "stream",
          "text": [
            "[Parallel(n_jobs=1)]: Done 128 out of 128 | elapsed:    1.7s finished\n"
          ]
        },
        {
          "name": "stdout",
          "output_type": "stream",
          "text": [
            "1 bad epochs dropped\n",
            "Fitting ICA to data using 128 channels (please be patient, this may take a while)\n"
          ]
        },
        {
          "name": "stderr",
          "output_type": "stream",
          "text": [
            "/tmp/ipython-input-16-3467012358.py:59: RuntimeWarning: The epochs you passed to ICA.fit() were baseline-corrected. However, we suggest to fit ICA only on data that has been high-pass filtered, but NOT baseline-corrected.\n",
            "  ica.fit(epochs)\n"
          ]
        },
        {
          "name": "stdout",
          "output_type": "stream",
          "text": [
            "Selecting by number: 20 components\n",
            "Fitting ICA took 14.2s.\n",
            "⚠️ EOG not found, skipping EOG detection\n",
            "⚠️ ECG not found, skipping ECG detection\n",
            "Applying ICA to Epochs instance\n",
            "    Transforming to ICA space (20 components)\n",
            "    Zeroing out 0 ICA components\n",
            "    Projecting back using 128 PCA components\n"
          ]
        },
        {
          "name": "stderr",
          "output_type": "stream",
          "text": [
            "/tmp/ipython-input-16-3467012358.py:77: RuntimeWarning: The data you passed to ICA.apply() was baseline-corrected. Please note that ICA can introduce DC shifts, therefore you may wish to consider baseline-correcting the cleaned data again.\n",
            "  epochs_clean = ica.apply(epochs.copy())\n"
          ]
        },
        {
          "name": "stdout",
          "output_type": "stream",
          "text": [
            "EEG channel type selected for re-referencing\n",
            "Adding average EEG reference projection.\n",
            "1 projection items deactivated\n",
            "Average reference projection was added, but has not been applied yet. Use the apply_proj method to apply it.\n",
            "✅ Saved cleaned epochs: /content/drive/MyDrive/Cleaned_EEG_Epochs/subject_36_epo.fif\n",
            "Reading EGI header from /content/drive/MyDrive/EEG_128channels_ERP_lanzhou_2015/02020025_erp 20150713 1541.raw...\n",
            "    Reading events ...\n",
            "    Assembling measurement info ...\n",
            "    Excluding events {} ...\n",
            "Reading 0 ... 197977  =      0.000 ...   791.908 secs...\n",
            "\n",
            "✔ Loaded: 02020025_erp 20150713 1541.raw\n",
            "Filtering raw data in 1 contiguous segment\n",
            "Setting up band-pass filter from 0.1 - 30 Hz\n",
            "\n",
            "FIR filter parameters\n",
            "---------------------\n",
            "Designing a one-pass, zero-phase, non-causal bandpass filter:\n",
            "- Windowed time-domain design (firwin) method\n",
            "- Hamming window with 0.0194 passband ripple and 53 dB stopband attenuation\n",
            "- Lower passband edge: 0.10\n",
            "- Lower transition bandwidth: 0.10 Hz (-6 dB cutoff frequency: 0.05 Hz)\n",
            "- Upper passband edge: 30.00 Hz\n",
            "- Upper transition bandwidth: 7.50 Hz (-6 dB cutoff frequency: 33.75 Hz)\n",
            "- Filter length: 8251 samples (33.004 s)\n",
            "\n"
          ]
        },
        {
          "name": "stderr",
          "output_type": "stream",
          "text": [
            "[Parallel(n_jobs=1)]: Done  17 tasks      | elapsed:    0.2s\n",
            "[Parallel(n_jobs=1)]: Done  71 tasks      | elapsed:    0.7s\n"
          ]
        },
        {
          "name": "stdout",
          "output_type": "stream",
          "text": [
            "Used Annotations descriptions: [np.str_('CELL'), np.str_('SESS'), np.str_('TRSP'), np.str_('bgin'), np.str_('epoc'), np.str_('fcue'), np.str_('fdot'), np.str_('ffix'), np.str_('fisi'), np.str_('fwrp'), np.str_('hcue'), np.str_('hdot'), np.str_('hfix'), np.str_('hisi'), np.str_('hwrp'), np.str_('resp'), np.str_('scue'), np.str_('sdot'), np.str_('sfix'), np.str_('sisi'), np.str_('swrp')]\n",
            "✅ Events extracted from annotations: {np.str_('CELL'): 1, np.str_('SESS'): 2, np.str_('TRSP'): 3, np.str_('bgin'): 4, np.str_('epoc'): 5, np.str_('fcue'): 6, np.str_('fdot'): 7, np.str_('ffix'): 8, np.str_('fisi'): 9, np.str_('fwrp'): 10, np.str_('hcue'): 11, np.str_('hdot'): 12, np.str_('hfix'): 13, np.str_('hisi'): 14, np.str_('hwrp'): 15, np.str_('resp'): 16, np.str_('scue'): 17, np.str_('sdot'): 18, np.str_('sfix'): 19, np.str_('sisi'): 20, np.str_('swrp'): 21}\n",
            "Not setting metadata\n",
            "480 matching events found\n",
            "Setting baseline interval to [-0.2, 0.0] s\n",
            "Applying baseline correction (mode: mean)\n",
            "0 projection items activated\n",
            "Using data from preloaded Raw for 480 events and 251 original time points ...\n"
          ]
        },
        {
          "name": "stderr",
          "output_type": "stream",
          "text": [
            "[Parallel(n_jobs=1)]: Done 128 out of 128 | elapsed:    1.3s finished\n"
          ]
        },
        {
          "name": "stdout",
          "output_type": "stream",
          "text": [
            "1 bad epochs dropped\n",
            "Fitting ICA to data using 128 channels (please be patient, this may take a while)\n"
          ]
        },
        {
          "name": "stderr",
          "output_type": "stream",
          "text": [
            "/tmp/ipython-input-16-3467012358.py:59: RuntimeWarning: The epochs you passed to ICA.fit() were baseline-corrected. However, we suggest to fit ICA only on data that has been high-pass filtered, but NOT baseline-corrected.\n",
            "  ica.fit(epochs)\n"
          ]
        },
        {
          "name": "stdout",
          "output_type": "stream",
          "text": [
            "Selecting by number: 20 components\n",
            "Fitting ICA took 22.3s.\n",
            "⚠️ EOG not found, skipping EOG detection\n",
            "⚠️ ECG not found, skipping ECG detection\n",
            "Applying ICA to Epochs instance\n",
            "    Transforming to ICA space (20 components)\n",
            "    Zeroing out 0 ICA components\n",
            "    Projecting back using 128 PCA components\n"
          ]
        },
        {
          "name": "stderr",
          "output_type": "stream",
          "text": [
            "/tmp/ipython-input-16-3467012358.py:77: RuntimeWarning: The data you passed to ICA.apply() was baseline-corrected. Please note that ICA can introduce DC shifts, therefore you may wish to consider baseline-correcting the cleaned data again.\n",
            "  epochs_clean = ica.apply(epochs.copy())\n"
          ]
        },
        {
          "name": "stdout",
          "output_type": "stream",
          "text": [
            "EEG channel type selected for re-referencing\n",
            "Adding average EEG reference projection.\n",
            "1 projection items deactivated\n",
            "Average reference projection was added, but has not been applied yet. Use the apply_proj method to apply it.\n",
            "✅ Saved cleaned epochs: /content/drive/MyDrive/Cleaned_EEG_Epochs/subject_37_epo.fif\n",
            "Reading EGI header from /content/drive/MyDrive/EEG_128channels_ERP_lanzhou_2015/02020026_erp 20150714 1428.raw...\n",
            "    Reading events ...\n",
            "    Assembling measurement info ...\n",
            "    Excluding events {} ...\n",
            "Reading 0 ... 204252  =      0.000 ...   817.008 secs...\n",
            "\n",
            "✔ Loaded: 02020026_erp 20150714 1428.raw\n",
            "Filtering raw data in 1 contiguous segment\n",
            "Setting up band-pass filter from 0.1 - 30 Hz\n",
            "\n",
            "FIR filter parameters\n",
            "---------------------\n",
            "Designing a one-pass, zero-phase, non-causal bandpass filter:\n",
            "- Windowed time-domain design (firwin) method\n",
            "- Hamming window with 0.0194 passband ripple and 53 dB stopband attenuation\n",
            "- Lower passband edge: 0.10\n",
            "- Lower transition bandwidth: 0.10 Hz (-6 dB cutoff frequency: 0.05 Hz)\n",
            "- Upper passband edge: 30.00 Hz\n",
            "- Upper transition bandwidth: 7.50 Hz (-6 dB cutoff frequency: 33.75 Hz)\n",
            "- Filter length: 8251 samples (33.004 s)\n",
            "\n"
          ]
        },
        {
          "name": "stderr",
          "output_type": "stream",
          "text": [
            "[Parallel(n_jobs=1)]: Done  17 tasks      | elapsed:    0.2s\n",
            "[Parallel(n_jobs=1)]: Done  71 tasks      | elapsed:    0.7s\n"
          ]
        },
        {
          "name": "stdout",
          "output_type": "stream",
          "text": [
            "Used Annotations descriptions: [np.str_('CELL'), np.str_('SESS'), np.str_('TRSP'), np.str_('bgin'), np.str_('epoc'), np.str_('fcue'), np.str_('fdot'), np.str_('ffix'), np.str_('fisi'), np.str_('fwrp'), np.str_('hcue'), np.str_('hdot'), np.str_('hfix'), np.str_('hisi'), np.str_('hwrp'), np.str_('resp'), np.str_('scue'), np.str_('sdot'), np.str_('sfix'), np.str_('sisi'), np.str_('swrp')]\n",
            "✅ Events extracted from annotations: {np.str_('CELL'): 1, np.str_('SESS'): 2, np.str_('TRSP'): 3, np.str_('bgin'): 4, np.str_('epoc'): 5, np.str_('fcue'): 6, np.str_('fdot'): 7, np.str_('ffix'): 8, np.str_('fisi'): 9, np.str_('fwrp'): 10, np.str_('hcue'): 11, np.str_('hdot'): 12, np.str_('hfix'): 13, np.str_('hisi'): 14, np.str_('hwrp'): 15, np.str_('resp'): 16, np.str_('scue'): 17, np.str_('sdot'): 18, np.str_('sfix'): 19, np.str_('sisi'): 20, np.str_('swrp'): 21}\n",
            "Not setting metadata\n",
            "480 matching events found\n",
            "Setting baseline interval to [-0.2, 0.0] s\n",
            "Applying baseline correction (mode: mean)\n",
            "0 projection items activated\n",
            "Using data from preloaded Raw for 480 events and 251 original time points ...\n"
          ]
        },
        {
          "name": "stderr",
          "output_type": "stream",
          "text": [
            "[Parallel(n_jobs=1)]: Done 128 out of 128 | elapsed:    1.3s finished\n"
          ]
        },
        {
          "name": "stdout",
          "output_type": "stream",
          "text": [
            "0 bad epochs dropped\n",
            "Fitting ICA to data using 128 channels (please be patient, this may take a while)\n"
          ]
        },
        {
          "name": "stderr",
          "output_type": "stream",
          "text": [
            "/tmp/ipython-input-16-3467012358.py:59: RuntimeWarning: The epochs you passed to ICA.fit() were baseline-corrected. However, we suggest to fit ICA only on data that has been high-pass filtered, but NOT baseline-corrected.\n",
            "  ica.fit(epochs)\n"
          ]
        },
        {
          "name": "stdout",
          "output_type": "stream",
          "text": [
            "Selecting by number: 20 components\n",
            "Fitting ICA took 22.8s.\n",
            "⚠️ EOG not found, skipping EOG detection\n",
            "⚠️ ECG not found, skipping ECG detection\n",
            "Applying ICA to Epochs instance\n",
            "    Transforming to ICA space (20 components)\n",
            "    Zeroing out 0 ICA components\n",
            "    Projecting back using 128 PCA components\n"
          ]
        },
        {
          "name": "stderr",
          "output_type": "stream",
          "text": [
            "/tmp/ipython-input-16-3467012358.py:77: RuntimeWarning: The data you passed to ICA.apply() was baseline-corrected. Please note that ICA can introduce DC shifts, therefore you may wish to consider baseline-correcting the cleaned data again.\n",
            "  epochs_clean = ica.apply(epochs.copy())\n"
          ]
        },
        {
          "name": "stdout",
          "output_type": "stream",
          "text": [
            "EEG channel type selected for re-referencing\n",
            "Adding average EEG reference projection.\n",
            "1 projection items deactivated\n",
            "Average reference projection was added, but has not been applied yet. Use the apply_proj method to apply it.\n",
            "✅ Saved cleaned epochs: /content/drive/MyDrive/Cleaned_EEG_Epochs/subject_38_epo.fif\n",
            "Reading EGI header from /content/drive/MyDrive/EEG_128channels_ERP_lanzhou_2015/02020027_erp 20150713 1116.raw...\n",
            "    Reading events ...\n",
            "    Assembling measurement info ...\n",
            "    Excluding events {} ...\n",
            "Reading 0 ... 197814  =      0.000 ...   791.256 secs...\n",
            "\n",
            "✔ Loaded: 02020027_erp 20150713 1116.raw\n",
            "Filtering raw data in 1 contiguous segment\n",
            "Setting up band-pass filter from 0.1 - 30 Hz\n",
            "\n",
            "FIR filter parameters\n",
            "---------------------\n",
            "Designing a one-pass, zero-phase, non-causal bandpass filter:\n",
            "- Windowed time-domain design (firwin) method\n",
            "- Hamming window with 0.0194 passband ripple and 53 dB stopband attenuation\n",
            "- Lower passband edge: 0.10\n",
            "- Lower transition bandwidth: 0.10 Hz (-6 dB cutoff frequency: 0.05 Hz)\n",
            "- Upper passband edge: 30.00 Hz\n",
            "- Upper transition bandwidth: 7.50 Hz (-6 dB cutoff frequency: 33.75 Hz)\n",
            "- Filter length: 8251 samples (33.004 s)\n",
            "\n"
          ]
        },
        {
          "name": "stderr",
          "output_type": "stream",
          "text": [
            "[Parallel(n_jobs=1)]: Done  17 tasks      | elapsed:    0.2s\n",
            "[Parallel(n_jobs=1)]: Done  71 tasks      | elapsed:    0.7s\n"
          ]
        },
        {
          "name": "stdout",
          "output_type": "stream",
          "text": [
            "Used Annotations descriptions: [np.str_('CELL'), np.str_('SESS'), np.str_('TRSP'), np.str_('bgin'), np.str_('epoc'), np.str_('fcue'), np.str_('fdot'), np.str_('ffix'), np.str_('fisi'), np.str_('fwrp'), np.str_('hcue'), np.str_('hdot'), np.str_('hfix'), np.str_('hisi'), np.str_('hwrp'), np.str_('resp'), np.str_('scue'), np.str_('sdot'), np.str_('sfix'), np.str_('sisi'), np.str_('swrp')]\n",
            "✅ Events extracted from annotations: {np.str_('CELL'): 1, np.str_('SESS'): 2, np.str_('TRSP'): 3, np.str_('bgin'): 4, np.str_('epoc'): 5, np.str_('fcue'): 6, np.str_('fdot'): 7, np.str_('ffix'): 8, np.str_('fisi'): 9, np.str_('fwrp'): 10, np.str_('hcue'): 11, np.str_('hdot'): 12, np.str_('hfix'): 13, np.str_('hisi'): 14, np.str_('hwrp'): 15, np.str_('resp'): 16, np.str_('scue'): 17, np.str_('sdot'): 18, np.str_('sfix'): 19, np.str_('sisi'): 20, np.str_('swrp'): 21}\n",
            "Not setting metadata\n",
            "480 matching events found\n",
            "Setting baseline interval to [-0.2, 0.0] s\n",
            "Applying baseline correction (mode: mean)\n",
            "0 projection items activated\n",
            "Using data from preloaded Raw for 480 events and 251 original time points ...\n"
          ]
        },
        {
          "name": "stderr",
          "output_type": "stream",
          "text": [
            "[Parallel(n_jobs=1)]: Done 128 out of 128 | elapsed:    1.4s finished\n"
          ]
        },
        {
          "name": "stdout",
          "output_type": "stream",
          "text": [
            "1 bad epochs dropped\n",
            "Fitting ICA to data using 128 channels (please be patient, this may take a while)\n"
          ]
        },
        {
          "name": "stderr",
          "output_type": "stream",
          "text": [
            "/tmp/ipython-input-16-3467012358.py:59: RuntimeWarning: The epochs you passed to ICA.fit() were baseline-corrected. However, we suggest to fit ICA only on data that has been high-pass filtered, but NOT baseline-corrected.\n",
            "  ica.fit(epochs)\n"
          ]
        },
        {
          "name": "stdout",
          "output_type": "stream",
          "text": [
            "Selecting by number: 20 components\n",
            "Fitting ICA took 14.8s.\n",
            "⚠️ EOG not found, skipping EOG detection\n",
            "⚠️ ECG not found, skipping ECG detection\n",
            "Applying ICA to Epochs instance\n",
            "    Transforming to ICA space (20 components)\n",
            "    Zeroing out 0 ICA components\n",
            "    Projecting back using 128 PCA components\n"
          ]
        },
        {
          "name": "stderr",
          "output_type": "stream",
          "text": [
            "/tmp/ipython-input-16-3467012358.py:77: RuntimeWarning: The data you passed to ICA.apply() was baseline-corrected. Please note that ICA can introduce DC shifts, therefore you may wish to consider baseline-correcting the cleaned data again.\n",
            "  epochs_clean = ica.apply(epochs.copy())\n"
          ]
        },
        {
          "name": "stdout",
          "output_type": "stream",
          "text": [
            "EEG channel type selected for re-referencing\n",
            "Adding average EEG reference projection.\n",
            "1 projection items deactivated\n",
            "Average reference projection was added, but has not been applied yet. Use the apply_proj method to apply it.\n",
            "✅ Saved cleaned epochs: /content/drive/MyDrive/Cleaned_EEG_Epochs/subject_39_epo.fif\n",
            "Reading EGI header from /content/drive/MyDrive/EEG_128channels_ERP_lanzhou_2015/02020029_erp 20150715 1401.raw...\n",
            "    Reading events ...\n",
            "    Assembling measurement info ...\n",
            "    Excluding events {} ...\n",
            "Reading 0 ... 206664  =      0.000 ...   826.656 secs...\n",
            "\n",
            "✔ Loaded: 02020029_erp 20150715 1401.raw\n",
            "Filtering raw data in 1 contiguous segment\n",
            "Setting up band-pass filter from 0.1 - 30 Hz\n",
            "\n",
            "FIR filter parameters\n",
            "---------------------\n",
            "Designing a one-pass, zero-phase, non-causal bandpass filter:\n",
            "- Windowed time-domain design (firwin) method\n",
            "- Hamming window with 0.0194 passband ripple and 53 dB stopband attenuation\n",
            "- Lower passband edge: 0.10\n",
            "- Lower transition bandwidth: 0.10 Hz (-6 dB cutoff frequency: 0.05 Hz)\n",
            "- Upper passband edge: 30.00 Hz\n",
            "- Upper transition bandwidth: 7.50 Hz (-6 dB cutoff frequency: 33.75 Hz)\n",
            "- Filter length: 8251 samples (33.004 s)\n",
            "\n"
          ]
        },
        {
          "name": "stderr",
          "output_type": "stream",
          "text": [
            "[Parallel(n_jobs=1)]: Done  17 tasks      | elapsed:    0.2s\n",
            "[Parallel(n_jobs=1)]: Done  71 tasks      | elapsed:    0.7s\n"
          ]
        },
        {
          "name": "stdout",
          "output_type": "stream",
          "text": [
            "Used Annotations descriptions: [np.str_('CELL'), np.str_('SESS'), np.str_('TRSP'), np.str_('bgin'), np.str_('epoc'), np.str_('fcue'), np.str_('fdot'), np.str_('ffix'), np.str_('fisi'), np.str_('fwrp'), np.str_('hcue'), np.str_('hdot'), np.str_('hfix'), np.str_('hisi'), np.str_('hwrp'), np.str_('resp'), np.str_('scue'), np.str_('sdot'), np.str_('sfix'), np.str_('sisi'), np.str_('swrp')]\n",
            "✅ Events extracted from annotations: {np.str_('CELL'): 1, np.str_('SESS'): 2, np.str_('TRSP'): 3, np.str_('bgin'): 4, np.str_('epoc'): 5, np.str_('fcue'): 6, np.str_('fdot'): 7, np.str_('ffix'): 8, np.str_('fisi'): 9, np.str_('fwrp'): 10, np.str_('hcue'): 11, np.str_('hdot'): 12, np.str_('hfix'): 13, np.str_('hisi'): 14, np.str_('hwrp'): 15, np.str_('resp'): 16, np.str_('scue'): 17, np.str_('sdot'): 18, np.str_('sfix'): 19, np.str_('sisi'): 20, np.str_('swrp'): 21}\n",
            "Not setting metadata\n",
            "480 matching events found\n",
            "Setting baseline interval to [-0.2, 0.0] s\n",
            "Applying baseline correction (mode: mean)\n",
            "0 projection items activated\n",
            "Using data from preloaded Raw for 480 events and 251 original time points ...\n"
          ]
        },
        {
          "name": "stderr",
          "output_type": "stream",
          "text": [
            "[Parallel(n_jobs=1)]: Done 128 out of 128 | elapsed:    1.3s finished\n"
          ]
        },
        {
          "name": "stdout",
          "output_type": "stream",
          "text": [
            "0 bad epochs dropped\n",
            "Fitting ICA to data using 128 channels (please be patient, this may take a while)\n"
          ]
        },
        {
          "name": "stderr",
          "output_type": "stream",
          "text": [
            "/tmp/ipython-input-16-3467012358.py:59: RuntimeWarning: The epochs you passed to ICA.fit() were baseline-corrected. However, we suggest to fit ICA only on data that has been high-pass filtered, but NOT baseline-corrected.\n",
            "  ica.fit(epochs)\n"
          ]
        },
        {
          "name": "stdout",
          "output_type": "stream",
          "text": [
            "Selecting by number: 20 components\n",
            "Fitting ICA took 15.3s.\n",
            "⚠️ EOG not found, skipping EOG detection\n",
            "⚠️ ECG not found, skipping ECG detection\n",
            "Applying ICA to Epochs instance\n",
            "    Transforming to ICA space (20 components)\n",
            "    Zeroing out 0 ICA components\n",
            "    Projecting back using 128 PCA components\n"
          ]
        },
        {
          "name": "stderr",
          "output_type": "stream",
          "text": [
            "/tmp/ipython-input-16-3467012358.py:77: RuntimeWarning: The data you passed to ICA.apply() was baseline-corrected. Please note that ICA can introduce DC shifts, therefore you may wish to consider baseline-correcting the cleaned data again.\n",
            "  epochs_clean = ica.apply(epochs.copy())\n"
          ]
        },
        {
          "name": "stdout",
          "output_type": "stream",
          "text": [
            "EEG channel type selected for re-referencing\n",
            "Adding average EEG reference projection.\n",
            "1 projection items deactivated\n",
            "Average reference projection was added, but has not been applied yet. Use the apply_proj method to apply it.\n",
            "✅ Saved cleaned epochs: /content/drive/MyDrive/Cleaned_EEG_Epochs/subject_40_epo.fif\n",
            "Reading EGI header from /content/drive/MyDrive/EEG_128channels_ERP_lanzhou_2015/02030002erp_new 20151022 14.raw...\n",
            "    Reading events ...\n",
            "    Assembling measurement info ...\n",
            "    Excluding events {} ...\n",
            "Reading 0 ... 196128  =      0.000 ...   784.512 secs...\n",
            "\n",
            "✔ Loaded: 02030002erp_new 20151022 14.raw\n",
            "Filtering raw data in 1 contiguous segment\n",
            "Setting up band-pass filter from 0.1 - 30 Hz\n",
            "\n",
            "FIR filter parameters\n",
            "---------------------\n",
            "Designing a one-pass, zero-phase, non-causal bandpass filter:\n",
            "- Windowed time-domain design (firwin) method\n",
            "- Hamming window with 0.0194 passband ripple and 53 dB stopband attenuation\n",
            "- Lower passband edge: 0.10\n",
            "- Lower transition bandwidth: 0.10 Hz (-6 dB cutoff frequency: 0.05 Hz)\n",
            "- Upper passband edge: 30.00 Hz\n",
            "- Upper transition bandwidth: 7.50 Hz (-6 dB cutoff frequency: 33.75 Hz)\n",
            "- Filter length: 8251 samples (33.004 s)\n",
            "\n"
          ]
        },
        {
          "name": "stderr",
          "output_type": "stream",
          "text": [
            "[Parallel(n_jobs=1)]: Done  17 tasks      | elapsed:    0.2s\n",
            "[Parallel(n_jobs=1)]: Done  71 tasks      | elapsed:    0.7s\n"
          ]
        },
        {
          "name": "stdout",
          "output_type": "stream",
          "text": [
            "Used Annotations descriptions: [np.str_('CELL'), np.str_('SESS'), np.str_('TRSP'), np.str_('bgin'), np.str_('epoc'), np.str_('fcue'), np.str_('fdot'), np.str_('ffix'), np.str_('fisi'), np.str_('fwrp'), np.str_('hcue'), np.str_('hdot'), np.str_('hfix'), np.str_('hisi'), np.str_('hwrp'), np.str_('resp'), np.str_('scue'), np.str_('sdot'), np.str_('sfix'), np.str_('sisi'), np.str_('swrp')]\n",
            "✅ Events extracted from annotations: {np.str_('CELL'): 1, np.str_('SESS'): 2, np.str_('TRSP'): 3, np.str_('bgin'): 4, np.str_('epoc'): 5, np.str_('fcue'): 6, np.str_('fdot'): 7, np.str_('ffix'): 8, np.str_('fisi'): 9, np.str_('fwrp'): 10, np.str_('hcue'): 11, np.str_('hdot'): 12, np.str_('hfix'): 13, np.str_('hisi'): 14, np.str_('hwrp'): 15, np.str_('resp'): 16, np.str_('scue'): 17, np.str_('sdot'): 18, np.str_('sfix'): 19, np.str_('sisi'): 20, np.str_('swrp'): 21}\n",
            "Not setting metadata\n",
            "480 matching events found\n",
            "Setting baseline interval to [-0.2, 0.0] s\n",
            "Applying baseline correction (mode: mean)\n",
            "0 projection items activated\n",
            "Using data from preloaded Raw for 480 events and 251 original time points ...\n"
          ]
        },
        {
          "name": "stderr",
          "output_type": "stream",
          "text": [
            "[Parallel(n_jobs=1)]: Done 128 out of 128 | elapsed:    1.3s finished\n"
          ]
        },
        {
          "name": "stdout",
          "output_type": "stream",
          "text": [
            "1 bad epochs dropped\n",
            "Fitting ICA to data using 128 channels (please be patient, this may take a while)\n"
          ]
        },
        {
          "name": "stderr",
          "output_type": "stream",
          "text": [
            "/tmp/ipython-input-16-3467012358.py:59: RuntimeWarning: The epochs you passed to ICA.fit() were baseline-corrected. However, we suggest to fit ICA only on data that has been high-pass filtered, but NOT baseline-corrected.\n",
            "  ica.fit(epochs)\n"
          ]
        },
        {
          "name": "stdout",
          "output_type": "stream",
          "text": [
            "Selecting by number: 20 components\n",
            "Fitting ICA took 17.4s.\n",
            "⚠️ EOG not found, skipping EOG detection\n",
            "⚠️ ECG not found, skipping ECG detection\n",
            "Applying ICA to Epochs instance\n",
            "    Transforming to ICA space (20 components)\n",
            "    Zeroing out 0 ICA components\n",
            "    Projecting back using 128 PCA components\n"
          ]
        },
        {
          "name": "stderr",
          "output_type": "stream",
          "text": [
            "/tmp/ipython-input-16-3467012358.py:77: RuntimeWarning: The data you passed to ICA.apply() was baseline-corrected. Please note that ICA can introduce DC shifts, therefore you may wish to consider baseline-correcting the cleaned data again.\n",
            "  epochs_clean = ica.apply(epochs.copy())\n"
          ]
        },
        {
          "name": "stdout",
          "output_type": "stream",
          "text": [
            "EEG channel type selected for re-referencing\n",
            "Adding average EEG reference projection.\n",
            "1 projection items deactivated\n",
            "Average reference projection was added, but has not been applied yet. Use the apply_proj method to apply it.\n",
            "✅ Saved cleaned epochs: /content/drive/MyDrive/Cleaned_EEG_Epochs/subject_41_epo.fif\n",
            "Reading EGI header from /content/drive/MyDrive/EEG_128channels_ERP_lanzhou_2015/02030003erp 20151022 1212.raw...\n",
            "    Reading events ...\n",
            "    Assembling measurement info ...\n",
            "    Excluding events {} ...\n",
            "Reading 0 ... 200676  =      0.000 ...   802.704 secs...\n",
            "\n",
            "✔ Loaded: 02030003erp 20151022 1212.raw\n",
            "Filtering raw data in 1 contiguous segment\n",
            "Setting up band-pass filter from 0.1 - 30 Hz\n",
            "\n",
            "FIR filter parameters\n",
            "---------------------\n",
            "Designing a one-pass, zero-phase, non-causal bandpass filter:\n",
            "- Windowed time-domain design (firwin) method\n",
            "- Hamming window with 0.0194 passband ripple and 53 dB stopband attenuation\n",
            "- Lower passband edge: 0.10\n",
            "- Lower transition bandwidth: 0.10 Hz (-6 dB cutoff frequency: 0.05 Hz)\n",
            "- Upper passband edge: 30.00 Hz\n",
            "- Upper transition bandwidth: 7.50 Hz (-6 dB cutoff frequency: 33.75 Hz)\n",
            "- Filter length: 8251 samples (33.004 s)\n",
            "\n"
          ]
        },
        {
          "name": "stderr",
          "output_type": "stream",
          "text": [
            "[Parallel(n_jobs=1)]: Done  17 tasks      | elapsed:    0.2s\n",
            "[Parallel(n_jobs=1)]: Done  71 tasks      | elapsed:    1.0s\n"
          ]
        },
        {
          "name": "stdout",
          "output_type": "stream",
          "text": [
            "Used Annotations descriptions: [np.str_('CELL'), np.str_('SESS'), np.str_('TRSP'), np.str_('bgin'), np.str_('epoc'), np.str_('fcue'), np.str_('fdot'), np.str_('ffix'), np.str_('fisi'), np.str_('fwrp'), np.str_('hcue'), np.str_('hdot'), np.str_('hfix'), np.str_('hisi'), np.str_('hwrp'), np.str_('resp'), np.str_('scue'), np.str_('sdot'), np.str_('sfix'), np.str_('sisi'), np.str_('swrp')]\n",
            "✅ Events extracted from annotations: {np.str_('CELL'): 1, np.str_('SESS'): 2, np.str_('TRSP'): 3, np.str_('bgin'): 4, np.str_('epoc'): 5, np.str_('fcue'): 6, np.str_('fdot'): 7, np.str_('ffix'): 8, np.str_('fisi'): 9, np.str_('fwrp'): 10, np.str_('hcue'): 11, np.str_('hdot'): 12, np.str_('hfix'): 13, np.str_('hisi'): 14, np.str_('hwrp'): 15, np.str_('resp'): 16, np.str_('scue'): 17, np.str_('sdot'): 18, np.str_('sfix'): 19, np.str_('sisi'): 20, np.str_('swrp'): 21}\n",
            "Not setting metadata\n",
            "480 matching events found\n",
            "Setting baseline interval to [-0.2, 0.0] s\n",
            "Applying baseline correction (mode: mean)\n",
            "0 projection items activated\n",
            "Using data from preloaded Raw for 480 events and 251 original time points ...\n"
          ]
        },
        {
          "name": "stderr",
          "output_type": "stream",
          "text": [
            "[Parallel(n_jobs=1)]: Done 128 out of 128 | elapsed:    1.9s finished\n"
          ]
        },
        {
          "name": "stdout",
          "output_type": "stream",
          "text": [
            "1 bad epochs dropped\n",
            "Fitting ICA to data using 128 channels (please be patient, this may take a while)\n"
          ]
        },
        {
          "name": "stderr",
          "output_type": "stream",
          "text": [
            "/tmp/ipython-input-16-3467012358.py:59: RuntimeWarning: The epochs you passed to ICA.fit() were baseline-corrected. However, we suggest to fit ICA only on data that has been high-pass filtered, but NOT baseline-corrected.\n",
            "  ica.fit(epochs)\n"
          ]
        },
        {
          "name": "stdout",
          "output_type": "stream",
          "text": [
            "Selecting by number: 20 components\n",
            "Fitting ICA took 12.9s.\n",
            "⚠️ EOG not found, skipping EOG detection\n",
            "⚠️ ECG not found, skipping ECG detection\n",
            "Applying ICA to Epochs instance\n",
            "    Transforming to ICA space (20 components)\n",
            "    Zeroing out 0 ICA components\n",
            "    Projecting back using 128 PCA components\n"
          ]
        },
        {
          "name": "stderr",
          "output_type": "stream",
          "text": [
            "/tmp/ipython-input-16-3467012358.py:77: RuntimeWarning: The data you passed to ICA.apply() was baseline-corrected. Please note that ICA can introduce DC shifts, therefore you may wish to consider baseline-correcting the cleaned data again.\n",
            "  epochs_clean = ica.apply(epochs.copy())\n"
          ]
        },
        {
          "name": "stdout",
          "output_type": "stream",
          "text": [
            "EEG channel type selected for re-referencing\n",
            "Adding average EEG reference projection.\n",
            "1 projection items deactivated\n",
            "Average reference projection was added, but has not been applied yet. Use the apply_proj method to apply it.\n",
            "✅ Saved cleaned epochs: /content/drive/MyDrive/Cleaned_EEG_Epochs/subject_42_epo.fif\n",
            "Reading EGI header from /content/drive/MyDrive/EEG_128channels_ERP_lanzhou_2015/02030004erp 20151026 2004.raw...\n",
            "    Reading events ...\n",
            "    Assembling measurement info ...\n",
            "    Excluding events {} ...\n",
            "Reading 0 ... 199339  =      0.000 ...   797.356 secs...\n",
            "\n",
            "✔ Loaded: 02030004erp 20151026 2004.raw\n",
            "Filtering raw data in 1 contiguous segment\n",
            "Setting up band-pass filter from 0.1 - 30 Hz\n",
            "\n",
            "FIR filter parameters\n",
            "---------------------\n",
            "Designing a one-pass, zero-phase, non-causal bandpass filter:\n",
            "- Windowed time-domain design (firwin) method\n",
            "- Hamming window with 0.0194 passband ripple and 53 dB stopband attenuation\n",
            "- Lower passband edge: 0.10\n",
            "- Lower transition bandwidth: 0.10 Hz (-6 dB cutoff frequency: 0.05 Hz)\n",
            "- Upper passband edge: 30.00 Hz\n",
            "- Upper transition bandwidth: 7.50 Hz (-6 dB cutoff frequency: 33.75 Hz)\n",
            "- Filter length: 8251 samples (33.004 s)\n",
            "\n"
          ]
        },
        {
          "name": "stderr",
          "output_type": "stream",
          "text": [
            "[Parallel(n_jobs=1)]: Done  17 tasks      | elapsed:    0.2s\n",
            "[Parallel(n_jobs=1)]: Done  71 tasks      | elapsed:    0.8s\n"
          ]
        },
        {
          "name": "stdout",
          "output_type": "stream",
          "text": [
            "Used Annotations descriptions: [np.str_('CELL'), np.str_('SESS'), np.str_('TRSP'), np.str_('bgin'), np.str_('epoc'), np.str_('fcue'), np.str_('fdot'), np.str_('ffix'), np.str_('fisi'), np.str_('fwrp'), np.str_('hcue'), np.str_('hdot'), np.str_('hfix'), np.str_('hisi'), np.str_('hwrp'), np.str_('resp'), np.str_('scue'), np.str_('sdot'), np.str_('sfix'), np.str_('sisi'), np.str_('swrp')]\n",
            "✅ Events extracted from annotations: {np.str_('CELL'): 1, np.str_('SESS'): 2, np.str_('TRSP'): 3, np.str_('bgin'): 4, np.str_('epoc'): 5, np.str_('fcue'): 6, np.str_('fdot'): 7, np.str_('ffix'): 8, np.str_('fisi'): 9, np.str_('fwrp'): 10, np.str_('hcue'): 11, np.str_('hdot'): 12, np.str_('hfix'): 13, np.str_('hisi'): 14, np.str_('hwrp'): 15, np.str_('resp'): 16, np.str_('scue'): 17, np.str_('sdot'): 18, np.str_('sfix'): 19, np.str_('sisi'): 20, np.str_('swrp'): 21}\n",
            "Not setting metadata\n",
            "480 matching events found\n",
            "Setting baseline interval to [-0.2, 0.0] s\n",
            "Applying baseline correction (mode: mean)\n",
            "0 projection items activated\n",
            "Using data from preloaded Raw for 480 events and 251 original time points ...\n"
          ]
        },
        {
          "name": "stderr",
          "output_type": "stream",
          "text": [
            "[Parallel(n_jobs=1)]: Done 128 out of 128 | elapsed:    1.4s finished\n"
          ]
        },
        {
          "name": "stdout",
          "output_type": "stream",
          "text": [
            "0 bad epochs dropped\n",
            "Fitting ICA to data using 128 channels (please be patient, this may take a while)\n"
          ]
        },
        {
          "name": "stderr",
          "output_type": "stream",
          "text": [
            "/tmp/ipython-input-16-3467012358.py:59: RuntimeWarning: The epochs you passed to ICA.fit() were baseline-corrected. However, we suggest to fit ICA only on data that has been high-pass filtered, but NOT baseline-corrected.\n",
            "  ica.fit(epochs)\n"
          ]
        },
        {
          "name": "stdout",
          "output_type": "stream",
          "text": [
            "Selecting by number: 20 components\n",
            "Fitting ICA took 13.9s.\n",
            "⚠️ EOG not found, skipping EOG detection\n",
            "⚠️ ECG not found, skipping ECG detection\n",
            "Applying ICA to Epochs instance\n",
            "    Transforming to ICA space (20 components)\n",
            "    Zeroing out 0 ICA components\n",
            "    Projecting back using 128 PCA components\n"
          ]
        },
        {
          "name": "stderr",
          "output_type": "stream",
          "text": [
            "/tmp/ipython-input-16-3467012358.py:77: RuntimeWarning: The data you passed to ICA.apply() was baseline-corrected. Please note that ICA can introduce DC shifts, therefore you may wish to consider baseline-correcting the cleaned data again.\n",
            "  epochs_clean = ica.apply(epochs.copy())\n"
          ]
        },
        {
          "name": "stdout",
          "output_type": "stream",
          "text": [
            "EEG channel type selected for re-referencing\n",
            "Adding average EEG reference projection.\n",
            "1 projection items deactivated\n",
            "Average reference projection was added, but has not been applied yet. Use the apply_proj method to apply it.\n",
            "✅ Saved cleaned epochs: /content/drive/MyDrive/Cleaned_EEG_Epochs/subject_43_epo.fif\n",
            "Reading EGI header from /content/drive/MyDrive/EEG_128channels_ERP_lanzhou_2015/02030005erp 20151026 2116.raw...\n",
            "    Reading events ...\n",
            "    Assembling measurement info ...\n",
            "    Excluding events {} ...\n",
            "Reading 0 ... 202702  =      0.000 ...   810.808 secs...\n",
            "\n",
            "✔ Loaded: 02030005erp 20151026 2116.raw\n",
            "Filtering raw data in 1 contiguous segment\n",
            "Setting up band-pass filter from 0.1 - 30 Hz\n",
            "\n",
            "FIR filter parameters\n",
            "---------------------\n",
            "Designing a one-pass, zero-phase, non-causal bandpass filter:\n",
            "- Windowed time-domain design (firwin) method\n",
            "- Hamming window with 0.0194 passband ripple and 53 dB stopband attenuation\n",
            "- Lower passband edge: 0.10\n",
            "- Lower transition bandwidth: 0.10 Hz (-6 dB cutoff frequency: 0.05 Hz)\n",
            "- Upper passband edge: 30.00 Hz\n",
            "- Upper transition bandwidth: 7.50 Hz (-6 dB cutoff frequency: 33.75 Hz)\n",
            "- Filter length: 8251 samples (33.004 s)\n",
            "\n"
          ]
        },
        {
          "name": "stderr",
          "output_type": "stream",
          "text": [
            "[Parallel(n_jobs=1)]: Done  17 tasks      | elapsed:    0.2s\n",
            "[Parallel(n_jobs=1)]: Done  71 tasks      | elapsed:    0.8s\n"
          ]
        },
        {
          "name": "stdout",
          "output_type": "stream",
          "text": [
            "Used Annotations descriptions: [np.str_('CELL'), np.str_('SESS'), np.str_('TRSP'), np.str_('bgin'), np.str_('epoc'), np.str_('fcue'), np.str_('fdot'), np.str_('ffix'), np.str_('fisi'), np.str_('fwrp'), np.str_('hcue'), np.str_('hdot'), np.str_('hfix'), np.str_('hisi'), np.str_('hwrp'), np.str_('resp'), np.str_('scue'), np.str_('sdot'), np.str_('sfix'), np.str_('sisi'), np.str_('swrp')]\n",
            "✅ Events extracted from annotations: {np.str_('CELL'): 1, np.str_('SESS'): 2, np.str_('TRSP'): 3, np.str_('bgin'): 4, np.str_('epoc'): 5, np.str_('fcue'): 6, np.str_('fdot'): 7, np.str_('ffix'): 8, np.str_('fisi'): 9, np.str_('fwrp'): 10, np.str_('hcue'): 11, np.str_('hdot'): 12, np.str_('hfix'): 13, np.str_('hisi'): 14, np.str_('hwrp'): 15, np.str_('resp'): 16, np.str_('scue'): 17, np.str_('sdot'): 18, np.str_('sfix'): 19, np.str_('sisi'): 20, np.str_('swrp'): 21}\n",
            "Not setting metadata\n",
            "480 matching events found\n",
            "Setting baseline interval to [-0.2, 0.0] s\n",
            "Applying baseline correction (mode: mean)\n",
            "0 projection items activated\n",
            "Using data from preloaded Raw for 480 events and 251 original time points ...\n"
          ]
        },
        {
          "name": "stderr",
          "output_type": "stream",
          "text": [
            "[Parallel(n_jobs=1)]: Done 128 out of 128 | elapsed:    1.4s finished\n"
          ]
        },
        {
          "name": "stdout",
          "output_type": "stream",
          "text": [
            "1 bad epochs dropped\n",
            "Fitting ICA to data using 128 channels (please be patient, this may take a while)\n"
          ]
        },
        {
          "name": "stderr",
          "output_type": "stream",
          "text": [
            "/tmp/ipython-input-16-3467012358.py:59: RuntimeWarning: The epochs you passed to ICA.fit() were baseline-corrected. However, we suggest to fit ICA only on data that has been high-pass filtered, but NOT baseline-corrected.\n",
            "  ica.fit(epochs)\n"
          ]
        },
        {
          "name": "stdout",
          "output_type": "stream",
          "text": [
            "Selecting by number: 20 components\n",
            "Fitting ICA took 14.2s.\n",
            "⚠️ EOG not found, skipping EOG detection\n",
            "⚠️ ECG not found, skipping ECG detection\n",
            "Applying ICA to Epochs instance\n",
            "    Transforming to ICA space (20 components)\n",
            "    Zeroing out 0 ICA components\n",
            "    Projecting back using 128 PCA components\n"
          ]
        },
        {
          "name": "stderr",
          "output_type": "stream",
          "text": [
            "/tmp/ipython-input-16-3467012358.py:77: RuntimeWarning: The data you passed to ICA.apply() was baseline-corrected. Please note that ICA can introduce DC shifts, therefore you may wish to consider baseline-correcting the cleaned data again.\n",
            "  epochs_clean = ica.apply(epochs.copy())\n"
          ]
        },
        {
          "name": "stdout",
          "output_type": "stream",
          "text": [
            "EEG channel type selected for re-referencing\n",
            "Adding average EEG reference projection.\n",
            "1 projection items deactivated\n",
            "Average reference projection was added, but has not been applied yet. Use the apply_proj method to apply it.\n",
            "✅ Saved cleaned epochs: /content/drive/MyDrive/Cleaned_EEG_Epochs/subject_44_epo.fif\n",
            "Reading EGI header from /content/drive/MyDrive/EEG_128channels_ERP_lanzhou_2015/02030006 20151103 1801.raw...\n",
            "    Reading events ...\n",
            "    Assembling measurement info ...\n",
            "    Excluding events {} ...\n",
            "Reading 0 ... 196063  =      0.000 ...   784.252 secs...\n",
            "\n",
            "✔ Loaded: 02030006 20151103 1801.raw\n",
            "Filtering raw data in 1 contiguous segment\n",
            "Setting up band-pass filter from 0.1 - 30 Hz\n",
            "\n",
            "FIR filter parameters\n",
            "---------------------\n",
            "Designing a one-pass, zero-phase, non-causal bandpass filter:\n",
            "- Windowed time-domain design (firwin) method\n",
            "- Hamming window with 0.0194 passband ripple and 53 dB stopband attenuation\n",
            "- Lower passband edge: 0.10\n",
            "- Lower transition bandwidth: 0.10 Hz (-6 dB cutoff frequency: 0.05 Hz)\n",
            "- Upper passband edge: 30.00 Hz\n",
            "- Upper transition bandwidth: 7.50 Hz (-6 dB cutoff frequency: 33.75 Hz)\n",
            "- Filter length: 8251 samples (33.004 s)\n",
            "\n"
          ]
        },
        {
          "name": "stderr",
          "output_type": "stream",
          "text": [
            "[Parallel(n_jobs=1)]: Done  17 tasks      | elapsed:    0.2s\n",
            "[Parallel(n_jobs=1)]: Done  71 tasks      | elapsed:    0.7s\n"
          ]
        },
        {
          "name": "stdout",
          "output_type": "stream",
          "text": [
            "Used Annotations descriptions: [np.str_('CELL'), np.str_('SESS'), np.str_('TRSP'), np.str_('bgin'), np.str_('epoc'), np.str_('fcue'), np.str_('fdot'), np.str_('ffix'), np.str_('fisi'), np.str_('fwrp'), np.str_('hcue'), np.str_('hdot'), np.str_('hfix'), np.str_('hisi'), np.str_('hwrp'), np.str_('resp'), np.str_('scue'), np.str_('sdot'), np.str_('sfix'), np.str_('sisi'), np.str_('swrp')]\n",
            "✅ Events extracted from annotations: {np.str_('CELL'): 1, np.str_('SESS'): 2, np.str_('TRSP'): 3, np.str_('bgin'): 4, np.str_('epoc'): 5, np.str_('fcue'): 6, np.str_('fdot'): 7, np.str_('ffix'): 8, np.str_('fisi'): 9, np.str_('fwrp'): 10, np.str_('hcue'): 11, np.str_('hdot'): 12, np.str_('hfix'): 13, np.str_('hisi'): 14, np.str_('hwrp'): 15, np.str_('resp'): 16, np.str_('scue'): 17, np.str_('sdot'): 18, np.str_('sfix'): 19, np.str_('sisi'): 20, np.str_('swrp'): 21}\n",
            "Not setting metadata\n",
            "480 matching events found\n",
            "Setting baseline interval to [-0.2, 0.0] s\n",
            "Applying baseline correction (mode: mean)\n",
            "0 projection items activated\n",
            "Using data from preloaded Raw for 480 events and 251 original time points ...\n"
          ]
        },
        {
          "name": "stderr",
          "output_type": "stream",
          "text": [
            "[Parallel(n_jobs=1)]: Done 128 out of 128 | elapsed:    1.3s finished\n"
          ]
        },
        {
          "name": "stdout",
          "output_type": "stream",
          "text": [
            "1 bad epochs dropped\n",
            "Fitting ICA to data using 128 channels (please be patient, this may take a while)\n"
          ]
        },
        {
          "name": "stderr",
          "output_type": "stream",
          "text": [
            "/tmp/ipython-input-16-3467012358.py:59: RuntimeWarning: The epochs you passed to ICA.fit() were baseline-corrected. However, we suggest to fit ICA only on data that has been high-pass filtered, but NOT baseline-corrected.\n",
            "  ica.fit(epochs)\n"
          ]
        },
        {
          "name": "stdout",
          "output_type": "stream",
          "text": [
            "Selecting by number: 20 components\n",
            "Fitting ICA took 12.4s.\n",
            "⚠️ EOG not found, skipping EOG detection\n",
            "⚠️ ECG not found, skipping ECG detection\n",
            "Applying ICA to Epochs instance\n",
            "    Transforming to ICA space (20 components)\n"
          ]
        },
        {
          "name": "stderr",
          "output_type": "stream",
          "text": [
            "/tmp/ipython-input-16-3467012358.py:77: RuntimeWarning: The data you passed to ICA.apply() was baseline-corrected. Please note that ICA can introduce DC shifts, therefore you may wish to consider baseline-correcting the cleaned data again.\n",
            "  epochs_clean = ica.apply(epochs.copy())\n"
          ]
        },
        {
          "name": "stdout",
          "output_type": "stream",
          "text": [
            "    Zeroing out 0 ICA components\n",
            "    Projecting back using 128 PCA components\n",
            "EEG channel type selected for re-referencing\n",
            "Adding average EEG reference projection.\n",
            "1 projection items deactivated\n",
            "Average reference projection was added, but has not been applied yet. Use the apply_proj method to apply it.\n",
            "✅ Saved cleaned epochs: /content/drive/MyDrive/Cleaned_EEG_Epochs/subject_45_epo.fif\n",
            "Reading EGI header from /content/drive/MyDrive/EEG_128channels_ERP_lanzhou_2015/02030007 20151103 2129.raw...\n",
            "    Reading events ...\n",
            "    Assembling measurement info ...\n",
            "    Excluding events {} ...\n",
            "Reading 0 ... 205139  =      0.000 ...   820.556 secs...\n",
            "\n",
            "✔ Loaded: 02030007 20151103 2129.raw\n",
            "Filtering raw data in 1 contiguous segment\n",
            "Setting up band-pass filter from 0.1 - 30 Hz\n",
            "\n",
            "FIR filter parameters\n",
            "---------------------\n",
            "Designing a one-pass, zero-phase, non-causal bandpass filter:\n",
            "- Windowed time-domain design (firwin) method\n",
            "- Hamming window with 0.0194 passband ripple and 53 dB stopband attenuation\n",
            "- Lower passband edge: 0.10\n",
            "- Lower transition bandwidth: 0.10 Hz (-6 dB cutoff frequency: 0.05 Hz)\n",
            "- Upper passband edge: 30.00 Hz\n",
            "- Upper transition bandwidth: 7.50 Hz (-6 dB cutoff frequency: 33.75 Hz)\n",
            "- Filter length: 8251 samples (33.004 s)\n",
            "\n"
          ]
        },
        {
          "name": "stderr",
          "output_type": "stream",
          "text": [
            "[Parallel(n_jobs=1)]: Done  17 tasks      | elapsed:    0.2s\n",
            "[Parallel(n_jobs=1)]: Done  71 tasks      | elapsed:    0.7s\n"
          ]
        },
        {
          "name": "stdout",
          "output_type": "stream",
          "text": [
            "Used Annotations descriptions: [np.str_('CELL'), np.str_('SESS'), np.str_('TRSP'), np.str_('bgin'), np.str_('epoc'), np.str_('fcue'), np.str_('fdot'), np.str_('ffix'), np.str_('fisi'), np.str_('fwrp'), np.str_('hcue'), np.str_('hdot'), np.str_('hfix'), np.str_('hisi'), np.str_('hwrp'), np.str_('resp'), np.str_('scue'), np.str_('sdot'), np.str_('sfix'), np.str_('sisi'), np.str_('swrp')]\n",
            "✅ Events extracted from annotations: {np.str_('CELL'): 1, np.str_('SESS'): 2, np.str_('TRSP'): 3, np.str_('bgin'): 4, np.str_('epoc'): 5, np.str_('fcue'): 6, np.str_('fdot'): 7, np.str_('ffix'): 8, np.str_('fisi'): 9, np.str_('fwrp'): 10, np.str_('hcue'): 11, np.str_('hdot'): 12, np.str_('hfix'): 13, np.str_('hisi'): 14, np.str_('hwrp'): 15, np.str_('resp'): 16, np.str_('scue'): 17, np.str_('sdot'): 18, np.str_('sfix'): 19, np.str_('sisi'): 20, np.str_('swrp'): 21}\n",
            "Not setting metadata\n",
            "480 matching events found\n",
            "Setting baseline interval to [-0.2, 0.0] s\n",
            "Applying baseline correction (mode: mean)\n",
            "0 projection items activated\n",
            "Using data from preloaded Raw for 480 events and 251 original time points ...\n"
          ]
        },
        {
          "name": "stderr",
          "output_type": "stream",
          "text": [
            "[Parallel(n_jobs=1)]: Done 128 out of 128 | elapsed:    1.3s finished\n"
          ]
        },
        {
          "name": "stdout",
          "output_type": "stream",
          "text": [
            "0 bad epochs dropped\n",
            "Fitting ICA to data using 128 channels (please be patient, this may take a while)\n"
          ]
        },
        {
          "name": "stderr",
          "output_type": "stream",
          "text": [
            "/tmp/ipython-input-16-3467012358.py:59: RuntimeWarning: The epochs you passed to ICA.fit() were baseline-corrected. However, we suggest to fit ICA only on data that has been high-pass filtered, but NOT baseline-corrected.\n",
            "  ica.fit(epochs)\n"
          ]
        },
        {
          "name": "stdout",
          "output_type": "stream",
          "text": [
            "Selecting by number: 20 components\n",
            "Fitting ICA took 12.1s.\n",
            "⚠️ EOG not found, skipping EOG detection\n",
            "⚠️ ECG not found, skipping ECG detection\n",
            "Applying ICA to Epochs instance\n",
            "    Transforming to ICA space (20 components)\n",
            "    Zeroing out 0 ICA components\n",
            "    Projecting back using 128 PCA components\n"
          ]
        },
        {
          "name": "stderr",
          "output_type": "stream",
          "text": [
            "/tmp/ipython-input-16-3467012358.py:77: RuntimeWarning: The data you passed to ICA.apply() was baseline-corrected. Please note that ICA can introduce DC shifts, therefore you may wish to consider baseline-correcting the cleaned data again.\n",
            "  epochs_clean = ica.apply(epochs.copy())\n"
          ]
        },
        {
          "name": "stdout",
          "output_type": "stream",
          "text": [
            "EEG channel type selected for re-referencing\n",
            "Adding average EEG reference projection.\n",
            "1 projection items deactivated\n",
            "Average reference projection was added, but has not been applied yet. Use the apply_proj method to apply it.\n",
            "✅ Saved cleaned epochs: /content/drive/MyDrive/Cleaned_EEG_Epochs/subject_46_epo.fif\n",
            "Reading EGI header from /content/drive/MyDrive/EEG_128channels_ERP_lanzhou_2015/02030009erp 20151105 1207.raw...\n",
            "    Reading events ...\n",
            "    Assembling measurement info ...\n",
            "    Excluding events {} ...\n",
            "Reading 0 ... 198224  =      0.000 ...   792.896 secs...\n",
            "\n",
            "✔ Loaded: 02030009erp 20151105 1207.raw\n",
            "Filtering raw data in 1 contiguous segment\n",
            "Setting up band-pass filter from 0.1 - 30 Hz\n",
            "\n",
            "FIR filter parameters\n",
            "---------------------\n",
            "Designing a one-pass, zero-phase, non-causal bandpass filter:\n",
            "- Windowed time-domain design (firwin) method\n",
            "- Hamming window with 0.0194 passband ripple and 53 dB stopband attenuation\n",
            "- Lower passband edge: 0.10\n",
            "- Lower transition bandwidth: 0.10 Hz (-6 dB cutoff frequency: 0.05 Hz)\n",
            "- Upper passband edge: 30.00 Hz\n",
            "- Upper transition bandwidth: 7.50 Hz (-6 dB cutoff frequency: 33.75 Hz)\n",
            "- Filter length: 8251 samples (33.004 s)\n",
            "\n"
          ]
        },
        {
          "name": "stderr",
          "output_type": "stream",
          "text": [
            "[Parallel(n_jobs=1)]: Done  17 tasks      | elapsed:    0.2s\n",
            "[Parallel(n_jobs=1)]: Done  71 tasks      | elapsed:    0.8s\n"
          ]
        },
        {
          "name": "stdout",
          "output_type": "stream",
          "text": [
            "Used Annotations descriptions: [np.str_('CELL'), np.str_('SESS'), np.str_('TRSP'), np.str_('bgin'), np.str_('epoc'), np.str_('fcue'), np.str_('fdot'), np.str_('ffix'), np.str_('fisi'), np.str_('fwrp'), np.str_('hcue'), np.str_('hdot'), np.str_('hfix'), np.str_('hisi'), np.str_('hwrp'), np.str_('resp'), np.str_('scue'), np.str_('sdot'), np.str_('sfix'), np.str_('sisi'), np.str_('swrp')]\n",
            "✅ Events extracted from annotations: {np.str_('CELL'): 1, np.str_('SESS'): 2, np.str_('TRSP'): 3, np.str_('bgin'): 4, np.str_('epoc'): 5, np.str_('fcue'): 6, np.str_('fdot'): 7, np.str_('ffix'): 8, np.str_('fisi'): 9, np.str_('fwrp'): 10, np.str_('hcue'): 11, np.str_('hdot'): 12, np.str_('hfix'): 13, np.str_('hisi'): 14, np.str_('hwrp'): 15, np.str_('resp'): 16, np.str_('scue'): 17, np.str_('sdot'): 18, np.str_('sfix'): 19, np.str_('sisi'): 20, np.str_('swrp'): 21}\n",
            "Not setting metadata\n",
            "480 matching events found\n",
            "Setting baseline interval to [-0.2, 0.0] s\n",
            "Applying baseline correction (mode: mean)\n",
            "0 projection items activated\n",
            "Using data from preloaded Raw for 480 events and 251 original time points ...\n"
          ]
        },
        {
          "name": "stderr",
          "output_type": "stream",
          "text": [
            "[Parallel(n_jobs=1)]: Done 128 out of 128 | elapsed:    1.4s finished\n"
          ]
        },
        {
          "name": "stdout",
          "output_type": "stream",
          "text": [
            "0 bad epochs dropped\n",
            "Fitting ICA to data using 128 channels (please be patient, this may take a while)\n"
          ]
        },
        {
          "name": "stderr",
          "output_type": "stream",
          "text": [
            "/tmp/ipython-input-16-3467012358.py:59: RuntimeWarning: The epochs you passed to ICA.fit() were baseline-corrected. However, we suggest to fit ICA only on data that has been high-pass filtered, but NOT baseline-corrected.\n",
            "  ica.fit(epochs)\n"
          ]
        },
        {
          "name": "stdout",
          "output_type": "stream",
          "text": [
            "Selecting by number: 20 components\n",
            "Fitting ICA took 18.1s.\n",
            "⚠️ EOG not found, skipping EOG detection\n",
            "⚠️ ECG not found, skipping ECG detection\n",
            "Applying ICA to Epochs instance\n"
          ]
        },
        {
          "name": "stderr",
          "output_type": "stream",
          "text": [
            "/tmp/ipython-input-16-3467012358.py:77: RuntimeWarning: The data you passed to ICA.apply() was baseline-corrected. Please note that ICA can introduce DC shifts, therefore you may wish to consider baseline-correcting the cleaned data again.\n",
            "  epochs_clean = ica.apply(epochs.copy())\n"
          ]
        },
        {
          "name": "stdout",
          "output_type": "stream",
          "text": [
            "    Transforming to ICA space (20 components)\n",
            "    Zeroing out 0 ICA components\n",
            "    Projecting back using 128 PCA components\n",
            "EEG channel type selected for re-referencing\n",
            "Adding average EEG reference projection.\n",
            "1 projection items deactivated\n",
            "Average reference projection was added, but has not been applied yet. Use the apply_proj method to apply it.\n",
            "✅ Saved cleaned epochs: /content/drive/MyDrive/Cleaned_EEG_Epochs/subject_47_epo.fif\n",
            "Reading EGI header from /content/drive/MyDrive/EEG_128channels_ERP_lanzhou_2015/02030014erp 20151117 1419.raw...\n",
            "    Reading events ...\n",
            "    Assembling measurement info ...\n",
            "    Excluding events {} ...\n",
            "Reading 0 ... 202638  =      0.000 ...   810.552 secs...\n",
            "\n",
            "✔ Loaded: 02030014erp 20151117 1419.raw\n",
            "Filtering raw data in 1 contiguous segment\n",
            "Setting up band-pass filter from 0.1 - 30 Hz\n",
            "\n",
            "FIR filter parameters\n",
            "---------------------\n",
            "Designing a one-pass, zero-phase, non-causal bandpass filter:\n",
            "- Windowed time-domain design (firwin) method\n",
            "- Hamming window with 0.0194 passband ripple and 53 dB stopband attenuation\n",
            "- Lower passband edge: 0.10\n",
            "- Lower transition bandwidth: 0.10 Hz (-6 dB cutoff frequency: 0.05 Hz)\n",
            "- Upper passband edge: 30.00 Hz\n",
            "- Upper transition bandwidth: 7.50 Hz (-6 dB cutoff frequency: 33.75 Hz)\n",
            "- Filter length: 8251 samples (33.004 s)\n",
            "\n"
          ]
        },
        {
          "name": "stderr",
          "output_type": "stream",
          "text": [
            "[Parallel(n_jobs=1)]: Done  17 tasks      | elapsed:    0.2s\n",
            "[Parallel(n_jobs=1)]: Done  71 tasks      | elapsed:    0.8s\n"
          ]
        },
        {
          "name": "stdout",
          "output_type": "stream",
          "text": [
            "Used Annotations descriptions: [np.str_('CELL'), np.str_('SESS'), np.str_('TRSP'), np.str_('bgin'), np.str_('epoc'), np.str_('fcue'), np.str_('fdot'), np.str_('ffix'), np.str_('fisi'), np.str_('fwrp'), np.str_('hcue'), np.str_('hdot'), np.str_('hfix'), np.str_('hisi'), np.str_('hwrp'), np.str_('resp'), np.str_('scue'), np.str_('sdot'), np.str_('sfix'), np.str_('sisi'), np.str_('swrp')]\n",
            "✅ Events extracted from annotations: {np.str_('CELL'): 1, np.str_('SESS'): 2, np.str_('TRSP'): 3, np.str_('bgin'): 4, np.str_('epoc'): 5, np.str_('fcue'): 6, np.str_('fdot'): 7, np.str_('ffix'): 8, np.str_('fisi'): 9, np.str_('fwrp'): 10, np.str_('hcue'): 11, np.str_('hdot'): 12, np.str_('hfix'): 13, np.str_('hisi'): 14, np.str_('hwrp'): 15, np.str_('resp'): 16, np.str_('scue'): 17, np.str_('sdot'): 18, np.str_('sfix'): 19, np.str_('sisi'): 20, np.str_('swrp'): 21}\n",
            "Not setting metadata\n",
            "480 matching events found\n",
            "Setting baseline interval to [-0.2, 0.0] s\n",
            "Applying baseline correction (mode: mean)\n",
            "0 projection items activated\n",
            "Using data from preloaded Raw for 480 events and 251 original time points ...\n"
          ]
        },
        {
          "name": "stderr",
          "output_type": "stream",
          "text": [
            "[Parallel(n_jobs=1)]: Done 128 out of 128 | elapsed:    1.5s finished\n"
          ]
        },
        {
          "name": "stdout",
          "output_type": "stream",
          "text": [
            "1 bad epochs dropped\n",
            "Fitting ICA to data using 128 channels (please be patient, this may take a while)\n"
          ]
        },
        {
          "name": "stderr",
          "output_type": "stream",
          "text": [
            "/tmp/ipython-input-16-3467012358.py:59: RuntimeWarning: The epochs you passed to ICA.fit() were baseline-corrected. However, we suggest to fit ICA only on data that has been high-pass filtered, but NOT baseline-corrected.\n",
            "  ica.fit(epochs)\n"
          ]
        },
        {
          "name": "stdout",
          "output_type": "stream",
          "text": [
            "Selecting by number: 20 components\n",
            "Fitting ICA took 15.6s.\n",
            "⚠️ EOG not found, skipping EOG detection\n",
            "⚠️ ECG not found, skipping ECG detection\n",
            "Applying ICA to Epochs instance\n",
            "    Transforming to ICA space (20 components)\n",
            "    Zeroing out 0 ICA components\n",
            "    Projecting back using 128 PCA components\n"
          ]
        },
        {
          "name": "stderr",
          "output_type": "stream",
          "text": [
            "/tmp/ipython-input-16-3467012358.py:77: RuntimeWarning: The data you passed to ICA.apply() was baseline-corrected. Please note that ICA can introduce DC shifts, therefore you may wish to consider baseline-correcting the cleaned data again.\n",
            "  epochs_clean = ica.apply(epochs.copy())\n"
          ]
        },
        {
          "name": "stdout",
          "output_type": "stream",
          "text": [
            "EEG channel type selected for re-referencing\n",
            "Adding average EEG reference projection.\n",
            "1 projection items deactivated\n",
            "Average reference projection was added, but has not been applied yet. Use the apply_proj method to apply it.\n",
            "✅ Saved cleaned epochs: /content/drive/MyDrive/Cleaned_EEG_Epochs/subject_48_epo.fif\n",
            "Reading EGI header from /content/drive/MyDrive/EEG_128channels_ERP_lanzhou_2015/02030017erp 20151208 1351.raw...\n",
            "    Reading events ...\n",
            "    Assembling measurement info ...\n",
            "    Excluding events {} ...\n",
            "Reading 0 ... 208290  =      0.000 ...   833.160 secs...\n",
            "\n",
            "✔ Loaded: 02030017erp 20151208 1351.raw\n",
            "Filtering raw data in 1 contiguous segment\n",
            "Setting up band-pass filter from 0.1 - 30 Hz\n",
            "\n",
            "FIR filter parameters\n",
            "---------------------\n",
            "Designing a one-pass, zero-phase, non-causal bandpass filter:\n",
            "- Windowed time-domain design (firwin) method\n",
            "- Hamming window with 0.0194 passband ripple and 53 dB stopband attenuation\n",
            "- Lower passband edge: 0.10\n",
            "- Lower transition bandwidth: 0.10 Hz (-6 dB cutoff frequency: 0.05 Hz)\n",
            "- Upper passband edge: 30.00 Hz\n",
            "- Upper transition bandwidth: 7.50 Hz (-6 dB cutoff frequency: 33.75 Hz)\n",
            "- Filter length: 8251 samples (33.004 s)\n",
            "\n"
          ]
        },
        {
          "name": "stderr",
          "output_type": "stream",
          "text": [
            "[Parallel(n_jobs=1)]: Done  17 tasks      | elapsed:    0.3s\n",
            "[Parallel(n_jobs=1)]: Done  71 tasks      | elapsed:    1.2s\n"
          ]
        },
        {
          "name": "stdout",
          "output_type": "stream",
          "text": [
            "Used Annotations descriptions: [np.str_('CELL'), np.str_('SESS'), np.str_('TRSP'), np.str_('bgin'), np.str_('epoc'), np.str_('fcue'), np.str_('fdot'), np.str_('ffix'), np.str_('fisi'), np.str_('fwrp'), np.str_('hcue'), np.str_('hdot'), np.str_('hfix'), np.str_('hisi'), np.str_('hwrp'), np.str_('resp'), np.str_('scue'), np.str_('sdot'), np.str_('sfix'), np.str_('sisi'), np.str_('swrp')]\n",
            "✅ Events extracted from annotations: {np.str_('CELL'): 1, np.str_('SESS'): 2, np.str_('TRSP'): 3, np.str_('bgin'): 4, np.str_('epoc'): 5, np.str_('fcue'): 6, np.str_('fdot'): 7, np.str_('ffix'): 8, np.str_('fisi'): 9, np.str_('fwrp'): 10, np.str_('hcue'): 11, np.str_('hdot'): 12, np.str_('hfix'): 13, np.str_('hisi'): 14, np.str_('hwrp'): 15, np.str_('resp'): 16, np.str_('scue'): 17, np.str_('sdot'): 18, np.str_('sfix'): 19, np.str_('sisi'): 20, np.str_('swrp'): 21}\n",
            "Not setting metadata\n",
            "480 matching events found\n"
          ]
        },
        {
          "name": "stderr",
          "output_type": "stream",
          "text": [
            "[Parallel(n_jobs=1)]: Done 128 out of 128 | elapsed:    2.3s finished\n"
          ]
        },
        {
          "name": "stdout",
          "output_type": "stream",
          "text": [
            "Setting baseline interval to [-0.2, 0.0] s\n",
            "Applying baseline correction (mode: mean)\n",
            "0 projection items activated\n",
            "Using data from preloaded Raw for 480 events and 251 original time points ...\n",
            "1 bad epochs dropped\n",
            "Fitting ICA to data using 128 channels (please be patient, this may take a while)\n"
          ]
        },
        {
          "name": "stderr",
          "output_type": "stream",
          "text": [
            "/tmp/ipython-input-16-3467012358.py:59: RuntimeWarning: The epochs you passed to ICA.fit() were baseline-corrected. However, we suggest to fit ICA only on data that has been high-pass filtered, but NOT baseline-corrected.\n",
            "  ica.fit(epochs)\n"
          ]
        },
        {
          "name": "stdout",
          "output_type": "stream",
          "text": [
            "Selecting by number: 20 components\n",
            "Fitting ICA took 18.8s.\n",
            "⚠️ EOG not found, skipping EOG detection\n",
            "⚠️ ECG not found, skipping ECG detection\n",
            "Applying ICA to Epochs instance\n",
            "    Transforming to ICA space (20 components)\n",
            "    Zeroing out 0 ICA components\n",
            "    Projecting back using 128 PCA components\n"
          ]
        },
        {
          "name": "stderr",
          "output_type": "stream",
          "text": [
            "/tmp/ipython-input-16-3467012358.py:77: RuntimeWarning: The data you passed to ICA.apply() was baseline-corrected. Please note that ICA can introduce DC shifts, therefore you may wish to consider baseline-correcting the cleaned data again.\n",
            "  epochs_clean = ica.apply(epochs.copy())\n"
          ]
        },
        {
          "name": "stdout",
          "output_type": "stream",
          "text": [
            "EEG channel type selected for re-referencing\n",
            "Adding average EEG reference projection.\n",
            "1 projection items deactivated\n",
            "Average reference projection was added, but has not been applied yet. Use the apply_proj method to apply it.\n",
            "✅ Saved cleaned epochs: /content/drive/MyDrive/Cleaned_EEG_Epochs/subject_49_epo.fif\n",
            "Reading EGI header from /content/drive/MyDrive/EEG_128channels_ERP_lanzhou_2015/02030018erp 20151208 1514.raw...\n",
            "    Reading events ...\n",
            "    Assembling measurement info ...\n",
            "    Excluding events {} ...\n",
            "Reading 0 ... 212138  =      0.000 ...   848.552 secs...\n",
            "\n",
            "✔ Loaded: 02030018erp 20151208 1514.raw\n",
            "Filtering raw data in 1 contiguous segment\n",
            "Setting up band-pass filter from 0.1 - 30 Hz\n",
            "\n",
            "FIR filter parameters\n",
            "---------------------\n",
            "Designing a one-pass, zero-phase, non-causal bandpass filter:\n",
            "- Windowed time-domain design (firwin) method\n",
            "- Hamming window with 0.0194 passband ripple and 53 dB stopband attenuation\n",
            "- Lower passband edge: 0.10\n",
            "- Lower transition bandwidth: 0.10 Hz (-6 dB cutoff frequency: 0.05 Hz)\n",
            "- Upper passband edge: 30.00 Hz\n",
            "- Upper transition bandwidth: 7.50 Hz (-6 dB cutoff frequency: 33.75 Hz)\n",
            "- Filter length: 8251 samples (33.004 s)\n",
            "\n"
          ]
        },
        {
          "name": "stderr",
          "output_type": "stream",
          "text": [
            "[Parallel(n_jobs=1)]: Done  17 tasks      | elapsed:    0.3s\n",
            "[Parallel(n_jobs=1)]: Done  71 tasks      | elapsed:    1.3s\n"
          ]
        },
        {
          "name": "stdout",
          "output_type": "stream",
          "text": [
            "Used Annotations descriptions: [np.str_('CELL'), np.str_('D127'), np.str_('DI18'), np.str_('DI26'), np.str_('DI27'), np.str_('SESS'), np.str_('TRSP'), np.str_('bgin'), np.str_('epoc'), np.str_('fcue'), np.str_('fdot'), np.str_('ffix'), np.str_('fisi'), np.str_('fwrp'), np.str_('hcue'), np.str_('hdot'), np.str_('hfix'), np.str_('hisi'), np.str_('hwrp'), np.str_('resp'), np.str_('scue'), np.str_('sdot'), np.str_('sfix'), np.str_('sisi'), np.str_('swrp')]\n",
            "✅ Events extracted from annotations: {np.str_('CELL'): 1, np.str_('D127'): 2, np.str_('DI18'): 3, np.str_('DI26'): 4, np.str_('DI27'): 5, np.str_('SESS'): 6, np.str_('TRSP'): 7, np.str_('bgin'): 8, np.str_('epoc'): 9, np.str_('fcue'): 10, np.str_('fdot'): 11, np.str_('ffix'): 12, np.str_('fisi'): 13, np.str_('fwrp'): 14, np.str_('hcue'): 15, np.str_('hdot'): 16, np.str_('hfix'): 17, np.str_('hisi'): 18, np.str_('hwrp'): 19, np.str_('resp'): 20, np.str_('scue'): 21, np.str_('sdot'): 22, np.str_('sfix'): 23, np.str_('sisi'): 24, np.str_('swrp'): 25}\n",
            "Not setting metadata\n",
            "480 matching events found\n",
            "Setting baseline interval to [-0.2, 0.0] s\n",
            "Applying baseline correction (mode: mean)\n",
            "0 projection items activated\n",
            "Using data from preloaded Raw for 480 events and 251 original time points ...\n"
          ]
        },
        {
          "name": "stderr",
          "output_type": "stream",
          "text": [
            "[Parallel(n_jobs=1)]: Done 128 out of 128 | elapsed:    2.1s finished\n"
          ]
        },
        {
          "name": "stdout",
          "output_type": "stream",
          "text": [
            "0 bad epochs dropped\n",
            "Fitting ICA to data using 128 channels (please be patient, this may take a while)\n"
          ]
        },
        {
          "name": "stderr",
          "output_type": "stream",
          "text": [
            "/tmp/ipython-input-16-3467012358.py:59: RuntimeWarning: The epochs you passed to ICA.fit() were baseline-corrected. However, we suggest to fit ICA only on data that has been high-pass filtered, but NOT baseline-corrected.\n",
            "  ica.fit(epochs)\n"
          ]
        },
        {
          "name": "stdout",
          "output_type": "stream",
          "text": [
            "Selecting by number: 20 components\n",
            "Fitting ICA took 13.4s.\n",
            "⚠️ EOG not found, skipping EOG detection\n",
            "⚠️ ECG not found, skipping ECG detection\n",
            "Applying ICA to Epochs instance\n",
            "    Transforming to ICA space (20 components)\n",
            "    Zeroing out 0 ICA components\n",
            "    Projecting back using 128 PCA components\n"
          ]
        },
        {
          "name": "stderr",
          "output_type": "stream",
          "text": [
            "/tmp/ipython-input-16-3467012358.py:77: RuntimeWarning: The data you passed to ICA.apply() was baseline-corrected. Please note that ICA can introduce DC shifts, therefore you may wish to consider baseline-correcting the cleaned data again.\n",
            "  epochs_clean = ica.apply(epochs.copy())\n"
          ]
        },
        {
          "name": "stdout",
          "output_type": "stream",
          "text": [
            "EEG channel type selected for re-referencing\n",
            "Adding average EEG reference projection.\n",
            "1 projection items deactivated\n",
            "Average reference projection was added, but has not been applied yet. Use the apply_proj method to apply it.\n",
            "✅ Saved cleaned epochs: /content/drive/MyDrive/Cleaned_EEG_Epochs/subject_50_epo.fif\n",
            "Reading EGI header from /content/drive/MyDrive/EEG_128channels_ERP_lanzhou_2015/02030019_erp 20151230 1331.raw...\n",
            "    Reading events ...\n",
            "    Assembling measurement info ...\n",
            "    Excluding events {} ...\n",
            "Reading 0 ... 204702  =      0.000 ...   818.808 secs...\n",
            "\n",
            "✔ Loaded: 02030019_erp 20151230 1331.raw\n",
            "Filtering raw data in 1 contiguous segment\n",
            "Setting up band-pass filter from 0.1 - 30 Hz\n",
            "\n",
            "FIR filter parameters\n",
            "---------------------\n",
            "Designing a one-pass, zero-phase, non-causal bandpass filter:\n",
            "- Windowed time-domain design (firwin) method\n",
            "- Hamming window with 0.0194 passband ripple and 53 dB stopband attenuation\n",
            "- Lower passband edge: 0.10\n",
            "- Lower transition bandwidth: 0.10 Hz (-6 dB cutoff frequency: 0.05 Hz)\n",
            "- Upper passband edge: 30.00 Hz\n",
            "- Upper transition bandwidth: 7.50 Hz (-6 dB cutoff frequency: 33.75 Hz)\n",
            "- Filter length: 8251 samples (33.004 s)\n",
            "\n"
          ]
        },
        {
          "name": "stderr",
          "output_type": "stream",
          "text": [
            "[Parallel(n_jobs=1)]: Done  17 tasks      | elapsed:    0.2s\n",
            "[Parallel(n_jobs=1)]: Done  71 tasks      | elapsed:    0.7s\n"
          ]
        },
        {
          "name": "stdout",
          "output_type": "stream",
          "text": [
            "Used Annotations descriptions: [np.str_('CELL'), np.str_('SESS'), np.str_('TRSP'), np.str_('bgin'), np.str_('epoc'), np.str_('fcue'), np.str_('fdot'), np.str_('ffix'), np.str_('fisi'), np.str_('fwrp'), np.str_('hcue'), np.str_('hdot'), np.str_('hfix'), np.str_('hisi'), np.str_('hwrp'), np.str_('resp'), np.str_('scue'), np.str_('sdot'), np.str_('sfix'), np.str_('sisi'), np.str_('swrp')]\n",
            "✅ Events extracted from annotations: {np.str_('CELL'): 1, np.str_('SESS'): 2, np.str_('TRSP'): 3, np.str_('bgin'): 4, np.str_('epoc'): 5, np.str_('fcue'): 6, np.str_('fdot'): 7, np.str_('ffix'): 8, np.str_('fisi'): 9, np.str_('fwrp'): 10, np.str_('hcue'): 11, np.str_('hdot'): 12, np.str_('hfix'): 13, np.str_('hisi'): 14, np.str_('hwrp'): 15, np.str_('resp'): 16, np.str_('scue'): 17, np.str_('sdot'): 18, np.str_('sfix'): 19, np.str_('sisi'): 20, np.str_('swrp'): 21}\n",
            "Not setting metadata\n",
            "480 matching events found\n",
            "Setting baseline interval to [-0.2, 0.0] s\n",
            "Applying baseline correction (mode: mean)\n",
            "0 projection items activated\n",
            "Using data from preloaded Raw for 480 events and 251 original time points ...\n"
          ]
        },
        {
          "name": "stderr",
          "output_type": "stream",
          "text": [
            "[Parallel(n_jobs=1)]: Done 128 out of 128 | elapsed:    1.3s finished\n"
          ]
        },
        {
          "name": "stdout",
          "output_type": "stream",
          "text": [
            "0 bad epochs dropped\n",
            "Fitting ICA to data using 128 channels (please be patient, this may take a while)\n"
          ]
        },
        {
          "name": "stderr",
          "output_type": "stream",
          "text": [
            "/tmp/ipython-input-16-3467012358.py:59: RuntimeWarning: The epochs you passed to ICA.fit() were baseline-corrected. However, we suggest to fit ICA only on data that has been high-pass filtered, but NOT baseline-corrected.\n",
            "  ica.fit(epochs)\n"
          ]
        },
        {
          "name": "stdout",
          "output_type": "stream",
          "text": [
            "Selecting by number: 20 components\n",
            "Fitting ICA took 14.8s.\n",
            "⚠️ EOG not found, skipping EOG detection\n",
            "⚠️ ECG not found, skipping ECG detection\n",
            "Applying ICA to Epochs instance\n",
            "    Transforming to ICA space (20 components)\n",
            "    Zeroing out 0 ICA components\n",
            "    Projecting back using 128 PCA components\n"
          ]
        },
        {
          "name": "stderr",
          "output_type": "stream",
          "text": [
            "/tmp/ipython-input-16-3467012358.py:77: RuntimeWarning: The data you passed to ICA.apply() was baseline-corrected. Please note that ICA can introduce DC shifts, therefore you may wish to consider baseline-correcting the cleaned data again.\n",
            "  epochs_clean = ica.apply(epochs.copy())\n"
          ]
        },
        {
          "name": "stdout",
          "output_type": "stream",
          "text": [
            "EEG channel type selected for re-referencing\n",
            "Adding average EEG reference projection.\n",
            "1 projection items deactivated\n",
            "Average reference projection was added, but has not been applied yet. Use the apply_proj method to apply it.\n",
            "✅ Saved cleaned epochs: /content/drive/MyDrive/Cleaned_EEG_Epochs/subject_51_epo.fif\n",
            "Reading EGI header from /content/drive/MyDrive/EEG_128channels_ERP_lanzhou_2015/02030020_erp 20151230 1443.raw...\n",
            "    Reading events ...\n",
            "    Assembling measurement info ...\n",
            "    Excluding events {} ...\n",
            "Reading 0 ... 197627  =      0.000 ...   790.508 secs...\n",
            "\n",
            "✔ Loaded: 02030020_erp 20151230 1443.raw\n",
            "Filtering raw data in 1 contiguous segment\n",
            "Setting up band-pass filter from 0.1 - 30 Hz\n",
            "\n",
            "FIR filter parameters\n",
            "---------------------\n",
            "Designing a one-pass, zero-phase, non-causal bandpass filter:\n",
            "- Windowed time-domain design (firwin) method\n",
            "- Hamming window with 0.0194 passband ripple and 53 dB stopband attenuation\n",
            "- Lower passband edge: 0.10\n",
            "- Lower transition bandwidth: 0.10 Hz (-6 dB cutoff frequency: 0.05 Hz)\n",
            "- Upper passband edge: 30.00 Hz\n",
            "- Upper transition bandwidth: 7.50 Hz (-6 dB cutoff frequency: 33.75 Hz)\n",
            "- Filter length: 8251 samples (33.004 s)\n",
            "\n"
          ]
        },
        {
          "name": "stderr",
          "output_type": "stream",
          "text": [
            "[Parallel(n_jobs=1)]: Done  17 tasks      | elapsed:    0.2s\n",
            "[Parallel(n_jobs=1)]: Done  71 tasks      | elapsed:    0.8s\n"
          ]
        },
        {
          "name": "stdout",
          "output_type": "stream",
          "text": [
            "Used Annotations descriptions: [np.str_('CELL'), np.str_('D127'), np.str_('DI26'), np.str_('DI27'), np.str_('DI95'), np.str_('DIN2'), np.str_('SESS'), np.str_('TRSP'), np.str_('bgin'), np.str_('epoc'), np.str_('fcue'), np.str_('fdot'), np.str_('ffix'), np.str_('fisi'), np.str_('fwrp'), np.str_('hcue'), np.str_('hdot'), np.str_('hfix'), np.str_('hisi'), np.str_('hwrp'), np.str_('resp'), np.str_('scue'), np.str_('sdot'), np.str_('sfix'), np.str_('sisi'), np.str_('swrp')]\n",
            "✅ Events extracted from annotations: {np.str_('CELL'): 1, np.str_('D127'): 2, np.str_('DI26'): 3, np.str_('DI27'): 4, np.str_('DI95'): 5, np.str_('DIN2'): 6, np.str_('SESS'): 7, np.str_('TRSP'): 8, np.str_('bgin'): 9, np.str_('epoc'): 10, np.str_('fcue'): 11, np.str_('fdot'): 12, np.str_('ffix'): 13, np.str_('fisi'): 14, np.str_('fwrp'): 15, np.str_('hcue'): 16, np.str_('hdot'): 17, np.str_('hfix'): 18, np.str_('hisi'): 19, np.str_('hwrp'): 20, np.str_('resp'): 21, np.str_('scue'): 22, np.str_('sdot'): 23, np.str_('sfix'): 24, np.str_('sisi'): 25, np.str_('swrp'): 26}\n",
            "Not setting metadata\n",
            "480 matching events found\n",
            "Setting baseline interval to [-0.2, 0.0] s\n",
            "Applying baseline correction (mode: mean)\n",
            "0 projection items activated\n",
            "Using data from preloaded Raw for 480 events and 251 original time points ...\n"
          ]
        },
        {
          "name": "stderr",
          "output_type": "stream",
          "text": [
            "[Parallel(n_jobs=1)]: Done 128 out of 128 | elapsed:    1.4s finished\n"
          ]
        },
        {
          "name": "stdout",
          "output_type": "stream",
          "text": [
            "0 bad epochs dropped\n",
            "Fitting ICA to data using 128 channels (please be patient, this may take a while)\n"
          ]
        },
        {
          "name": "stderr",
          "output_type": "stream",
          "text": [
            "/tmp/ipython-input-16-3467012358.py:59: RuntimeWarning: The epochs you passed to ICA.fit() were baseline-corrected. However, we suggest to fit ICA only on data that has been high-pass filtered, but NOT baseline-corrected.\n",
            "  ica.fit(epochs)\n"
          ]
        },
        {
          "name": "stdout",
          "output_type": "stream",
          "text": [
            "Selecting by number: 20 components\n",
            "Fitting ICA took 16.6s.\n",
            "⚠️ EOG not found, skipping EOG detection\n",
            "⚠️ ECG not found, skipping ECG detection\n",
            "Applying ICA to Epochs instance\n",
            "    Transforming to ICA space (20 components)\n",
            "    Zeroing out 0 ICA components\n",
            "    Projecting back using 128 PCA components\n"
          ]
        },
        {
          "name": "stderr",
          "output_type": "stream",
          "text": [
            "/tmp/ipython-input-16-3467012358.py:77: RuntimeWarning: The data you passed to ICA.apply() was baseline-corrected. Please note that ICA can introduce DC shifts, therefore you may wish to consider baseline-correcting the cleaned data again.\n",
            "  epochs_clean = ica.apply(epochs.copy())\n"
          ]
        },
        {
          "name": "stdout",
          "output_type": "stream",
          "text": [
            "EEG channel type selected for re-referencing\n",
            "Adding average EEG reference projection.\n",
            "1 projection items deactivated\n",
            "Average reference projection was added, but has not been applied yet. Use the apply_proj method to apply it.\n",
            "✅ Saved cleaned epochs: /content/drive/MyDrive/Cleaned_EEG_Epochs/subject_52_epo.fif\n",
            "Reading EGI header from /content/drive/MyDrive/EEG_128channels_ERP_lanzhou_2015/02030021erp 20160105 1204.raw...\n",
            "    Reading events ...\n",
            "    Assembling measurement info ...\n",
            "    Excluding events {} ...\n",
            "Reading 0 ... 197977  =      0.000 ...   791.908 secs...\n",
            "\n",
            "✔ Loaded: 02030021erp 20160105 1204.raw\n",
            "Filtering raw data in 1 contiguous segment\n",
            "Setting up band-pass filter from 0.1 - 30 Hz\n",
            "\n",
            "FIR filter parameters\n",
            "---------------------\n",
            "Designing a one-pass, zero-phase, non-causal bandpass filter:\n",
            "- Windowed time-domain design (firwin) method\n",
            "- Hamming window with 0.0194 passband ripple and 53 dB stopband attenuation\n",
            "- Lower passband edge: 0.10\n",
            "- Lower transition bandwidth: 0.10 Hz (-6 dB cutoff frequency: 0.05 Hz)\n",
            "- Upper passband edge: 30.00 Hz\n",
            "- Upper transition bandwidth: 7.50 Hz (-6 dB cutoff frequency: 33.75 Hz)\n",
            "- Filter length: 8251 samples (33.004 s)\n",
            "\n"
          ]
        },
        {
          "name": "stderr",
          "output_type": "stream",
          "text": [
            "[Parallel(n_jobs=1)]: Done  17 tasks      | elapsed:    0.2s\n",
            "[Parallel(n_jobs=1)]: Done  71 tasks      | elapsed:    0.8s\n"
          ]
        },
        {
          "name": "stdout",
          "output_type": "stream",
          "text": [
            "Used Annotations descriptions: [np.str_('CELL'), np.str_('SESS'), np.str_('TRSP'), np.str_('bgin'), np.str_('epoc'), np.str_('fcue'), np.str_('fdot'), np.str_('ffix'), np.str_('fisi'), np.str_('fwrp'), np.str_('hcue'), np.str_('hdot'), np.str_('hfix'), np.str_('hisi'), np.str_('hwrp'), np.str_('resp'), np.str_('scue'), np.str_('sdot'), np.str_('sfix'), np.str_('sisi'), np.str_('swrp')]\n",
            "✅ Events extracted from annotations: {np.str_('CELL'): 1, np.str_('SESS'): 2, np.str_('TRSP'): 3, np.str_('bgin'): 4, np.str_('epoc'): 5, np.str_('fcue'): 6, np.str_('fdot'): 7, np.str_('ffix'): 8, np.str_('fisi'): 9, np.str_('fwrp'): 10, np.str_('hcue'): 11, np.str_('hdot'): 12, np.str_('hfix'): 13, np.str_('hisi'): 14, np.str_('hwrp'): 15, np.str_('resp'): 16, np.str_('scue'): 17, np.str_('sdot'): 18, np.str_('sfix'): 19, np.str_('sisi'): 20, np.str_('swrp'): 21}\n",
            "Not setting metadata\n",
            "480 matching events found\n",
            "Setting baseline interval to [-0.2, 0.0] s\n",
            "Applying baseline correction (mode: mean)\n",
            "0 projection items activated\n",
            "Using data from preloaded Raw for 480 events and 251 original time points ...\n"
          ]
        },
        {
          "name": "stderr",
          "output_type": "stream",
          "text": [
            "[Parallel(n_jobs=1)]: Done 128 out of 128 | elapsed:    1.4s finished\n"
          ]
        },
        {
          "name": "stdout",
          "output_type": "stream",
          "text": [
            "1 bad epochs dropped\n",
            "Fitting ICA to data using 128 channels (please be patient, this may take a while)\n"
          ]
        },
        {
          "name": "stderr",
          "output_type": "stream",
          "text": [
            "/tmp/ipython-input-16-3467012358.py:59: RuntimeWarning: The epochs you passed to ICA.fit() were baseline-corrected. However, we suggest to fit ICA only on data that has been high-pass filtered, but NOT baseline-corrected.\n",
            "  ica.fit(epochs)\n"
          ]
        },
        {
          "name": "stdout",
          "output_type": "stream",
          "text": [
            "Selecting by number: 20 components\n",
            "Fitting ICA took 11.4s.\n",
            "⚠️ EOG not found, skipping EOG detection\n",
            "⚠️ ECG not found, skipping ECG detection\n",
            "Applying ICA to Epochs instance\n",
            "    Transforming to ICA space (20 components)\n",
            "    Zeroing out 0 ICA components\n",
            "    Projecting back using 128 PCA components\n"
          ]
        },
        {
          "name": "stderr",
          "output_type": "stream",
          "text": [
            "/tmp/ipython-input-16-3467012358.py:77: RuntimeWarning: The data you passed to ICA.apply() was baseline-corrected. Please note that ICA can introduce DC shifts, therefore you may wish to consider baseline-correcting the cleaned data again.\n",
            "  epochs_clean = ica.apply(epochs.copy())\n"
          ]
        },
        {
          "name": "stdout",
          "output_type": "stream",
          "text": [
            "EEG channel type selected for re-referencing\n",
            "Adding average EEG reference projection.\n",
            "1 projection items deactivated\n",
            "Average reference projection was added, but has not been applied yet. Use the apply_proj method to apply it.\n",
            "✅ Saved cleaned epochs: /content/drive/MyDrive/Cleaned_EEG_Epochs/subject_53_epo.fif\n"
          ]
        }
      ],
      "source": [
        "# STEP 2: Import packages\n",
        "import os\n",
        "import mne\n",
        "\n",
        "# STEP 3: Set paths\n",
        "data_folder = \"/content/drive/MyDrive/EEG_128channels_ERP_lanzhou_2015\"\n",
        "output_folder = \"/content/drive/MyDrive/Cleaned_EEG_Epochs\"\n",
        "os.makedirs(output_folder, exist_ok=True)\n",
        "\n",
        "# STEP 4: Get list of all .raw files\n",
        "eeg_files = [os.path.join(data_folder, f) for f in os.listdir(data_folder) if f.endswith('.raw')]\n",
        "print(f\"Total ERP EEG files found: {len(eeg_files)}\")\n",
        "\n",
        "# STEP 5: Define full preprocessing function\n",
        "def preprocess_erp_file(file_path, output_path, subject_id):\n",
        "    try:\n",
        "        # Load raw file\n",
        "        raw = mne.io.read_raw_egi(file_path, preload=True)\n",
        "        print(f\"\\n✔ Loaded: {os.path.basename(file_path)}\")\n",
        "\n",
        "        # Drop E129 if exists (not part of standard montage)\n",
        "        if 'E129' in raw.info['ch_names']:\n",
        "            raw.drop_channels(['E129'])\n",
        "\n",
        "        # Set standard 128-channel montage\n",
        "        try:\n",
        "            montage = mne.channels.make_standard_montage('GSN-HydroCel-128')\n",
        "            raw.set_montage(montage)\n",
        "        except Exception as e:\n",
        "            print(\"⚠️ Could not set montage:\", e)\n",
        "\n",
        "        # Apply bandpass filter for ERP (0.1–30 Hz)\n",
        "        raw.filter(0.1, 30., fir_design='firwin')\n",
        "\n",
        "        # Try extracting events from annotations\n",
        "        try:\n",
        "            events, event_id = mne.events_from_annotations(raw)\n",
        "            print(\"✅ Events extracted from annotations:\", event_id)\n",
        "        except Exception as e:\n",
        "            print(f\"❌ No events found in {file_path}: {e}\")\n",
        "            return\n",
        "\n",
        "        # OPTIONAL: Choose subset of event_ids (e.g., word presentation only)\n",
        "        # You can modify this to focus on specific triggers\n",
        "        selected_event_keys = ['fwrp', 'hwrp', 'swrp']  # Word stimuli\n",
        "        filtered_event_id = {key: event_id[key] for key in selected_event_keys if key in event_id}\n",
        "\n",
        "        if not filtered_event_id:\n",
        "            print(f\"⚠️ No target events ('fwrp', etc.) found in {file_path}\")\n",
        "            return\n",
        "\n",
        "        # Create epochs\n",
        "        epochs = mne.Epochs(raw, events, event_id=filtered_event_id,\n",
        "                            tmin=-0.2, tmax=0.8, baseline=(None, 0),\n",
        "                            preload=True, detrend=1)\n",
        "\n",
        "        # ICA for artifact removal\n",
        "        ica = mne.preprocessing.ICA(n_components=20, random_state=42, max_iter='auto')\n",
        "        ica.fit(epochs)\n",
        "\n",
        "        # Try detecting bad EOG/ECG components, only if channels exist\n",
        "        ica.exclude = []\n",
        "\n",
        "        try:\n",
        "            eog_inds, _ = ica.find_bads_eog(epochs)\n",
        "            ica.exclude += eog_inds\n",
        "        except Exception as e:\n",
        "            print(\"⚠️ EOG not found, skipping EOG detection\")\n",
        "\n",
        "        try:\n",
        "            ecg_inds, _ = ica.find_bads_ecg(epochs)\n",
        "            ica.exclude += ecg_inds\n",
        "        except Exception as e:\n",
        "            print(\"⚠️ ECG not found, skipping ECG detection\")\n",
        "\n",
        "        # Apply ICA cleaning\n",
        "        epochs_clean = ica.apply(epochs.copy())\n",
        "\n",
        "\n",
        "        # Re-reference to average\n",
        "        epochs_clean.set_eeg_reference('average', projection=True)\n",
        "\n",
        "        # Save cleaned epochs\n",
        "        save_path = os.path.join(output_path, f\"subject_{subject_id:02d}_epo.fif\")\n",
        "        epochs_clean.save(save_path, overwrite=True)\n",
        "        print(f\"✅ Saved cleaned epochs: {save_path}\")\n",
        "\n",
        "    except Exception as e:\n",
        "        print(f\"❌ Error processing {file_path}: {e}\")\n",
        "\n",
        "# STEP 6: Process all files\n",
        "for i, file_path in enumerate(eeg_files, start=1):\n",
        "    preprocess_erp_file(file_path, output_folder, i)"
      ]
    },
    {
      "cell_type": "code",
      "execution_count": null,
      "metadata": {
        "colab": {
          "base_uri": "https://localhost:8080/"
        },
        "id": "4NcMchtMFGyX",
        "outputId": "894ca668-cbb7-445d-8575-5026d042e17b"
      },
      "outputs": [
        {
          "name": "stdout",
          "output_type": "stream",
          "text": [
            "subject_01_epo.fif → 22010002\n",
            "subject_02_epo.fif → 22010004\n",
            "subject_03_epo.fif → 22010005\n",
            "subject_04_epo.fif → 22010006\n",
            "subject_05_epo.fif → 22010008\n"
          ]
        }
      ],
      "source": [
        "import os\n",
        "import re\n",
        "\n",
        "# Path to raw and cleaned files\n",
        "raw_data_folder = \"/content/drive/MyDrive/EEG_128channels_ERP_lanzhou_2015\"\n",
        "cleaned_epochs_folder = \"/content/drive/MyDrive/Cleaned_EEG_Epochs\"\n",
        "\n",
        "# Get sorted list of raw files\n",
        "raw_files = sorted([f for f in os.listdir(raw_data_folder) if f.endswith(\".raw\")])\n",
        "\n",
        "# Extract subject ID from raw filename\n",
        "def extract_subject_id(filename):\n",
        "    match = re.search(r'(\\d{8})', filename)\n",
        "    if match:\n",
        "        raw_id = match.group(1)\n",
        "        return '2' + raw_id[1:]  # Convert '02010002' → '2010002'\n",
        "    return None\n",
        "\n",
        "# Build the mapping from subject_X_epo.fif to subject_id\n",
        "fif_to_subject_id = {}\n",
        "for idx, raw_filename in enumerate(raw_files, start=1):\n",
        "    subject_id = extract_subject_id(raw_filename)\n",
        "    fif_filename = f\"subject_{idx:02d}_epo.fif\"\n",
        "    fif_to_subject_id[fif_filename] = subject_id\n",
        "\n",
        "# Print sample mappings\n",
        "for k, v in list(fif_to_subject_id.items())[:5]:\n",
        "    print(f\"{k} → {v}\")\n"
      ]
    },
    {
      "cell_type": "code",
      "execution_count": null,
      "metadata": {
        "id": "SVpcaSM5HbjI"
      },
      "outputs": [],
      "source": [
        "raw_files = sorted([f for f in os.listdir(raw_data_folder) if f.endswith(\".raw\")])\n"
      ]
    },
    {
      "cell_type": "code",
      "execution_count": null,
      "metadata": {
        "id": "OYh7yejUHpp5"
      },
      "outputs": [],
      "source": [
        "def extract_subject_id(filename):\n",
        "    match = re.search(r'(\\d{8})', filename)\n",
        "    if match:\n",
        "        raw_id = match.group(1)\n",
        "        return '2' + raw_id[1:]  # e.g., '02010002' → '22010002'\n"
      ]
    },
    {
      "cell_type": "code",
      "execution_count": null,
      "metadata": {
        "colab": {
          "base_uri": "https://localhost:8080/"
        },
        "id": "3DXhkx1XHr3W",
        "outputId": "c017db47-9c9c-49a9-f5ef-04ef108c46e4"
      },
      "outputs": [
        {
          "name": "stdout",
          "output_type": "stream",
          "text": [
            "subject_01_epo.fif → 22010002\n",
            "subject_02_epo.fif → 22010004\n",
            "subject_03_epo.fif → 22010005\n",
            "subject_04_epo.fif → 22010006\n",
            "subject_05_epo.fif → 22010008\n",
            "subject_06_epo.fif → 22010010\n",
            "subject_07_epo.fif → 22010011\n",
            "subject_08_epo.fif → 22010012\n",
            "subject_09_epo.fif → 22010013\n",
            "subject_10_epo.fif → 22010015\n",
            "subject_11_epo.fif → 22010016\n",
            "subject_12_epo.fif → 22010018\n",
            "subject_13_epo.fif → 22010019\n",
            "subject_14_epo.fif → 22010021\n",
            "subject_15_epo.fif → 22010022\n",
            "subject_16_epo.fif → 22010023\n",
            "subject_17_epo.fif → 22010024\n",
            "subject_18_epo.fif → 22010025\n",
            "subject_19_epo.fif → 22010026\n",
            "subject_20_epo.fif → 22010028\n",
            "subject_21_epo.fif → 22010030\n",
            "subject_22_epo.fif → 22010033\n",
            "subject_23_epo.fif → 22010034\n",
            "subject_24_epo.fif → 22010036\n",
            "subject_25_epo.fif → 22020008\n",
            "subject_26_epo.fif → 22020010\n",
            "subject_27_epo.fif → 22020013\n",
            "subject_28_epo.fif → 22020014\n",
            "subject_29_epo.fif → 22020015\n",
            "subject_30_epo.fif → 22020016\n",
            "subject_31_epo.fif → 22020018\n",
            "subject_32_epo.fif → 22020019\n",
            "subject_33_epo.fif → 22020020\n",
            "subject_34_epo.fif → 22020021\n",
            "subject_35_epo.fif → 22020022\n",
            "subject_36_epo.fif → 22020023\n",
            "subject_37_epo.fif → 22020025\n",
            "subject_38_epo.fif → 22020026\n",
            "subject_39_epo.fif → 22020027\n",
            "subject_40_epo.fif → 22020029\n",
            "subject_41_epo.fif → 22030002\n",
            "subject_42_epo.fif → 22030003\n",
            "subject_43_epo.fif → 22030004\n",
            "subject_44_epo.fif → 22030005\n",
            "subject_45_epo.fif → 22030006\n",
            "subject_46_epo.fif → 22030007\n",
            "subject_47_epo.fif → 22030009\n",
            "subject_48_epo.fif → 22030014\n",
            "subject_49_epo.fif → 22030017\n",
            "subject_50_epo.fif → 22030018\n",
            "subject_51_epo.fif → 22030019\n",
            "subject_52_epo.fif → 22030020\n",
            "subject_53_epo.fif → 22030021\n"
          ]
        }
      ],
      "source": [
        "for idx, raw_filename in enumerate(raw_files, start=1):\n",
        "    subject_id = extract_subject_id(raw_filename)\n",
        "    fif_filename = f\"subject_{idx:02d}_epo.fif\"\n",
        "    fif_to_subject_id[fif_filename] = subject_id\n",
        "    print(f\"{fif_filename} → {subject_id}\")\n",
        "\n"
      ]
    },
    {
      "cell_type": "code",
      "execution_count": null,
      "metadata": {
        "colab": {
          "base_uri": "https://localhost:8080/"
        },
        "id": "6OmI_CHaJbis",
        "outputId": "69ae39e8-2b64-4c16-e00c-30603e896440"
      },
      "outputs": [
        {
          "data": {
            "text/plain": [
              "Index(['subject id', 'type', 'age', 'gender', 'education（years）', 'PHQ-9',\n",
              "       'CTQ-SF', 'LES', 'SSRS', 'GAD-7', 'PSQI', 'Unnamed: 11', 'Unnamed: 12'],\n",
              "      dtype='object')"
            ]
          },
          "execution_count": 4,
          "metadata": {},
          "output_type": "execute_result"
        }
      ],
      "source": [
        "df_labels.columns\n"
      ]
    },
    {
      "cell_type": "code",
      "execution_count": null,
      "metadata": {
        "colab": {
          "base_uri": "https://localhost:8080/"
        },
        "id": "Hq2JPuZpJH8d",
        "outputId": "9e2d398b-52d0-4dd0-9652-3575c60d9752"
      },
      "outputs": [
        {
          "name": "stdout",
          "output_type": "stream",
          "text": [
            "✅ Loaded 53 subject labels\n"
          ]
        }
      ],
      "source": [
        "import pandas as pd\n",
        "\n",
        "# Load the Excel file with subject labels\n",
        "excel_path = \"/content/drive/MyDrive/EEG_128channels_ERP_lanzhou_2015/subjects_information_EEG_128channels_ERP_lanzhou_2015.xlsx\"\n",
        "df_labels = pd.read_excel(excel_path)\n",
        "\n",
        "# Clean and convert to dictionary: {'2010002': 'MDD', '2010004': 'HC', ...}\n",
        "subject_labels = {}\n",
        "for _, row in df_labels.iterrows():\n",
        "    subject_id = str(row['subject id']).strip()\n",
        "    label = str(row['type']).strip().upper()  # use 'type' instead of 'Group'\n",
        "    if label in ['HC', 'MDD']:\n",
        "        subject_labels[subject_id] = label\n",
        "\n",
        "print(\"✅ Loaded\", len(subject_labels), \"subject labels\")\n",
        "\n"
      ]
    },
    {
      "cell_type": "code",
      "execution_count": null,
      "metadata": {
        "colab": {
          "base_uri": "https://localhost:8080/"
        },
        "id": "TVodGK7GIBum",
        "outputId": "074cf134-253b-460e-f6f9-40d573d58ad6"
      },
      "outputs": [
        {
          "name": "stdout",
          "output_type": "stream",
          "text": [
            "✅ Saved batch 0 → (479, 128, 251)\n",
            "✅ Saved batch 1 → (479, 128, 251)\n",
            "✅ Saved batch 2 → (480, 128, 251)\n",
            "✅ Saved batch 3 → (480, 128, 251)\n",
            "✅ Saved batch 4 → (480, 128, 251)\n",
            "✅ Saved batch 5 → (480, 128, 251)\n",
            "✅ Saved batch 6 → (479, 128, 251)\n",
            "✅ Saved batch 7 → (480, 128, 251)\n",
            "✅ Saved batch 8 → (479, 128, 251)\n",
            "✅ Saved batch 9 → (479, 128, 251)\n",
            "✅ Saved batch 10 → (479, 128, 251)\n",
            "✅ Saved batch 11 → (480, 128, 251)\n",
            "✅ Saved batch 12 → (479, 128, 251)\n",
            "✅ Saved batch 13 → (480, 128, 251)\n",
            "✅ Saved batch 14 → (480, 128, 251)\n",
            "✅ Saved batch 15 → (480, 128, 251)\n",
            "✅ Saved batch 16 → (479, 128, 251)\n",
            "✅ Saved batch 17 → (480, 128, 251)\n",
            "✅ Saved batch 18 → (479, 128, 251)\n",
            "✅ Saved batch 19 → (480, 128, 251)\n",
            "✅ Saved batch 20 → (480, 128, 251)\n",
            "✅ Saved batch 21 → (479, 128, 251)\n",
            "✅ Saved batch 22 → (480, 128, 251)\n",
            "✅ Saved batch 23 → (480, 128, 251)\n",
            "✅ Saved batch 24 → (480, 128, 251)\n",
            "✅ Saved batch 25 → (480, 128, 251)\n",
            "✅ Saved batch 26 → (480, 128, 251)\n",
            "✅ Saved batch 27 → (480, 128, 251)\n",
            "✅ Saved batch 28 → (479, 128, 251)\n",
            "✅ Saved batch 29 → (480, 128, 251)\n",
            "✅ Saved batch 30 → (479, 128, 251)\n",
            "✅ Saved batch 31 → (479, 128, 251)\n",
            "✅ Saved batch 32 → (480, 128, 251)\n",
            "✅ Saved batch 33 → (480, 128, 251)\n",
            "✅ Saved batch 34 → (479, 128, 251)\n",
            "✅ Saved batch 35 → (479, 128, 251)\n",
            "✅ Saved batch 36 → (479, 128, 251)\n",
            "✅ Saved batch 37 → (480, 128, 251)\n",
            "✅ Saved batch 38 → (479, 128, 251)\n",
            "✅ Saved batch 39 → (480, 128, 251)\n",
            "✅ Saved batch 40 → (479, 128, 251)\n",
            "✅ Saved batch 41 → (479, 128, 251)\n",
            "✅ Saved batch 42 → (480, 128, 251)\n",
            "✅ Saved batch 43 → (479, 128, 251)\n",
            "✅ Saved batch 44 → (479, 128, 251)\n",
            "✅ Saved batch 45 → (480, 128, 251)\n",
            "✅ Saved batch 46 → (480, 128, 251)\n",
            "✅ Saved batch 47 → (479, 128, 251)\n",
            "✅ Saved batch 48 → (479, 128, 251)\n",
            "✅ Saved batch 49 → (480, 128, 251)\n",
            "✅ Saved batch 50 → (480, 128, 251)\n",
            "✅ Saved batch 51 → (480, 128, 251)\n",
            "✅ Saved batch 52 → (479, 128, 251)\n"
          ]
        }
      ],
      "source": [
        "import numpy as np\n",
        "import mne\n",
        "import os\n",
        "import re\n",
        "\n",
        "cleaned_epochs_folder = \"/content/drive/MyDrive/Cleaned_EEG_Epochs\"\n",
        "raw_data_folder = \"/content/drive/MyDrive/EEG_128channels_ERP_lanzhou_2015\"\n",
        "save_folder = \"/content/drive/MyDrive/EEG_Prepared_Batches\"\n",
        "os.makedirs(save_folder, exist_ok=True)\n",
        "\n",
        "raw_files = sorted([f for f in os.listdir(raw_data_folder) if f.endswith(\".raw\")])\n",
        "\n",
        "def extract_subject_id(filename):\n",
        "    match = re.search(r'(\\d{8})', filename)\n",
        "    if match:\n",
        "        raw_id = match.group(1)\n",
        "        return '2' + raw_id[1:]\n",
        "    return None\n",
        "\n",
        "fif_to_subject_id = {}\n",
        "for idx, raw_filename in enumerate(raw_files, start=1):\n",
        "    subject_id = extract_subject_id(raw_filename)\n",
        "    fif_filename = f\"subject_{idx:02d}_epo.fif\"\n",
        "    fif_to_subject_id[fif_filename] = subject_id\n",
        "\n",
        "label_mapping = {'HC': 0, 'MDD': 1}\n",
        "target_length = 251\n",
        "\n",
        "batch_idx = 0\n",
        "for fif_file, raw_subject_id in fif_to_subject_id.items():\n",
        "    subject_id = '2' + raw_subject_id[2:]\n",
        "    if subject_id not in subject_labels:\n",
        "        print(f\"⚠️ Skipping {fif_file} — Subject ID {subject_id} not in Excel.\")\n",
        "        continue\n",
        "\n",
        "    label_str = subject_labels[subject_id]\n",
        "    label = label_mapping[label_str]\n",
        "    fif_path = os.path.join(cleaned_epochs_folder, fif_file)\n",
        "\n",
        "    try:\n",
        "        epochs = mne.read_epochs(fif_path, preload=True, verbose=\"ERROR\")\n",
        "        epochs.pick(\"eeg\")\n",
        "  # ✅ Keep only EEG channels (128)\n",
        "\n",
        "    except Exception as e:\n",
        "        print(f\"❌ Could not load {fif_file}: {e}\")\n",
        "        continue\n",
        "\n",
        "    data = epochs.get_data()\n",
        "    X_batch = []\n",
        "    y_batch = []\n",
        "\n",
        "    for i, epoch in enumerate(data):\n",
        "        if epoch.shape[0] != 128:\n",
        "            print(f\"⚠️ Skipping invalid channel count at {fif_file}, epoch {i}: {epoch.shape}\")\n",
        "            continue\n",
        "\n",
        "        if epoch.shape[1] > target_length:\n",
        "            epoch = epoch[:, :target_length]\n",
        "        elif epoch.shape[1] < target_length:\n",
        "            pad = target_length - epoch.shape[1]\n",
        "            epoch = np.pad(epoch, ((0, 0), (0, pad)), mode='constant')\n",
        "\n",
        "        X_batch.append(epoch)\n",
        "        y_batch.append(label)\n",
        "\n",
        "    if X_batch:\n",
        "        X_batch = np.array(X_batch)\n",
        "        y_batch = np.array(y_batch)\n",
        "\n",
        "        np.save(os.path.join(save_folder, f\"X_batch_{batch_idx}.npy\"), X_batch)\n",
        "        np.save(os.path.join(save_folder, f\"y_batch_{batch_idx}.npy\"), y_batch)\n",
        "        print(f\"✅ Saved batch {batch_idx} → {X_batch.shape}\")\n",
        "        batch_idx += 1\n"
      ]
    },
    {
      "cell_type": "code",
      "execution_count": null,
      "metadata": {
        "id": "GvB9sUluFt5f"
      },
      "outputs": [],
      "source": [
        "import torch\n",
        "from torch.utils.data import Dataset\n",
        "import numpy as np\n",
        "import glob\n",
        "\n",
        "class EEGDataset(Dataset):\n",
        "    def __init__(self, data_dir):\n",
        "        self.x_paths = sorted(glob.glob(f\"{data_dir}/X_batch_*.npy\"))\n",
        "        self.y_paths = [x.replace(\"X_batch\", \"y_batch\") for x in self.x_paths]\n",
        "        self.cache = {}\n",
        "\n",
        "    def __len__(self):\n",
        "        return sum(np.load(y).shape[0] for y in self.y_paths)\n",
        "\n",
        "    def __getitem__(self, idx):\n",
        "        batch_num = 0\n",
        "        while True:\n",
        "            y = np.load(self.y_paths[batch_num])\n",
        "            if idx < len(y):\n",
        "                if batch_num not in self.cache:\n",
        "                    X = np.load(self.x_paths[batch_num])\n",
        "                    self.cache[batch_num] = X\n",
        "                else:\n",
        "                    X = self.cache[batch_num]\n",
        "                return torch.tensor(X[idx], dtype=torch.float32), torch.tensor(y[idx])\n",
        "            idx -= len(y)\n",
        "            batch_num += 1\n"
      ]
    },
    {
      "cell_type": "code",
      "execution_count": null,
      "metadata": {
        "id": "Fwo2oaeATdY6"
      },
      "outputs": [],
      "source": [
        "import os\n",
        "import numpy as np\n",
        "import torch\n",
        "from torch.utils.data import Dataset\n",
        "\n",
        "class EEGDataset(Dataset):\n",
        "    def __init__(self, folder_path):\n",
        "        self.folder_path = folder_path\n",
        "        self.X_paths = []\n",
        "        self.y_values = []\n",
        "\n",
        "        # Load all X_*.npy paths and corresponding y values from each y_*.npy\n",
        "        for fname in sorted(os.listdir(folder_path)):\n",
        "            if fname.startswith(\"X_\") and fname.endswith(\".npy\"):\n",
        "                x_path = os.path.join(folder_path, fname)\n",
        "                y_path = os.path.join(folder_path, \"y_\" + fname[2:])  # matches y_*.npy\n",
        "\n",
        "                if os.path.exists(y_path):\n",
        "                    X = np.load(x_path, mmap_mode='r')  # ← memory-mapped read\n",
        "                    y = np.load(y_path)\n",
        "\n",
        "                    for i in range(len(X)):\n",
        "                        self.X_paths.append((x_path, i))  # (file_path, index)\n",
        "                        self.y_values.append(float(y[i]))  # convert to float\n",
        "\n",
        "    def __len__(self):\n",
        "        return len(self.X_paths)\n",
        "\n",
        "    def __getitem__(self, idx):\n",
        "        x_file, x_idx = self.X_paths[idx]\n",
        "        x_array = np.load(x_file, mmap_mode='r')[x_idx]  # just one sample\n",
        "        x_tensor = torch.tensor(x_array, dtype=torch.float32)\n",
        "\n",
        "        y_tensor = torch.tensor(self.y_values[idx], dtype=torch.float32)\n",
        "        return x_tensor, y_tensor\n"
      ]
    },
    {
      "cell_type": "code",
      "execution_count": null,
      "metadata": {
        "colab": {
          "base_uri": "https://localhost:8080/"
        },
        "id": "5aQoRtbCG5wQ",
        "outputId": "232546f8-1c0a-431b-f7e3-eacd4d03d5b2"
      },
      "outputs": [
        {
          "output_type": "stream",
          "name": "stdout",
          "text": [
            "✅ Batch loaded successfully:\n",
            "X shape: torch.Size([32, 128, 251])\n",
            "y shape: torch.Size([32])\n"
          ]
        }
      ],
      "source": [
        "from torch.utils.data import DataLoader\n",
        "\n",
        "dataset = EEGDataset(\"/content/drive/MyDrive/EEG_Prepared_Batches\")\n",
        "loader = DataLoader(dataset, batch_size=32, shuffle=True)\n",
        "\n",
        "for X_batch, y_batch in loader:\n",
        "    print(\"✅ Batch loaded successfully:\")\n",
        "    print(\"X shape:\", X_batch.shape)\n",
        "    print(\"y shape:\", y_batch.shape)\n",
        "    break\n"
      ]
    },
    {
      "cell_type": "code",
      "execution_count": null,
      "metadata": {
        "colab": {
          "base_uri": "https://localhost:8080/"
        },
        "id": "88WNUqVmWKhO",
        "outputId": "3dbed651-c0dc-4ef9-d235-fbd73690cb8e"
      },
      "outputs": [
        {
          "output_type": "stream",
          "name": "stdout",
          "text": [
            "Files found in batch folder:\n",
            "['X_batch_32.npy', 'X_batch_33.npy', 'y_batch_33.npy', 'X_batch_34.npy', 'y_batch_34.npy', 'X_batch_35.npy', 'y_batch_35.npy', 'X_batch_36.npy', 'y_batch_36.npy', 'X_batch_37.npy', 'y_batch_37.npy', 'X_batch_38.npy', 'y_batch_38.npy', 'X_batch_39.npy', 'y_batch_39.npy', 'X_batch_40.npy', 'y_batch_40.npy', 'X_batch_41.npy', 'y_batch_41.npy', 'X_batch_42.npy', 'y_batch_42.npy', 'X_batch_43.npy', 'y_batch_43.npy', 'X_batch_44.npy', 'y_batch_44.npy', 'X_batch_45.npy', 'y_batch_45.npy', 'X_batch_46.npy', 'y_batch_46.npy', 'X_batch_47.npy', 'y_batch_47.npy', 'X_batch_48.npy', 'y_batch_48.npy', 'X_batch_49.npy', 'y_batch_49.npy', 'X_batch_50.npy', 'y_batch_50.npy', 'X_batch_51.npy', 'y_batch_51.npy', 'X_batch_52.npy', 'y_batch_52.npy', 'X_batch_0.npy', 'y_batch_0.npy', 'X_batch_1.npy', 'y_batch_1.npy', 'X_batch_2.npy', 'y_batch_2.npy', 'X_batch_3.npy', 'y_batch_3.npy', 'X_batch_4.npy', 'y_batch_4.npy', 'X_batch_5.npy', 'y_batch_5.npy', 'X_batch_6.npy', 'y_batch_6.npy', 'X_batch_7.npy', 'y_batch_7.npy', 'X_batch_8.npy', 'y_batch_8.npy', 'X_batch_9.npy', 'y_batch_9.npy', 'X_batch_10.npy', 'y_batch_10.npy', 'X_batch_11.npy', 'y_batch_11.npy', 'X_batch_12.npy', 'y_batch_12.npy', 'X_batch_13.npy', 'y_batch_13.npy', 'X_batch_14.npy', 'y_batch_14.npy', 'X_batch_15.npy', 'y_batch_15.npy', 'X_batch_16.npy', 'y_batch_16.npy', 'X_batch_17.npy', 'y_batch_17.npy', 'X_batch_18.npy', 'y_batch_18.npy', 'X_batch_19.npy', 'y_batch_19.npy', 'X_batch_20.npy', 'y_batch_20.npy', 'X_batch_21.npy', 'y_batch_21.npy', 'X_batch_22.npy', 'y_batch_22.npy', 'X_batch_23.npy', 'y_batch_23.npy', 'X_batch_24.npy', 'y_batch_24.npy', 'X_batch_25.npy', 'y_batch_25.npy', 'X_batch_26.npy', 'y_batch_26.npy', 'X_batch_27.npy', 'y_batch_27.npy', 'X_batch_28.npy', 'y_batch_28.npy', 'X_batch_29.npy', 'y_batch_29.npy', 'X_batch_30.npy', 'y_batch_30.npy', 'X_batch_31.npy', 'y_batch_31.npy', 'y_batch_32.npy']\n"
          ]
        }
      ],
      "source": [
        "import os\n",
        "\n",
        "batch_folder = \"/content/drive/MyDrive/EEG_Prepared_Batches\"\n",
        "\n",
        "files = os.listdir(batch_folder)\n",
        "print(\"Files found in batch folder:\")\n",
        "print(files)\n"
      ]
    },
    {
      "cell_type": "code",
      "execution_count": null,
      "metadata": {
        "id": "ZABbB6FhfO4x"
      },
      "outputs": [],
      "source": [
        "import torch\n",
        "from torch.utils.data import Dataset\n",
        "import numpy as np\n",
        "import os\n",
        "\n",
        "class LazyEEGDataset(Dataset):\n",
        "    def __init__(self, batch_dir, max_batches=None):\n",
        "        self.batch_dir = batch_dir\n",
        "        self.indices = []\n",
        "        self.batch_sizes = []\n",
        "\n",
        "        batch_files = sorted([\n",
        "            f for f in os.listdir(batch_dir) if f.startswith(\"X_batch_\") and f.endswith(\".npy\")\n",
        "        ])\n",
        "\n",
        "        # Ensure matching y files\n",
        "        for x_file in batch_files:\n",
        "            batch_idx = int(x_file.split(\"_\")[2].split(\".\")[0])\n",
        "            x_path = os.path.join(batch_dir, f\"X_batch_{batch_idx}.npy\")\n",
        "            y_path = os.path.join(batch_dir, f\"y_batch_{batch_idx}.npy\")\n",
        "\n",
        "            if not os.path.exists(y_path):\n",
        "                print(f\"⚠️ Missing y_batch_{batch_idx}. Skipping...\")\n",
        "                continue\n",
        "\n",
        "            try:\n",
        "                x_data = np.load(x_path, mmap_mode='r')\n",
        "                n_samples = x_data.shape[0]\n",
        "                self.batch_sizes.append(n_samples)\n",
        "                self.indices.extend([(batch_idx, i) for i in range(n_samples)])\n",
        "\n",
        "                print(f\"✅ Indexed batch {batch_idx}: {n_samples} samples\")\n",
        "\n",
        "                if max_batches is not None and batch_idx + 1 >= max_batches:\n",
        "                    print(f\"🛑 Stopped at max_batches={max_batches}\")\n",
        "                    break\n",
        "\n",
        "            except Exception as e:\n",
        "                print(f\"❌ Failed to load batch {batch_idx}: {e}\")\n",
        "                continue\n",
        "\n",
        "    def __len__(self):\n",
        "        return len(self.indices)\n",
        "\n",
        "    def __getitem__(self, idx):\n",
        "        batch_idx, sample_idx = self.indices[idx]\n",
        "        x_path = os.path.join(self.batch_dir, f\"X_batch_{batch_idx}.npy\")\n",
        "        y_path = os.path.join(self.batch_dir, f\"y_batch_{batch_idx}.npy\")\n",
        "\n",
        "        x = np.load(x_path, mmap_mode='r')[sample_idx]\n",
        "        y = np.load(y_path, mmap_mode='r')[sample_idx]\n",
        "\n",
        "        return torch.tensor(x, dtype=torch.float32), torch.tensor(y, dtype=torch.float32)\n"
      ]
    },
    {
      "cell_type": "code",
      "execution_count": null,
      "metadata": {
        "colab": {
          "base_uri": "https://localhost:8080/"
        },
        "id": "wifM8gGAfTY6",
        "outputId": "2041c992-c078-4b18-cf3b-9b749fe7121d"
      },
      "outputs": [
        {
          "output_type": "stream",
          "name": "stdout",
          "text": [
            "✅ Indexed batch 0: 479 samples\n",
            "✅ Indexed batch 1: 479 samples\n",
            "✅ Indexed batch 10: 479 samples\n",
            "✅ Indexed batch 11: 480 samples\n",
            "✅ Indexed batch 12: 479 samples\n",
            "✅ Indexed batch 13: 480 samples\n",
            "✅ Indexed batch 14: 480 samples\n",
            "✅ Indexed batch 15: 480 samples\n",
            "✅ Indexed batch 16: 479 samples\n",
            "✅ Indexed batch 17: 480 samples\n",
            "✅ Indexed batch 18: 479 samples\n",
            "✅ Indexed batch 19: 480 samples\n",
            "✅ Indexed batch 2: 480 samples\n",
            "✅ Indexed batch 20: 480 samples\n",
            "✅ Indexed batch 21: 479 samples\n",
            "✅ Indexed batch 22: 480 samples\n",
            "✅ Indexed batch 23: 480 samples\n",
            "✅ Indexed batch 24: 480 samples\n",
            "✅ Indexed batch 25: 480 samples\n",
            "✅ Indexed batch 26: 480 samples\n",
            "✅ Indexed batch 27: 480 samples\n",
            "✅ Indexed batch 28: 479 samples\n",
            "✅ Indexed batch 29: 480 samples\n",
            "✅ Indexed batch 3: 480 samples\n",
            "✅ Indexed batch 30: 479 samples\n",
            "✅ Indexed batch 31: 479 samples\n",
            "✅ Indexed batch 32: 480 samples\n",
            "✅ Indexed batch 33: 480 samples\n",
            "✅ Indexed batch 34: 479 samples\n",
            "✅ Indexed batch 35: 479 samples\n",
            "✅ Indexed batch 36: 479 samples\n",
            "✅ Indexed batch 37: 480 samples\n",
            "✅ Indexed batch 38: 479 samples\n",
            "✅ Indexed batch 39: 480 samples\n",
            "✅ Indexed batch 4: 480 samples\n",
            "✅ Indexed batch 40: 479 samples\n",
            "✅ Indexed batch 41: 479 samples\n",
            "✅ Indexed batch 42: 480 samples\n",
            "✅ Indexed batch 43: 479 samples\n",
            "✅ Indexed batch 44: 479 samples\n",
            "✅ Indexed batch 45: 480 samples\n",
            "✅ Indexed batch 46: 480 samples\n",
            "✅ Indexed batch 47: 479 samples\n",
            "✅ Indexed batch 48: 479 samples\n",
            "✅ Indexed batch 49: 480 samples\n",
            "✅ Indexed batch 5: 480 samples\n",
            "✅ Indexed batch 50: 480 samples\n",
            "✅ Indexed batch 51: 480 samples\n",
            "✅ Indexed batch 52: 479 samples\n",
            "✅ Indexed batch 6: 479 samples\n",
            "✅ Indexed batch 7: 480 samples\n",
            "✅ Indexed batch 8: 479 samples\n",
            "✅ Indexed batch 9: 479 samples\n",
            "torch.Size([32, 128, 251]) torch.Size([32])\n"
          ]
        }
      ],
      "source": [
        "from torch.utils.data import DataLoader\n",
        "\n",
        "dataset = LazyEEGDataset(\"/content/drive/MyDrive/EEG_Prepared_Batches\")\n",
        "loader = DataLoader(dataset, batch_size=32, shuffle=True)\n",
        "\n",
        "for X_batch, y_batch in loader:\n",
        "    print(X_batch.shape, y_batch.shape)\n",
        "    break\n"
      ]
    },
    {
      "cell_type": "code",
      "source": [
        "batch_folder = \"/content/drive/MyDrive/EEG_Prepared_Batches\"\n",
        "\n",
        "# Safer: only index first 50 batches if 52+ was crashing\n",
        "dataset = LazyEEGDataset(batch_folder, max_batches=50)\n",
        "loader = torch.utils.data.DataLoader(dataset, batch_size=32, shuffle=True)\n",
        "\n",
        "for xb, yb in loader:\n",
        "    print(\"✅ Batch loaded:\", xb.shape, yb.shape)\n",
        "    break\n"
      ],
      "metadata": {
        "colab": {
          "base_uri": "https://localhost:8080/"
        },
        "id": "wLZ0xaa62vc2",
        "outputId": "ac117a6e-eabb-4ff5-9cf6-d79c32c855d7"
      },
      "execution_count": null,
      "outputs": [
        {
          "output_type": "stream",
          "name": "stdout",
          "text": [
            "✅ Indexed batch 0: 479 samples\n",
            "✅ Indexed batch 1: 479 samples\n",
            "✅ Indexed batch 10: 479 samples\n",
            "✅ Indexed batch 11: 480 samples\n",
            "✅ Indexed batch 12: 479 samples\n",
            "✅ Indexed batch 13: 480 samples\n",
            "✅ Indexed batch 14: 480 samples\n",
            "✅ Indexed batch 15: 480 samples\n",
            "✅ Indexed batch 16: 479 samples\n",
            "✅ Indexed batch 17: 480 samples\n",
            "✅ Indexed batch 18: 479 samples\n",
            "✅ Indexed batch 19: 480 samples\n",
            "✅ Indexed batch 2: 480 samples\n",
            "✅ Indexed batch 20: 480 samples\n",
            "✅ Indexed batch 21: 479 samples\n",
            "✅ Indexed batch 22: 480 samples\n",
            "✅ Indexed batch 23: 480 samples\n",
            "✅ Indexed batch 24: 480 samples\n",
            "✅ Indexed batch 25: 480 samples\n",
            "✅ Indexed batch 26: 480 samples\n",
            "✅ Indexed batch 27: 480 samples\n",
            "✅ Indexed batch 28: 479 samples\n",
            "✅ Indexed batch 29: 480 samples\n",
            "✅ Indexed batch 3: 480 samples\n",
            "✅ Indexed batch 30: 479 samples\n",
            "✅ Indexed batch 31: 479 samples\n",
            "✅ Indexed batch 32: 480 samples\n",
            "✅ Indexed batch 33: 480 samples\n",
            "✅ Indexed batch 34: 479 samples\n",
            "✅ Indexed batch 35: 479 samples\n",
            "✅ Indexed batch 36: 479 samples\n",
            "✅ Indexed batch 37: 480 samples\n",
            "✅ Indexed batch 38: 479 samples\n",
            "✅ Indexed batch 39: 480 samples\n",
            "✅ Indexed batch 4: 480 samples\n",
            "✅ Indexed batch 40: 479 samples\n",
            "✅ Indexed batch 41: 479 samples\n",
            "✅ Indexed batch 42: 480 samples\n",
            "✅ Indexed batch 43: 479 samples\n",
            "✅ Indexed batch 44: 479 samples\n",
            "✅ Indexed batch 45: 480 samples\n",
            "✅ Indexed batch 46: 480 samples\n",
            "✅ Indexed batch 47: 479 samples\n",
            "✅ Indexed batch 48: 479 samples\n",
            "✅ Indexed batch 49: 480 samples\n",
            "🛑 Stopped at max_batches=50\n",
            "✅ Batch loaded: torch.Size([32, 128, 251]) torch.Size([32])\n"
          ]
        }
      ]
    },
    {
      "cell_type": "code",
      "source": [
        "print(\"✅ Total samples in dataset:\", len(dataset))\n"
      ],
      "metadata": {
        "colab": {
          "base_uri": "https://localhost:8080/"
        },
        "id": "jFi9qtDlSLPU",
        "outputId": "e25c7c29-465a-4b8d-96d3-9834ccd569c8"
      },
      "execution_count": null,
      "outputs": [
        {
          "output_type": "stream",
          "name": "stdout",
          "text": [
            "✅ Total samples in dataset: 21580\n"
          ]
        }
      ]
    },
    {
      "cell_type": "code",
      "source": [
        "!pip install torchmetrics\n"
      ],
      "metadata": {
        "colab": {
          "base_uri": "https://localhost:8080/"
        },
        "id": "JGx5PmY_3dAf",
        "outputId": "ed4e9846-523c-4565-c534-5341740b75e9"
      },
      "execution_count": null,
      "outputs": [
        {
          "output_type": "stream",
          "name": "stdout",
          "text": [
            "Collecting torchmetrics\n",
            "  Downloading torchmetrics-1.7.4-py3-none-any.whl.metadata (21 kB)\n",
            "Requirement already satisfied: numpy>1.20.0 in /usr/local/lib/python3.11/dist-packages (from torchmetrics) (2.0.2)\n",
            "Requirement already satisfied: packaging>17.1 in /usr/local/lib/python3.11/dist-packages (from torchmetrics) (24.2)\n",
            "Requirement already satisfied: torch>=2.0.0 in /usr/local/lib/python3.11/dist-packages (from torchmetrics) (2.6.0+cu124)\n",
            "Collecting lightning-utilities>=0.8.0 (from torchmetrics)\n",
            "  Downloading lightning_utilities-0.14.3-py3-none-any.whl.metadata (5.6 kB)\n",
            "Requirement already satisfied: setuptools in /usr/local/lib/python3.11/dist-packages (from lightning-utilities>=0.8.0->torchmetrics) (75.2.0)\n",
            "Requirement already satisfied: typing_extensions in /usr/local/lib/python3.11/dist-packages (from lightning-utilities>=0.8.0->torchmetrics) (4.14.1)\n",
            "Requirement already satisfied: filelock in /usr/local/lib/python3.11/dist-packages (from torch>=2.0.0->torchmetrics) (3.18.0)\n",
            "Requirement already satisfied: networkx in /usr/local/lib/python3.11/dist-packages (from torch>=2.0.0->torchmetrics) (3.5)\n",
            "Requirement already satisfied: jinja2 in /usr/local/lib/python3.11/dist-packages (from torch>=2.0.0->torchmetrics) (3.1.6)\n",
            "Requirement already satisfied: fsspec in /usr/local/lib/python3.11/dist-packages (from torch>=2.0.0->torchmetrics) (2025.3.2)\n",
            "Collecting nvidia-cuda-nvrtc-cu12==12.4.127 (from torch>=2.0.0->torchmetrics)\n",
            "  Downloading nvidia_cuda_nvrtc_cu12-12.4.127-py3-none-manylinux2014_x86_64.whl.metadata (1.5 kB)\n",
            "Collecting nvidia-cuda-runtime-cu12==12.4.127 (from torch>=2.0.0->torchmetrics)\n",
            "  Downloading nvidia_cuda_runtime_cu12-12.4.127-py3-none-manylinux2014_x86_64.whl.metadata (1.5 kB)\n",
            "Collecting nvidia-cuda-cupti-cu12==12.4.127 (from torch>=2.0.0->torchmetrics)\n",
            "  Downloading nvidia_cuda_cupti_cu12-12.4.127-py3-none-manylinux2014_x86_64.whl.metadata (1.6 kB)\n",
            "Collecting nvidia-cudnn-cu12==9.1.0.70 (from torch>=2.0.0->torchmetrics)\n",
            "  Downloading nvidia_cudnn_cu12-9.1.0.70-py3-none-manylinux2014_x86_64.whl.metadata (1.6 kB)\n",
            "Collecting nvidia-cublas-cu12==12.4.5.8 (from torch>=2.0.0->torchmetrics)\n",
            "  Downloading nvidia_cublas_cu12-12.4.5.8-py3-none-manylinux2014_x86_64.whl.metadata (1.5 kB)\n",
            "Collecting nvidia-cufft-cu12==11.2.1.3 (from torch>=2.0.0->torchmetrics)\n",
            "  Downloading nvidia_cufft_cu12-11.2.1.3-py3-none-manylinux2014_x86_64.whl.metadata (1.5 kB)\n",
            "Collecting nvidia-curand-cu12==10.3.5.147 (from torch>=2.0.0->torchmetrics)\n",
            "  Downloading nvidia_curand_cu12-10.3.5.147-py3-none-manylinux2014_x86_64.whl.metadata (1.5 kB)\n",
            "Collecting nvidia-cusolver-cu12==11.6.1.9 (from torch>=2.0.0->torchmetrics)\n",
            "  Downloading nvidia_cusolver_cu12-11.6.1.9-py3-none-manylinux2014_x86_64.whl.metadata (1.6 kB)\n",
            "Collecting nvidia-cusparse-cu12==12.3.1.170 (from torch>=2.0.0->torchmetrics)\n",
            "  Downloading nvidia_cusparse_cu12-12.3.1.170-py3-none-manylinux2014_x86_64.whl.metadata (1.6 kB)\n",
            "Requirement already satisfied: nvidia-cusparselt-cu12==0.6.2 in /usr/local/lib/python3.11/dist-packages (from torch>=2.0.0->torchmetrics) (0.6.2)\n",
            "Requirement already satisfied: nvidia-nccl-cu12==2.21.5 in /usr/local/lib/python3.11/dist-packages (from torch>=2.0.0->torchmetrics) (2.21.5)\n",
            "Requirement already satisfied: nvidia-nvtx-cu12==12.4.127 in /usr/local/lib/python3.11/dist-packages (from torch>=2.0.0->torchmetrics) (12.4.127)\n",
            "Collecting nvidia-nvjitlink-cu12==12.4.127 (from torch>=2.0.0->torchmetrics)\n",
            "  Downloading nvidia_nvjitlink_cu12-12.4.127-py3-none-manylinux2014_x86_64.whl.metadata (1.5 kB)\n",
            "Requirement already satisfied: triton==3.2.0 in /usr/local/lib/python3.11/dist-packages (from torch>=2.0.0->torchmetrics) (3.2.0)\n",
            "Requirement already satisfied: sympy==1.13.1 in /usr/local/lib/python3.11/dist-packages (from torch>=2.0.0->torchmetrics) (1.13.1)\n",
            "Requirement already satisfied: mpmath<1.4,>=1.1.0 in /usr/local/lib/python3.11/dist-packages (from sympy==1.13.1->torch>=2.0.0->torchmetrics) (1.3.0)\n",
            "Requirement already satisfied: MarkupSafe>=2.0 in /usr/local/lib/python3.11/dist-packages (from jinja2->torch>=2.0.0->torchmetrics) (3.0.2)\n",
            "Downloading torchmetrics-1.7.4-py3-none-any.whl (963 kB)\n",
            "\u001b[2K   \u001b[90m━━━━━━━━━━━━━━━━━━━━━━━━━━━━━━━━━━━━━━━━\u001b[0m \u001b[32m963.5/963.5 kB\u001b[0m \u001b[31m52.1 MB/s\u001b[0m eta \u001b[36m0:00:00\u001b[0m\n",
            "\u001b[?25hDownloading lightning_utilities-0.14.3-py3-none-any.whl (28 kB)\n",
            "Downloading nvidia_cublas_cu12-12.4.5.8-py3-none-manylinux2014_x86_64.whl (363.4 MB)\n",
            "\u001b[2K   \u001b[90m━━━━━━━━━━━━━━━━━━━━━━━━━━━━━━━━━━━━━━━━\u001b[0m \u001b[32m363.4/363.4 MB\u001b[0m \u001b[31m4.1 MB/s\u001b[0m eta \u001b[36m0:00:00\u001b[0m\n",
            "\u001b[?25hDownloading nvidia_cuda_cupti_cu12-12.4.127-py3-none-manylinux2014_x86_64.whl (13.8 MB)\n",
            "\u001b[2K   \u001b[90m━━━━━━━━━━━━━━━━━━━━━━━━━━━━━━━━━━━━━━━━\u001b[0m \u001b[32m13.8/13.8 MB\u001b[0m \u001b[31m111.0 MB/s\u001b[0m eta \u001b[36m0:00:00\u001b[0m\n",
            "\u001b[?25hDownloading nvidia_cuda_nvrtc_cu12-12.4.127-py3-none-manylinux2014_x86_64.whl (24.6 MB)\n",
            "\u001b[2K   \u001b[90m━━━━━━━━━━━━━━━━━━━━━━━━━━━━━━━━━━━━━━━━\u001b[0m \u001b[32m24.6/24.6 MB\u001b[0m \u001b[31m92.6 MB/s\u001b[0m eta \u001b[36m0:00:00\u001b[0m\n",
            "\u001b[?25hDownloading nvidia_cuda_runtime_cu12-12.4.127-py3-none-manylinux2014_x86_64.whl (883 kB)\n",
            "\u001b[2K   \u001b[90m━━━━━━━━━━━━━━━━━━━━━━━━━━━━━━━━━━━━━━━━\u001b[0m \u001b[32m883.7/883.7 kB\u001b[0m \u001b[31m59.4 MB/s\u001b[0m eta \u001b[36m0:00:00\u001b[0m\n",
            "\u001b[?25hDownloading nvidia_cudnn_cu12-9.1.0.70-py3-none-manylinux2014_x86_64.whl (664.8 MB)\n",
            "\u001b[2K   \u001b[90m━━━━━━━━━━━━━━━━━━━━━━━━━━━━━━━━━━━━━━━━\u001b[0m \u001b[32m664.8/664.8 MB\u001b[0m \u001b[31m2.7 MB/s\u001b[0m eta \u001b[36m0:00:00\u001b[0m\n",
            "\u001b[?25hDownloading nvidia_cufft_cu12-11.2.1.3-py3-none-manylinux2014_x86_64.whl (211.5 MB)\n",
            "\u001b[2K   \u001b[90m━━━━━━━━━━━━━━━━━━━━━━━━━━━━━━━━━━━━━━━━\u001b[0m \u001b[32m211.5/211.5 MB\u001b[0m \u001b[31m5.4 MB/s\u001b[0m eta \u001b[36m0:00:00\u001b[0m\n",
            "\u001b[?25hDownloading nvidia_curand_cu12-10.3.5.147-py3-none-manylinux2014_x86_64.whl (56.3 MB)\n",
            "\u001b[2K   \u001b[90m━━━━━━━━━━━━━━━━━━━━━━━━━━━━━━━━━━━━━━━━\u001b[0m \u001b[32m56.3/56.3 MB\u001b[0m \u001b[31m13.2 MB/s\u001b[0m eta \u001b[36m0:00:00\u001b[0m\n",
            "\u001b[?25hDownloading nvidia_cusolver_cu12-11.6.1.9-py3-none-manylinux2014_x86_64.whl (127.9 MB)\n",
            "\u001b[2K   \u001b[90m━━━━━━━━━━━━━━━━━━━━━━━━━━━━━━━━━━━━━━━━\u001b[0m \u001b[32m127.9/127.9 MB\u001b[0m \u001b[31m8.5 MB/s\u001b[0m eta \u001b[36m0:00:00\u001b[0m\n",
            "\u001b[?25hDownloading nvidia_cusparse_cu12-12.3.1.170-py3-none-manylinux2014_x86_64.whl (207.5 MB)\n",
            "\u001b[2K   \u001b[90m━━━━━━━━━━━━━━━━━━━━━━━━━━━━━━━━━━━━━━━━\u001b[0m \u001b[32m207.5/207.5 MB\u001b[0m \u001b[31m5.7 MB/s\u001b[0m eta \u001b[36m0:00:00\u001b[0m\n",
            "\u001b[?25hDownloading nvidia_nvjitlink_cu12-12.4.127-py3-none-manylinux2014_x86_64.whl (21.1 MB)\n",
            "\u001b[2K   \u001b[90m━━━━━━━━━━━━━━━━━━━━━━━━━━━━━━━━━━━━━━━━\u001b[0m \u001b[32m21.1/21.1 MB\u001b[0m \u001b[31m97.5 MB/s\u001b[0m eta \u001b[36m0:00:00\u001b[0m\n",
            "\u001b[?25hInstalling collected packages: nvidia-nvjitlink-cu12, nvidia-curand-cu12, nvidia-cufft-cu12, nvidia-cuda-runtime-cu12, nvidia-cuda-nvrtc-cu12, nvidia-cuda-cupti-cu12, nvidia-cublas-cu12, lightning-utilities, nvidia-cusparse-cu12, nvidia-cudnn-cu12, nvidia-cusolver-cu12, torchmetrics\n",
            "  Attempting uninstall: nvidia-nvjitlink-cu12\n",
            "    Found existing installation: nvidia-nvjitlink-cu12 12.5.82\n",
            "    Uninstalling nvidia-nvjitlink-cu12-12.5.82:\n",
            "      Successfully uninstalled nvidia-nvjitlink-cu12-12.5.82\n",
            "  Attempting uninstall: nvidia-curand-cu12\n",
            "    Found existing installation: nvidia-curand-cu12 10.3.6.82\n",
            "    Uninstalling nvidia-curand-cu12-10.3.6.82:\n",
            "      Successfully uninstalled nvidia-curand-cu12-10.3.6.82\n",
            "  Attempting uninstall: nvidia-cufft-cu12\n",
            "    Found existing installation: nvidia-cufft-cu12 11.2.3.61\n",
            "    Uninstalling nvidia-cufft-cu12-11.2.3.61:\n",
            "      Successfully uninstalled nvidia-cufft-cu12-11.2.3.61\n",
            "  Attempting uninstall: nvidia-cuda-runtime-cu12\n",
            "    Found existing installation: nvidia-cuda-runtime-cu12 12.5.82\n",
            "    Uninstalling nvidia-cuda-runtime-cu12-12.5.82:\n",
            "      Successfully uninstalled nvidia-cuda-runtime-cu12-12.5.82\n",
            "  Attempting uninstall: nvidia-cuda-nvrtc-cu12\n",
            "    Found existing installation: nvidia-cuda-nvrtc-cu12 12.5.82\n",
            "    Uninstalling nvidia-cuda-nvrtc-cu12-12.5.82:\n",
            "      Successfully uninstalled nvidia-cuda-nvrtc-cu12-12.5.82\n",
            "  Attempting uninstall: nvidia-cuda-cupti-cu12\n",
            "    Found existing installation: nvidia-cuda-cupti-cu12 12.5.82\n",
            "    Uninstalling nvidia-cuda-cupti-cu12-12.5.82:\n",
            "      Successfully uninstalled nvidia-cuda-cupti-cu12-12.5.82\n",
            "  Attempting uninstall: nvidia-cublas-cu12\n",
            "    Found existing installation: nvidia-cublas-cu12 12.5.3.2\n",
            "    Uninstalling nvidia-cublas-cu12-12.5.3.2:\n",
            "      Successfully uninstalled nvidia-cublas-cu12-12.5.3.2\n",
            "  Attempting uninstall: nvidia-cusparse-cu12\n",
            "    Found existing installation: nvidia-cusparse-cu12 12.5.1.3\n",
            "    Uninstalling nvidia-cusparse-cu12-12.5.1.3:\n",
            "      Successfully uninstalled nvidia-cusparse-cu12-12.5.1.3\n",
            "  Attempting uninstall: nvidia-cudnn-cu12\n",
            "    Found existing installation: nvidia-cudnn-cu12 9.3.0.75\n",
            "    Uninstalling nvidia-cudnn-cu12-9.3.0.75:\n",
            "      Successfully uninstalled nvidia-cudnn-cu12-9.3.0.75\n",
            "  Attempting uninstall: nvidia-cusolver-cu12\n",
            "    Found existing installation: nvidia-cusolver-cu12 11.6.3.83\n",
            "    Uninstalling nvidia-cusolver-cu12-11.6.3.83:\n",
            "      Successfully uninstalled nvidia-cusolver-cu12-11.6.3.83\n",
            "Successfully installed lightning-utilities-0.14.3 nvidia-cublas-cu12-12.4.5.8 nvidia-cuda-cupti-cu12-12.4.127 nvidia-cuda-nvrtc-cu12-12.4.127 nvidia-cuda-runtime-cu12-12.4.127 nvidia-cudnn-cu12-9.1.0.70 nvidia-cufft-cu12-11.2.1.3 nvidia-curand-cu12-10.3.5.147 nvidia-cusolver-cu12-11.6.1.9 nvidia-cusparse-cu12-12.3.1.170 nvidia-nvjitlink-cu12-12.4.127 torchmetrics-1.7.4\n"
          ]
        }
      ]
    },
    {
      "cell_type": "code",
      "source": [
        "import torch\n",
        "import torch.nn as nn\n",
        "import torch.nn.functional as F\n",
        "from torch.utils.data import DataLoader, Dataset\n",
        "import numpy as np\n",
        "import os\n",
        "\n",
        "# === Optimized Small CNN Model (no sigmoid inside)\n",
        "class SmallEEGCNN(nn.Module):\n",
        "    def __init__(self):\n",
        "        super(SmallEEGCNN, self).__init__()\n",
        "        self.conv1 = nn.Conv1d(128, 32, kernel_size=3, padding=1)\n",
        "        self.bn1 = nn.BatchNorm1d(32)\n",
        "        self.pool1 = nn.MaxPool1d(2)\n",
        "\n",
        "        self.conv2 = nn.Conv1d(32, 16, kernel_size=3, padding=1)\n",
        "        self.bn2 = nn.BatchNorm1d(16)\n",
        "        self.pool2 = nn.MaxPool1d(2)\n",
        "\n",
        "        self.fc1 = nn.Linear(16 * (251 // 4), 32)\n",
        "        self.fc2 = nn.Linear(32, 1)\n",
        "\n",
        "    def forward(self, x):\n",
        "        x = self.pool1(F.relu(self.bn1(self.conv1(x))))\n",
        "        x = self.pool2(F.relu(self.bn2(self.conv2(x))))\n",
        "        x = x.view(x.size(0), -1)\n",
        "        x = F.relu(self.fc1(x))\n",
        "        return self.fc2(x).squeeze()  # logits output\n"
      ],
      "metadata": {
        "id": "2ZEwLi5_HME1"
      },
      "execution_count": null,
      "outputs": []
    },
    {
      "cell_type": "code",
      "source": [
        "class LazyEEGDataset(Dataset):\n",
        "    def __init__(self, batch_dir, max_batches=50):\n",
        "        self.batch_dir = batch_dir\n",
        "        self.indices = []\n",
        "        for i in range(max_batches):\n",
        "            x_path = os.path.join(batch_dir, f\"X_batch_{i}.npy\")\n",
        "            y_path = os.path.join(batch_dir, f\"y_batch_{i}.npy\")\n",
        "            if os.path.exists(x_path) and os.path.exists(y_path):\n",
        "                x_data = np.load(x_path, mmap_mode='r')\n",
        "                self.indices.extend([(i, j) for j in range(x_data.shape[0])])\n",
        "            else:\n",
        "                break\n",
        "\n",
        "    def __len__(self):\n",
        "        return len(self.indices)\n",
        "\n",
        "    def __getitem__(self, idx):\n",
        "        batch_idx, sample_idx = self.indices[idx]\n",
        "        x = np.load(os.path.join(self.batch_dir, f\"X_batch_{batch_idx}.npy\"), mmap_mode='r')[sample_idx]\n",
        "        y = np.load(os.path.join(self.batch_dir, f\"y_batch_{batch_idx}.npy\"), mmap_mode='r')[sample_idx]\n",
        "        return torch.tensor(x, dtype=torch.float32), torch.tensor(y, dtype=torch.float32)\n",
        "\n",
        "# === Train\n",
        "batch_dir = \"/content/drive/MyDrive/EEG_Prepared_Batches\"\n",
        "dataset = LazyEEGDataset(batch_dir, max_batches=50)\n",
        "\n",
        "loader = DataLoader(\n",
        "    dataset,\n",
        "    batch_size=32,          # You can try 64 if memory allows\n",
        "    shuffle=True,\n",
        "    num_workers=4,          # Increase if Colab GPU supports it\n",
        "    pin_memory=True\n",
        ")\n",
        "\n",
        "device = torch.device(\"cuda\" if torch.cuda.is_available() else \"cpu\")\n",
        "model = SmallEEGCNN().to(device)\n",
        "optimizer = torch.optim.Adam(model.parameters(), lr=1e-3)\n",
        "criterion = nn.BCEWithLogitsLoss()  # use logits now\n",
        "\n",
        "EPOCHS = 2  # safe to increase if GPU runs smooth\n",
        "for epoch in range(EPOCHS):\n",
        "    model.train()\n",
        "    total_loss = 0\n",
        "    correct = 0\n",
        "    total = 0\n",
        "\n",
        "    for X_batch, y_batch in loader:\n",
        "        X_batch, y_batch = X_batch.to(device), y_batch.to(device)\n",
        "\n",
        "        optimizer.zero_grad()\n",
        "        logits = model(X_batch)\n",
        "        loss = criterion(logits, y_batch)\n",
        "        loss.backward()\n",
        "        optimizer.step()\n",
        "\n",
        "        total_loss += loss.item()\n",
        "\n",
        "        probs = torch.sigmoid(logits)\n",
        "        preds = (probs > 0.5).float()\n",
        "        correct += (preds == y_batch).sum().item()\n",
        "        total += y_batch.size(0)\n",
        "\n",
        "    accuracy = correct / total\n",
        "    print(f\"✅ Epoch {epoch+1}/{EPOCHS} — Loss: {total_loss:.4f}, Accuracy: {accuracy:.4f}\")\n"
      ],
      "metadata": {
        "colab": {
          "base_uri": "https://localhost:8080/"
        },
        "id": "vAhIrFTBW_x6",
        "outputId": "d50e7c79-da0b-4241-8f43-8031fe2be258"
      },
      "execution_count": null,
      "outputs": [
        {
          "output_type": "stream",
          "name": "stderr",
          "text": [
            "/usr/local/lib/python3.11/dist-packages/torch/utils/data/dataloader.py:624: UserWarning: This DataLoader will create 4 worker processes in total. Our suggested max number of worker in current system is 2, which is smaller than what this DataLoader is going to create. Please be aware that excessive worker creation might get DataLoader running slow or even freeze, lower the worker number to avoid potential slowness/freeze if necessary.\n",
            "  warnings.warn(\n"
          ]
        },
        {
          "output_type": "stream",
          "name": "stdout",
          "text": [
            "✅ Epoch 1/2 — Loss: 395.8610, Accuracy: 0.7190\n"
          ]
        },
        {
          "output_type": "stream",
          "name": "stderr",
          "text": [
            "/usr/local/lib/python3.11/dist-packages/torch/utils/data/dataloader.py:624: UserWarning: This DataLoader will create 4 worker processes in total. Our suggested max number of worker in current system is 2, which is smaller than what this DataLoader is going to create. Please be aware that excessive worker creation might get DataLoader running slow or even freeze, lower the worker number to avoid potential slowness/freeze if necessary.\n",
            "  warnings.warn(\n"
          ]
        },
        {
          "output_type": "stream",
          "name": "stdout",
          "text": [
            "✅ Epoch 2/2 — Loss: 245.5452, Accuracy: 0.8570\n"
          ]
        }
      ]
    },
    {
      "cell_type": "code",
      "source": [
        "torch.save(model.state_dict(), \"/content/drive/MyDrive/small_eegcnn_epoch2.pth\")\n",
        "print(\"✅ Model saved successfully!\")\n"
      ],
      "metadata": {
        "colab": {
          "base_uri": "https://localhost:8080/"
        },
        "id": "JcY9YRGHZDOx",
        "outputId": "e4b77b84-6059-4330-a73f-bdc358dc23a1"
      },
      "execution_count": null,
      "outputs": [
        {
          "output_type": "stream",
          "name": "stdout",
          "text": [
            "✅ Model saved successfully!\n"
          ]
        }
      ]
    },
    {
      "cell_type": "code",
      "source": [
        "import torch\n",
        "import torch.nn as nn\n",
        "import torch.nn.functional as F\n",
        "\n",
        "class EEGVAE(nn.Module):\n",
        "    def __init__(self, input_channels=128, time_steps=251, latent_dim=32):\n",
        "        super(EEGVAE, self).__init__()\n",
        "        self.time_steps = time_steps\n",
        "        self.latent_dim = latent_dim\n",
        "\n",
        "        # Encoder\n",
        "        self.encoder = nn.Sequential(\n",
        "            nn.Conv1d(input_channels, 64, kernel_size=3, stride=2, padding=1),  # → (64, 126)\n",
        "            nn.ReLU(),\n",
        "            nn.Conv1d(64, 32, kernel_size=3, stride=2, padding=1),              # → (32, 63)\n",
        "            nn.ReLU()\n",
        "        )\n",
        "\n",
        "        # Compute flattened feature size\n",
        "        dummy = torch.zeros(1, input_channels, time_steps)\n",
        "        flat_dim = self.encoder(dummy).view(1, -1).shape[1]\n",
        "\n",
        "        self.fc_mu = nn.Linear(flat_dim, latent_dim)\n",
        "        self.fc_logvar = nn.Linear(flat_dim, latent_dim)\n",
        "\n",
        "        # Decoder\n",
        "        self.decoder_fc = nn.Linear(latent_dim, flat_dim)\n",
        "        self.decoder = nn.Sequential(\n",
        "            nn.ConvTranspose1d(32, 64, kernel_size=4, stride=2, padding=1),   # → (64, 126)\n",
        "            nn.ReLU(),\n",
        "            nn.ConvTranspose1d(64, 128, kernel_size=4, stride=2, padding=1),  # → (128, 251)\n",
        "            nn.Sigmoid()\n",
        "        )\n",
        "\n",
        "    def reparameterize(self, mu, logvar):\n",
        "        std = torch.exp(0.5 * logvar)\n",
        "        eps = torch.randn_like(std)\n",
        "        return mu + eps * std\n",
        "\n",
        "    def forward(self, x):\n",
        "        encoded = self.encoder(x)\n",
        "        flat = encoded.view(x.size(0), -1)\n",
        "\n",
        "        mu = self.fc_mu(flat)\n",
        "        logvar = self.fc_logvar(flat)\n",
        "        z = self.reparameterize(mu, logvar)\n",
        "\n",
        "        decoded_flat = self.decoder_fc(z)\n",
        "        recon = decoded_flat.view(x.size(0), 32, self.time_steps // 4)\n",
        "        x_recon = self.decoder(recon)\n",
        "        return x_recon, mu, logvar\n",
        "\n",
        "def vae_loss_function(recon_x, x, mu, logvar):\n",
        "    recon_loss = F.mse_loss(recon_x, x, reduction='sum')\n",
        "    kl_div = -0.5 * torch.sum(1 + logvar - mu.pow(2) - logvar.exp())\n",
        "    return recon_loss + kl_div\n"
      ],
      "metadata": {
        "id": "XseZ-gNVZvUB"
      },
      "execution_count": null,
      "outputs": []
    },
    {
      "cell_type": "code",
      "source": [
        "import torch\n",
        "import torch.nn as nn\n",
        "import torch.nn.functional as F\n",
        "\n",
        "class EEGVAE(nn.Module):\n",
        "    def __init__(self, input_channels=128, time_steps=251, latent_dim=32):\n",
        "        super(EEGVAE, self).__init__()\n",
        "        self.time_steps = time_steps\n",
        "        self.latent_dim = latent_dim\n",
        "\n",
        "        # Encoder\n",
        "        self.encoder = nn.Sequential(\n",
        "            nn.Conv1d(input_channels, 64, kernel_size=3, stride=2, padding=1),  # → (64, ~126)\n",
        "            nn.ReLU(),\n",
        "            nn.Conv1d(64, 32, kernel_size=3, stride=2, padding=1),              # → (32, ~63)\n",
        "            nn.ReLU()\n",
        "        )\n",
        "\n",
        "        dummy = torch.zeros(1, input_channels, time_steps)\n",
        "        dummy_out = self.encoder(dummy)\n",
        "        self.flat_dim = dummy_out.view(1, -1).shape[1]\n",
        "        self.encoded_shape = dummy_out.shape[1:]  # (C, L) e.g., (32, 63)\n",
        "\n",
        "        self.fc_mu = nn.Linear(self.flat_dim, latent_dim)\n",
        "        self.fc_logvar = nn.Linear(self.flat_dim, latent_dim)\n",
        "\n",
        "        self.decoder_fc = nn.Linear(latent_dim, self.flat_dim)\n",
        "\n",
        "        # Decoder\n",
        "        self.decoder = nn.Sequential(\n",
        "            nn.ConvTranspose1d(32, 64, kernel_size=4, stride=2, padding=1),   # → (64, ~126)\n",
        "            nn.ReLU(),\n",
        "            nn.ConvTranspose1d(64, 128, kernel_size=4, stride=2, padding=1),  # → (128, ~251)\n",
        "            nn.Sigmoid()\n",
        "        )\n",
        "\n",
        "    def reparameterize(self, mu, logvar):\n",
        "        std = torch.exp(0.5 * logvar)\n",
        "        eps = torch.randn_like(std)\n",
        "        return mu + eps * std\n",
        "\n",
        "    def forward(self, x):\n",
        "        encoded = self.encoder(x)                     # (B, 32, ~63)\n",
        "        flat = encoded.view(x.size(0), -1)            # (B, flat_dim)\n",
        "\n",
        "        mu = self.fc_mu(flat)\n",
        "        logvar = self.fc_logvar(flat)\n",
        "        z = self.reparameterize(mu, logvar)\n",
        "\n",
        "        decoded_flat = self.decoder_fc(z)\n",
        "        recon = decoded_flat.view(x.size(0), *self.encoded_shape)  # (B, 32, 63)\n",
        "        x_recon = self.decoder(recon)\n",
        "        return x_recon, mu, logvar\n",
        "\n",
        "def vae_loss_function(recon_x, x, mu, logvar):\n",
        "    recon_loss = F.mse_loss(recon_x, x, reduction='sum')\n",
        "    kl_div = -0.5 * torch.sum(1 + logvar - mu.pow(2) - logvar.exp())\n",
        "    return recon_loss + kl_div"
      ],
      "metadata": {
        "id": "ez0p8RYCdCZj"
      },
      "execution_count": null,
      "outputs": []
    },
    {
      "cell_type": "code",
      "source": [
        "model = EEGVAE().to(device)\n",
        "optimizer = torch.optim.Adam(model.parameters(), lr=1e-3)\n",
        "\n",
        "for epoch in range(2):\n",
        "    model.train()\n",
        "    total_loss = 0\n",
        "    for X_batch, _ in loader:\n",
        "        X_batch = X_batch.to(device)\n",
        "        optimizer.zero_grad()\n",
        "\n",
        "        x_recon, mu, logvar = model(X_batch)\n",
        "        loss = vae_loss_function(x_recon, X_batch, mu, logvar)\n",
        "        loss.backward()\n",
        "        optimizer.step()\n",
        "        total_loss += loss.item()\n",
        "\n",
        "    print(f\"Epoch {epoch+1}, Loss: {total_loss:.2f}\")\n"
      ],
      "metadata": {
        "colab": {
          "base_uri": "https://localhost:8080/"
        },
        "id": "oEXQpjp0c6dz",
        "outputId": "8f6ff601-bfaa-4e32-aa42-8520bf57c545"
      },
      "execution_count": null,
      "outputs": [
        {
          "output_type": "stream",
          "name": "stderr",
          "text": [
            "/usr/local/lib/python3.11/dist-packages/torch/utils/data/dataloader.py:624: UserWarning: This DataLoader will create 4 worker processes in total. Our suggested max number of worker in current system is 2, which is smaller than what this DataLoader is going to create. Please be aware that excessive worker creation might get DataLoader running slow or even freeze, lower the worker number to avoid potential slowness/freeze if necessary.\n",
            "  warnings.warn(\n"
          ]
        },
        {
          "output_type": "stream",
          "name": "stdout",
          "text": [
            "Epoch 1, Loss: 5479119.15\n"
          ]
        },
        {
          "output_type": "stream",
          "name": "stderr",
          "text": [
            "/usr/local/lib/python3.11/dist-packages/torch/utils/data/dataloader.py:624: UserWarning: This DataLoader will create 4 worker processes in total. Our suggested max number of worker in current system is 2, which is smaller than what this DataLoader is going to create. Please be aware that excessive worker creation might get DataLoader running slow or even freeze, lower the worker number to avoid potential slowness/freeze if necessary.\n",
            "  warnings.warn(\n"
          ]
        },
        {
          "output_type": "stream",
          "name": "stdout",
          "text": [
            "Epoch 2, Loss: 173869.32\n"
          ]
        }
      ]
    },
    {
      "cell_type": "code",
      "source": [
        "import numpy as np\n",
        "\n",
        "model.eval()\n",
        "all_latents = []\n",
        "all_labels = []\n",
        "\n",
        "with torch.no_grad():\n",
        "    for X_batch, y_batch in loader:\n",
        "        X_batch = X_batch.to(device)\n",
        "        _, mu, _ = model(X_batch)  # use latent mean\n",
        "        all_latents.append(mu.cpu().numpy())\n",
        "        all_labels.append(y_batch.cpu().numpy())\n",
        "\n",
        "# Convert to numpy arrays\n",
        "latent = np.concatenate(all_latents, axis=0)\n",
        "labels = np.concatenate(all_labels, axis=0)\n",
        "\n",
        "print(\"✅ Latent shape:\", latent.shape)  # (samples, latent_dim)\n",
        "print(\"✅ Labels shape:\", labels.shape)  # (samples,)\n"
      ],
      "metadata": {
        "colab": {
          "base_uri": "https://localhost:8080/"
        },
        "id": "lFajZecalA7-",
        "outputId": "49364f13-c67d-4a28-cb66-a57ca1b502b0"
      },
      "execution_count": null,
      "outputs": [
        {
          "output_type": "stream",
          "name": "stderr",
          "text": [
            "/usr/local/lib/python3.11/dist-packages/torch/utils/data/dataloader.py:624: UserWarning: This DataLoader will create 4 worker processes in total. Our suggested max number of worker in current system is 2, which is smaller than what this DataLoader is going to create. Please be aware that excessive worker creation might get DataLoader running slow or even freeze, lower the worker number to avoid potential slowness/freeze if necessary.\n",
            "  warnings.warn(\n"
          ]
        },
        {
          "output_type": "stream",
          "name": "stdout",
          "text": [
            "✅ Latent shape: (23977, 32)\n",
            "✅ Labels shape: (23977,)\n"
          ]
        }
      ]
    },
    {
      "cell_type": "code",
      "source": [
        "save_dir = \"/content/drive/MyDrive/EEG_Latent_VAE\"\n",
        "os.makedirs(save_dir, exist_ok=True)\n",
        "\n",
        "np.save(f\"{save_dir}/vae_latent_features.npy\", latent)\n",
        "np.save(f\"{save_dir}/vae_labels.npy\", labels)\n",
        "print(\"✅ Latent features and labels saved successfully.\")\n"
      ],
      "metadata": {
        "colab": {
          "base_uri": "https://localhost:8080/"
        },
        "id": "ydtNnSQ5mdgB",
        "outputId": "be8f44d9-3ef2-4cf2-97b3-7cbf68414393"
      },
      "execution_count": null,
      "outputs": [
        {
          "output_type": "stream",
          "name": "stdout",
          "text": [
            "✅ Latent features and labels saved successfully.\n"
          ]
        }
      ]
    },
    {
      "cell_type": "code",
      "source": [
        "model.eval()\n",
        "val_loss = 0\n",
        "total_recon_correct = 0\n",
        "total_elements = 0\n",
        "\n",
        "with torch.no_grad():\n",
        "    for X_batch, _ in val_loader:  # use your validation loader here\n",
        "        X_batch = X_batch.to(device)\n",
        "        recon, mu, logvar = model(X_batch)\n",
        "\n",
        "        # VAE Loss\n",
        "        loss = vae_loss_function(recon, X_batch, mu, logvar)\n",
        "        val_loss += loss.item()\n",
        "\n",
        "        # Optional accuracy metric: per-element match within a tolerance (since reconstruction is continuous)\n",
        "        tolerance = 0.1\n",
        "        match = (torch.abs(recon - X_batch) < tolerance).sum().item()\n",
        "        total_recon_correct += match\n",
        "        total_elements += X_batch.numel()\n",
        "\n",
        "val_loss_avg = val_loss / len(val_loader.dataset)\n",
        "val_acc = total_recon_correct / total_elements\n",
        "\n",
        "print(f\"📊 Validation Loss: {val_loss_avg:.4f}\")\n",
        "print(f\"✅ Reconstruction Accuracy (within ±{tolerance}): {val_acc:.4f}\")\n"
      ],
      "metadata": {
        "colab": {
          "base_uri": "https://localhost:8080/"
        },
        "id": "ZbjTeml2gDHn",
        "outputId": "0dcc9ca9-f60d-4b6f-8b8b-3910ae2be049"
      },
      "execution_count": null,
      "outputs": [
        {
          "output_type": "stream",
          "name": "stdout",
          "text": [
            "📊 Validation Loss: 5.3106\n",
            "✅ Reconstruction Accuracy (within ±0.1): 1.0000\n"
          ]
        }
      ]
    },
    {
      "cell_type": "code",
      "source": [
        "from torch.utils.data import DataLoader\n",
        "\n",
        "# Your existing LazyEEGDataset definition remains the same\n",
        "batch_dir = \"/content/drive/MyDrive/EEG_Prepared_Batches\"\n",
        "full_dataset = LazyEEGDataset(batch_dir, max_batches=50)\n",
        "\n",
        "# You can use a larger batch_size here because we’re not training, just extracting features\n",
        "full_loader = DataLoader(full_dataset, batch_size=64, shuffle=False, num_workers=2, pin_memory=True)\n"
      ],
      "metadata": {
        "id": "3cGQvvVvgu3S"
      },
      "execution_count": null,
      "outputs": []
    },
    {
      "cell_type": "code",
      "source": [
        "import numpy as np\n",
        "\n",
        "model.eval()\n",
        "all_z = []\n",
        "all_labels = []\n",
        "\n",
        "with torch.no_grad():\n",
        "    for X_batch, y_batch in full_loader:\n",
        "        X_batch = X_batch.to(device)\n",
        "\n",
        "        # Try splitting output into mu, logvar\n",
        "        try:\n",
        "            mu, _ = model.encoder(X_batch)\n",
        "        except:\n",
        "            mu = model.encoder(X_batch)\n",
        "\n",
        "        all_z.append(mu.cpu().numpy())\n",
        "        all_labels.append(y_batch.cpu().numpy())\n",
        "\n",
        "X_latent = np.concatenate(all_z, axis=0)\n",
        "y_labels = np.concatenate(all_labels, axis=0)\n",
        "\n",
        "print(\"✅ Latent shape:\", X_latent.shape)\n",
        "print(\"✅ Labels shape:\", y_labels.shape)\n",
        "\n"
      ],
      "metadata": {
        "colab": {
          "base_uri": "https://localhost:8080/"
        },
        "id": "tdOEOP1Xgm-I",
        "outputId": "e1f65d8b-51b6-4524-cf05-56465d49f126"
      },
      "execution_count": null,
      "outputs": [
        {
          "output_type": "stream",
          "name": "stdout",
          "text": [
            "✅ Latent shape: (23977, 32, 63)\n",
            "✅ Labels shape: (23977,)\n"
          ]
        }
      ]
    },
    {
      "cell_type": "code",
      "source": [
        "X_flat = X_latent.reshape(X_latent.shape[0], -1)\n"
      ],
      "metadata": {
        "id": "U67n74zGiTS5"
      },
      "execution_count": null,
      "outputs": []
    },
    {
      "cell_type": "code",
      "source": [
        "import numpy as np\n",
        "import os\n",
        "\n",
        "# Path to your batch folder\n",
        "batch_dir = \"/content/drive/MyDrive/EEG_Prepared_Batches\"\n",
        "\n",
        "# Collect y only\n",
        "y_list = []\n",
        "for i in range(53):  # or however many batches you created\n",
        "    y_path = os.path.join(batch_dir, f\"y_batch_{i}.npy\")\n",
        "    if os.path.exists(y_path):\n",
        "        y_batch = np.load(y_path)\n",
        "        y_list.append(y_batch)\n",
        "\n",
        "# Final label array\n",
        "y = np.concatenate(y_list)\n",
        "print(\"✅ Labels loaded. Shape:\", y.shape)\n"
      ],
      "metadata": {
        "colab": {
          "base_uri": "https://localhost:8080/"
        },
        "id": "tVeEpDY-i1h_",
        "outputId": "b3494f53-1dc1-4d15-c022-2c4d0b12d471"
      },
      "execution_count": null,
      "outputs": [
        {
          "output_type": "stream",
          "name": "stdout",
          "text": [
            "✅ Labels loaded. Shape: (25416,)\n"
          ]
        }
      ]
    },
    {
      "cell_type": "code",
      "source": [
        "# Trim y to match X_latent\n",
        "y = y[:X_latent.shape[0]]\n",
        "print(\"✅ Aligned y shape:\", y.shape)\n"
      ],
      "metadata": {
        "colab": {
          "base_uri": "https://localhost:8080/"
        },
        "id": "w_WUCjgxi_f3",
        "outputId": "55691409-4d03-483f-f4d4-05d6929c0bbb"
      },
      "execution_count": null,
      "outputs": [
        {
          "output_type": "stream",
          "name": "stdout",
          "text": [
            "✅ Aligned y shape: (23977,)\n"
          ]
        }
      ]
    },
    {
      "cell_type": "code",
      "source": [
        "from sklearn.ensemble import RandomForestClassifier\n",
        "from sklearn.metrics import accuracy_score, precision_score, recall_score, f1_score, classification_report\n",
        "from sklearn.model_selection import train_test_split\n",
        "\n",
        "# Flatten latent space if needed\n",
        "X_flat = X_latent.reshape(X_latent.shape[0], -1)\n",
        "\n",
        "# Train-test split\n",
        "X_train, X_test, y_train, y_test = train_test_split(X_flat, y, test_size=0.2, random_state=42)\n",
        "\n",
        "# Model\n",
        "clf = RandomForestClassifier(n_estimators=100, random_state=42)\n",
        "clf.fit(X_train, y_train)\n",
        "\n",
        "# Predictions\n",
        "y_pred = clf.predict(X_test)\n",
        "\n",
        "# Metrics\n",
        "print(\"✅ Accuracy:\", accuracy_score(y_test, y_pred))\n",
        "print(\"✅ Precision:\", precision_score(y_test, y_pred))\n",
        "print(\"✅ Recall:\", recall_score(y_test, y_pred))\n",
        "print(\"✅ F1 Score:\", f1_score(y_test, y_pred))\n",
        "print(\"\\nClassification Report:\\n\", classification_report(y_test, y_pred))\n"
      ],
      "metadata": {
        "colab": {
          "base_uri": "https://localhost:8080/"
        },
        "id": "S77DS2kniIkC",
        "outputId": "1277ba21-15d4-4bb4-907e-ba75ce684313"
      },
      "execution_count": null,
      "outputs": [
        {
          "output_type": "stream",
          "name": "stdout",
          "text": [
            "✅ Accuracy: 0.6590909090909091\n",
            "✅ Precision: 0.7085146053449347\n",
            "✅ Recall: 0.4943625325238508\n",
            "✅ F1 Score: 0.5823754789272031\n",
            "\n",
            "Classification Report:\n",
            "               precision    recall  f1-score   support\n",
            "\n",
            "           0       0.63      0.81      0.71      2490\n",
            "           1       0.71      0.49      0.58      2306\n",
            "\n",
            "    accuracy                           0.66      4796\n",
            "   macro avg       0.67      0.65      0.65      4796\n",
            "weighted avg       0.67      0.66      0.65      4796\n",
            "\n"
          ]
        }
      ]
    },
    {
      "cell_type": "code",
      "source": [
        "!pip install imbalanced-learn\n"
      ],
      "metadata": {
        "colab": {
          "base_uri": "https://localhost:8080/"
        },
        "id": "vvlw_QATjh3s",
        "outputId": "5d69ede3-de37-435e-fd8d-213cb10e8ff1"
      },
      "execution_count": null,
      "outputs": [
        {
          "output_type": "stream",
          "name": "stdout",
          "text": [
            "Requirement already satisfied: imbalanced-learn in /usr/local/lib/python3.11/dist-packages (0.13.0)\n",
            "Requirement already satisfied: numpy<3,>=1.24.3 in /usr/local/lib/python3.11/dist-packages (from imbalanced-learn) (2.0.2)\n",
            "Requirement already satisfied: scipy<2,>=1.10.1 in /usr/local/lib/python3.11/dist-packages (from imbalanced-learn) (1.15.3)\n",
            "Requirement already satisfied: scikit-learn<2,>=1.3.2 in /usr/local/lib/python3.11/dist-packages (from imbalanced-learn) (1.6.1)\n",
            "Requirement already satisfied: sklearn-compat<1,>=0.1 in /usr/local/lib/python3.11/dist-packages (from imbalanced-learn) (0.1.3)\n",
            "Requirement already satisfied: joblib<2,>=1.1.1 in /usr/local/lib/python3.11/dist-packages (from imbalanced-learn) (1.5.1)\n",
            "Requirement already satisfied: threadpoolctl<4,>=2.0.0 in /usr/local/lib/python3.11/dist-packages (from imbalanced-learn) (3.6.0)\n"
          ]
        }
      ]
    },
    {
      "cell_type": "code",
      "source": [
        "from imblearn.over_sampling import SMOTE\n",
        "from sklearn.ensemble import RandomForestClassifier\n",
        "from sklearn.model_selection import train_test_split\n",
        "from sklearn.metrics import classification_report, accuracy_score, precision_score, recall_score, f1_score\n",
        "\n",
        "# === Flatten latent features (assume `latent` is shape (samples, 32, 63)) ===\n",
        "X_flat = latent.reshape(latent.shape[0], -1)  # → (samples, 32*63)\n",
        "y_flat = labels  # shape: (samples,)\n",
        "\n",
        "# === Train-test split ===\n",
        "X_train, X_test, y_train, y_test = train_test_split(X_flat, y_flat, test_size=0.2, random_state=42, stratify=y_flat)\n",
        "\n",
        "# === Apply SMOTE only on training set ===\n",
        "smote = SMOTE(random_state=42)\n",
        "X_train_balanced, y_train_balanced = smote.fit_resample(X_train, y_train)\n",
        "\n",
        "# === Random Forest ===\n",
        "rf = RandomForestClassifier(n_estimators=100, random_state=42)\n",
        "rf.fit(X_train_balanced, y_train_balanced)\n",
        "\n",
        "# === Evaluate ===\n",
        "y_pred = rf.predict(X_test)\n",
        "\n",
        "print(\"✅ Classification Report (SMOTE + Random Forest):\")\n",
        "print(classification_report(y_test, y_pred))\n",
        "\n",
        "print(\"Accuracy:\", accuracy_score(y_test, y_pred))\n",
        "print(\"Precision:\", precision_score(y_test, y_pred))\n",
        "print(\"Recall:\", recall_score(y_test, y_pred))\n",
        "print(\"F1 Score:\", f1_score(y_test, y_pred))\n"
      ],
      "metadata": {
        "colab": {
          "base_uri": "https://localhost:8080/"
        },
        "id": "hnuo2stRkMKe",
        "outputId": "2851c7c4-b548-4c74-b461-d880b1e729a1"
      },
      "execution_count": null,
      "outputs": [
        {
          "output_type": "stream",
          "name": "stdout",
          "text": [
            "✅ Classification Report (SMOTE + Random Forest):\n",
            "              precision    recall  f1-score   support\n",
            "\n",
            "         0.0       0.60      0.70      0.65      2494\n",
            "         1.0       0.60      0.50      0.54      2302\n",
            "\n",
            "    accuracy                           0.60      4796\n",
            "   macro avg       0.60      0.60      0.59      4796\n",
            "weighted avg       0.60      0.60      0.60      4796\n",
            "\n",
            "Accuracy: 0.6009174311926605\n",
            "Precision: 0.6022128556375131\n",
            "Recall: 0.4965247610773241\n",
            "F1 Score: 0.5442857142857143\n"
          ]
        }
      ]
    },
    {
      "cell_type": "code",
      "source": [
        "from sklearn.model_selection import GridSearchCV, train_test_split\n",
        "from sklearn.ensemble import RandomForestClassifier\n",
        "from sklearn.metrics import classification_report, accuracy_score, precision_score, recall_score, f1_score\n",
        "from imblearn.over_sampling import SMOTE\n",
        "import numpy as np\n",
        "\n",
        "# Load your latent features and labels\n",
        "latent = np.load(\"/content/drive/MyDrive/EEG_Latent_VAE/vae_latent_features.npy\")\n",
        "labels = np.load(\"/content/drive/MyDrive/EEG_Latent_VAE/vae_labels.npy\")\n",
        "\n",
        "# Flatten if needed\n",
        "X = latent.reshape(latent.shape[0], -1)\n",
        "y = labels\n",
        "\n",
        "# Train-test split\n",
        "X_train, X_test, y_train, y_test = train_test_split(X, y, test_size=0.2, stratify=y, random_state=42)\n",
        "\n",
        "# Apply SMOTE to training data only\n",
        "sm = SMOTE(random_state=42)\n",
        "X_res, y_res = sm.fit_resample(X_train, y_train)\n",
        "\n",
        "# Define grid parameters\n",
        "param_grid = {\n",
        "    'n_estimators': [100],\n",
        "    'max_depth': [10, None],\n",
        "    'min_samples_split': [2, 5],\n",
        "}\n",
        "\n",
        "# Grid Search\n",
        "clf = RandomForestClassifier(random_state=42)\n",
        "grid = GridSearchCV(clf, param_grid, cv=3, scoring='accuracy', n_jobs=-1, verbose=1)\n",
        "grid.fit(X_res, y_res)\n",
        "\n",
        "# Evaluate on test set\n",
        "best_model = grid.best_estimator_\n",
        "y_pred = best_model.predict(X_test)\n",
        "\n",
        "print(\"✅ Best Parameters:\", grid.best_params_)\n",
        "print(\"\\n✅ Classification Report:\")\n",
        "print(classification_report(y_test, y_pred))\n",
        "print(\"Accuracy:\", accuracy_score(y_test, y_pred))\n",
        "print(\"Precision:\", precision_score(y_test, y_pred))\n",
        "print(\"Recall:\", recall_score(y_test, y_pred))\n",
        "print(\"F1 Score:\", f1_score(y_test, y_pred))\n"
      ],
      "metadata": {
        "colab": {
          "base_uri": "https://localhost:8080/"
        },
        "id": "hHW-st66mwPn",
        "outputId": "7b4be52c-033e-4d34-9488-5377114579ae"
      },
      "execution_count": null,
      "outputs": [
        {
          "output_type": "stream",
          "name": "stdout",
          "text": [
            "Fitting 3 folds for each of 4 candidates, totalling 12 fits\n",
            "✅ Best Parameters: {'max_depth': None, 'min_samples_split': 5, 'n_estimators': 100}\n",
            "\n",
            "✅ Classification Report:\n",
            "              precision    recall  f1-score   support\n",
            "\n",
            "         0.0       0.59      0.67      0.63      2494\n",
            "         1.0       0.58      0.50      0.54      2302\n",
            "\n",
            "    accuracy                           0.59      4796\n",
            "   macro avg       0.58      0.58      0.58      4796\n",
            "weighted avg       0.58      0.59      0.58      4796\n",
            "\n",
            "Accuracy: 0.585487906588824\n",
            "Precision: 0.5792929292929293\n",
            "Recall: 0.498262380538662\n",
            "F1 Score: 0.5357309668379262\n"
          ]
        }
      ]
    },
    {
      "cell_type": "code",
      "source": [
        "import numpy as np\n",
        "import os\n",
        "\n",
        "# === Define your ERP windows in timepoints ===\n",
        "erp_windows = {\n",
        "    'P1': (25, 50),\n",
        "    'N1': (50, 75),\n",
        "    'P2': (75, 126),\n",
        "    'N2': (126, 176),\n",
        "    'P3': (150, 251)\n",
        "}\n",
        "\n",
        "def extract_erp_features_per_channel(eeg_data, windows):\n",
        "    features = []\n",
        "\n",
        "    for name, (start, end) in windows.items():\n",
        "        segment = eeg_data[:, :, start:end]  # (samples, 128, time)\n",
        "        mean_val = np.mean(segment, axis=2)      # (samples, 128)\n",
        "        peak_val = np.max(segment, axis=2)       # (samples, 128)\n",
        "        latency = np.argmax(segment, axis=2) + start  # (samples, 128)\n",
        "\n",
        "        features.extend([mean_val, peak_val, latency])\n",
        "\n",
        "    return np.concatenate(features, axis=1)  # (samples, 128 * 3 * windows)\n",
        "\n",
        "# === Apply to all batches ===\n",
        "batch_dir = \"/content/drive/MyDrive/EEG_Prepared_Batches\"\n",
        "save_dir = \"/content/drive/MyDrive/ERP_Features_Per_Channel\"\n",
        "os.makedirs(save_dir, exist_ok=True)\n",
        "\n",
        "for i in range(53):  # Loop through all 53 batches\n",
        "    x_path = os.path.join(batch_dir, f\"X_batch_{i}.npy\")\n",
        "    y_path = os.path.join(batch_dir, f\"y_batch_{i}.npy\")\n",
        "\n",
        "    if not os.path.exists(x_path) or not os.path.exists(y_path):\n",
        "        print(f\"Skipped missing batch {i}\")\n",
        "        continue\n",
        "\n",
        "    print(f\"✅ Extracting from batch {i}\")\n",
        "    X = np.load(x_path, mmap_mode='r')  # (samples, 128, 251)\n",
        "    y = np.load(y_path)\n",
        "\n",
        "    features = extract_erp_features_per_channel(X, erp_windows)  # (samples, 1920)\n",
        "\n",
        "    # Save extracted features and labels\n",
        "    np.save(os.path.join(save_dir, f\"ERP_features_{i}.npy\"), features)\n",
        "    np.save(os.path.join(save_dir, f\"ERP_labels_{i}.npy\"), y)\n"
      ],
      "metadata": {
        "colab": {
          "base_uri": "https://localhost:8080/"
        },
        "id": "kOCieYCQohR-",
        "outputId": "64bc4756-1ce9-4b5e-e6e5-ceaab7d5457d"
      },
      "execution_count": null,
      "outputs": [
        {
          "output_type": "stream",
          "name": "stdout",
          "text": [
            "✅ Extracting from batch 0\n",
            "✅ Extracting from batch 1\n",
            "✅ Extracting from batch 2\n",
            "✅ Extracting from batch 3\n",
            "✅ Extracting from batch 4\n",
            "✅ Extracting from batch 5\n",
            "✅ Extracting from batch 6\n",
            "✅ Extracting from batch 7\n",
            "✅ Extracting from batch 8\n",
            "✅ Extracting from batch 9\n",
            "✅ Extracting from batch 10\n",
            "✅ Extracting from batch 11\n",
            "✅ Extracting from batch 12\n",
            "✅ Extracting from batch 13\n",
            "✅ Extracting from batch 14\n",
            "✅ Extracting from batch 15\n",
            "✅ Extracting from batch 16\n",
            "✅ Extracting from batch 17\n",
            "✅ Extracting from batch 18\n",
            "✅ Extracting from batch 19\n",
            "✅ Extracting from batch 20\n",
            "✅ Extracting from batch 21\n",
            "✅ Extracting from batch 22\n",
            "✅ Extracting from batch 23\n",
            "✅ Extracting from batch 24\n",
            "✅ Extracting from batch 25\n",
            "✅ Extracting from batch 26\n",
            "✅ Extracting from batch 27\n",
            "✅ Extracting from batch 28\n",
            "✅ Extracting from batch 29\n",
            "✅ Extracting from batch 30\n",
            "✅ Extracting from batch 31\n",
            "✅ Extracting from batch 32\n",
            "✅ Extracting from batch 33\n",
            "✅ Extracting from batch 34\n",
            "✅ Extracting from batch 35\n",
            "✅ Extracting from batch 36\n",
            "✅ Extracting from batch 37\n",
            "✅ Extracting from batch 38\n",
            "✅ Extracting from batch 39\n",
            "✅ Extracting from batch 40\n",
            "✅ Extracting from batch 41\n",
            "✅ Extracting from batch 42\n",
            "✅ Extracting from batch 43\n",
            "✅ Extracting from batch 44\n",
            "✅ Extracting from batch 45\n",
            "✅ Extracting from batch 46\n",
            "✅ Extracting from batch 47\n",
            "✅ Extracting from batch 48\n",
            "✅ Extracting from batch 49\n",
            "✅ Extracting from batch 50\n",
            "✅ Extracting from batch 51\n",
            "✅ Extracting from batch 52\n"
          ]
        }
      ]
    },
    {
      "cell_type": "code",
      "source": [
        "import numpy as np\n",
        "import os\n",
        "\n",
        "# === Merge all extracted ERP feature batches ===\n",
        "feature_dir = \"/content/drive/MyDrive/ERP_Features_Per_Channel\"\n",
        "all_features = []\n",
        "all_labels = []\n",
        "\n",
        "# Go through all saved batches\n",
        "for i in range(53):\n",
        "    feat_path = os.path.join(feature_dir, f\"ERP_features_{i}.npy\")\n",
        "    label_path = os.path.join(feature_dir, f\"ERP_labels_{i}.npy\")\n",
        "\n",
        "    if not os.path.exists(feat_path) or not os.path.exists(label_path):\n",
        "        print(f\"❌ Missing batch {i}, skipping.\")\n",
        "        continue\n",
        "\n",
        "    features = np.load(feat_path)\n",
        "    labels = np.load(label_path)\n",
        "\n",
        "    all_features.append(features)\n",
        "    all_labels.append(labels)\n",
        "\n",
        "# Concatenate into single arrays\n",
        "X = np.concatenate(all_features, axis=0)\n",
        "y = np.concatenate(all_labels, axis=0)\n",
        "\n",
        "# Save the merged arrays\n",
        "os.makedirs(\"/content/drive/MyDrive/EEG_ERP_Features\", exist_ok=True)\n",
        "np.save(\"/content/drive/MyDrive/EEG_ERP_Features/features.npy\", X)\n",
        "np.save(\"/content/drive/MyDrive/EEG_ERP_Features/labels.npy\", y)\n",
        "\n",
        "print(\"✅ Saved merged feature shape:\", X.shape)\n",
        "print(\"✅ Saved merged label shape:\", y.shape)\n"
      ],
      "metadata": {
        "colab": {
          "base_uri": "https://localhost:8080/"
        },
        "id": "7uPEk_FGuBuP",
        "outputId": "24b1a610-b9a4-495a-ffdd-fbf17c38d845"
      },
      "execution_count": null,
      "outputs": [
        {
          "output_type": "stream",
          "name": "stdout",
          "text": [
            "✅ Saved merged feature shape: (25416, 1920)\n",
            "✅ Saved merged label shape: (25416,)\n"
          ]
        }
      ]
    },
    {
      "cell_type": "code",
      "source": [
        "import numpy as np\n",
        "from sklearn.model_selection import train_test_split\n",
        "from sklearn.ensemble import RandomForestClassifier\n",
        "from sklearn.feature_selection import SelectKBest, f_classif, mutual_info_classif\n",
        "from sklearn.metrics import classification_report, accuracy_score, precision_score, recall_score, f1_score\n",
        "\n",
        "# === Load your data ===\n",
        "# Replace these with your real feature and label arrays\n",
        "X = np.load(\"/content/drive/MyDrive/EEG_ERP_Features/features.npy\")  # shape: (n_samples, n_features)\n",
        "y = np.load(\"/content/drive/MyDrive/EEG_ERP_Features/labels.npy\")    # shape: (n_samples,)\n",
        "\n",
        "# === Train/Test Split ===\n",
        "X_train, X_test, y_train, y_test = train_test_split(X, y, test_size=0.2, stratify=y, random_state=42)\n",
        "\n",
        "# === Define a helper function to evaluate models ===\n",
        "def evaluate_model(X_train, X_test, y_train, y_test, desc=\"Model\"):\n",
        "    model = RandomForestClassifier(random_state=42)\n",
        "    model.fit(X_train, y_train)\n",
        "    y_pred = model.predict(X_test)\n",
        "    print(f\"\\n✅ Classification Report ({desc}):\")\n",
        "    print(classification_report(y_test, y_pred))\n",
        "    print(\"Accuracy:\", accuracy_score(y_test, y_pred))\n",
        "    print(\"Precision:\", precision_score(y_test, y_pred))\n",
        "    print(\"Recall:\", recall_score(y_test, y_pred))\n",
        "    print(\"F1 Score:\", f1_score(y_test, y_pred))\n",
        "\n",
        "# === Option A: ANOVA (f_classif) ===\n",
        "anova_selector = SelectKBest(score_func=f_classif, k=50)\n",
        "X_train_anova = anova_selector.fit_transform(X_train, y_train)\n",
        "X_test_anova = anova_selector.transform(X_test)\n",
        "\n",
        "evaluate_model(X_train_anova, X_test_anova, y_train, y_test, desc=\"ANOVA Top 50 Features\")\n",
        "\n",
        "# === Option B: Mutual Information ===\n",
        "mi_selector = SelectKBest(score_func=mutual_info_classif, k=50)\n",
        "X_train_mi = mi_selector.fit_transform(X_train, y_train)\n",
        "X_test_mi = mi_selector.transform(X_test)\n",
        "\n",
        "evaluate_model(X_train_mi, X_test_mi, y_train, y_test, desc=\"Mutual Info Top 50 Features\")\n"
      ],
      "metadata": {
        "colab": {
          "base_uri": "https://localhost:8080/"
        },
        "id": "CJRebbn5tbmn",
        "outputId": "85879dfd-1138-4157-f7e0-520cfcc61865"
      },
      "execution_count": null,
      "outputs": [
        {
          "output_type": "stream",
          "name": "stdout",
          "text": [
            "\n",
            "✅ Classification Report (ANOVA Top 50 Features):\n",
            "              precision    recall  f1-score   support\n",
            "\n",
            "           0       0.77      0.91      0.83      2782\n",
            "           1       0.86      0.67      0.75      2302\n",
            "\n",
            "    accuracy                           0.80      5084\n",
            "   macro avg       0.81      0.79      0.79      5084\n",
            "weighted avg       0.81      0.80      0.79      5084\n",
            "\n",
            "Accuracy: 0.7981904012588513\n",
            "Precision: 0.8560267857142857\n",
            "Recall: 0.6663770634231103\n",
            "F1 Score: 0.7493893502686859\n",
            "\n",
            "✅ Classification Report (Mutual Info Top 50 Features):\n",
            "              precision    recall  f1-score   support\n",
            "\n",
            "           0       0.78      0.92      0.84      2782\n",
            "           1       0.87      0.69      0.77      2302\n",
            "\n",
            "    accuracy                           0.81      5084\n",
            "   macro avg       0.83      0.80      0.81      5084\n",
            "weighted avg       0.82      0.81      0.81      5084\n",
            "\n",
            "Accuracy: 0.8123524783634933\n",
            "Precision: 0.8703296703296703\n",
            "Recall: 0.6880973066898349\n",
            "F1 Score: 0.7685589519650655\n"
          ]
        }
      ]
    },
    {
      "cell_type": "code",
      "source": [
        "import numpy as np\n",
        "from sklearn.ensemble import RandomForestClassifier\n",
        "from sklearn.feature_selection import mutual_info_classif\n",
        "from sklearn.model_selection import train_test_split\n",
        "from sklearn.metrics import classification_report, confusion_matrix, accuracy_score, precision_score, recall_score, f1_score\n",
        "import matplotlib.pyplot as plt\n",
        "import seaborn as sns\n",
        "\n",
        "# === Load all features and labels ===\n",
        "features = []\n",
        "labels = []\n",
        "\n",
        "for i in range(53):\n",
        "    try:\n",
        "        X = np.load(f\"/content/drive/MyDrive/ERP_Features_Per_Channel/ERP_features_{i}.npy\")\n",
        "        y = np.load(f\"/content/drive/MyDrive/ERP_Features_Per_Channel/ERP_labels_{i}.npy\")\n",
        "        features.append(X)\n",
        "        labels.append(y)\n",
        "    except:\n",
        "        continue\n",
        "\n",
        "X_all = np.concatenate(features, axis=0)\n",
        "y_all = np.concatenate(labels, axis=0)\n",
        "\n",
        "# === Train / Val / Test Split ===\n",
        "X_temp, X_test, y_temp, y_test = train_test_split(X_all, y_all, test_size=0.2, random_state=42, stratify=y_all)\n",
        "X_train, X_val, y_train, y_val = train_test_split(X_temp, y_temp, test_size=0.25, random_state=42, stratify=y_temp)\n",
        "\n",
        "# === Mutual Info Feature Selection ===\n",
        "mi = mutual_info_classif(X_train, y_train)\n",
        "top_indices = np.argsort(mi)[-50:]\n",
        "\n",
        "X_train_sel = X_train[:, top_indices]\n",
        "X_val_sel = X_val[:, top_indices]\n",
        "X_test_sel = X_test[:, top_indices]\n",
        "\n",
        "# === Train Model ===\n",
        "clf = RandomForestClassifier(random_state=42)\n",
        "clf.fit(X_train_sel, y_train)\n",
        "\n",
        "# === Evaluation Function ===\n",
        "def evaluate_model(X, y, name=\"Set\"):\n",
        "    y_pred = clf.predict(X)\n",
        "    print(f\"\\n✅ Classification Report ({name}):\")\n",
        "    print(classification_report(y, y_pred))\n",
        "    print(\"Accuracy:\", accuracy_score(y, y_pred))\n",
        "    print(\"Precision:\", precision_score(y, y_pred))\n",
        "    print(\"Recall:\", recall_score(y, y_pred))\n",
        "    print(\"F1 Score:\", f1_score(y, y_pred))\n",
        "    return confusion_matrix(y, y_pred)\n",
        "\n",
        "# === Print All Results ===\n",
        "evaluate_model(X_train_sel, y_train, \"Train\")\n",
        "evaluate_model(X_val_sel, y_val, \"Validation\")\n",
        "cm_test = evaluate_model(X_test_sel, y_test, \"Test\")\n",
        "\n",
        "# === Confusion Matrix Plot ===\n",
        "plt.figure(figsize=(6, 5))\n",
        "sns.heatmap(cm_test, annot=True, fmt='d', cmap='Blues', xticklabels=[\"HC\", \"MDD\"], yticklabels=[\"HC\", \"MDD\"])\n",
        "plt.title(\"Confusion Matrix (Test Set)\")\n",
        "plt.xlabel(\"Predicted\")\n",
        "plt.ylabel(\"True\")\n",
        "plt.show()\n"
      ],
      "metadata": {
        "colab": {
          "base_uri": "https://localhost:8080/",
          "height": 1000
        },
        "id": "SDwlggBFvXpM",
        "outputId": "6cb520b2-a1b8-47d4-a26c-0910a482dcf2"
      },
      "execution_count": null,
      "outputs": [
        {
          "output_type": "stream",
          "name": "stdout",
          "text": [
            "\n",
            "✅ Classification Report (Train):\n",
            "              precision    recall  f1-score   support\n",
            "\n",
            "           0       1.00      1.00      1.00      8343\n",
            "           1       1.00      1.00      1.00      6906\n",
            "\n",
            "    accuracy                           1.00     15249\n",
            "   macro avg       1.00      1.00      1.00     15249\n",
            "weighted avg       1.00      1.00      1.00     15249\n",
            "\n",
            "Accuracy: 1.0\n",
            "Precision: 1.0\n",
            "Recall: 1.0\n",
            "F1 Score: 1.0\n",
            "\n",
            "✅ Classification Report (Validation):\n",
            "              precision    recall  f1-score   support\n",
            "\n",
            "           0       0.77      0.91      0.83      2781\n",
            "           1       0.87      0.67      0.75      2302\n",
            "\n",
            "    accuracy                           0.80      5083\n",
            "   macro avg       0.82      0.79      0.79      5083\n",
            "weighted avg       0.81      0.80      0.80      5083\n",
            "\n",
            "Accuracy: 0.8016919142238835\n",
            "Precision: 0.8651241534988713\n",
            "Recall: 0.6659426585577759\n",
            "F1 Score: 0.7525773195876289\n",
            "\n",
            "✅ Classification Report (Test):\n",
            "              precision    recall  f1-score   support\n",
            "\n",
            "           0       0.78      0.91      0.84      2782\n",
            "           1       0.87      0.68      0.76      2302\n",
            "\n",
            "    accuracy                           0.81      5084\n",
            "   macro avg       0.82      0.80      0.80      5084\n",
            "weighted avg       0.82      0.81      0.81      5084\n",
            "\n",
            "Accuracy: 0.8095987411487018\n",
            "Precision: 0.8681015452538632\n",
            "Recall: 0.6833188531711555\n",
            "F1 Score: 0.7647058823529411\n"
          ]
        },
        {
          "output_type": "display_data",
          "data": {
            "text/plain": [
              "<Figure size 600x500 with 2 Axes>"
            ],
            "image/png": "[encoded data removed]"
          },
          "metadata": {}
        }
      ]
    },
    {
      "cell_type": "code",
      "source": [
        "import matplotlib.pyplot as plt\n",
        "from sklearn.metrics import log_loss\n",
        "\n",
        "train_sizes = np.linspace(0.1, 1.0, 10)\n",
        "train_losses = []\n",
        "val_losses = []\n",
        "train_accuracies = []\n",
        "val_accuracies = []\n",
        "\n",
        "for frac in train_sizes:\n",
        "    n = int(len(X_train_sel) * frac)\n",
        "    X_sub = X_train_sel[:n]\n",
        "    y_sub = y_train[:n]\n",
        "\n",
        "    clf = RandomForestClassifier(random_state=42)\n",
        "    clf.fit(X_sub, y_sub)\n",
        "\n",
        "    # Predict probabilities for log loss (for both sets)\n",
        "    y_train_prob = clf.predict_proba(X_sub)\n",
        "    y_val_prob = clf.predict_proba(X_val_sel)\n",
        "\n",
        "    # Log loss\n",
        "    train_losses.append(log_loss(y_sub, y_train_prob))\n",
        "    val_losses.append(log_loss(y_val, y_val_prob))\n",
        "\n",
        "    # Accuracy\n",
        "    train_accuracies.append(clf.score(X_sub, y_sub))\n",
        "    val_accuracies.append(clf.score(X_val_sel, y_val))\n",
        "\n",
        "# === Plot the curves ===\n",
        "plt.figure(figsize=(12, 5))\n",
        "\n",
        "plt.subplot(1, 2, 1)\n",
        "plt.plot(train_sizes, train_losses, label=\"Train Loss\", marker='o')\n",
        "plt.plot(train_sizes, val_losses, label=\"Val Loss\", marker='o')\n",
        "plt.xlabel(\"Fraction of Training Data\")\n",
        "plt.ylabel(\"Log Loss\")\n",
        "plt.title(\"Loss Curve (Simulated Epochs)\")\n",
        "plt.legend()\n",
        "\n",
        "plt.subplot(1, 2, 2)\n",
        "plt.plot(train_sizes, train_accuracies, label=\"Train Acc\", marker='o')\n",
        "plt.plot(train_sizes, val_accuracies, label=\"Val Acc\", marker='o')\n",
        "plt.xlabel(\"Fraction of Training Data\")\n",
        "plt.ylabel(\"Accuracy\")\n",
        "plt.title(\"Accuracy Curve (Simulated Epochs)\")\n",
        "plt.legend()\n",
        "\n",
        "plt.tight_layout()\n",
        "plt.show()\n"
      ],
      "metadata": {
        "colab": {
          "base_uri": "https://localhost:8080/",
          "height": 276
        },
        "id": "mxpDwI8DwPlg",
        "outputId": "ea76425c-4df5-4ef1-d0ab-eece758400fd"
      },
      "execution_count": null,
      "outputs": [
        {
          "output_type": "display_data",
          "data": {
            "text/plain": [
              "<Figure size 1200x500 with 2 Axes>"
            ],
            "image/png": "[encoded data removed]"
          },
          "metadata": {}
        }
      ]
    },
    {
      "cell_type": "code",
      "source": [
        "import numpy as np\n",
        "import os\n",
        "\n",
        "# === Paths ===\n",
        "vae_path = \"/content/drive/MyDrive/EEG_Latent_VAE/vae_latent_features.npy\"\n",
        "vae_labels_path = \"/content/drive/MyDrive/EEG_Latent_VAE/vae_labels.npy\"\n",
        "erp_dir = \"/content/drive/MyDrive/ERP_Features_Per_Channel\"\n",
        "\n",
        "# === Load VAE latent features ===\n",
        "vae_latent = np.load(vae_path)  # shape: (samples, 32, 63)\n",
        "vae_labels = np.load(vae_labels_path)\n",
        "\n",
        "vae_flat = vae_latent.reshape(vae_latent.shape[0], -1)  # → shape (samples, 2016)\n",
        "\n",
        "# === Load ERP features ===\n",
        "erp_features_list = []\n",
        "erp_labels_list = []\n",
        "\n",
        "for i in range(53):\n",
        "    f_path = os.path.join(erp_dir, f\"ERP_features_{i}.npy\")\n",
        "    l_path = os.path.join(erp_dir, f\"ERP_labels_{i}.npy\")\n",
        "    if os.path.exists(f_path) and os.path.exists(l_path):\n",
        "        f = np.load(f_path)\n",
        "        l = np.load(l_path)\n",
        "        erp_features_list.append(f)\n",
        "        erp_labels_list.append(l)\n",
        "\n",
        "erp_features = np.vstack(erp_features_list)  # shape: (samples, 1920)\n",
        "erp_labels = np.concatenate(erp_labels_list)  # shape: (samples,)\n",
        "\n",
        "# === Align lengths (just in case)\n",
        "min_len = min(len(vae_flat), len(erp_features), len(vae_labels), len(erp_labels))\n",
        "vae_flat = vae_flat[:min_len]\n",
        "erp_features = erp_features[:min_len]\n",
        "labels = vae_labels[:min_len]\n",
        "\n",
        "# === Fuse the features\n",
        "fused_features = np.concatenate([vae_flat, erp_features], axis=1)  # → shape (samples, 3936)\n"
      ],
      "metadata": {
        "id": "oxhr6K0ww2lb"
      },
      "execution_count": null,
      "outputs": []
    },
    {
      "cell_type": "code",
      "source": [
        "import numpy as np\n",
        "import os\n",
        "\n",
        "# Load VAE latent features\n",
        "vae_latent = np.load(\"/content/drive/MyDrive/EEG_Latent_VAE/vae_latent_features.npy\")  # shape: (samples, 32, 63)\n",
        "vae_flat = vae_latent.reshape(vae_latent.shape[0], -1)  # flatten to (samples, 32*63)\n",
        "\n",
        "# Load ERP features\n",
        "erp_dir = \"/content/drive/MyDrive/ERP_Features_Per_Channel\"\n",
        "erp_features = []\n",
        "erp_labels = []\n",
        "\n",
        "for i in range(53):\n",
        "    f_path = os.path.join(erp_dir, f\"ERP_features_{i}.npy\")\n",
        "    l_path = os.path.join(erp_dir, f\"ERP_labels_{i}.npy\")\n",
        "    if os.path.exists(f_path) and os.path.exists(l_path):\n",
        "        f = np.load(f_path)\n",
        "        l = np.load(l_path)\n",
        "        erp_features.append(f)\n",
        "        erp_labels.append(l)\n",
        "\n",
        "erp_features = np.concatenate(erp_features, axis=0)\n",
        "erp_labels = np.concatenate(erp_labels, axis=0)"
      ],
      "metadata": {
        "id": "sAumH5p9zN2e"
      },
      "execution_count": null,
      "outputs": []
    },
    {
      "cell_type": "code",
      "source": [
        "# Ensure sample count matches\n",
        "min_samples = min(vae_flat.shape[0], erp_features.shape[0])\n",
        "vae_flat = vae_flat[:min_samples]\n",
        "erp_features = erp_features[:min_samples]\n",
        "labels = erp_labels[:min_samples]"
      ],
      "metadata": {
        "id": "aPPtkPREzStH"
      },
      "execution_count": null,
      "outputs": []
    },
    {
      "cell_type": "code",
      "source": [
        "import os\n",
        "\n",
        "save_dir = \"/content/drive/MyDrive/Fused_Features\"\n",
        "os.makedirs(save_dir, exist_ok=True)"
      ],
      "metadata": {
        "id": "hRETaARfztfa"
      },
      "execution_count": null,
      "outputs": []
    },
    {
      "cell_type": "code",
      "source": [
        "fused = np.concatenate([vae_flat, erp_fes], axis=1)  # (samples, latent + ERP)\n",
        "np.save(\"/content/drive/MyDrive/Fused_Features/fused_features.npy\", fused)ature\n",
        "np.save(\"/content/drive/MyDrive/Fused_Features/fused_labels.npy\", labels)"
      ],
      "metadata": {
        "id": "h-k0E8zczW9N"
      },
      "execution_count": null,
      "outputs": []
    },
    {
      "cell_type": "code",
      "source": [
        "import numpy as np\n",
        "import matplotlib.pyplot as plt\n",
        "from sklearn.model_selection import train_test_split\n",
        "from sklearn.metrics import classification_report, accuracy_score, precision_score, recall_score, f1_score, confusion_matrix, ConfusionMatrixDisplay\n",
        "from sklearn.ensemble import RandomForestClassifier\n",
        "from sklearn.model_selection import StratifiedKFold\n",
        "from imblearn.over_sampling import SMOTE\n",
        "\n",
        "# === Load fused features ===\n",
        "X = np.load(\"/content/drive/MyDrive/Fused_Features/fused_features.npy\")\n",
        "y = np.load(\"/content/drive/MyDrive/Fused_Features/fused_labels.npy\")\n",
        "\n",
        "# === Train/Val/Test Split (60/20/20) ===\n",
        "X_train_val, X_test, y_train_val, y_test = train_test_split(X, y, test_size=0.2, stratify=y, random_state=42)\n",
        "X_train, X_val, y_train, y_val = train_test_split(X_train_val, y_train_val, test_size=0.25, stratify=y_train_val, random_state=42)\n",
        "\n",
        "# === SMOTE on Training Only ===\n",
        "sm = SMOTE(random_state=42)\n",
        "X_train_sm, y_train_sm = sm.fit_resample(X_train, y_train)\n",
        "\n",
        "# === Train Random Forest ===\n",
        "clf = RandomForestClassifier(n_estimators=100, max_depth=None, random_state=42)\n",
        "clf.fit(X_train_sm, y_train_sm)\n",
        "\n",
        "# === Evaluate ===\n",
        "def evaluate_model(clf, X, y, name=\"Set\"):\n",
        "    y_pred = clf.predict(X)\n",
        "    print(f\"\\n🔹 Classification Report ({name}):\")\n",
        "    print(classification_report(y, y_pred, digits=4))\n",
        "    acc = accuracy_score(y, y_pred)\n",
        "    prec = precision_score(y, y_pred)\n",
        "    rec = recall_score(y, y_pred)\n",
        "    f1 = f1_score(y, y_pred)\n",
        "    print(f\"✅ {name} Accuracy: {acc:.4f}, Precision: {prec:.4f}, Recall: {rec:.4f}, F1: {f1:.4f}\")\n",
        "    return acc, prec, rec, f1, y_pred\n",
        "\n",
        "train_metrics = evaluate_model(clf, X_train, y_train, \"Train\")\n",
        "val_metrics   = evaluate_model(clf, X_val, y_val, \"Validation\")\n",
        "test_metrics  = evaluate_model(clf, X_test, y_test, \"Test\")\n",
        "\n",
        "# === Confusion Matrix (Test Set) ===\n",
        "cm = confusion_matrix(y_test, test_metrics[-1])\n",
        "disp = ConfusionMatrixDisplay(confusion_matrix=cm, display_labels=[\"HC\", \"MDD\"])\n",
        "disp.plot(cmap=plt.cm.Blues)\n",
        "plt.title(\"Confusion Matrix — Test Set\")\n",
        "plt.grid(False)\n",
        "plt.show()\n",
        "\n",
        "# === Bar Plot: Acc, Prec, Recall, F1 ===\n",
        "labels = [\"Train\", \"Val\", \"Test\"]\n",
        "metrics = np.array([train_metrics[:4], val_metrics[:4], test_metrics[:4]])\n",
        "plt.figure(figsize=(10, 5))\n",
        "for i, metric in enumerate([\"Accuracy\", \"Precision\", \"Recall\", \"F1\"]):\n",
        "    plt.plot(labels, metrics[:, i], marker='o', label=metric)\n",
        "plt.title(\"Performance Comparison\")\n",
        "plt.ylabel(\"Score\")\n",
        "plt.ylim(0, 1)\n",
        "plt.legend()\n",
        "plt.grid(True)\n",
        "plt.show()"
      ],
      "metadata": {
        "colab": {
          "base_uri": "https://localhost:8080/",
          "height": 1000
        },
        "id": "bw6b_8jDyzQh",
        "outputId": "f0162e67-d5a4-4b2b-ef9c-9279ed957ac3"
      },
      "execution_count": null,
      "outputs": [
        {
          "output_type": "stream",
          "name": "stdout",
          "text": [
            "\n",
            "🔹 Classification Report (Train):\n",
            "              precision    recall  f1-score   support\n",
            "\n",
            "           0     1.0000    1.0000    1.0000      7479\n",
            "           1     1.0000    1.0000    1.0000      6906\n",
            "\n",
            "    accuracy                         1.0000     14385\n",
            "   macro avg     1.0000    1.0000    1.0000     14385\n",
            "weighted avg     1.0000    1.0000    1.0000     14385\n",
            "\n",
            "✅ Train Accuracy: 1.0000, Precision: 1.0000, Recall: 1.0000, F1: 1.0000\n",
            "\n",
            "🔹 Classification Report (Validation):\n",
            "              precision    recall  f1-score   support\n",
            "\n",
            "           0     0.8102    0.9074    0.8561      2494\n",
            "           1     0.8847    0.7698    0.8232      2302\n",
            "\n",
            "    accuracy                         0.8413      4796\n",
            "   macro avg     0.8475    0.8386    0.8396      4796\n",
            "weighted avg     0.8460    0.8413    0.8403      4796\n",
            "\n",
            "✅ Validation Accuracy: 0.8413, Precision: 0.8847, Recall: 0.7698, F1: 0.8232\n",
            "\n",
            "🔹 Classification Report (Test):\n",
            "              precision    recall  f1-score   support\n",
            "\n",
            "           0     0.8169    0.9018    0.8573      2494\n",
            "           1     0.8801    0.7811    0.8276      2302\n",
            "\n",
            "    accuracy                         0.8438      4796\n",
            "   macro avg     0.8485    0.8414    0.8424      4796\n",
            "weighted avg     0.8472    0.8438    0.8430      4796\n",
            "\n",
            "✅ Test Accuracy: 0.8438, Precision: 0.8801, Recall: 0.7811, F1: 0.8276\n"
          ]
        },
        {
          "output_type": "display_data",
          "data": {
            "text/plain": [
              "<Figure size 640x480 with 2 Axes>"
            ],
            "image/png": "[encoded data removed]"
          },
          "metadata": {}
        },
        {
          "output_type": "display_data",
          "data": {
            "text/plain": [
              "<Figure size 1000x500 with 1 Axes>"
            ],
            "image/png": "[encoded data removed]"
          },
          "metadata": {}
        }
      ]
    },
    {
      "cell_type": "code",
      "source": [
        "import numpy as np\n",
        "import os\n",
        "\n",
        "# Define path where features are stored\n",
        "feature_dir = \"/content/drive/MyDrive/ERP_Features_Per_Channel\"\n",
        "\n",
        "all_features = []\n",
        "all_labels = []\n",
        "\n",
        "# Loop through all saved batches\n",
        "for i in range(53):\n",
        "    feat_path = os.path.join(feature_dir, f\"ERP_features_{i}.npy\")\n",
        "    label_path = os.path.join(feature_dir, f\"ERP_labels_{i}.npy\")\n",
        "\n",
        "    if os.path.exists(feat_path) and os.path.exists(label_path):\n",
        "        features = np.load(feat_path)\n",
        "        labels = np.load(label_path)\n",
        "        all_features.append(features)\n",
        "        all_labels.append(labels)\n",
        "    else:\n",
        "        print(f\"⛔ Missing: {i}\")\n",
        "\n",
        "# Combine all batches into a single dataset\n",
        "X_erp = np.concatenate(all_features, axis=0)\n",
        "y_erp = np.concatenate(all_labels, axis=0)\n",
        "\n",
        "# Save for future use\n",
        "np.save(\"/content/drive/MyDrive/ERP_Features_Per_Channel/merged_features.npy\", X_erp)\n",
        "np.save(\"/content/drive/MyDrive/ERP_Features_Per_Channel/merged_labels.npy\", y_erp)\n",
        "\n",
        "print(f\"✅ Combined shape: {X_erp.shape}, Labels: {y_erp.shape}\")"
      ],
      "metadata": {
        "colab": {
          "base_uri": "https://localhost:8080/"
        },
        "id": "qacHnK5r09BG",
        "outputId": "3dc836f4-1fff-4a30-a559-ae1b18264ee1"
      },
      "execution_count": null,
      "outputs": [
        {
          "output_type": "stream",
          "name": "stdout",
          "text": [
            "✅ Combined shape: (25416, 1920), Labels: (25416,)\n"
          ]
        }
      ]
    },
    {
      "cell_type": "code",
      "source": [
        "import matplotlib.pyplot as plt\n",
        "import numpy as np\n",
        "from sklearn.ensemble import RandomForestClassifier\n",
        "\n",
        "# Assuming `X_train`, `y_train` are your fused features and labels\n",
        "rf = RandomForestClassifier(n_estimators=100, random_state=42)\n",
        "rf.fit(X_train, y_train)\n",
        "\n",
        "importances = rf.feature_importances_\n",
        "indices = np.argsort(importances)[::-1][:30]\n",
        "\n",
        "plt.figure(figsize=(12, 6))\n",
        "plt.title(\"Top 30 Feature Importances (Random Forest)\")\n",
        "plt.bar(range(30), importances[indices], align=\"center\")\n",
        "plt.xticks(range(30), indices, rotation=90)\n",
        "plt.tight_layout()\n",
        "plt.show()"
      ],
      "metadata": {
        "colab": {
          "base_uri": "https://localhost:8080/",
          "height": 329
        },
        "id": "4phDyWI63Ixa",
        "outputId": "6089161d-4628-4585-edc0-4fd1dbc9dca4"
      },
      "execution_count": null,
      "outputs": [
        {
          "output_type": "display_data",
          "data": {
            "text/plain": [
              "<Figure size 1200x600 with 1 Axes>"
            ],
            "image/png": "[encoded data removed]"
          },
          "metadata": {}
        }
      ]
    },
    {
      "cell_type": "code",
      "source": [
        "! pip install shap"
      ],
      "metadata": {
        "colab": {
          "base_uri": "https://localhost:8080/"
        },
        "id": "eCKarVWL3f45",
        "outputId": "d22ca50f-2f72-4e38-ea0e-cd65cdb146bf"
      },
      "execution_count": null,
      "outputs": [
        {
          "output_type": "stream",
          "name": "stdout",
          "text": [
            "Requirement already satisfied: shap in /usr/local/lib/python3.11/dist-packages (0.48.0)\n",
            "Requirement already satisfied: numpy in /usr/local/lib/python3.11/dist-packages (from shap) (2.0.2)\n",
            "Requirement already satisfied: scipy in /usr/local/lib/python3.11/dist-packages (from shap) (1.15.3)\n",
            "Requirement already satisfied: scikit-learn in /usr/local/lib/python3.11/dist-packages (from shap) (1.6.1)\n",
            "Requirement already satisfied: pandas in /usr/local/lib/python3.11/dist-packages (from shap) (2.2.2)\n",
            "Requirement already satisfied: tqdm>=4.27.0 in /usr/local/lib/python3.11/dist-packages (from shap) (4.67.1)\n",
            "Requirement already satisfied: packaging>20.9 in /usr/local/lib/python3.11/dist-packages (from shap) (24.2)\n",
            "Requirement already satisfied: slicer==0.0.8 in /usr/local/lib/python3.11/dist-packages (from shap) (0.0.8)\n",
            "Requirement already satisfied: numba>=0.54 in /usr/local/lib/python3.11/dist-packages (from shap) (0.60.0)\n",
            "Requirement already satisfied: cloudpickle in /usr/local/lib/python3.11/dist-packages (from shap) (3.1.1)\n",
            "Requirement already satisfied: typing-extensions in /usr/local/lib/python3.11/dist-packages (from shap) (4.14.1)\n",
            "Requirement already satisfied: llvmlite<0.44,>=0.43.0dev0 in /usr/local/lib/python3.11/dist-packages (from numba>=0.54->shap) (0.43.0)\n",
            "Requirement already satisfied: python-dateutil>=2.8.2 in /usr/local/lib/python3.11/dist-packages (from pandas->shap) (2.9.0.post0)\n",
            "Requirement already satisfied: pytz>=2020.1 in /usr/local/lib/python3.11/dist-packages (from pandas->shap) (2025.2)\n",
            "Requirement already satisfied: tzdata>=2022.7 in /usr/local/lib/python3.11/dist-packages (from pandas->shap) (2025.2)\n",
            "Requirement already satisfied: joblib>=1.2.0 in /usr/local/lib/python3.11/dist-packages (from scikit-learn->shap) (1.5.1)\n",
            "Requirement already satisfied: threadpoolctl>=3.1.0 in /usr/local/lib/python3.11/dist-packages (from scikit-learn->shap) (3.6.0)\n",
            "Requirement already satisfied: six>=1.5 in /usr/local/lib/python3.11/dist-packages (from python-dateutil>=2.8.2->pandas->shap) (1.17.0)\n"
          ]
        }
      ]
    },
    {
      "cell_type": "code",
      "source": [
        "import numpy as np\n",
        "from sklearn.model_selection import train_test_split\n",
        "\n",
        "X = np.load('/content/drive/MyDrive/Fused_Features/fused_features.npy')  # shape: (n_samples, n_features)\n",
        "y = np.load('/content/drive/MyDrive/Fused_Features/fused_labels.npy')    # shape: (n_samples,)\n",
        "\n",
        "X_train, X_temp, y_train, y_temp = train_test_split(\n",
        "    X, y, test_size=0.4, stratify=y, random_state=42\n",
        ")\n",
        "X_val, X_test, y_val, y_test = train_test_split(\n",
        "    X_temp, y_temp, test_size=0.5, stratify=y_temp, random_state=42\n",
        ")\n"
      ],
      "metadata": {
        "id": "Uj00WpQ55DOw"
      },
      "execution_count": null,
      "outputs": []
    },
    {
      "cell_type": "code",
      "source": [
        "print(\"X_train shape:\", X_train.shape)"
      ],
      "metadata": {
        "colab": {
          "base_uri": "https://localhost:8080/"
        },
        "id": "YZgBlR3R6P9m",
        "outputId": "32dbeda4-b776-4b7f-c1a8-4bf1c1d7c0a3"
      },
      "execution_count": null,
      "outputs": [
        {
          "output_type": "stream",
          "name": "stdout",
          "text": [
            "X_train shape: (14386, 1952)\n"
          ]
        }
      ]
    },
    {
      "cell_type": "code",
      "source": [
        "import shap\n",
        "import numpy as np\n",
        "import matplotlib.pyplot as plt\n",
        "\n",
        "# Sample data (smaller batch to avoid memory overload)\n",
        "sample_X = X_train[:500]\n",
        "\n",
        "# Check shapes\n",
        "print(\"sample_X shape:\", sample_X.shape)\n",
        "print(\"Expected features:\", rf.n_features_in_)"
      ],
      "metadata": {
        "colab": {
          "base_uri": "https://localhost:8080/"
        },
        "id": "PHZv4IMD7CR-",
        "outputId": "55ec7eaf-88a4-4ee4-8169-66259e50da0c"
      },
      "execution_count": null,
      "outputs": [
        {
          "output_type": "stream",
          "name": "stdout",
          "text": [
            "sample_X shape: (500, 1952)\n",
            "Expected features: 1952\n"
          ]
        }
      ]
    },
    {
      "cell_type": "code",
      "source": [
        "import numpy as np\n",
        "\n",
        "# Load features\n",
        "erp_features = np.load(\"/content/drive/MyDrive/Fused_Features/fused_features.npy\")       # shape: (samples, 1920)\n",
        "vae_features = np.load(\"/content/drive/MyDrive/EEG_Latent_VAE/vae_latent_features.npy\")     # shape: (samples, 32, 63)\n",
        "labels = np.load(\"/content/drive/MyDrive/EEG_Latent_VAE/vae_labels.npy\")                    # shape: (samples,)\n",
        "\n",
        "# Flatten VAE features\n",
        "vae_flat = vae_features.reshape(vae_features.shape[0], -1)  # shape: (samples, 2016)\n",
        "\n",
        "# Fuse features\n",
        "X_fused = np.concatenate([erp_features, vae_flat], axis=1)  # shape: (samples, 1920+2016)\n",
        "y_fused = labels\n",
        "\n",
        "# Confirm shapes\n",
        "print(\"✅ Fused Features Shape:\", X_fused.shape)\n",
        "print(\"✅ Labels Shape:\", y_fused.shape)"
      ],
      "metadata": {
        "colab": {
          "base_uri": "https://localhost:8080/"
        },
        "id": "Jq4auhOI_bbe",
        "outputId": "e90742ec-8150-4509-a8ba-407fa2468984"
      },
      "execution_count": null,
      "outputs": [
        {
          "output_type": "stream",
          "name": "stdout",
          "text": [
            "✅ Fused Features Shape: (23977, 1984)\n",
            "✅ Labels Shape: (23977,)\n"
          ]
        }
      ]
    },
    {
      "cell_type": "code",
      "source": [
        "import lightgbm as lgb\n",
        "from sklearn.metrics import classification_report, accuracy_score, precision_score, recall_score, f1_score\n",
        "from sklearn.model_selection import train_test_split\n",
        "\n",
        "# Assuming X and y are already loaded fused features and labels\n",
        "X_train, X_test, y_train, y_test = train_test_split(X_fused, y_fused, test_size=0.2, random_state=42, stratify=y_fused)\n",
        "\n",
        "# LightGBM Dataset\n",
        "train_data = lgb.Dataset(X_train, label=y_train)\n",
        "test_data = lgb.Dataset(X_test, label=y_test, reference=train_data)\n",
        "\n",
        "# Parameters\n",
        "params = {\n",
        "    'objective': 'binary',\n",
        "    'metric': 'binary_logloss',\n",
        "    'boosting_type': 'gbdt',\n",
        "    'learning_rate': 0.05,\n",
        "    'verbose': -1\n",
        "}\n",
        "\n",
        "# Train\n",
        "lgb_model = lgb.train(params, train_data, valid_sets=[train_data, test_data], num_boost_round=100)\n",
        "\n",
        "# Predict\n",
        "y_pred_probs = lgb_model.predict(X_test)\n",
        "y_pred = (y_pred_probs > 0.5).astype(int)\n",
        "\n",
        "# Evaluation\n",
        "print(\"\\n✅ Classification Report (LightGBM):\")\n",
        "print(classification_report(y_test, y_pred))\n",
        "print(\"Accuracy:\", accuracy_score(y_test, y_pred))\n",
        "print(\"Precision:\", precision_score(y_test, y_pred))\n",
        "print(\"Recall:\", recall_score(y_test, y_pred))\n",
        "print(\"F1 Score:\", f1_score(y_test, y_pred))"
      ],
      "metadata": {
        "colab": {
          "base_uri": "https://localhost:8080/"
        },
        "id": "VUYOKIvy8ocW",
        "outputId": "b20a40fc-2bb3-48ef-8461-9cd4ceed96c1"
      },
      "execution_count": null,
      "outputs": [
        {
          "output_type": "stream",
          "name": "stdout",
          "text": [
            "\n",
            "✅ Classification Report (LightGBM):\n",
            "              precision    recall  f1-score   support\n",
            "\n",
            "         0.0       0.57      0.77      0.65      2494\n",
            "         1.0       0.60      0.38      0.46      2302\n",
            "\n",
            "    accuracy                           0.58      4796\n",
            "   macro avg       0.59      0.57      0.56      4796\n",
            "weighted avg       0.58      0.58      0.56      4796\n",
            "\n",
            "Accuracy: 0.5798582151793161\n",
            "Precision: 0.5983550376970528\n",
            "Recall: 0.3792354474370113\n",
            "F1 Score: 0.46423823451209784\n"
          ]
        }
      ]
    },
    {
      "cell_type": "code",
      "source": [
        "print(X_fused.shape, y_fused.shape)  # Should be (n_samples, n_features), (n_samples,)"
      ],
      "metadata": {
        "colab": {
          "base_uri": "https://localhost:8080/"
        },
        "id": "ZhE-AUHvBARI",
        "outputId": "e1b3d713-835e-498f-f144-65b5c7888e76"
      },
      "execution_count": null,
      "outputs": [
        {
          "output_type": "stream",
          "name": "stdout",
          "text": [
            "(23977, 1984) (23977,)\n"
          ]
        }
      ]
    },
    {
      "cell_type": "code",
      "source": [
        "import numpy as np\n",
        "from sklearn.model_selection import train_test_split\n",
        "from sklearn.metrics import classification_report, accuracy_score, precision_score, recall_score, f1_score, confusion_matrix\n",
        "from sklearn.preprocessing import StandardScaler\n",
        "import matplotlib.pyplot as plt\n",
        "import seaborn as sns\n",
        "from lightgbm import LGBMClassifier\n",
        "\n",
        "# Load your fused data\n",
        "X_fused = np.load(\"/content/drive/MyDrive/Fused_Features/fused_features.npy\")\n",
        "y_fused = np.load(\"/content/drive/MyDrive/Fused_Features/fused_labels.npy\")\n",
        "\n",
        "# Step 1: Feature Scaling\n",
        "scaler = StandardScaler()\n",
        "X_scaled = scaler.fit_transform(X_fused)\n",
        "\n",
        "# Step 2: Stratified split (Train 60%, Val 20%, Test 20%)\n",
        "X_temp, X_test, y_temp, y_test = train_test_split(X_scaled, y_fused, test_size=0.2, stratify=y_fused, random_state=42)\n",
        "X_train, X_val, y_train, y_val = train_test_split(X_temp, y_temp, test_size=0.25, stratify=y_temp, random_state=42)\n",
        "# Resulting in 60/20/20 split\n",
        "\n",
        "# Step 3: Train LightGBM\n",
        "lgbm = LGBMClassifier(random_state=42, class_weight='balanced', n_estimators=200)\n",
        "lgbm.fit(X_train, y_train)\n",
        "\n",
        "# Step 4: Evaluation\n",
        "def evaluate_model(model, X, y, title=\"Set\"):\n",
        "    y_pred = model.predict(X)\n",
        "    acc = accuracy_score(y, y_pred)\n",
        "    prec = precision_score(y, y_pred)\n",
        "    rec = recall_score(y, y_pred)\n",
        "    f1 = f1_score(y, y_pred)\n",
        "    print(f\"\\n📊 {title} Classification Report:\")\n",
        "    print(classification_report(y, y_pred))\n",
        "    print(f\"✅ Accuracy: {acc:.4f}, Precision: {prec:.4f}, Recall: {rec:.4f}, F1 Score: {f1:.4f}\")\n",
        "\n",
        "    cm = confusion_matrix(y, y_pred)\n",
        "    sns.heatmap(cm, annot=True, fmt=\"d\", cmap=\"Blues\")\n",
        "    plt.title(f\"{title} Confusion Matrix\")\n",
        "    plt.xlabel(\"Predicted\")\n",
        "    plt.ylabel(\"True\")\n",
        "    plt.show()\n",
        "\n",
        "# Step 5: Report Performance\n",
        "evaluate_model(lgbm, X_train, y_train, \"Train\")\n",
        "evaluate_model(lgbm, X_val, y_val, \"Validation\")\n",
        "evaluate_model(lgbm, X_test, y_test, \"Test\")"
      ],
      "metadata": {
        "colab": {
          "base_uri": "https://localhost:8080/",
          "height": 1000
        },
        "id": "oQN5CqeqBQRC",
        "outputId": "4c68c4f6-1891-464c-a67b-c484c17dd329"
      },
      "execution_count": null,
      "outputs": [
        {
          "output_type": "stream",
          "name": "stderr",
          "text": [
            "/usr/local/lib/python3.11/dist-packages/sklearn/utils/deprecation.py:151: FutureWarning: 'force_all_finite' was renamed to 'ensure_all_finite' in 1.6 and will be removed in 1.8.\n",
            "  warnings.warn(\n",
            "/usr/local/lib/python3.11/dist-packages/sklearn/utils/deprecation.py:151: FutureWarning: 'force_all_finite' was renamed to 'ensure_all_finite' in 1.6 and will be removed in 1.8.\n",
            "  warnings.warn(\n"
          ]
        },
        {
          "output_type": "stream",
          "name": "stdout",
          "text": [
            "\n",
            "📊 Train Classification Report:\n",
            "              precision    recall  f1-score   support\n",
            "\n",
            "           0       1.00      1.00      1.00      7479\n",
            "           1       1.00      1.00      1.00      6906\n",
            "\n",
            "    accuracy                           1.00     14385\n",
            "   macro avg       1.00      1.00      1.00     14385\n",
            "weighted avg       1.00      1.00      1.00     14385\n",
            "\n",
            "✅ Accuracy: 1.0000, Precision: 1.0000, Recall: 1.0000, F1 Score: 1.0000\n"
          ]
        },
        {
          "output_type": "display_data",
          "data": {
            "text/plain": [
              "<Figure size 640x480 with 2 Axes>"
            ],
            "image/png": "[encoded data removed]"
          },
          "metadata": {}
        },
        {
          "output_type": "stream",
          "name": "stderr",
          "text": [
            "/usr/local/lib/python3.11/dist-packages/sklearn/utils/deprecation.py:151: FutureWarning: 'force_all_finite' was renamed to 'ensure_all_finite' in 1.6 and will be removed in 1.8.\n",
            "  warnings.warn(\n"
          ]
        },
        {
          "output_type": "stream",
          "name": "stdout",
          "text": [
            "\n",
            "📊 Validation Classification Report:\n",
            "              precision    recall  f1-score   support\n",
            "\n",
            "           0       0.92      0.94      0.93      2494\n",
            "           1       0.93      0.92      0.93      2302\n",
            "\n",
            "    accuracy                           0.93      4796\n",
            "   macro avg       0.93      0.93      0.93      4796\n",
            "weighted avg       0.93      0.93      0.93      4796\n",
            "\n",
            "✅ Accuracy: 0.9289, Precision: 0.9348, Recall: 0.9157, F1 Score: 0.9252\n"
          ]
        },
        {
          "output_type": "display_data",
          "data": {
            "text/plain": [
              "<Figure size 640x480 with 2 Axes>"
            ],
            "image/png": "[encoded data removed]"
          },
          "metadata": {}
        },
        {
          "output_type": "stream",
          "name": "stderr",
          "text": [
            "/usr/local/lib/python3.11/dist-packages/sklearn/utils/deprecation.py:151: FutureWarning: 'force_all_finite' was renamed to 'ensure_all_finite' in 1.6 and will be removed in 1.8.\n",
            "  warnings.warn(\n"
          ]
        },
        {
          "output_type": "stream",
          "name": "stdout",
          "text": [
            "\n",
            "📊 Test Classification Report:\n",
            "              precision    recall  f1-score   support\n",
            "\n",
            "           0       0.92      0.95      0.94      2494\n",
            "           1       0.94      0.92      0.93      2302\n",
            "\n",
            "    accuracy                           0.93      4796\n",
            "   macro avg       0.93      0.93      0.93      4796\n",
            "weighted avg       0.93      0.93      0.93      4796\n",
            "\n",
            "✅ Accuracy: 0.9331, Precision: 0.9436, Recall: 0.9153, F1 Score: 0.9292\n"
          ]
        },
        {
          "output_type": "display_data",
          "data": {
            "text/plain": [
              "<Figure size 640x480 with 2 Axes>"
            ],
            "image/png": "[encoded data removed]"
          },
          "metadata": {}
        }
      ]
    },
    {
      "cell_type": "code",
      "source": [
        "import joblib\n",
        "import numpy as np\n",
        "import os\n",
        "\n",
        "save_dir = \"/content/drive/MyDrive/EEG_LightGBM_Model\"\n",
        "os.makedirs(save_dir, exist_ok=True)\n",
        "\n",
        "model_path = os.path.join(save_dir, \"lightgbm_model.pkl\")\n",
        "joblib.dump(lgbm, model_path)\n",
        "print(f\"✅ LightGBM model saved at: {model_path}\")\n",
        "\n",
        "np.save(os.path.join(save_dir, \"X_fused.npy\"), X_fused)\n",
        "np.save(os.path.join(save_dir, \"y.npy\"), y)\n",
        "np.save(os.path.join(save_dir, \"X_train.npy\"), X_train)\n",
        "np.save(os.path.join(save_dir, \"X_val.npy\"), X_val)\n",
        "np.save(os.path.join(save_dir, \"X_test.npy\"), X_test)\n",
        "np.save(os.path.join(save_dir, \"y_train.npy\"), y_train)\n",
        "np.save(os.path.join(save_dir, \"y_val.npy\"), y_val)\n",
        "np.save(os.path.join(save_dir, \"y_test.npy\"), y_test)\n"
      ],
      "metadata": {
        "colab": {
          "base_uri": "https://localhost:8080/"
        },
        "id": "K0q5-7L5COg5",
        "outputId": "96792c8e-9ba3-42a7-9b71-857fe81ddd7f"
      },
      "execution_count": null,
      "outputs": [
        {
          "output_type": "stream",
          "name": "stdout",
          "text": [
            "✅ LightGBM model saved at: /content/drive/MyDrive/EEG_LightGBM_Model/lightgbm_model.pkl\n"
          ]
        }
      ]
    },
    {
      "cell_type": "code",
      "source": [
        "!pip install xgboost --quiet"
      ],
      "metadata": {
        "id": "xNi-Vyz_CrWf"
      },
      "execution_count": null,
      "outputs": []
    },
    {
      "cell_type": "code",
      "source": [
        "import xgboost as xgb\n",
        "from sklearn.metrics import (\n",
        "    classification_report,\n",
        "    accuracy_score,\n",
        "    confusion_matrix\n",
        ")\n",
        "import seaborn as sns\n",
        "import matplotlib.pyplot as plt\n",
        "\n",
        "xgb_model = xgb.XGBClassifier(\n",
        "    n_estimators=100,\n",
        "    max_depth=6,\n",
        "    learning_rate=0.1,\n",
        "    subsample=0.8,\n",
        "    colsample_bytree=0.8,\n",
        "    eval_metric='logloss',\n",
        "    random_state=42,\n",
        "    n_jobs=-1\n",
        ")\n",
        "\n",
        "xgb_model.fit(X_train, y_train)\n",
        "\n",
        "val_preds = xgb_model.predict(X_val)\n",
        "test_preds = xgb_model.predict(X_test)\n",
        "\n",
        "print(\"\\n📊 Validation Classification Report:\")\n",
        "print(classification_report(y_val, val_preds))\n",
        "\n",
        "print(\"\\n📊 Test Classification Report:\")\n",
        "print(classification_report(y_test, test_preds))\n",
        "\n",
        "def plot_conf_matrix(y_true, y_pred, title):\n",
        "    cm = confusion_matrix(y_true, y_pred)\n",
        "    plt.figure(figsize=(5, 4))\n",
        "    sns.heatmap(cm, annot=True, fmt=\"d\", cmap=\"Blues\", cbar=False)\n",
        "    plt.xlabel(\"Predicted Label\")\n",
        "    plt.ylabel(\"True Label\")\n",
        "    plt.title(title)\n",
        "    plt.show()\n",
        "\n",
        "plot_conf_matrix(y_val, val_preds, \"🔷 Validation Confusion Matrix\")\n",
        "plot_conf_matrix(y_test, test_preds, \"🔷 Test Confusion Matrix\")\n"
      ],
      "metadata": {
        "colab": {
          "base_uri": "https://localhost:8080/",
          "height": 1000
        },
        "id": "XfhubPIoDFFG",
        "outputId": "b532e36c-beec-4f1e-8cbf-4d220fb607db"
      },
      "execution_count": null,
      "outputs": [
        {
          "output_type": "stream",
          "name": "stdout",
          "text": [
            "\n",
            "📊 Validation Classification Report:\n",
            "              precision    recall  f1-score   support\n",
            "\n",
            "           0       0.89      0.93      0.91      2494\n",
            "           1       0.92      0.87      0.90      2302\n",
            "\n",
            "    accuracy                           0.90      4796\n",
            "   macro avg       0.91      0.90      0.90      4796\n",
            "weighted avg       0.90      0.90      0.90      4796\n",
            "\n",
            "\n",
            "📊 Test Classification Report:\n",
            "              precision    recall  f1-score   support\n",
            "\n",
            "           0       0.89      0.93      0.91      2494\n",
            "           1       0.92      0.87      0.89      2302\n",
            "\n",
            "    accuracy                           0.90      4796\n",
            "   macro avg       0.90      0.90      0.90      4796\n",
            "weighted avg       0.90      0.90      0.90      4796\n",
            "\n"
          ]
        },
        {
          "output_type": "stream",
          "name": "stderr",
          "text": [
            "/usr/local/lib/python3.11/dist-packages/IPython/core/pylabtools.py:151: UserWarning: Glyph 128311 (\\N{LARGE BLUE DIAMOND}) missing from font(s) DejaVu Sans.\n",
            "  fig.canvas.print_figure(bytes_io, **kw)\n"
          ]
        },
        {
          "output_type": "display_data",
          "data": {
            "text/plain": [
              "<Figure size 500x400 with 1 Axes>"
            ],
            "image/png": "[encoded data removed]"
          },
          "metadata": {}
        },
        {
          "output_type": "stream",
          "name": "stderr",
          "text": [
            "/usr/local/lib/python3.11/dist-packages/IPython/core/pylabtools.py:151: UserWarning: Glyph 128311 (\\N{LARGE BLUE DIAMOND}) missing from font(s) DejaVu Sans.\n",
            "  fig.canvas.print_figure(bytes_io, **kw)\n"
          ]
        },
        {
          "output_type": "display_data",
          "data": {
            "text/plain": [
              "<Figure size 500x400 with 1 Axes>"
            ],
            "image/png": "[encoded data removed]"
          },
          "metadata": {}
        }
      ]
    },
    {
      "cell_type": "code",
      "source": [
        "import joblib\n",
        "import os\n",
        "\n",
        "save_path = \"/content/drive/MyDrive/XGBoost_Fused_Model\"\n",
        "os.makedirs(save_path, exist_ok=True)\n",
        "\n",
        "model_file = os.path.join(save_path, \"xgb_fused_model.pkl\")\n",
        "joblib.dump(xgb_model, model_file)\n",
        "\n",
        "print(f\"✅ XGBoost model saved at: {model_file}\")\n"
      ],
      "metadata": {
        "colab": {
          "base_uri": "https://localhost:8080/"
        },
        "id": "kIwM9gckE6qa",
        "outputId": "c5c40b4c-5324-4448-df1c-9209d9aa31b4"
      },
      "execution_count": null,
      "outputs": [
        {
          "output_type": "stream",
          "name": "stdout",
          "text": [
            "✅ XGBoost model saved at: /content/drive/MyDrive/XGBoost_Fused_Model/xgb_fused_model.pkl\n"
          ]
        }
      ]
    }
  ],
  "metadata": {
    "colab": {
      "provenance": []
    },
    "kernelspec": {
      "display_name": "Python 3",
      "name": "python3"
    },
    "language_info": {
      "name": "python"
    }
  },
  "nbformat": 4,
  "nbformat_minor": 0
}